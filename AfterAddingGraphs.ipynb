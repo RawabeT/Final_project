{
 "cells": [
  {
   "cell_type": "code",
   "execution_count": 42,
   "id": "904c4424",
   "metadata": {},
   "outputs": [],
   "source": [
    "import pandas as pd\n",
    "import numpy as np\n",
    "import warnings\n",
    "warnings.filterwarnings('ignore')\n",
    "import plotly.express as px"
   ]
  },
  {
   "cell_type": "code",
   "execution_count": 43,
   "id": "ff9e6ab9",
   "metadata": {},
   "outputs": [],
   "source": [
    "df = pd.read_csv('ML_sample.csv') "
   ]
  },
  {
   "cell_type": "code",
   "execution_count": 44,
   "id": "cab864ca",
   "metadata": {
    "scrolled": true
   },
   "outputs": [
    {
     "data": {
      "text/html": [
       "<div>\n",
       "<style scoped>\n",
       "    .dataframe tbody tr th:only-of-type {\n",
       "        vertical-align: middle;\n",
       "    }\n",
       "\n",
       "    .dataframe tbody tr th {\n",
       "        vertical-align: top;\n",
       "    }\n",
       "\n",
       "    .dataframe thead th {\n",
       "        text-align: right;\n",
       "    }\n",
       "</style>\n",
       "<table border=\"1\" class=\"dataframe\">\n",
       "  <thead>\n",
       "    <tr style=\"text-align: right;\">\n",
       "      <th></th>\n",
       "      <th>work_number</th>\n",
       "      <th>siteid</th>\n",
       "      <th>status</th>\n",
       "      <th>worktype</th>\n",
       "      <th>asset_ID</th>\n",
       "      <th>location</th>\n",
       "      <th>modifications</th>\n",
       "      <th>priority</th>\n",
       "      <th>date</th>\n",
       "      <th>field_type</th>\n",
       "      <th>year</th>\n",
       "      <th>month</th>\n",
       "    </tr>\n",
       "  </thead>\n",
       "  <tbody>\n",
       "    <tr>\n",
       "      <th>0</th>\n",
       "      <td>2408148</td>\n",
       "      <td>AL HASA</td>\n",
       "      <td>CLOSE</td>\n",
       "      <td>CM</td>\n",
       "      <td>A530-001790</td>\n",
       "      <td>KSAUHS-3-Z004</td>\n",
       "      <td>1</td>\n",
       "      <td>3.0</td>\n",
       "      <td>2020-06-17</td>\n",
       "      <td>Plumbing</td>\n",
       "      <td>2020</td>\n",
       "      <td>6</td>\n",
       "    </tr>\n",
       "    <tr>\n",
       "      <th>1</th>\n",
       "      <td>WO-457533</td>\n",
       "      <td>JEDDAH</td>\n",
       "      <td>CLOSE</td>\n",
       "      <td>PDI</td>\n",
       "      <td>A525-004788</td>\n",
       "      <td>KSAUHS-2-Z03A</td>\n",
       "      <td>1</td>\n",
       "      <td>3.0</td>\n",
       "      <td>2021-02-21</td>\n",
       "      <td>Civil</td>\n",
       "      <td>2021</td>\n",
       "      <td>2</td>\n",
       "    </tr>\n",
       "    <tr>\n",
       "      <th>2</th>\n",
       "      <td>WO-1368912</td>\n",
       "      <td>RIYADH</td>\n",
       "      <td>COMP</td>\n",
       "      <td>EM</td>\n",
       "      <td>A420-006529</td>\n",
       "      <td>KSAUHS-1-Z04A</td>\n",
       "      <td>0</td>\n",
       "      <td>1.0</td>\n",
       "      <td>2022-10-15</td>\n",
       "      <td>Electrical</td>\n",
       "      <td>2022</td>\n",
       "      <td>10</td>\n",
       "    </tr>\n",
       "    <tr>\n",
       "      <th>3</th>\n",
       "      <td>WO-1273857</td>\n",
       "      <td>RIYADH</td>\n",
       "      <td>CLOSE</td>\n",
       "      <td>EM</td>\n",
       "      <td>A525-010332</td>\n",
       "      <td>KSAUHS-1-Z03B</td>\n",
       "      <td>1</td>\n",
       "      <td>1.0</td>\n",
       "      <td>2022-01-25</td>\n",
       "      <td>Electrical</td>\n",
       "      <td>2022</td>\n",
       "      <td>1</td>\n",
       "    </tr>\n",
       "    <tr>\n",
       "      <th>4</th>\n",
       "      <td>WO-1260511</td>\n",
       "      <td>RIYADH</td>\n",
       "      <td>CLOSE</td>\n",
       "      <td>CM</td>\n",
       "      <td>A525-006674</td>\n",
       "      <td>KSAUHS-1-Z04A</td>\n",
       "      <td>1</td>\n",
       "      <td>3.0</td>\n",
       "      <td>2021-12-06</td>\n",
       "      <td>Electrical</td>\n",
       "      <td>2021</td>\n",
       "      <td>12</td>\n",
       "    </tr>\n",
       "  </tbody>\n",
       "</table>\n",
       "</div>"
      ],
      "text/plain": [
       "  work_number   siteid status worktype     asset_ID       location  \\\n",
       "0     2408148  AL HASA  CLOSE       CM  A530-001790  KSAUHS-3-Z004   \n",
       "1   WO-457533   JEDDAH  CLOSE      PDI  A525-004788  KSAUHS-2-Z03A   \n",
       "2  WO-1368912   RIYADH   COMP       EM  A420-006529  KSAUHS-1-Z04A   \n",
       "3  WO-1273857   RIYADH  CLOSE       EM  A525-010332  KSAUHS-1-Z03B   \n",
       "4  WO-1260511   RIYADH  CLOSE       CM  A525-006674  KSAUHS-1-Z04A   \n",
       "\n",
       "   modifications  priority        date  field_type  year  month  \n",
       "0              1       3.0  2020-06-17    Plumbing  2020      6  \n",
       "1              1       3.0  2021-02-21       Civil  2021      2  \n",
       "2              0       1.0  2022-10-15  Electrical  2022     10  \n",
       "3              1       1.0  2022-01-25  Electrical  2022      1  \n",
       "4              1       3.0  2021-12-06  Electrical  2021     12  "
      ]
     },
     "execution_count": 44,
     "metadata": {},
     "output_type": "execute_result"
    }
   ],
   "source": [
    "df.head()"
   ]
  },
  {
   "cell_type": "code",
   "execution_count": 45,
   "id": "37a82644",
   "metadata": {},
   "outputs": [],
   "source": [
    "df = df.replace({'modifications' : {0 : 'Not-edited', 1 : 'Edited'}})"
   ]
  },
  {
   "cell_type": "code",
   "execution_count": 46,
   "id": "67faad12",
   "metadata": {},
   "outputs": [
    {
     "data": {
      "text/html": [
       "<div>\n",
       "<style scoped>\n",
       "    .dataframe tbody tr th:only-of-type {\n",
       "        vertical-align: middle;\n",
       "    }\n",
       "\n",
       "    .dataframe tbody tr th {\n",
       "        vertical-align: top;\n",
       "    }\n",
       "\n",
       "    .dataframe thead th {\n",
       "        text-align: right;\n",
       "    }\n",
       "</style>\n",
       "<table border=\"1\" class=\"dataframe\">\n",
       "  <thead>\n",
       "    <tr style=\"text-align: right;\">\n",
       "      <th></th>\n",
       "      <th>work_number</th>\n",
       "      <th>siteid</th>\n",
       "      <th>status</th>\n",
       "      <th>worktype</th>\n",
       "      <th>asset_ID</th>\n",
       "      <th>location</th>\n",
       "      <th>modifications</th>\n",
       "      <th>priority</th>\n",
       "      <th>date</th>\n",
       "      <th>field_type</th>\n",
       "      <th>year</th>\n",
       "      <th>month</th>\n",
       "    </tr>\n",
       "  </thead>\n",
       "  <tbody>\n",
       "    <tr>\n",
       "      <th>0</th>\n",
       "      <td>2408148</td>\n",
       "      <td>AL HASA</td>\n",
       "      <td>CLOSE</td>\n",
       "      <td>CM</td>\n",
       "      <td>A530-001790</td>\n",
       "      <td>KSAUHS-3-Z004</td>\n",
       "      <td>Edited</td>\n",
       "      <td>3.0</td>\n",
       "      <td>2020-06-17</td>\n",
       "      <td>Plumbing</td>\n",
       "      <td>2020</td>\n",
       "      <td>6</td>\n",
       "    </tr>\n",
       "    <tr>\n",
       "      <th>1</th>\n",
       "      <td>WO-457533</td>\n",
       "      <td>JEDDAH</td>\n",
       "      <td>CLOSE</td>\n",
       "      <td>PDI</td>\n",
       "      <td>A525-004788</td>\n",
       "      <td>KSAUHS-2-Z03A</td>\n",
       "      <td>Edited</td>\n",
       "      <td>3.0</td>\n",
       "      <td>2021-02-21</td>\n",
       "      <td>Civil</td>\n",
       "      <td>2021</td>\n",
       "      <td>2</td>\n",
       "    </tr>\n",
       "    <tr>\n",
       "      <th>2</th>\n",
       "      <td>WO-1368912</td>\n",
       "      <td>RIYADH</td>\n",
       "      <td>COMP</td>\n",
       "      <td>EM</td>\n",
       "      <td>A420-006529</td>\n",
       "      <td>KSAUHS-1-Z04A</td>\n",
       "      <td>Not-edited</td>\n",
       "      <td>1.0</td>\n",
       "      <td>2022-10-15</td>\n",
       "      <td>Electrical</td>\n",
       "      <td>2022</td>\n",
       "      <td>10</td>\n",
       "    </tr>\n",
       "    <tr>\n",
       "      <th>3</th>\n",
       "      <td>WO-1273857</td>\n",
       "      <td>RIYADH</td>\n",
       "      <td>CLOSE</td>\n",
       "      <td>EM</td>\n",
       "      <td>A525-010332</td>\n",
       "      <td>KSAUHS-1-Z03B</td>\n",
       "      <td>Edited</td>\n",
       "      <td>1.0</td>\n",
       "      <td>2022-01-25</td>\n",
       "      <td>Electrical</td>\n",
       "      <td>2022</td>\n",
       "      <td>1</td>\n",
       "    </tr>\n",
       "    <tr>\n",
       "      <th>4</th>\n",
       "      <td>WO-1260511</td>\n",
       "      <td>RIYADH</td>\n",
       "      <td>CLOSE</td>\n",
       "      <td>CM</td>\n",
       "      <td>A525-006674</td>\n",
       "      <td>KSAUHS-1-Z04A</td>\n",
       "      <td>Edited</td>\n",
       "      <td>3.0</td>\n",
       "      <td>2021-12-06</td>\n",
       "      <td>Electrical</td>\n",
       "      <td>2021</td>\n",
       "      <td>12</td>\n",
       "    </tr>\n",
       "    <tr>\n",
       "      <th>...</th>\n",
       "      <td>...</td>\n",
       "      <td>...</td>\n",
       "      <td>...</td>\n",
       "      <td>...</td>\n",
       "      <td>...</td>\n",
       "      <td>...</td>\n",
       "      <td>...</td>\n",
       "      <td>...</td>\n",
       "      <td>...</td>\n",
       "      <td>...</td>\n",
       "      <td>...</td>\n",
       "      <td>...</td>\n",
       "    </tr>\n",
       "    <tr>\n",
       "      <th>995</th>\n",
       "      <td>WO-532700</td>\n",
       "      <td>JEDDAH</td>\n",
       "      <td>CLOSE</td>\n",
       "      <td>CM</td>\n",
       "      <td>A510-000001</td>\n",
       "      <td>KSAUHS-2-Z01A</td>\n",
       "      <td>Edited</td>\n",
       "      <td>3.0</td>\n",
       "      <td>2021-09-25</td>\n",
       "      <td>Electrical</td>\n",
       "      <td>2021</td>\n",
       "      <td>9</td>\n",
       "    </tr>\n",
       "    <tr>\n",
       "      <th>996</th>\n",
       "      <td>2549756</td>\n",
       "      <td>AL HASA</td>\n",
       "      <td>CLOSE</td>\n",
       "      <td>PDI</td>\n",
       "      <td>A415-000874</td>\n",
       "      <td>KSAUHS-3-Z004</td>\n",
       "      <td>Edited</td>\n",
       "      <td>3.0</td>\n",
       "      <td>2021-07-01</td>\n",
       "      <td>Plumbing</td>\n",
       "      <td>2021</td>\n",
       "      <td>7</td>\n",
       "    </tr>\n",
       "    <tr>\n",
       "      <th>997</th>\n",
       "      <td>WO-504186</td>\n",
       "      <td>JEDDAH</td>\n",
       "      <td>CLOSE</td>\n",
       "      <td>CM</td>\n",
       "      <td>A530-001781</td>\n",
       "      <td>KSAUHS-2-Z01A</td>\n",
       "      <td>Edited</td>\n",
       "      <td>3.0</td>\n",
       "      <td>2021-07-18</td>\n",
       "      <td>Civil</td>\n",
       "      <td>2021</td>\n",
       "      <td>7</td>\n",
       "    </tr>\n",
       "    <tr>\n",
       "      <th>998</th>\n",
       "      <td>2516377</td>\n",
       "      <td>AL HASA</td>\n",
       "      <td>CLOSE</td>\n",
       "      <td>PDI</td>\n",
       "      <td>A530-005074</td>\n",
       "      <td>KSAUHS-3-Z002</td>\n",
       "      <td>Edited</td>\n",
       "      <td>3.0</td>\n",
       "      <td>2021-01-21</td>\n",
       "      <td>Civil</td>\n",
       "      <td>2021</td>\n",
       "      <td>1</td>\n",
       "    </tr>\n",
       "    <tr>\n",
       "      <th>999</th>\n",
       "      <td>WO-1261038</td>\n",
       "      <td>RIYADH</td>\n",
       "      <td>CLOSE</td>\n",
       "      <td>CM</td>\n",
       "      <td>A430-000342</td>\n",
       "      <td>KSAUHS-1-Z03A</td>\n",
       "      <td>Edited</td>\n",
       "      <td>3.0</td>\n",
       "      <td>2021-12-14</td>\n",
       "      <td>Plumbing</td>\n",
       "      <td>2021</td>\n",
       "      <td>12</td>\n",
       "    </tr>\n",
       "  </tbody>\n",
       "</table>\n",
       "<p>1000 rows × 12 columns</p>\n",
       "</div>"
      ],
      "text/plain": [
       "    work_number   siteid status worktype     asset_ID       location  \\\n",
       "0       2408148  AL HASA  CLOSE       CM  A530-001790  KSAUHS-3-Z004   \n",
       "1     WO-457533   JEDDAH  CLOSE      PDI  A525-004788  KSAUHS-2-Z03A   \n",
       "2    WO-1368912   RIYADH   COMP       EM  A420-006529  KSAUHS-1-Z04A   \n",
       "3    WO-1273857   RIYADH  CLOSE       EM  A525-010332  KSAUHS-1-Z03B   \n",
       "4    WO-1260511   RIYADH  CLOSE       CM  A525-006674  KSAUHS-1-Z04A   \n",
       "..          ...      ...    ...      ...          ...            ...   \n",
       "995   WO-532700   JEDDAH  CLOSE       CM  A510-000001  KSAUHS-2-Z01A   \n",
       "996     2549756  AL HASA  CLOSE      PDI  A415-000874  KSAUHS-3-Z004   \n",
       "997   WO-504186   JEDDAH  CLOSE       CM  A530-001781  KSAUHS-2-Z01A   \n",
       "998     2516377  AL HASA  CLOSE      PDI  A530-005074  KSAUHS-3-Z002   \n",
       "999  WO-1261038   RIYADH  CLOSE       CM  A430-000342  KSAUHS-1-Z03A   \n",
       "\n",
       "    modifications  priority        date  field_type  year  month  \n",
       "0          Edited       3.0  2020-06-17    Plumbing  2020      6  \n",
       "1          Edited       3.0  2021-02-21       Civil  2021      2  \n",
       "2      Not-edited       1.0  2022-10-15  Electrical  2022     10  \n",
       "3          Edited       1.0  2022-01-25  Electrical  2022      1  \n",
       "4          Edited       3.0  2021-12-06  Electrical  2021     12  \n",
       "..            ...       ...         ...         ...   ...    ...  \n",
       "995        Edited       3.0  2021-09-25  Electrical  2021      9  \n",
       "996        Edited       3.0  2021-07-01    Plumbing  2021      7  \n",
       "997        Edited       3.0  2021-07-18       Civil  2021      7  \n",
       "998        Edited       3.0  2021-01-21       Civil  2021      1  \n",
       "999        Edited       3.0  2021-12-14    Plumbing  2021     12  \n",
       "\n",
       "[1000 rows x 12 columns]"
      ]
     },
     "execution_count": 46,
     "metadata": {},
     "output_type": "execute_result"
    }
   ],
   "source": [
    "df"
   ]
  },
  {
   "cell_type": "code",
   "execution_count": 47,
   "id": "eed0a11e",
   "metadata": {},
   "outputs": [],
   "source": [
    "w = df[\"modifications\"].value_counts()"
   ]
  },
  {
   "cell_type": "code",
   "execution_count": 48,
   "id": "eb318736",
   "metadata": {},
   "outputs": [
    {
     "data": {
      "text/plain": [
       "array([992,   8])"
      ]
     },
     "execution_count": 48,
     "metadata": {},
     "output_type": "execute_result"
    }
   ],
   "source": [
    "w.values"
   ]
  },
  {
   "cell_type": "code",
   "execution_count": 64,
   "id": "79ff9d65",
   "metadata": {
    "scrolled": true
   },
   "outputs": [
    {
     "data": {
      "application/vnd.plotly.v1+json": {
       "config": {
        "plotlyServerURL": "https://plot.ly"
       },
       "data": [
        {
         "domain": {
          "x": [
           0,
           1
          ],
          "y": [
           0,
           1
          ]
         },
         "hovertemplate": "index=%{label}<br>value=%{value}<extra></extra>",
         "labels": [
          "Edited",
          "Not-edited"
         ],
         "legendgroup": "",
         "name": "",
         "showlegend": true,
         "type": "pie",
         "values": [
          992,
          8
         ]
        }
       ],
       "layout": {
        "legend": {
         "tracegroupgap": 0
        },
        "template": {
         "data": {
          "bar": [
           {
            "error_x": {
             "color": "#2a3f5f"
            },
            "error_y": {
             "color": "#2a3f5f"
            },
            "marker": {
             "line": {
              "color": "#E5ECF6",
              "width": 0.5
             },
             "pattern": {
              "fillmode": "overlay",
              "size": 10,
              "solidity": 0.2
             }
            },
            "type": "bar"
           }
          ],
          "barpolar": [
           {
            "marker": {
             "line": {
              "color": "#E5ECF6",
              "width": 0.5
             },
             "pattern": {
              "fillmode": "overlay",
              "size": 10,
              "solidity": 0.2
             }
            },
            "type": "barpolar"
           }
          ],
          "carpet": [
           {
            "aaxis": {
             "endlinecolor": "#2a3f5f",
             "gridcolor": "white",
             "linecolor": "white",
             "minorgridcolor": "white",
             "startlinecolor": "#2a3f5f"
            },
            "baxis": {
             "endlinecolor": "#2a3f5f",
             "gridcolor": "white",
             "linecolor": "white",
             "minorgridcolor": "white",
             "startlinecolor": "#2a3f5f"
            },
            "type": "carpet"
           }
          ],
          "choropleth": [
           {
            "colorbar": {
             "outlinewidth": 0,
             "ticks": ""
            },
            "type": "choropleth"
           }
          ],
          "contour": [
           {
            "colorbar": {
             "outlinewidth": 0,
             "ticks": ""
            },
            "colorscale": [
             [
              0,
              "#0d0887"
             ],
             [
              0.1111111111111111,
              "#46039f"
             ],
             [
              0.2222222222222222,
              "#7201a8"
             ],
             [
              0.3333333333333333,
              "#9c179e"
             ],
             [
              0.4444444444444444,
              "#bd3786"
             ],
             [
              0.5555555555555556,
              "#d8576b"
             ],
             [
              0.6666666666666666,
              "#ed7953"
             ],
             [
              0.7777777777777778,
              "#fb9f3a"
             ],
             [
              0.8888888888888888,
              "#fdca26"
             ],
             [
              1,
              "#f0f921"
             ]
            ],
            "type": "contour"
           }
          ],
          "contourcarpet": [
           {
            "colorbar": {
             "outlinewidth": 0,
             "ticks": ""
            },
            "type": "contourcarpet"
           }
          ],
          "heatmap": [
           {
            "colorbar": {
             "outlinewidth": 0,
             "ticks": ""
            },
            "colorscale": [
             [
              0,
              "#0d0887"
             ],
             [
              0.1111111111111111,
              "#46039f"
             ],
             [
              0.2222222222222222,
              "#7201a8"
             ],
             [
              0.3333333333333333,
              "#9c179e"
             ],
             [
              0.4444444444444444,
              "#bd3786"
             ],
             [
              0.5555555555555556,
              "#d8576b"
             ],
             [
              0.6666666666666666,
              "#ed7953"
             ],
             [
              0.7777777777777778,
              "#fb9f3a"
             ],
             [
              0.8888888888888888,
              "#fdca26"
             ],
             [
              1,
              "#f0f921"
             ]
            ],
            "type": "heatmap"
           }
          ],
          "heatmapgl": [
           {
            "colorbar": {
             "outlinewidth": 0,
             "ticks": ""
            },
            "colorscale": [
             [
              0,
              "#0d0887"
             ],
             [
              0.1111111111111111,
              "#46039f"
             ],
             [
              0.2222222222222222,
              "#7201a8"
             ],
             [
              0.3333333333333333,
              "#9c179e"
             ],
             [
              0.4444444444444444,
              "#bd3786"
             ],
             [
              0.5555555555555556,
              "#d8576b"
             ],
             [
              0.6666666666666666,
              "#ed7953"
             ],
             [
              0.7777777777777778,
              "#fb9f3a"
             ],
             [
              0.8888888888888888,
              "#fdca26"
             ],
             [
              1,
              "#f0f921"
             ]
            ],
            "type": "heatmapgl"
           }
          ],
          "histogram": [
           {
            "marker": {
             "pattern": {
              "fillmode": "overlay",
              "size": 10,
              "solidity": 0.2
             }
            },
            "type": "histogram"
           }
          ],
          "histogram2d": [
           {
            "colorbar": {
             "outlinewidth": 0,
             "ticks": ""
            },
            "colorscale": [
             [
              0,
              "#0d0887"
             ],
             [
              0.1111111111111111,
              "#46039f"
             ],
             [
              0.2222222222222222,
              "#7201a8"
             ],
             [
              0.3333333333333333,
              "#9c179e"
             ],
             [
              0.4444444444444444,
              "#bd3786"
             ],
             [
              0.5555555555555556,
              "#d8576b"
             ],
             [
              0.6666666666666666,
              "#ed7953"
             ],
             [
              0.7777777777777778,
              "#fb9f3a"
             ],
             [
              0.8888888888888888,
              "#fdca26"
             ],
             [
              1,
              "#f0f921"
             ]
            ],
            "type": "histogram2d"
           }
          ],
          "histogram2dcontour": [
           {
            "colorbar": {
             "outlinewidth": 0,
             "ticks": ""
            },
            "colorscale": [
             [
              0,
              "#0d0887"
             ],
             [
              0.1111111111111111,
              "#46039f"
             ],
             [
              0.2222222222222222,
              "#7201a8"
             ],
             [
              0.3333333333333333,
              "#9c179e"
             ],
             [
              0.4444444444444444,
              "#bd3786"
             ],
             [
              0.5555555555555556,
              "#d8576b"
             ],
             [
              0.6666666666666666,
              "#ed7953"
             ],
             [
              0.7777777777777778,
              "#fb9f3a"
             ],
             [
              0.8888888888888888,
              "#fdca26"
             ],
             [
              1,
              "#f0f921"
             ]
            ],
            "type": "histogram2dcontour"
           }
          ],
          "mesh3d": [
           {
            "colorbar": {
             "outlinewidth": 0,
             "ticks": ""
            },
            "type": "mesh3d"
           }
          ],
          "parcoords": [
           {
            "line": {
             "colorbar": {
              "outlinewidth": 0,
              "ticks": ""
             }
            },
            "type": "parcoords"
           }
          ],
          "pie": [
           {
            "automargin": true,
            "type": "pie"
           }
          ],
          "scatter": [
           {
            "fillpattern": {
             "fillmode": "overlay",
             "size": 10,
             "solidity": 0.2
            },
            "type": "scatter"
           }
          ],
          "scatter3d": [
           {
            "line": {
             "colorbar": {
              "outlinewidth": 0,
              "ticks": ""
             }
            },
            "marker": {
             "colorbar": {
              "outlinewidth": 0,
              "ticks": ""
             }
            },
            "type": "scatter3d"
           }
          ],
          "scattercarpet": [
           {
            "marker": {
             "colorbar": {
              "outlinewidth": 0,
              "ticks": ""
             }
            },
            "type": "scattercarpet"
           }
          ],
          "scattergeo": [
           {
            "marker": {
             "colorbar": {
              "outlinewidth": 0,
              "ticks": ""
             }
            },
            "type": "scattergeo"
           }
          ],
          "scattergl": [
           {
            "marker": {
             "colorbar": {
              "outlinewidth": 0,
              "ticks": ""
             }
            },
            "type": "scattergl"
           }
          ],
          "scattermapbox": [
           {
            "marker": {
             "colorbar": {
              "outlinewidth": 0,
              "ticks": ""
             }
            },
            "type": "scattermapbox"
           }
          ],
          "scatterpolar": [
           {
            "marker": {
             "colorbar": {
              "outlinewidth": 0,
              "ticks": ""
             }
            },
            "type": "scatterpolar"
           }
          ],
          "scatterpolargl": [
           {
            "marker": {
             "colorbar": {
              "outlinewidth": 0,
              "ticks": ""
             }
            },
            "type": "scatterpolargl"
           }
          ],
          "scatterternary": [
           {
            "marker": {
             "colorbar": {
              "outlinewidth": 0,
              "ticks": ""
             }
            },
            "type": "scatterternary"
           }
          ],
          "surface": [
           {
            "colorbar": {
             "outlinewidth": 0,
             "ticks": ""
            },
            "colorscale": [
             [
              0,
              "#0d0887"
             ],
             [
              0.1111111111111111,
              "#46039f"
             ],
             [
              0.2222222222222222,
              "#7201a8"
             ],
             [
              0.3333333333333333,
              "#9c179e"
             ],
             [
              0.4444444444444444,
              "#bd3786"
             ],
             [
              0.5555555555555556,
              "#d8576b"
             ],
             [
              0.6666666666666666,
              "#ed7953"
             ],
             [
              0.7777777777777778,
              "#fb9f3a"
             ],
             [
              0.8888888888888888,
              "#fdca26"
             ],
             [
              1,
              "#f0f921"
             ]
            ],
            "type": "surface"
           }
          ],
          "table": [
           {
            "cells": {
             "fill": {
              "color": "#EBF0F8"
             },
             "line": {
              "color": "white"
             }
            },
            "header": {
             "fill": {
              "color": "#C8D4E3"
             },
             "line": {
              "color": "white"
             }
            },
            "type": "table"
           }
          ]
         },
         "layout": {
          "annotationdefaults": {
           "arrowcolor": "#2a3f5f",
           "arrowhead": 0,
           "arrowwidth": 1
          },
          "autotypenumbers": "strict",
          "coloraxis": {
           "colorbar": {
            "outlinewidth": 0,
            "ticks": ""
           }
          },
          "colorscale": {
           "diverging": [
            [
             0,
             "#8e0152"
            ],
            [
             0.1,
             "#c51b7d"
            ],
            [
             0.2,
             "#de77ae"
            ],
            [
             0.3,
             "#f1b6da"
            ],
            [
             0.4,
             "#fde0ef"
            ],
            [
             0.5,
             "#f7f7f7"
            ],
            [
             0.6,
             "#e6f5d0"
            ],
            [
             0.7,
             "#b8e186"
            ],
            [
             0.8,
             "#7fbc41"
            ],
            [
             0.9,
             "#4d9221"
            ],
            [
             1,
             "#276419"
            ]
           ],
           "sequential": [
            [
             0,
             "#0d0887"
            ],
            [
             0.1111111111111111,
             "#46039f"
            ],
            [
             0.2222222222222222,
             "#7201a8"
            ],
            [
             0.3333333333333333,
             "#9c179e"
            ],
            [
             0.4444444444444444,
             "#bd3786"
            ],
            [
             0.5555555555555556,
             "#d8576b"
            ],
            [
             0.6666666666666666,
             "#ed7953"
            ],
            [
             0.7777777777777778,
             "#fb9f3a"
            ],
            [
             0.8888888888888888,
             "#fdca26"
            ],
            [
             1,
             "#f0f921"
            ]
           ],
           "sequentialminus": [
            [
             0,
             "#0d0887"
            ],
            [
             0.1111111111111111,
             "#46039f"
            ],
            [
             0.2222222222222222,
             "#7201a8"
            ],
            [
             0.3333333333333333,
             "#9c179e"
            ],
            [
             0.4444444444444444,
             "#bd3786"
            ],
            [
             0.5555555555555556,
             "#d8576b"
            ],
            [
             0.6666666666666666,
             "#ed7953"
            ],
            [
             0.7777777777777778,
             "#fb9f3a"
            ],
            [
             0.8888888888888888,
             "#fdca26"
            ],
            [
             1,
             "#f0f921"
            ]
           ]
          },
          "colorway": [
           "#636efa",
           "#EF553B",
           "#00cc96",
           "#ab63fa",
           "#FFA15A",
           "#19d3f3",
           "#FF6692",
           "#B6E880",
           "#FF97FF",
           "#FECB52"
          ],
          "font": {
           "color": "#2a3f5f"
          },
          "geo": {
           "bgcolor": "white",
           "lakecolor": "white",
           "landcolor": "#E5ECF6",
           "showlakes": true,
           "showland": true,
           "subunitcolor": "white"
          },
          "hoverlabel": {
           "align": "left"
          },
          "hovermode": "closest",
          "mapbox": {
           "style": "light"
          },
          "paper_bgcolor": "white",
          "plot_bgcolor": "#E5ECF6",
          "polar": {
           "angularaxis": {
            "gridcolor": "white",
            "linecolor": "white",
            "ticks": ""
           },
           "bgcolor": "#E5ECF6",
           "radialaxis": {
            "gridcolor": "white",
            "linecolor": "white",
            "ticks": ""
           }
          },
          "scene": {
           "xaxis": {
            "backgroundcolor": "#E5ECF6",
            "gridcolor": "white",
            "gridwidth": 2,
            "linecolor": "white",
            "showbackground": true,
            "ticks": "",
            "zerolinecolor": "white"
           },
           "yaxis": {
            "backgroundcolor": "#E5ECF6",
            "gridcolor": "white",
            "gridwidth": 2,
            "linecolor": "white",
            "showbackground": true,
            "ticks": "",
            "zerolinecolor": "white"
           },
           "zaxis": {
            "backgroundcolor": "#E5ECF6",
            "gridcolor": "white",
            "gridwidth": 2,
            "linecolor": "white",
            "showbackground": true,
            "ticks": "",
            "zerolinecolor": "white"
           }
          },
          "shapedefaults": {
           "line": {
            "color": "#2a3f5f"
           }
          },
          "ternary": {
           "aaxis": {
            "gridcolor": "white",
            "linecolor": "white",
            "ticks": ""
           },
           "baxis": {
            "gridcolor": "white",
            "linecolor": "white",
            "ticks": ""
           },
           "bgcolor": "#E5ECF6",
           "caxis": {
            "gridcolor": "white",
            "linecolor": "white",
            "ticks": ""
           }
          },
          "title": {
           "x": 0.05
          },
          "xaxis": {
           "automargin": true,
           "gridcolor": "white",
           "linecolor": "white",
           "ticks": "",
           "title": {
            "standoff": 15
           },
           "zerolinecolor": "white",
           "zerolinewidth": 2
          },
          "yaxis": {
           "automargin": true,
           "gridcolor": "white",
           "linecolor": "white",
           "ticks": "",
           "title": {
            "standoff": 15
           },
           "zerolinecolor": "white",
           "zerolinewidth": 2
          }
         }
        },
        "title": {
         "text": "Chart shows the percentage of the modification status (edited, not-edited)"
        }
       }
      },
      "text/html": [
       "<div>                            <div id=\"fe6ebfee-7b52-4269-b72b-e50c7ff36a5f\" class=\"plotly-graph-div\" style=\"height:525px; width:100%;\"></div>            <script type=\"text/javascript\">                require([\"plotly\"], function(Plotly) {                    window.PLOTLYENV=window.PLOTLYENV || {};                                    if (document.getElementById(\"fe6ebfee-7b52-4269-b72b-e50c7ff36a5f\")) {                    Plotly.newPlot(                        \"fe6ebfee-7b52-4269-b72b-e50c7ff36a5f\",                        [{\"domain\":{\"x\":[0.0,1.0],\"y\":[0.0,1.0]},\"hovertemplate\":\"index=%{label}<br>value=%{value}<extra></extra>\",\"labels\":[\"Edited\",\"Not-edited\"],\"legendgroup\":\"\",\"name\":\"\",\"showlegend\":true,\"values\":[992,8],\"type\":\"pie\"}],                        {\"template\":{\"data\":{\"histogram2dcontour\":[{\"type\":\"histogram2dcontour\",\"colorbar\":{\"outlinewidth\":0,\"ticks\":\"\"},\"colorscale\":[[0.0,\"#0d0887\"],[0.1111111111111111,\"#46039f\"],[0.2222222222222222,\"#7201a8\"],[0.3333333333333333,\"#9c179e\"],[0.4444444444444444,\"#bd3786\"],[0.5555555555555556,\"#d8576b\"],[0.6666666666666666,\"#ed7953\"],[0.7777777777777778,\"#fb9f3a\"],[0.8888888888888888,\"#fdca26\"],[1.0,\"#f0f921\"]]}],\"choropleth\":[{\"type\":\"choropleth\",\"colorbar\":{\"outlinewidth\":0,\"ticks\":\"\"}}],\"histogram2d\":[{\"type\":\"histogram2d\",\"colorbar\":{\"outlinewidth\":0,\"ticks\":\"\"},\"colorscale\":[[0.0,\"#0d0887\"],[0.1111111111111111,\"#46039f\"],[0.2222222222222222,\"#7201a8\"],[0.3333333333333333,\"#9c179e\"],[0.4444444444444444,\"#bd3786\"],[0.5555555555555556,\"#d8576b\"],[0.6666666666666666,\"#ed7953\"],[0.7777777777777778,\"#fb9f3a\"],[0.8888888888888888,\"#fdca26\"],[1.0,\"#f0f921\"]]}],\"heatmap\":[{\"type\":\"heatmap\",\"colorbar\":{\"outlinewidth\":0,\"ticks\":\"\"},\"colorscale\":[[0.0,\"#0d0887\"],[0.1111111111111111,\"#46039f\"],[0.2222222222222222,\"#7201a8\"],[0.3333333333333333,\"#9c179e\"],[0.4444444444444444,\"#bd3786\"],[0.5555555555555556,\"#d8576b\"],[0.6666666666666666,\"#ed7953\"],[0.7777777777777778,\"#fb9f3a\"],[0.8888888888888888,\"#fdca26\"],[1.0,\"#f0f921\"]]}],\"heatmapgl\":[{\"type\":\"heatmapgl\",\"colorbar\":{\"outlinewidth\":0,\"ticks\":\"\"},\"colorscale\":[[0.0,\"#0d0887\"],[0.1111111111111111,\"#46039f\"],[0.2222222222222222,\"#7201a8\"],[0.3333333333333333,\"#9c179e\"],[0.4444444444444444,\"#bd3786\"],[0.5555555555555556,\"#d8576b\"],[0.6666666666666666,\"#ed7953\"],[0.7777777777777778,\"#fb9f3a\"],[0.8888888888888888,\"#fdca26\"],[1.0,\"#f0f921\"]]}],\"contourcarpet\":[{\"type\":\"contourcarpet\",\"colorbar\":{\"outlinewidth\":0,\"ticks\":\"\"}}],\"contour\":[{\"type\":\"contour\",\"colorbar\":{\"outlinewidth\":0,\"ticks\":\"\"},\"colorscale\":[[0.0,\"#0d0887\"],[0.1111111111111111,\"#46039f\"],[0.2222222222222222,\"#7201a8\"],[0.3333333333333333,\"#9c179e\"],[0.4444444444444444,\"#bd3786\"],[0.5555555555555556,\"#d8576b\"],[0.6666666666666666,\"#ed7953\"],[0.7777777777777778,\"#fb9f3a\"],[0.8888888888888888,\"#fdca26\"],[1.0,\"#f0f921\"]]}],\"surface\":[{\"type\":\"surface\",\"colorbar\":{\"outlinewidth\":0,\"ticks\":\"\"},\"colorscale\":[[0.0,\"#0d0887\"],[0.1111111111111111,\"#46039f\"],[0.2222222222222222,\"#7201a8\"],[0.3333333333333333,\"#9c179e\"],[0.4444444444444444,\"#bd3786\"],[0.5555555555555556,\"#d8576b\"],[0.6666666666666666,\"#ed7953\"],[0.7777777777777778,\"#fb9f3a\"],[0.8888888888888888,\"#fdca26\"],[1.0,\"#f0f921\"]]}],\"mesh3d\":[{\"type\":\"mesh3d\",\"colorbar\":{\"outlinewidth\":0,\"ticks\":\"\"}}],\"scatter\":[{\"fillpattern\":{\"fillmode\":\"overlay\",\"size\":10,\"solidity\":0.2},\"type\":\"scatter\"}],\"parcoords\":[{\"type\":\"parcoords\",\"line\":{\"colorbar\":{\"outlinewidth\":0,\"ticks\":\"\"}}}],\"scatterpolargl\":[{\"type\":\"scatterpolargl\",\"marker\":{\"colorbar\":{\"outlinewidth\":0,\"ticks\":\"\"}}}],\"bar\":[{\"error_x\":{\"color\":\"#2a3f5f\"},\"error_y\":{\"color\":\"#2a3f5f\"},\"marker\":{\"line\":{\"color\":\"#E5ECF6\",\"width\":0.5},\"pattern\":{\"fillmode\":\"overlay\",\"size\":10,\"solidity\":0.2}},\"type\":\"bar\"}],\"scattergeo\":[{\"type\":\"scattergeo\",\"marker\":{\"colorbar\":{\"outlinewidth\":0,\"ticks\":\"\"}}}],\"scatterpolar\":[{\"type\":\"scatterpolar\",\"marker\":{\"colorbar\":{\"outlinewidth\":0,\"ticks\":\"\"}}}],\"histogram\":[{\"marker\":{\"pattern\":{\"fillmode\":\"overlay\",\"size\":10,\"solidity\":0.2}},\"type\":\"histogram\"}],\"scattergl\":[{\"type\":\"scattergl\",\"marker\":{\"colorbar\":{\"outlinewidth\":0,\"ticks\":\"\"}}}],\"scatter3d\":[{\"type\":\"scatter3d\",\"line\":{\"colorbar\":{\"outlinewidth\":0,\"ticks\":\"\"}},\"marker\":{\"colorbar\":{\"outlinewidth\":0,\"ticks\":\"\"}}}],\"scattermapbox\":[{\"type\":\"scattermapbox\",\"marker\":{\"colorbar\":{\"outlinewidth\":0,\"ticks\":\"\"}}}],\"scatterternary\":[{\"type\":\"scatterternary\",\"marker\":{\"colorbar\":{\"outlinewidth\":0,\"ticks\":\"\"}}}],\"scattercarpet\":[{\"type\":\"scattercarpet\",\"marker\":{\"colorbar\":{\"outlinewidth\":0,\"ticks\":\"\"}}}],\"carpet\":[{\"aaxis\":{\"endlinecolor\":\"#2a3f5f\",\"gridcolor\":\"white\",\"linecolor\":\"white\",\"minorgridcolor\":\"white\",\"startlinecolor\":\"#2a3f5f\"},\"baxis\":{\"endlinecolor\":\"#2a3f5f\",\"gridcolor\":\"white\",\"linecolor\":\"white\",\"minorgridcolor\":\"white\",\"startlinecolor\":\"#2a3f5f\"},\"type\":\"carpet\"}],\"table\":[{\"cells\":{\"fill\":{\"color\":\"#EBF0F8\"},\"line\":{\"color\":\"white\"}},\"header\":{\"fill\":{\"color\":\"#C8D4E3\"},\"line\":{\"color\":\"white\"}},\"type\":\"table\"}],\"barpolar\":[{\"marker\":{\"line\":{\"color\":\"#E5ECF6\",\"width\":0.5},\"pattern\":{\"fillmode\":\"overlay\",\"size\":10,\"solidity\":0.2}},\"type\":\"barpolar\"}],\"pie\":[{\"automargin\":true,\"type\":\"pie\"}]},\"layout\":{\"autotypenumbers\":\"strict\",\"colorway\":[\"#636efa\",\"#EF553B\",\"#00cc96\",\"#ab63fa\",\"#FFA15A\",\"#19d3f3\",\"#FF6692\",\"#B6E880\",\"#FF97FF\",\"#FECB52\"],\"font\":{\"color\":\"#2a3f5f\"},\"hovermode\":\"closest\",\"hoverlabel\":{\"align\":\"left\"},\"paper_bgcolor\":\"white\",\"plot_bgcolor\":\"#E5ECF6\",\"polar\":{\"bgcolor\":\"#E5ECF6\",\"angularaxis\":{\"gridcolor\":\"white\",\"linecolor\":\"white\",\"ticks\":\"\"},\"radialaxis\":{\"gridcolor\":\"white\",\"linecolor\":\"white\",\"ticks\":\"\"}},\"ternary\":{\"bgcolor\":\"#E5ECF6\",\"aaxis\":{\"gridcolor\":\"white\",\"linecolor\":\"white\",\"ticks\":\"\"},\"baxis\":{\"gridcolor\":\"white\",\"linecolor\":\"white\",\"ticks\":\"\"},\"caxis\":{\"gridcolor\":\"white\",\"linecolor\":\"white\",\"ticks\":\"\"}},\"coloraxis\":{\"colorbar\":{\"outlinewidth\":0,\"ticks\":\"\"}},\"colorscale\":{\"sequential\":[[0.0,\"#0d0887\"],[0.1111111111111111,\"#46039f\"],[0.2222222222222222,\"#7201a8\"],[0.3333333333333333,\"#9c179e\"],[0.4444444444444444,\"#bd3786\"],[0.5555555555555556,\"#d8576b\"],[0.6666666666666666,\"#ed7953\"],[0.7777777777777778,\"#fb9f3a\"],[0.8888888888888888,\"#fdca26\"],[1.0,\"#f0f921\"]],\"sequentialminus\":[[0.0,\"#0d0887\"],[0.1111111111111111,\"#46039f\"],[0.2222222222222222,\"#7201a8\"],[0.3333333333333333,\"#9c179e\"],[0.4444444444444444,\"#bd3786\"],[0.5555555555555556,\"#d8576b\"],[0.6666666666666666,\"#ed7953\"],[0.7777777777777778,\"#fb9f3a\"],[0.8888888888888888,\"#fdca26\"],[1.0,\"#f0f921\"]],\"diverging\":[[0,\"#8e0152\"],[0.1,\"#c51b7d\"],[0.2,\"#de77ae\"],[0.3,\"#f1b6da\"],[0.4,\"#fde0ef\"],[0.5,\"#f7f7f7\"],[0.6,\"#e6f5d0\"],[0.7,\"#b8e186\"],[0.8,\"#7fbc41\"],[0.9,\"#4d9221\"],[1,\"#276419\"]]},\"xaxis\":{\"gridcolor\":\"white\",\"linecolor\":\"white\",\"ticks\":\"\",\"title\":{\"standoff\":15},\"zerolinecolor\":\"white\",\"automargin\":true,\"zerolinewidth\":2},\"yaxis\":{\"gridcolor\":\"white\",\"linecolor\":\"white\",\"ticks\":\"\",\"title\":{\"standoff\":15},\"zerolinecolor\":\"white\",\"automargin\":true,\"zerolinewidth\":2},\"scene\":{\"xaxis\":{\"backgroundcolor\":\"#E5ECF6\",\"gridcolor\":\"white\",\"linecolor\":\"white\",\"showbackground\":true,\"ticks\":\"\",\"zerolinecolor\":\"white\",\"gridwidth\":2},\"yaxis\":{\"backgroundcolor\":\"#E5ECF6\",\"gridcolor\":\"white\",\"linecolor\":\"white\",\"showbackground\":true,\"ticks\":\"\",\"zerolinecolor\":\"white\",\"gridwidth\":2},\"zaxis\":{\"backgroundcolor\":\"#E5ECF6\",\"gridcolor\":\"white\",\"linecolor\":\"white\",\"showbackground\":true,\"ticks\":\"\",\"zerolinecolor\":\"white\",\"gridwidth\":2}},\"shapedefaults\":{\"line\":{\"color\":\"#2a3f5f\"}},\"annotationdefaults\":{\"arrowcolor\":\"#2a3f5f\",\"arrowhead\":0,\"arrowwidth\":1},\"geo\":{\"bgcolor\":\"white\",\"landcolor\":\"#E5ECF6\",\"subunitcolor\":\"white\",\"showland\":true,\"showlakes\":true,\"lakecolor\":\"white\"},\"title\":{\"x\":0.05},\"mapbox\":{\"style\":\"light\"}}},\"legend\":{\"tracegroupgap\":0},\"title\":{\"text\":\"Chart shows the percentage of the modification status (edited, not-edited)\"}},                        {\"responsive\": true}                    ).then(function(){\n",
       "                            \n",
       "var gd = document.getElementById('fe6ebfee-7b52-4269-b72b-e50c7ff36a5f');\n",
       "var x = new MutationObserver(function (mutations, observer) {{\n",
       "        var display = window.getComputedStyle(gd).display;\n",
       "        if (!display || display === 'none') {{\n",
       "            console.log([gd, 'removed!']);\n",
       "            Plotly.purge(gd);\n",
       "            observer.disconnect();\n",
       "        }}\n",
       "}});\n",
       "\n",
       "// Listen for the removal of the full notebook cells\n",
       "var notebookContainer = gd.closest('#notebook-container');\n",
       "if (notebookContainer) {{\n",
       "    x.observe(notebookContainer, {childList: true});\n",
       "}}\n",
       "\n",
       "// Listen for the clearing of the current output cell\n",
       "var outputEl = gd.closest('.output');\n",
       "if (outputEl) {{\n",
       "    x.observe(outputEl, {childList: true});\n",
       "}}\n",
       "\n",
       "                        })                };                });            </script>        </div>"
      ]
     },
     "metadata": {},
     "output_type": "display_data"
    }
   ],
   "source": [
    "#This chart shows the percentage of the modification status (edited, non-edited) which means the ticket has a recall or not\n",
    "\n",
    "w = df[\"modifications\"].value_counts()\n",
    "w.values\n",
    "\n",
    "fig = px.pie(w, values= w.values, names= w.index, \n",
    "             title='Chart shows the percentage of the modification status (edited, not-edited)')\n",
    "\n",
    "fig.show()"
   ]
  },
  {
   "cell_type": "code",
   "execution_count": 99,
   "id": "1a21ed06",
   "metadata": {},
   "outputs": [
    {
     "data": {
      "text/plain": [
       "Electrical     432\n",
       "Mechanical     238\n",
       "Civil          188\n",
       "Plumbing       137\n",
       "Non-Medical      5\n",
       "Name: field_type, dtype: int64"
      ]
     },
     "execution_count": 99,
     "metadata": {},
     "output_type": "execute_result"
    }
   ],
   "source": [
    "df['field_type'].value_counts()"
   ]
  },
  {
   "cell_type": "code",
   "execution_count": 49,
   "id": "527a1ebf",
   "metadata": {
    "scrolled": false
   },
   "outputs": [
    {
     "data": {
      "application/vnd.plotly.v1+json": {
       "config": {
        "plotlyServerURL": "https://plot.ly"
       },
       "data": [
        {
         "domain": {
          "x": [
           0,
           1
          ],
          "y": [
           0,
           1
          ]
         },
         "hovertemplate": "index=%{label}<br>value=%{value}<extra></extra>",
         "labels": [
          "Electrical",
          "Mechanical",
          "Civil",
          "Plumbing",
          "Non-Medical"
         ],
         "legendgroup": "",
         "name": "",
         "showlegend": true,
         "type": "pie",
         "values": [
          432,
          238,
          188,
          137,
          5
         ]
        }
       ],
       "layout": {
        "legend": {
         "tracegroupgap": 0
        },
        "piecolorway": [
         "rgb(103,0,31)",
         "rgb(178,24,43)",
         "rgb(214,96,77)",
         "rgb(244,165,130)",
         "rgb(253,219,199)",
         "rgb(247,247,247)",
         "rgb(209,229,240)",
         "rgb(146,197,222)",
         "rgb(67,147,195)",
         "rgb(33,102,172)",
         "rgb(5,48,97)"
        ],
        "template": {
         "data": {
          "bar": [
           {
            "error_x": {
             "color": "#2a3f5f"
            },
            "error_y": {
             "color": "#2a3f5f"
            },
            "marker": {
             "line": {
              "color": "#E5ECF6",
              "width": 0.5
             },
             "pattern": {
              "fillmode": "overlay",
              "size": 10,
              "solidity": 0.2
             }
            },
            "type": "bar"
           }
          ],
          "barpolar": [
           {
            "marker": {
             "line": {
              "color": "#E5ECF6",
              "width": 0.5
             },
             "pattern": {
              "fillmode": "overlay",
              "size": 10,
              "solidity": 0.2
             }
            },
            "type": "barpolar"
           }
          ],
          "carpet": [
           {
            "aaxis": {
             "endlinecolor": "#2a3f5f",
             "gridcolor": "white",
             "linecolor": "white",
             "minorgridcolor": "white",
             "startlinecolor": "#2a3f5f"
            },
            "baxis": {
             "endlinecolor": "#2a3f5f",
             "gridcolor": "white",
             "linecolor": "white",
             "minorgridcolor": "white",
             "startlinecolor": "#2a3f5f"
            },
            "type": "carpet"
           }
          ],
          "choropleth": [
           {
            "colorbar": {
             "outlinewidth": 0,
             "ticks": ""
            },
            "type": "choropleth"
           }
          ],
          "contour": [
           {
            "colorbar": {
             "outlinewidth": 0,
             "ticks": ""
            },
            "colorscale": [
             [
              0,
              "#0d0887"
             ],
             [
              0.1111111111111111,
              "#46039f"
             ],
             [
              0.2222222222222222,
              "#7201a8"
             ],
             [
              0.3333333333333333,
              "#9c179e"
             ],
             [
              0.4444444444444444,
              "#bd3786"
             ],
             [
              0.5555555555555556,
              "#d8576b"
             ],
             [
              0.6666666666666666,
              "#ed7953"
             ],
             [
              0.7777777777777778,
              "#fb9f3a"
             ],
             [
              0.8888888888888888,
              "#fdca26"
             ],
             [
              1,
              "#f0f921"
             ]
            ],
            "type": "contour"
           }
          ],
          "contourcarpet": [
           {
            "colorbar": {
             "outlinewidth": 0,
             "ticks": ""
            },
            "type": "contourcarpet"
           }
          ],
          "heatmap": [
           {
            "colorbar": {
             "outlinewidth": 0,
             "ticks": ""
            },
            "colorscale": [
             [
              0,
              "#0d0887"
             ],
             [
              0.1111111111111111,
              "#46039f"
             ],
             [
              0.2222222222222222,
              "#7201a8"
             ],
             [
              0.3333333333333333,
              "#9c179e"
             ],
             [
              0.4444444444444444,
              "#bd3786"
             ],
             [
              0.5555555555555556,
              "#d8576b"
             ],
             [
              0.6666666666666666,
              "#ed7953"
             ],
             [
              0.7777777777777778,
              "#fb9f3a"
             ],
             [
              0.8888888888888888,
              "#fdca26"
             ],
             [
              1,
              "#f0f921"
             ]
            ],
            "type": "heatmap"
           }
          ],
          "heatmapgl": [
           {
            "colorbar": {
             "outlinewidth": 0,
             "ticks": ""
            },
            "colorscale": [
             [
              0,
              "#0d0887"
             ],
             [
              0.1111111111111111,
              "#46039f"
             ],
             [
              0.2222222222222222,
              "#7201a8"
             ],
             [
              0.3333333333333333,
              "#9c179e"
             ],
             [
              0.4444444444444444,
              "#bd3786"
             ],
             [
              0.5555555555555556,
              "#d8576b"
             ],
             [
              0.6666666666666666,
              "#ed7953"
             ],
             [
              0.7777777777777778,
              "#fb9f3a"
             ],
             [
              0.8888888888888888,
              "#fdca26"
             ],
             [
              1,
              "#f0f921"
             ]
            ],
            "type": "heatmapgl"
           }
          ],
          "histogram": [
           {
            "marker": {
             "pattern": {
              "fillmode": "overlay",
              "size": 10,
              "solidity": 0.2
             }
            },
            "type": "histogram"
           }
          ],
          "histogram2d": [
           {
            "colorbar": {
             "outlinewidth": 0,
             "ticks": ""
            },
            "colorscale": [
             [
              0,
              "#0d0887"
             ],
             [
              0.1111111111111111,
              "#46039f"
             ],
             [
              0.2222222222222222,
              "#7201a8"
             ],
             [
              0.3333333333333333,
              "#9c179e"
             ],
             [
              0.4444444444444444,
              "#bd3786"
             ],
             [
              0.5555555555555556,
              "#d8576b"
             ],
             [
              0.6666666666666666,
              "#ed7953"
             ],
             [
              0.7777777777777778,
              "#fb9f3a"
             ],
             [
              0.8888888888888888,
              "#fdca26"
             ],
             [
              1,
              "#f0f921"
             ]
            ],
            "type": "histogram2d"
           }
          ],
          "histogram2dcontour": [
           {
            "colorbar": {
             "outlinewidth": 0,
             "ticks": ""
            },
            "colorscale": [
             [
              0,
              "#0d0887"
             ],
             [
              0.1111111111111111,
              "#46039f"
             ],
             [
              0.2222222222222222,
              "#7201a8"
             ],
             [
              0.3333333333333333,
              "#9c179e"
             ],
             [
              0.4444444444444444,
              "#bd3786"
             ],
             [
              0.5555555555555556,
              "#d8576b"
             ],
             [
              0.6666666666666666,
              "#ed7953"
             ],
             [
              0.7777777777777778,
              "#fb9f3a"
             ],
             [
              0.8888888888888888,
              "#fdca26"
             ],
             [
              1,
              "#f0f921"
             ]
            ],
            "type": "histogram2dcontour"
           }
          ],
          "mesh3d": [
           {
            "colorbar": {
             "outlinewidth": 0,
             "ticks": ""
            },
            "type": "mesh3d"
           }
          ],
          "parcoords": [
           {
            "line": {
             "colorbar": {
              "outlinewidth": 0,
              "ticks": ""
             }
            },
            "type": "parcoords"
           }
          ],
          "pie": [
           {
            "automargin": true,
            "type": "pie"
           }
          ],
          "scatter": [
           {
            "fillpattern": {
             "fillmode": "overlay",
             "size": 10,
             "solidity": 0.2
            },
            "type": "scatter"
           }
          ],
          "scatter3d": [
           {
            "line": {
             "colorbar": {
              "outlinewidth": 0,
              "ticks": ""
             }
            },
            "marker": {
             "colorbar": {
              "outlinewidth": 0,
              "ticks": ""
             }
            },
            "type": "scatter3d"
           }
          ],
          "scattercarpet": [
           {
            "marker": {
             "colorbar": {
              "outlinewidth": 0,
              "ticks": ""
             }
            },
            "type": "scattercarpet"
           }
          ],
          "scattergeo": [
           {
            "marker": {
             "colorbar": {
              "outlinewidth": 0,
              "ticks": ""
             }
            },
            "type": "scattergeo"
           }
          ],
          "scattergl": [
           {
            "marker": {
             "colorbar": {
              "outlinewidth": 0,
              "ticks": ""
             }
            },
            "type": "scattergl"
           }
          ],
          "scattermapbox": [
           {
            "marker": {
             "colorbar": {
              "outlinewidth": 0,
              "ticks": ""
             }
            },
            "type": "scattermapbox"
           }
          ],
          "scatterpolar": [
           {
            "marker": {
             "colorbar": {
              "outlinewidth": 0,
              "ticks": ""
             }
            },
            "type": "scatterpolar"
           }
          ],
          "scatterpolargl": [
           {
            "marker": {
             "colorbar": {
              "outlinewidth": 0,
              "ticks": ""
             }
            },
            "type": "scatterpolargl"
           }
          ],
          "scatterternary": [
           {
            "marker": {
             "colorbar": {
              "outlinewidth": 0,
              "ticks": ""
             }
            },
            "type": "scatterternary"
           }
          ],
          "surface": [
           {
            "colorbar": {
             "outlinewidth": 0,
             "ticks": ""
            },
            "colorscale": [
             [
              0,
              "#0d0887"
             ],
             [
              0.1111111111111111,
              "#46039f"
             ],
             [
              0.2222222222222222,
              "#7201a8"
             ],
             [
              0.3333333333333333,
              "#9c179e"
             ],
             [
              0.4444444444444444,
              "#bd3786"
             ],
             [
              0.5555555555555556,
              "#d8576b"
             ],
             [
              0.6666666666666666,
              "#ed7953"
             ],
             [
              0.7777777777777778,
              "#fb9f3a"
             ],
             [
              0.8888888888888888,
              "#fdca26"
             ],
             [
              1,
              "#f0f921"
             ]
            ],
            "type": "surface"
           }
          ],
          "table": [
           {
            "cells": {
             "fill": {
              "color": "#EBF0F8"
             },
             "line": {
              "color": "white"
             }
            },
            "header": {
             "fill": {
              "color": "#C8D4E3"
             },
             "line": {
              "color": "white"
             }
            },
            "type": "table"
           }
          ]
         },
         "layout": {
          "annotationdefaults": {
           "arrowcolor": "#2a3f5f",
           "arrowhead": 0,
           "arrowwidth": 1
          },
          "autotypenumbers": "strict",
          "coloraxis": {
           "colorbar": {
            "outlinewidth": 0,
            "ticks": ""
           }
          },
          "colorscale": {
           "diverging": [
            [
             0,
             "#8e0152"
            ],
            [
             0.1,
             "#c51b7d"
            ],
            [
             0.2,
             "#de77ae"
            ],
            [
             0.3,
             "#f1b6da"
            ],
            [
             0.4,
             "#fde0ef"
            ],
            [
             0.5,
             "#f7f7f7"
            ],
            [
             0.6,
             "#e6f5d0"
            ],
            [
             0.7,
             "#b8e186"
            ],
            [
             0.8,
             "#7fbc41"
            ],
            [
             0.9,
             "#4d9221"
            ],
            [
             1,
             "#276419"
            ]
           ],
           "sequential": [
            [
             0,
             "#0d0887"
            ],
            [
             0.1111111111111111,
             "#46039f"
            ],
            [
             0.2222222222222222,
             "#7201a8"
            ],
            [
             0.3333333333333333,
             "#9c179e"
            ],
            [
             0.4444444444444444,
             "#bd3786"
            ],
            [
             0.5555555555555556,
             "#d8576b"
            ],
            [
             0.6666666666666666,
             "#ed7953"
            ],
            [
             0.7777777777777778,
             "#fb9f3a"
            ],
            [
             0.8888888888888888,
             "#fdca26"
            ],
            [
             1,
             "#f0f921"
            ]
           ],
           "sequentialminus": [
            [
             0,
             "#0d0887"
            ],
            [
             0.1111111111111111,
             "#46039f"
            ],
            [
             0.2222222222222222,
             "#7201a8"
            ],
            [
             0.3333333333333333,
             "#9c179e"
            ],
            [
             0.4444444444444444,
             "#bd3786"
            ],
            [
             0.5555555555555556,
             "#d8576b"
            ],
            [
             0.6666666666666666,
             "#ed7953"
            ],
            [
             0.7777777777777778,
             "#fb9f3a"
            ],
            [
             0.8888888888888888,
             "#fdca26"
            ],
            [
             1,
             "#f0f921"
            ]
           ]
          },
          "colorway": [
           "#636efa",
           "#EF553B",
           "#00cc96",
           "#ab63fa",
           "#FFA15A",
           "#19d3f3",
           "#FF6692",
           "#B6E880",
           "#FF97FF",
           "#FECB52"
          ],
          "font": {
           "color": "#2a3f5f"
          },
          "geo": {
           "bgcolor": "white",
           "lakecolor": "white",
           "landcolor": "#E5ECF6",
           "showlakes": true,
           "showland": true,
           "subunitcolor": "white"
          },
          "hoverlabel": {
           "align": "left"
          },
          "hovermode": "closest",
          "mapbox": {
           "style": "light"
          },
          "paper_bgcolor": "white",
          "plot_bgcolor": "#E5ECF6",
          "polar": {
           "angularaxis": {
            "gridcolor": "white",
            "linecolor": "white",
            "ticks": ""
           },
           "bgcolor": "#E5ECF6",
           "radialaxis": {
            "gridcolor": "white",
            "linecolor": "white",
            "ticks": ""
           }
          },
          "scene": {
           "xaxis": {
            "backgroundcolor": "#E5ECF6",
            "gridcolor": "white",
            "gridwidth": 2,
            "linecolor": "white",
            "showbackground": true,
            "ticks": "",
            "zerolinecolor": "white"
           },
           "yaxis": {
            "backgroundcolor": "#E5ECF6",
            "gridcolor": "white",
            "gridwidth": 2,
            "linecolor": "white",
            "showbackground": true,
            "ticks": "",
            "zerolinecolor": "white"
           },
           "zaxis": {
            "backgroundcolor": "#E5ECF6",
            "gridcolor": "white",
            "gridwidth": 2,
            "linecolor": "white",
            "showbackground": true,
            "ticks": "",
            "zerolinecolor": "white"
           }
          },
          "shapedefaults": {
           "line": {
            "color": "#2a3f5f"
           }
          },
          "ternary": {
           "aaxis": {
            "gridcolor": "white",
            "linecolor": "white",
            "ticks": ""
           },
           "baxis": {
            "gridcolor": "white",
            "linecolor": "white",
            "ticks": ""
           },
           "bgcolor": "#E5ECF6",
           "caxis": {
            "gridcolor": "white",
            "linecolor": "white",
            "ticks": ""
           }
          },
          "title": {
           "x": 0.05
          },
          "xaxis": {
           "automargin": true,
           "gridcolor": "white",
           "linecolor": "white",
           "ticks": "",
           "title": {
            "standoff": 15
           },
           "zerolinecolor": "white",
           "zerolinewidth": 2
          },
          "yaxis": {
           "automargin": true,
           "gridcolor": "white",
           "linecolor": "white",
           "ticks": "",
           "title": {
            "standoff": 15
           },
           "zerolinecolor": "white",
           "zerolinewidth": 2
          }
         }
        },
        "title": {
         "text": "The number of maintenance orders on each field type"
        }
       }
      },
      "text/html": [
       "<div>                            <div id=\"e9669b0f-fed8-4b47-84ee-7c5f8ec08024\" class=\"plotly-graph-div\" style=\"height:525px; width:100%;\"></div>            <script type=\"text/javascript\">                require([\"plotly\"], function(Plotly) {                    window.PLOTLYENV=window.PLOTLYENV || {};                                    if (document.getElementById(\"e9669b0f-fed8-4b47-84ee-7c5f8ec08024\")) {                    Plotly.newPlot(                        \"e9669b0f-fed8-4b47-84ee-7c5f8ec08024\",                        [{\"domain\":{\"x\":[0.0,1.0],\"y\":[0.0,1.0]},\"hovertemplate\":\"index=%{label}<br>value=%{value}<extra></extra>\",\"labels\":[\"Electrical\",\"Mechanical\",\"Civil\",\"Plumbing\",\"Non-Medical\"],\"legendgroup\":\"\",\"name\":\"\",\"showlegend\":true,\"values\":[432,238,188,137,5],\"type\":\"pie\"}],                        {\"template\":{\"data\":{\"histogram2dcontour\":[{\"type\":\"histogram2dcontour\",\"colorbar\":{\"outlinewidth\":0,\"ticks\":\"\"},\"colorscale\":[[0.0,\"#0d0887\"],[0.1111111111111111,\"#46039f\"],[0.2222222222222222,\"#7201a8\"],[0.3333333333333333,\"#9c179e\"],[0.4444444444444444,\"#bd3786\"],[0.5555555555555556,\"#d8576b\"],[0.6666666666666666,\"#ed7953\"],[0.7777777777777778,\"#fb9f3a\"],[0.8888888888888888,\"#fdca26\"],[1.0,\"#f0f921\"]]}],\"choropleth\":[{\"type\":\"choropleth\",\"colorbar\":{\"outlinewidth\":0,\"ticks\":\"\"}}],\"histogram2d\":[{\"type\":\"histogram2d\",\"colorbar\":{\"outlinewidth\":0,\"ticks\":\"\"},\"colorscale\":[[0.0,\"#0d0887\"],[0.1111111111111111,\"#46039f\"],[0.2222222222222222,\"#7201a8\"],[0.3333333333333333,\"#9c179e\"],[0.4444444444444444,\"#bd3786\"],[0.5555555555555556,\"#d8576b\"],[0.6666666666666666,\"#ed7953\"],[0.7777777777777778,\"#fb9f3a\"],[0.8888888888888888,\"#fdca26\"],[1.0,\"#f0f921\"]]}],\"heatmap\":[{\"type\":\"heatmap\",\"colorbar\":{\"outlinewidth\":0,\"ticks\":\"\"},\"colorscale\":[[0.0,\"#0d0887\"],[0.1111111111111111,\"#46039f\"],[0.2222222222222222,\"#7201a8\"],[0.3333333333333333,\"#9c179e\"],[0.4444444444444444,\"#bd3786\"],[0.5555555555555556,\"#d8576b\"],[0.6666666666666666,\"#ed7953\"],[0.7777777777777778,\"#fb9f3a\"],[0.8888888888888888,\"#fdca26\"],[1.0,\"#f0f921\"]]}],\"heatmapgl\":[{\"type\":\"heatmapgl\",\"colorbar\":{\"outlinewidth\":0,\"ticks\":\"\"},\"colorscale\":[[0.0,\"#0d0887\"],[0.1111111111111111,\"#46039f\"],[0.2222222222222222,\"#7201a8\"],[0.3333333333333333,\"#9c179e\"],[0.4444444444444444,\"#bd3786\"],[0.5555555555555556,\"#d8576b\"],[0.6666666666666666,\"#ed7953\"],[0.7777777777777778,\"#fb9f3a\"],[0.8888888888888888,\"#fdca26\"],[1.0,\"#f0f921\"]]}],\"contourcarpet\":[{\"type\":\"contourcarpet\",\"colorbar\":{\"outlinewidth\":0,\"ticks\":\"\"}}],\"contour\":[{\"type\":\"contour\",\"colorbar\":{\"outlinewidth\":0,\"ticks\":\"\"},\"colorscale\":[[0.0,\"#0d0887\"],[0.1111111111111111,\"#46039f\"],[0.2222222222222222,\"#7201a8\"],[0.3333333333333333,\"#9c179e\"],[0.4444444444444444,\"#bd3786\"],[0.5555555555555556,\"#d8576b\"],[0.6666666666666666,\"#ed7953\"],[0.7777777777777778,\"#fb9f3a\"],[0.8888888888888888,\"#fdca26\"],[1.0,\"#f0f921\"]]}],\"surface\":[{\"type\":\"surface\",\"colorbar\":{\"outlinewidth\":0,\"ticks\":\"\"},\"colorscale\":[[0.0,\"#0d0887\"],[0.1111111111111111,\"#46039f\"],[0.2222222222222222,\"#7201a8\"],[0.3333333333333333,\"#9c179e\"],[0.4444444444444444,\"#bd3786\"],[0.5555555555555556,\"#d8576b\"],[0.6666666666666666,\"#ed7953\"],[0.7777777777777778,\"#fb9f3a\"],[0.8888888888888888,\"#fdca26\"],[1.0,\"#f0f921\"]]}],\"mesh3d\":[{\"type\":\"mesh3d\",\"colorbar\":{\"outlinewidth\":0,\"ticks\":\"\"}}],\"scatter\":[{\"fillpattern\":{\"fillmode\":\"overlay\",\"size\":10,\"solidity\":0.2},\"type\":\"scatter\"}],\"parcoords\":[{\"type\":\"parcoords\",\"line\":{\"colorbar\":{\"outlinewidth\":0,\"ticks\":\"\"}}}],\"scatterpolargl\":[{\"type\":\"scatterpolargl\",\"marker\":{\"colorbar\":{\"outlinewidth\":0,\"ticks\":\"\"}}}],\"bar\":[{\"error_x\":{\"color\":\"#2a3f5f\"},\"error_y\":{\"color\":\"#2a3f5f\"},\"marker\":{\"line\":{\"color\":\"#E5ECF6\",\"width\":0.5},\"pattern\":{\"fillmode\":\"overlay\",\"size\":10,\"solidity\":0.2}},\"type\":\"bar\"}],\"scattergeo\":[{\"type\":\"scattergeo\",\"marker\":{\"colorbar\":{\"outlinewidth\":0,\"ticks\":\"\"}}}],\"scatterpolar\":[{\"type\":\"scatterpolar\",\"marker\":{\"colorbar\":{\"outlinewidth\":0,\"ticks\":\"\"}}}],\"histogram\":[{\"marker\":{\"pattern\":{\"fillmode\":\"overlay\",\"size\":10,\"solidity\":0.2}},\"type\":\"histogram\"}],\"scattergl\":[{\"type\":\"scattergl\",\"marker\":{\"colorbar\":{\"outlinewidth\":0,\"ticks\":\"\"}}}],\"scatter3d\":[{\"type\":\"scatter3d\",\"line\":{\"colorbar\":{\"outlinewidth\":0,\"ticks\":\"\"}},\"marker\":{\"colorbar\":{\"outlinewidth\":0,\"ticks\":\"\"}}}],\"scattermapbox\":[{\"type\":\"scattermapbox\",\"marker\":{\"colorbar\":{\"outlinewidth\":0,\"ticks\":\"\"}}}],\"scatterternary\":[{\"type\":\"scatterternary\",\"marker\":{\"colorbar\":{\"outlinewidth\":0,\"ticks\":\"\"}}}],\"scattercarpet\":[{\"type\":\"scattercarpet\",\"marker\":{\"colorbar\":{\"outlinewidth\":0,\"ticks\":\"\"}}}],\"carpet\":[{\"aaxis\":{\"endlinecolor\":\"#2a3f5f\",\"gridcolor\":\"white\",\"linecolor\":\"white\",\"minorgridcolor\":\"white\",\"startlinecolor\":\"#2a3f5f\"},\"baxis\":{\"endlinecolor\":\"#2a3f5f\",\"gridcolor\":\"white\",\"linecolor\":\"white\",\"minorgridcolor\":\"white\",\"startlinecolor\":\"#2a3f5f\"},\"type\":\"carpet\"}],\"table\":[{\"cells\":{\"fill\":{\"color\":\"#EBF0F8\"},\"line\":{\"color\":\"white\"}},\"header\":{\"fill\":{\"color\":\"#C8D4E3\"},\"line\":{\"color\":\"white\"}},\"type\":\"table\"}],\"barpolar\":[{\"marker\":{\"line\":{\"color\":\"#E5ECF6\",\"width\":0.5},\"pattern\":{\"fillmode\":\"overlay\",\"size\":10,\"solidity\":0.2}},\"type\":\"barpolar\"}],\"pie\":[{\"automargin\":true,\"type\":\"pie\"}]},\"layout\":{\"autotypenumbers\":\"strict\",\"colorway\":[\"#636efa\",\"#EF553B\",\"#00cc96\",\"#ab63fa\",\"#FFA15A\",\"#19d3f3\",\"#FF6692\",\"#B6E880\",\"#FF97FF\",\"#FECB52\"],\"font\":{\"color\":\"#2a3f5f\"},\"hovermode\":\"closest\",\"hoverlabel\":{\"align\":\"left\"},\"paper_bgcolor\":\"white\",\"plot_bgcolor\":\"#E5ECF6\",\"polar\":{\"bgcolor\":\"#E5ECF6\",\"angularaxis\":{\"gridcolor\":\"white\",\"linecolor\":\"white\",\"ticks\":\"\"},\"radialaxis\":{\"gridcolor\":\"white\",\"linecolor\":\"white\",\"ticks\":\"\"}},\"ternary\":{\"bgcolor\":\"#E5ECF6\",\"aaxis\":{\"gridcolor\":\"white\",\"linecolor\":\"white\",\"ticks\":\"\"},\"baxis\":{\"gridcolor\":\"white\",\"linecolor\":\"white\",\"ticks\":\"\"},\"caxis\":{\"gridcolor\":\"white\",\"linecolor\":\"white\",\"ticks\":\"\"}},\"coloraxis\":{\"colorbar\":{\"outlinewidth\":0,\"ticks\":\"\"}},\"colorscale\":{\"sequential\":[[0.0,\"#0d0887\"],[0.1111111111111111,\"#46039f\"],[0.2222222222222222,\"#7201a8\"],[0.3333333333333333,\"#9c179e\"],[0.4444444444444444,\"#bd3786\"],[0.5555555555555556,\"#d8576b\"],[0.6666666666666666,\"#ed7953\"],[0.7777777777777778,\"#fb9f3a\"],[0.8888888888888888,\"#fdca26\"],[1.0,\"#f0f921\"]],\"sequentialminus\":[[0.0,\"#0d0887\"],[0.1111111111111111,\"#46039f\"],[0.2222222222222222,\"#7201a8\"],[0.3333333333333333,\"#9c179e\"],[0.4444444444444444,\"#bd3786\"],[0.5555555555555556,\"#d8576b\"],[0.6666666666666666,\"#ed7953\"],[0.7777777777777778,\"#fb9f3a\"],[0.8888888888888888,\"#fdca26\"],[1.0,\"#f0f921\"]],\"diverging\":[[0,\"#8e0152\"],[0.1,\"#c51b7d\"],[0.2,\"#de77ae\"],[0.3,\"#f1b6da\"],[0.4,\"#fde0ef\"],[0.5,\"#f7f7f7\"],[0.6,\"#e6f5d0\"],[0.7,\"#b8e186\"],[0.8,\"#7fbc41\"],[0.9,\"#4d9221\"],[1,\"#276419\"]]},\"xaxis\":{\"gridcolor\":\"white\",\"linecolor\":\"white\",\"ticks\":\"\",\"title\":{\"standoff\":15},\"zerolinecolor\":\"white\",\"automargin\":true,\"zerolinewidth\":2},\"yaxis\":{\"gridcolor\":\"white\",\"linecolor\":\"white\",\"ticks\":\"\",\"title\":{\"standoff\":15},\"zerolinecolor\":\"white\",\"automargin\":true,\"zerolinewidth\":2},\"scene\":{\"xaxis\":{\"backgroundcolor\":\"#E5ECF6\",\"gridcolor\":\"white\",\"linecolor\":\"white\",\"showbackground\":true,\"ticks\":\"\",\"zerolinecolor\":\"white\",\"gridwidth\":2},\"yaxis\":{\"backgroundcolor\":\"#E5ECF6\",\"gridcolor\":\"white\",\"linecolor\":\"white\",\"showbackground\":true,\"ticks\":\"\",\"zerolinecolor\":\"white\",\"gridwidth\":2},\"zaxis\":{\"backgroundcolor\":\"#E5ECF6\",\"gridcolor\":\"white\",\"linecolor\":\"white\",\"showbackground\":true,\"ticks\":\"\",\"zerolinecolor\":\"white\",\"gridwidth\":2}},\"shapedefaults\":{\"line\":{\"color\":\"#2a3f5f\"}},\"annotationdefaults\":{\"arrowcolor\":\"#2a3f5f\",\"arrowhead\":0,\"arrowwidth\":1},\"geo\":{\"bgcolor\":\"white\",\"landcolor\":\"#E5ECF6\",\"subunitcolor\":\"white\",\"showland\":true,\"showlakes\":true,\"lakecolor\":\"white\"},\"title\":{\"x\":0.05},\"mapbox\":{\"style\":\"light\"}}},\"legend\":{\"tracegroupgap\":0},\"title\":{\"text\":\"The number of maintenance orders on each field type\"},\"piecolorway\":[\"rgb(103,0,31)\",\"rgb(178,24,43)\",\"rgb(214,96,77)\",\"rgb(244,165,130)\",\"rgb(253,219,199)\",\"rgb(247,247,247)\",\"rgb(209,229,240)\",\"rgb(146,197,222)\",\"rgb(67,147,195)\",\"rgb(33,102,172)\",\"rgb(5,48,97)\"]},                        {\"responsive\": true}                    ).then(function(){\n",
       "                            \n",
       "var gd = document.getElementById('e9669b0f-fed8-4b47-84ee-7c5f8ec08024');\n",
       "var x = new MutationObserver(function (mutations, observer) {{\n",
       "        var display = window.getComputedStyle(gd).display;\n",
       "        if (!display || display === 'none') {{\n",
       "            console.log([gd, 'removed!']);\n",
       "            Plotly.purge(gd);\n",
       "            observer.disconnect();\n",
       "        }}\n",
       "}});\n",
       "\n",
       "// Listen for the removal of the full notebook cells\n",
       "var notebookContainer = gd.closest('#notebook-container');\n",
       "if (notebookContainer) {{\n",
       "    x.observe(notebookContainer, {childList: true});\n",
       "}}\n",
       "\n",
       "// Listen for the clearing of the current output cell\n",
       "var outputEl = gd.closest('.output');\n",
       "if (outputEl) {{\n",
       "    x.observe(outputEl, {childList: true});\n",
       "}}\n",
       "\n",
       "                        })                };                });            </script>        </div>"
      ]
     },
     "metadata": {},
     "output_type": "display_data"
    }
   ],
   "source": [
    "#This chart shows the number of maintenance orders on each field type   \n",
    "types = df[\"field_type\"].value_counts()\n",
    "fig = px.pie(types, values= types.values, names=types.index,color_discrete_sequence=px.colors.sequential.RdBu, \n",
    "             title='The number of maintenance orders on each field type')\n",
    "\n",
    "fig.show()\n"
   ]
  },
  {
   "cell_type": "code",
   "execution_count": null,
   "id": "ee75f0b5",
   "metadata": {},
   "outputs": [],
   "source": []
  },
  {
   "cell_type": "code",
   "execution_count": 100,
   "id": "d1ccc30e",
   "metadata": {},
   "outputs": [
    {
     "data": {
      "text/plain": [
       "CM     735\n",
       "PDI    255\n",
       "EM       9\n",
       "MOD      1\n",
       "Name: worktype, dtype: int64"
      ]
     },
     "execution_count": 100,
     "metadata": {},
     "output_type": "execute_result"
    }
   ],
   "source": [
    "df['worktype'].value_counts()"
   ]
  },
  {
   "cell_type": "code",
   "execution_count": 81,
   "id": "1970f451",
   "metadata": {
    "scrolled": false
   },
   "outputs": [
    {
     "data": {
      "application/vnd.plotly.v1+json": {
       "config": {
        "plotlyServerURL": "https://plot.ly"
       },
       "data": [
        {
         "alignmentgroup": "True",
         "bingroup": "x",
         "hovertemplate": "worktype=%{x}<br>count=%{y}<extra></extra>",
         "legendgroup": "",
         "marker": {
          "color": "rgb(103,0,31)",
          "pattern": {
           "shape": ""
          }
         },
         "name": "",
         "offsetgroup": "",
         "orientation": "v",
         "showlegend": false,
         "type": "histogram",
         "x": [
          "CM",
          "PDI",
          "EM",
          "EM",
          "CM",
          "CM",
          "PDI",
          "CM",
          "PDI",
          "PDI",
          "CM",
          "CM",
          "CM",
          "CM",
          "CM",
          "CM",
          "CM",
          "CM",
          "CM",
          "CM",
          "CM",
          "PDI",
          "CM",
          "PDI",
          "CM",
          "CM",
          "PDI",
          "CM",
          "CM",
          "PDI",
          "CM",
          "CM",
          "PDI",
          "PDI",
          "CM",
          "CM",
          "PDI",
          "CM",
          "PDI",
          "CM",
          "CM",
          "PDI",
          "CM",
          "CM",
          "CM",
          "CM",
          "PDI",
          "CM",
          "CM",
          "PDI",
          "CM",
          "CM",
          "CM",
          "CM",
          "PDI",
          "PDI",
          "CM",
          "CM",
          "PDI",
          "CM",
          "CM",
          "PDI",
          "CM",
          "CM",
          "CM",
          "PDI",
          "PDI",
          "CM",
          "CM",
          "CM",
          "CM",
          "CM",
          "CM",
          "CM",
          "PDI",
          "CM",
          "CM",
          "CM",
          "CM",
          "PDI",
          "CM",
          "PDI",
          "CM",
          "CM",
          "CM",
          "CM",
          "CM",
          "PDI",
          "CM",
          "CM",
          "CM",
          "PDI",
          "CM",
          "CM",
          "CM",
          "CM",
          "CM",
          "PDI",
          "CM",
          "PDI",
          "PDI",
          "PDI",
          "CM",
          "PDI",
          "CM",
          "CM",
          "CM",
          "CM",
          "CM",
          "CM",
          "CM",
          "CM",
          "CM",
          "CM",
          "PDI",
          "PDI",
          "CM",
          "CM",
          "PDI",
          "CM",
          "CM",
          "PDI",
          "CM",
          "PDI",
          "CM",
          "CM",
          "CM",
          "CM",
          "PDI",
          "PDI",
          "CM",
          "PDI",
          "CM",
          "PDI",
          "CM",
          "PDI",
          "PDI",
          "CM",
          "CM",
          "CM",
          "CM",
          "PDI",
          "PDI",
          "CM",
          "CM",
          "PDI",
          "CM",
          "CM",
          "CM",
          "CM",
          "PDI",
          "CM",
          "PDI",
          "CM",
          "CM",
          "PDI",
          "PDI",
          "CM",
          "CM",
          "EM",
          "CM",
          "CM",
          "CM",
          "CM",
          "CM",
          "CM",
          "PDI",
          "CM",
          "CM",
          "CM",
          "PDI",
          "CM",
          "CM",
          "CM",
          "CM",
          "CM",
          "PDI",
          "PDI",
          "CM",
          "CM",
          "PDI",
          "CM",
          "CM",
          "CM",
          "CM",
          "CM",
          "CM",
          "PDI",
          "CM",
          "CM",
          "CM",
          "PDI",
          "CM",
          "CM",
          "CM",
          "CM",
          "CM",
          "PDI",
          "CM",
          "PDI",
          "CM",
          "CM",
          "CM",
          "CM",
          "PDI",
          "CM",
          "CM",
          "CM",
          "CM",
          "CM",
          "CM",
          "PDI",
          "PDI",
          "PDI",
          "CM",
          "PDI",
          "CM",
          "CM",
          "CM",
          "CM",
          "PDI",
          "CM",
          "CM",
          "CM",
          "CM",
          "CM",
          "CM",
          "PDI",
          "CM",
          "CM",
          "CM",
          "PDI",
          "CM",
          "CM",
          "CM",
          "PDI",
          "CM",
          "CM",
          "CM",
          "CM",
          "CM",
          "CM",
          "CM",
          "CM",
          "CM",
          "PDI",
          "CM",
          "PDI",
          "CM",
          "CM",
          "CM",
          "CM",
          "EM",
          "PDI",
          "CM",
          "CM",
          "CM",
          "CM",
          "CM",
          "PDI",
          "PDI",
          "CM",
          "CM",
          "CM",
          "CM",
          "PDI",
          "CM",
          "CM",
          "CM",
          "CM",
          "CM",
          "CM",
          "CM",
          "CM",
          "CM",
          "CM",
          "CM",
          "CM",
          "CM",
          "CM",
          "CM",
          "PDI",
          "PDI",
          "CM",
          "CM",
          "PDI",
          "CM",
          "CM",
          "CM",
          "CM",
          "PDI",
          "CM",
          "PDI",
          "CM",
          "CM",
          "CM",
          "PDI",
          "CM",
          "CM",
          "CM",
          "CM",
          "CM",
          "PDI",
          "PDI",
          "CM",
          "CM",
          "PDI",
          "PDI",
          "CM",
          "CM",
          "CM",
          "PDI",
          "CM",
          "CM",
          "PDI",
          "CM",
          "PDI",
          "CM",
          "CM",
          "CM",
          "CM",
          "CM",
          "CM",
          "CM",
          "CM",
          "CM",
          "CM",
          "CM",
          "CM",
          "PDI",
          "CM",
          "CM",
          "CM",
          "PDI",
          "CM",
          "CM",
          "CM",
          "PDI",
          "CM",
          "PDI",
          "PDI",
          "CM",
          "PDI",
          "PDI",
          "CM",
          "CM",
          "CM",
          "CM",
          "CM",
          "PDI",
          "PDI",
          "CM",
          "PDI",
          "PDI",
          "CM",
          "CM",
          "CM",
          "CM",
          "CM",
          "CM",
          "CM",
          "CM",
          "CM",
          "PDI",
          "CM",
          "CM",
          "PDI",
          "CM",
          "CM",
          "CM",
          "CM",
          "EM",
          "CM",
          "CM",
          "CM",
          "CM",
          "CM",
          "CM",
          "CM",
          "PDI",
          "CM",
          "CM",
          "CM",
          "CM",
          "PDI",
          "CM",
          "PDI",
          "CM",
          "CM",
          "CM",
          "CM",
          "CM",
          "CM",
          "CM",
          "CM",
          "CM",
          "CM",
          "CM",
          "CM",
          "CM",
          "CM",
          "CM",
          "CM",
          "PDI",
          "CM",
          "CM",
          "CM",
          "CM",
          "PDI",
          "CM",
          "CM",
          "CM",
          "CM",
          "CM",
          "CM",
          "CM",
          "PDI",
          "CM",
          "CM",
          "CM",
          "EM",
          "CM",
          "CM",
          "CM",
          "PDI",
          "CM",
          "CM",
          "CM",
          "CM",
          "CM",
          "PDI",
          "CM",
          "CM",
          "CM",
          "PDI",
          "CM",
          "CM",
          "PDI",
          "CM",
          "CM",
          "PDI",
          "PDI",
          "CM",
          "CM",
          "PDI",
          "PDI",
          "CM",
          "CM",
          "CM",
          "CM",
          "PDI",
          "CM",
          "CM",
          "CM",
          "EM",
          "CM",
          "CM",
          "CM",
          "PDI",
          "CM",
          "CM",
          "PDI",
          "CM",
          "CM",
          "PDI",
          "CM",
          "CM",
          "PDI",
          "CM",
          "CM",
          "PDI",
          "CM",
          "PDI",
          "CM",
          "CM",
          "CM",
          "CM",
          "CM",
          "CM",
          "PDI",
          "CM",
          "CM",
          "CM",
          "PDI",
          "CM",
          "CM",
          "CM",
          "CM",
          "CM",
          "PDI",
          "CM",
          "PDI",
          "CM",
          "CM",
          "PDI",
          "PDI",
          "CM",
          "CM",
          "CM",
          "CM",
          "CM",
          "CM",
          "CM",
          "CM",
          "CM",
          "CM",
          "CM",
          "CM",
          "CM",
          "PDI",
          "PDI",
          "CM",
          "PDI",
          "CM",
          "CM",
          "CM",
          "PDI",
          "CM",
          "CM",
          "CM",
          "PDI",
          "CM",
          "CM",
          "CM",
          "PDI",
          "CM",
          "PDI",
          "CM",
          "PDI",
          "CM",
          "CM",
          "CM",
          "CM",
          "CM",
          "CM",
          "CM",
          "CM",
          "CM",
          "CM",
          "CM",
          "CM",
          "PDI",
          "CM",
          "CM",
          "CM",
          "CM",
          "PDI",
          "CM",
          "PDI",
          "PDI",
          "CM",
          "CM",
          "CM",
          "CM",
          "CM",
          "PDI",
          "CM",
          "PDI",
          "CM",
          "CM",
          "PDI",
          "CM",
          "PDI",
          "CM",
          "PDI",
          "CM",
          "CM",
          "CM",
          "PDI",
          "CM",
          "CM",
          "PDI",
          "CM",
          "CM",
          "CM",
          "PDI",
          "PDI",
          "CM",
          "PDI",
          "CM",
          "CM",
          "CM",
          "CM",
          "CM",
          "CM",
          "CM",
          "CM",
          "CM",
          "PDI",
          "CM",
          "CM",
          "CM",
          "CM",
          "PDI",
          "PDI",
          "CM",
          "CM",
          "PDI",
          "PDI",
          "CM",
          "PDI",
          "CM",
          "CM",
          "CM",
          "PDI",
          "PDI",
          "CM",
          "CM",
          "CM",
          "PDI",
          "CM",
          "PDI",
          "CM",
          "EM",
          "PDI",
          "CM",
          "PDI",
          "PDI",
          "CM",
          "CM",
          "CM",
          "CM",
          "CM",
          "CM",
          "CM",
          "PDI",
          "CM",
          "PDI",
          "CM",
          "CM",
          "CM",
          "CM",
          "CM",
          "CM",
          "PDI",
          "CM",
          "CM",
          "CM",
          "CM",
          "CM",
          "CM",
          "CM",
          "PDI",
          "CM",
          "CM",
          "PDI",
          "CM",
          "CM",
          "CM",
          "PDI",
          "PDI",
          "CM",
          "CM",
          "CM",
          "CM",
          "PDI",
          "CM",
          "CM",
          "CM",
          "CM",
          "PDI",
          "CM",
          "CM",
          "CM",
          "PDI",
          "CM",
          "CM",
          "CM",
          "CM",
          "PDI",
          "PDI",
          "PDI",
          "CM",
          "CM",
          "CM",
          "CM",
          "CM",
          "PDI",
          "CM",
          "CM",
          "CM",
          "CM",
          "PDI",
          "PDI",
          "CM",
          "CM",
          "CM",
          "CM",
          "CM",
          "PDI",
          "CM",
          "CM",
          "CM",
          "CM",
          "CM",
          "PDI",
          "CM",
          "CM",
          "CM",
          "PDI",
          "PDI",
          "CM",
          "CM",
          "PDI",
          "CM",
          "CM",
          "CM",
          "CM",
          "CM",
          "CM",
          "CM",
          "PDI",
          "PDI",
          "CM",
          "CM",
          "CM",
          "CM",
          "PDI",
          "CM",
          "CM",
          "CM",
          "CM",
          "CM",
          "CM",
          "CM",
          "CM",
          "PDI",
          "CM",
          "PDI",
          "PDI",
          "PDI",
          "CM",
          "CM",
          "PDI",
          "PDI",
          "CM",
          "CM",
          "CM",
          "PDI",
          "CM",
          "CM",
          "CM",
          "CM",
          "EM",
          "CM",
          "PDI",
          "CM",
          "CM",
          "PDI",
          "CM",
          "CM",
          "CM",
          "CM",
          "CM",
          "CM",
          "PDI",
          "PDI",
          "CM",
          "CM",
          "CM",
          "PDI",
          "CM",
          "CM",
          "CM",
          "CM",
          "CM",
          "CM",
          "CM",
          "CM",
          "CM",
          "CM",
          "CM",
          "CM",
          "PDI",
          "PDI",
          "PDI",
          "CM",
          "PDI",
          "CM",
          "PDI",
          "CM",
          "CM",
          "CM",
          "PDI",
          "CM",
          "PDI",
          "CM",
          "CM",
          "CM",
          "PDI",
          "CM",
          "PDI",
          "CM",
          "CM",
          "PDI",
          "CM",
          "PDI",
          "CM",
          "CM",
          "CM",
          "CM",
          "PDI",
          "PDI",
          "CM",
          "CM",
          "MOD",
          "CM",
          "PDI",
          "CM",
          "CM",
          "CM",
          "PDI",
          "CM",
          "CM",
          "CM",
          "CM",
          "PDI",
          "CM",
          "CM",
          "PDI",
          "CM",
          "CM",
          "PDI",
          "CM",
          "PDI",
          "CM",
          "PDI",
          "CM",
          "PDI",
          "CM",
          "CM",
          "CM",
          "CM",
          "CM",
          "CM",
          "CM",
          "CM",
          "PDI",
          "PDI",
          "CM",
          "CM",
          "CM",
          "CM",
          "CM",
          "CM",
          "CM",
          "CM",
          "PDI",
          "CM",
          "CM",
          "PDI",
          "CM",
          "CM",
          "PDI",
          "CM",
          "CM",
          "CM",
          "CM",
          "CM",
          "CM",
          "CM",
          "CM",
          "CM",
          "CM",
          "PDI",
          "CM",
          "PDI",
          "CM",
          "CM",
          "CM",
          "CM",
          "CM",
          "PDI",
          "CM",
          "CM",
          "CM",
          "CM",
          "PDI",
          "CM",
          "CM",
          "CM",
          "CM",
          "CM",
          "CM",
          "CM",
          "CM",
          "CM",
          "PDI",
          "CM",
          "CM",
          "CM",
          "CM",
          "CM",
          "CM",
          "PDI",
          "PDI",
          "PDI",
          "CM",
          "CM",
          "CM",
          "CM",
          "CM",
          "CM",
          "CM",
          "CM",
          "CM",
          "PDI",
          "PDI",
          "CM",
          "PDI",
          "PDI",
          "CM",
          "CM",
          "CM",
          "CM",
          "CM",
          "CM",
          "CM",
          "CM",
          "CM",
          "CM",
          "CM",
          "PDI",
          "CM",
          "CM",
          "PDI",
          "CM",
          "CM",
          "CM",
          "PDI",
          "CM",
          "PDI",
          "CM",
          "CM",
          "CM",
          "CM",
          "PDI",
          "CM",
          "PDI",
          "CM",
          "CM",
          "PDI",
          "CM",
          "CM",
          "CM",
          "CM",
          "PDI",
          "CM",
          "CM",
          "CM",
          "CM",
          "CM",
          "CM",
          "CM",
          "CM",
          "CM",
          "CM",
          "CM",
          "CM",
          "PDI",
          "CM",
          "CM",
          "PDI",
          "CM",
          "CM",
          "CM",
          "CM",
          "PDI",
          "PDI",
          "PDI",
          "CM",
          "CM",
          "PDI",
          "CM",
          "PDI",
          "PDI",
          "CM",
          "CM",
          "PDI",
          "CM",
          "CM",
          "CM",
          "CM",
          "CM",
          "CM",
          "PDI",
          "CM",
          "CM",
          "CM",
          "CM",
          "CM",
          "CM",
          "CM",
          "CM",
          "CM",
          "CM",
          "PDI",
          "CM",
          "PDI",
          "CM"
         ],
         "xaxis": "x",
         "yaxis": "y"
        }
       ],
       "layout": {
        "barmode": "relative",
        "legend": {
         "tracegroupgap": 0
        },
        "template": {
         "data": {
          "bar": [
           {
            "error_x": {
             "color": "#2a3f5f"
            },
            "error_y": {
             "color": "#2a3f5f"
            },
            "marker": {
             "line": {
              "color": "#E5ECF6",
              "width": 0.5
             },
             "pattern": {
              "fillmode": "overlay",
              "size": 10,
              "solidity": 0.2
             }
            },
            "type": "bar"
           }
          ],
          "barpolar": [
           {
            "marker": {
             "line": {
              "color": "#E5ECF6",
              "width": 0.5
             },
             "pattern": {
              "fillmode": "overlay",
              "size": 10,
              "solidity": 0.2
             }
            },
            "type": "barpolar"
           }
          ],
          "carpet": [
           {
            "aaxis": {
             "endlinecolor": "#2a3f5f",
             "gridcolor": "white",
             "linecolor": "white",
             "minorgridcolor": "white",
             "startlinecolor": "#2a3f5f"
            },
            "baxis": {
             "endlinecolor": "#2a3f5f",
             "gridcolor": "white",
             "linecolor": "white",
             "minorgridcolor": "white",
             "startlinecolor": "#2a3f5f"
            },
            "type": "carpet"
           }
          ],
          "choropleth": [
           {
            "colorbar": {
             "outlinewidth": 0,
             "ticks": ""
            },
            "type": "choropleth"
           }
          ],
          "contour": [
           {
            "colorbar": {
             "outlinewidth": 0,
             "ticks": ""
            },
            "colorscale": [
             [
              0,
              "#0d0887"
             ],
             [
              0.1111111111111111,
              "#46039f"
             ],
             [
              0.2222222222222222,
              "#7201a8"
             ],
             [
              0.3333333333333333,
              "#9c179e"
             ],
             [
              0.4444444444444444,
              "#bd3786"
             ],
             [
              0.5555555555555556,
              "#d8576b"
             ],
             [
              0.6666666666666666,
              "#ed7953"
             ],
             [
              0.7777777777777778,
              "#fb9f3a"
             ],
             [
              0.8888888888888888,
              "#fdca26"
             ],
             [
              1,
              "#f0f921"
             ]
            ],
            "type": "contour"
           }
          ],
          "contourcarpet": [
           {
            "colorbar": {
             "outlinewidth": 0,
             "ticks": ""
            },
            "type": "contourcarpet"
           }
          ],
          "heatmap": [
           {
            "colorbar": {
             "outlinewidth": 0,
             "ticks": ""
            },
            "colorscale": [
             [
              0,
              "#0d0887"
             ],
             [
              0.1111111111111111,
              "#46039f"
             ],
             [
              0.2222222222222222,
              "#7201a8"
             ],
             [
              0.3333333333333333,
              "#9c179e"
             ],
             [
              0.4444444444444444,
              "#bd3786"
             ],
             [
              0.5555555555555556,
              "#d8576b"
             ],
             [
              0.6666666666666666,
              "#ed7953"
             ],
             [
              0.7777777777777778,
              "#fb9f3a"
             ],
             [
              0.8888888888888888,
              "#fdca26"
             ],
             [
              1,
              "#f0f921"
             ]
            ],
            "type": "heatmap"
           }
          ],
          "heatmapgl": [
           {
            "colorbar": {
             "outlinewidth": 0,
             "ticks": ""
            },
            "colorscale": [
             [
              0,
              "#0d0887"
             ],
             [
              0.1111111111111111,
              "#46039f"
             ],
             [
              0.2222222222222222,
              "#7201a8"
             ],
             [
              0.3333333333333333,
              "#9c179e"
             ],
             [
              0.4444444444444444,
              "#bd3786"
             ],
             [
              0.5555555555555556,
              "#d8576b"
             ],
             [
              0.6666666666666666,
              "#ed7953"
             ],
             [
              0.7777777777777778,
              "#fb9f3a"
             ],
             [
              0.8888888888888888,
              "#fdca26"
             ],
             [
              1,
              "#f0f921"
             ]
            ],
            "type": "heatmapgl"
           }
          ],
          "histogram": [
           {
            "marker": {
             "pattern": {
              "fillmode": "overlay",
              "size": 10,
              "solidity": 0.2
             }
            },
            "type": "histogram"
           }
          ],
          "histogram2d": [
           {
            "colorbar": {
             "outlinewidth": 0,
             "ticks": ""
            },
            "colorscale": [
             [
              0,
              "#0d0887"
             ],
             [
              0.1111111111111111,
              "#46039f"
             ],
             [
              0.2222222222222222,
              "#7201a8"
             ],
             [
              0.3333333333333333,
              "#9c179e"
             ],
             [
              0.4444444444444444,
              "#bd3786"
             ],
             [
              0.5555555555555556,
              "#d8576b"
             ],
             [
              0.6666666666666666,
              "#ed7953"
             ],
             [
              0.7777777777777778,
              "#fb9f3a"
             ],
             [
              0.8888888888888888,
              "#fdca26"
             ],
             [
              1,
              "#f0f921"
             ]
            ],
            "type": "histogram2d"
           }
          ],
          "histogram2dcontour": [
           {
            "colorbar": {
             "outlinewidth": 0,
             "ticks": ""
            },
            "colorscale": [
             [
              0,
              "#0d0887"
             ],
             [
              0.1111111111111111,
              "#46039f"
             ],
             [
              0.2222222222222222,
              "#7201a8"
             ],
             [
              0.3333333333333333,
              "#9c179e"
             ],
             [
              0.4444444444444444,
              "#bd3786"
             ],
             [
              0.5555555555555556,
              "#d8576b"
             ],
             [
              0.6666666666666666,
              "#ed7953"
             ],
             [
              0.7777777777777778,
              "#fb9f3a"
             ],
             [
              0.8888888888888888,
              "#fdca26"
             ],
             [
              1,
              "#f0f921"
             ]
            ],
            "type": "histogram2dcontour"
           }
          ],
          "mesh3d": [
           {
            "colorbar": {
             "outlinewidth": 0,
             "ticks": ""
            },
            "type": "mesh3d"
           }
          ],
          "parcoords": [
           {
            "line": {
             "colorbar": {
              "outlinewidth": 0,
              "ticks": ""
             }
            },
            "type": "parcoords"
           }
          ],
          "pie": [
           {
            "automargin": true,
            "type": "pie"
           }
          ],
          "scatter": [
           {
            "fillpattern": {
             "fillmode": "overlay",
             "size": 10,
             "solidity": 0.2
            },
            "type": "scatter"
           }
          ],
          "scatter3d": [
           {
            "line": {
             "colorbar": {
              "outlinewidth": 0,
              "ticks": ""
             }
            },
            "marker": {
             "colorbar": {
              "outlinewidth": 0,
              "ticks": ""
             }
            },
            "type": "scatter3d"
           }
          ],
          "scattercarpet": [
           {
            "marker": {
             "colorbar": {
              "outlinewidth": 0,
              "ticks": ""
             }
            },
            "type": "scattercarpet"
           }
          ],
          "scattergeo": [
           {
            "marker": {
             "colorbar": {
              "outlinewidth": 0,
              "ticks": ""
             }
            },
            "type": "scattergeo"
           }
          ],
          "scattergl": [
           {
            "marker": {
             "colorbar": {
              "outlinewidth": 0,
              "ticks": ""
             }
            },
            "type": "scattergl"
           }
          ],
          "scattermapbox": [
           {
            "marker": {
             "colorbar": {
              "outlinewidth": 0,
              "ticks": ""
             }
            },
            "type": "scattermapbox"
           }
          ],
          "scatterpolar": [
           {
            "marker": {
             "colorbar": {
              "outlinewidth": 0,
              "ticks": ""
             }
            },
            "type": "scatterpolar"
           }
          ],
          "scatterpolargl": [
           {
            "marker": {
             "colorbar": {
              "outlinewidth": 0,
              "ticks": ""
             }
            },
            "type": "scatterpolargl"
           }
          ],
          "scatterternary": [
           {
            "marker": {
             "colorbar": {
              "outlinewidth": 0,
              "ticks": ""
             }
            },
            "type": "scatterternary"
           }
          ],
          "surface": [
           {
            "colorbar": {
             "outlinewidth": 0,
             "ticks": ""
            },
            "colorscale": [
             [
              0,
              "#0d0887"
             ],
             [
              0.1111111111111111,
              "#46039f"
             ],
             [
              0.2222222222222222,
              "#7201a8"
             ],
             [
              0.3333333333333333,
              "#9c179e"
             ],
             [
              0.4444444444444444,
              "#bd3786"
             ],
             [
              0.5555555555555556,
              "#d8576b"
             ],
             [
              0.6666666666666666,
              "#ed7953"
             ],
             [
              0.7777777777777778,
              "#fb9f3a"
             ],
             [
              0.8888888888888888,
              "#fdca26"
             ],
             [
              1,
              "#f0f921"
             ]
            ],
            "type": "surface"
           }
          ],
          "table": [
           {
            "cells": {
             "fill": {
              "color": "#EBF0F8"
             },
             "line": {
              "color": "white"
             }
            },
            "header": {
             "fill": {
              "color": "#C8D4E3"
             },
             "line": {
              "color": "white"
             }
            },
            "type": "table"
           }
          ]
         },
         "layout": {
          "annotationdefaults": {
           "arrowcolor": "#2a3f5f",
           "arrowhead": 0,
           "arrowwidth": 1
          },
          "autotypenumbers": "strict",
          "coloraxis": {
           "colorbar": {
            "outlinewidth": 0,
            "ticks": ""
           }
          },
          "colorscale": {
           "diverging": [
            [
             0,
             "#8e0152"
            ],
            [
             0.1,
             "#c51b7d"
            ],
            [
             0.2,
             "#de77ae"
            ],
            [
             0.3,
             "#f1b6da"
            ],
            [
             0.4,
             "#fde0ef"
            ],
            [
             0.5,
             "#f7f7f7"
            ],
            [
             0.6,
             "#e6f5d0"
            ],
            [
             0.7,
             "#b8e186"
            ],
            [
             0.8,
             "#7fbc41"
            ],
            [
             0.9,
             "#4d9221"
            ],
            [
             1,
             "#276419"
            ]
           ],
           "sequential": [
            [
             0,
             "#0d0887"
            ],
            [
             0.1111111111111111,
             "#46039f"
            ],
            [
             0.2222222222222222,
             "#7201a8"
            ],
            [
             0.3333333333333333,
             "#9c179e"
            ],
            [
             0.4444444444444444,
             "#bd3786"
            ],
            [
             0.5555555555555556,
             "#d8576b"
            ],
            [
             0.6666666666666666,
             "#ed7953"
            ],
            [
             0.7777777777777778,
             "#fb9f3a"
            ],
            [
             0.8888888888888888,
             "#fdca26"
            ],
            [
             1,
             "#f0f921"
            ]
           ],
           "sequentialminus": [
            [
             0,
             "#0d0887"
            ],
            [
             0.1111111111111111,
             "#46039f"
            ],
            [
             0.2222222222222222,
             "#7201a8"
            ],
            [
             0.3333333333333333,
             "#9c179e"
            ],
            [
             0.4444444444444444,
             "#bd3786"
            ],
            [
             0.5555555555555556,
             "#d8576b"
            ],
            [
             0.6666666666666666,
             "#ed7953"
            ],
            [
             0.7777777777777778,
             "#fb9f3a"
            ],
            [
             0.8888888888888888,
             "#fdca26"
            ],
            [
             1,
             "#f0f921"
            ]
           ]
          },
          "colorway": [
           "#636efa",
           "#EF553B",
           "#00cc96",
           "#ab63fa",
           "#FFA15A",
           "#19d3f3",
           "#FF6692",
           "#B6E880",
           "#FF97FF",
           "#FECB52"
          ],
          "font": {
           "color": "#2a3f5f"
          },
          "geo": {
           "bgcolor": "white",
           "lakecolor": "white",
           "landcolor": "#E5ECF6",
           "showlakes": true,
           "showland": true,
           "subunitcolor": "white"
          },
          "hoverlabel": {
           "align": "left"
          },
          "hovermode": "closest",
          "mapbox": {
           "style": "light"
          },
          "paper_bgcolor": "white",
          "plot_bgcolor": "#E5ECF6",
          "polar": {
           "angularaxis": {
            "gridcolor": "white",
            "linecolor": "white",
            "ticks": ""
           },
           "bgcolor": "#E5ECF6",
           "radialaxis": {
            "gridcolor": "white",
            "linecolor": "white",
            "ticks": ""
           }
          },
          "scene": {
           "xaxis": {
            "backgroundcolor": "#E5ECF6",
            "gridcolor": "white",
            "gridwidth": 2,
            "linecolor": "white",
            "showbackground": true,
            "ticks": "",
            "zerolinecolor": "white"
           },
           "yaxis": {
            "backgroundcolor": "#E5ECF6",
            "gridcolor": "white",
            "gridwidth": 2,
            "linecolor": "white",
            "showbackground": true,
            "ticks": "",
            "zerolinecolor": "white"
           },
           "zaxis": {
            "backgroundcolor": "#E5ECF6",
            "gridcolor": "white",
            "gridwidth": 2,
            "linecolor": "white",
            "showbackground": true,
            "ticks": "",
            "zerolinecolor": "white"
           }
          },
          "shapedefaults": {
           "line": {
            "color": "#2a3f5f"
           }
          },
          "ternary": {
           "aaxis": {
            "gridcolor": "white",
            "linecolor": "white",
            "ticks": ""
           },
           "baxis": {
            "gridcolor": "white",
            "linecolor": "white",
            "ticks": ""
           },
           "bgcolor": "#E5ECF6",
           "caxis": {
            "gridcolor": "white",
            "linecolor": "white",
            "ticks": ""
           }
          },
          "title": {
           "x": 0.05
          },
          "xaxis": {
           "automargin": true,
           "gridcolor": "white",
           "linecolor": "white",
           "ticks": "",
           "title": {
            "standoff": 15
           },
           "zerolinecolor": "white",
           "zerolinewidth": 2
          },
          "yaxis": {
           "automargin": true,
           "gridcolor": "white",
           "linecolor": "white",
           "ticks": "",
           "title": {
            "standoff": 15
           },
           "zerolinecolor": "white",
           "zerolinewidth": 2
          }
         }
        },
        "title": {
         "text": "The number of closed maintenance orders in each work type"
        },
        "xaxis": {
         "anchor": "y",
         "domain": [
          0,
          1
         ],
         "title": {
          "text": "worktype"
         }
        },
        "yaxis": {
         "anchor": "x",
         "domain": [
          0,
          1
         ],
         "title": {
          "text": "count"
         }
        }
       }
      },
      "text/html": [
       "<div>                            <div id=\"24bde3d9-997f-4b07-a811-c15386cae09e\" class=\"plotly-graph-div\" style=\"height:525px; width:100%;\"></div>            <script type=\"text/javascript\">                require([\"plotly\"], function(Plotly) {                    window.PLOTLYENV=window.PLOTLYENV || {};                                    if (document.getElementById(\"24bde3d9-997f-4b07-a811-c15386cae09e\")) {                    Plotly.newPlot(                        \"24bde3d9-997f-4b07-a811-c15386cae09e\",                        [{\"alignmentgroup\":\"True\",\"bingroup\":\"x\",\"hovertemplate\":\"worktype=%{x}<br>count=%{y}<extra></extra>\",\"legendgroup\":\"\",\"marker\":{\"color\":\"rgb(103,0,31)\",\"pattern\":{\"shape\":\"\"}},\"name\":\"\",\"offsetgroup\":\"\",\"orientation\":\"v\",\"showlegend\":false,\"x\":[\"CM\",\"PDI\",\"EM\",\"EM\",\"CM\",\"CM\",\"PDI\",\"CM\",\"PDI\",\"PDI\",\"CM\",\"CM\",\"CM\",\"CM\",\"CM\",\"CM\",\"CM\",\"CM\",\"CM\",\"CM\",\"CM\",\"PDI\",\"CM\",\"PDI\",\"CM\",\"CM\",\"PDI\",\"CM\",\"CM\",\"PDI\",\"CM\",\"CM\",\"PDI\",\"PDI\",\"CM\",\"CM\",\"PDI\",\"CM\",\"PDI\",\"CM\",\"CM\",\"PDI\",\"CM\",\"CM\",\"CM\",\"CM\",\"PDI\",\"CM\",\"CM\",\"PDI\",\"CM\",\"CM\",\"CM\",\"CM\",\"PDI\",\"PDI\",\"CM\",\"CM\",\"PDI\",\"CM\",\"CM\",\"PDI\",\"CM\",\"CM\",\"CM\",\"PDI\",\"PDI\",\"CM\",\"CM\",\"CM\",\"CM\",\"CM\",\"CM\",\"CM\",\"PDI\",\"CM\",\"CM\",\"CM\",\"CM\",\"PDI\",\"CM\",\"PDI\",\"CM\",\"CM\",\"CM\",\"CM\",\"CM\",\"PDI\",\"CM\",\"CM\",\"CM\",\"PDI\",\"CM\",\"CM\",\"CM\",\"CM\",\"CM\",\"PDI\",\"CM\",\"PDI\",\"PDI\",\"PDI\",\"CM\",\"PDI\",\"CM\",\"CM\",\"CM\",\"CM\",\"CM\",\"CM\",\"CM\",\"CM\",\"CM\",\"CM\",\"PDI\",\"PDI\",\"CM\",\"CM\",\"PDI\",\"CM\",\"CM\",\"PDI\",\"CM\",\"PDI\",\"CM\",\"CM\",\"CM\",\"CM\",\"PDI\",\"PDI\",\"CM\",\"PDI\",\"CM\",\"PDI\",\"CM\",\"PDI\",\"PDI\",\"CM\",\"CM\",\"CM\",\"CM\",\"PDI\",\"PDI\",\"CM\",\"CM\",\"PDI\",\"CM\",\"CM\",\"CM\",\"CM\",\"PDI\",\"CM\",\"PDI\",\"CM\",\"CM\",\"PDI\",\"PDI\",\"CM\",\"CM\",\"EM\",\"CM\",\"CM\",\"CM\",\"CM\",\"CM\",\"CM\",\"PDI\",\"CM\",\"CM\",\"CM\",\"PDI\",\"CM\",\"CM\",\"CM\",\"CM\",\"CM\",\"PDI\",\"PDI\",\"CM\",\"CM\",\"PDI\",\"CM\",\"CM\",\"CM\",\"CM\",\"CM\",\"CM\",\"PDI\",\"CM\",\"CM\",\"CM\",\"PDI\",\"CM\",\"CM\",\"CM\",\"CM\",\"CM\",\"PDI\",\"CM\",\"PDI\",\"CM\",\"CM\",\"CM\",\"CM\",\"PDI\",\"CM\",\"CM\",\"CM\",\"CM\",\"CM\",\"CM\",\"PDI\",\"PDI\",\"PDI\",\"CM\",\"PDI\",\"CM\",\"CM\",\"CM\",\"CM\",\"PDI\",\"CM\",\"CM\",\"CM\",\"CM\",\"CM\",\"CM\",\"PDI\",\"CM\",\"CM\",\"CM\",\"PDI\",\"CM\",\"CM\",\"CM\",\"PDI\",\"CM\",\"CM\",\"CM\",\"CM\",\"CM\",\"CM\",\"CM\",\"CM\",\"CM\",\"PDI\",\"CM\",\"PDI\",\"CM\",\"CM\",\"CM\",\"CM\",\"EM\",\"PDI\",\"CM\",\"CM\",\"CM\",\"CM\",\"CM\",\"PDI\",\"PDI\",\"CM\",\"CM\",\"CM\",\"CM\",\"PDI\",\"CM\",\"CM\",\"CM\",\"CM\",\"CM\",\"CM\",\"CM\",\"CM\",\"CM\",\"CM\",\"CM\",\"CM\",\"CM\",\"CM\",\"CM\",\"PDI\",\"PDI\",\"CM\",\"CM\",\"PDI\",\"CM\",\"CM\",\"CM\",\"CM\",\"PDI\",\"CM\",\"PDI\",\"CM\",\"CM\",\"CM\",\"PDI\",\"CM\",\"CM\",\"CM\",\"CM\",\"CM\",\"PDI\",\"PDI\",\"CM\",\"CM\",\"PDI\",\"PDI\",\"CM\",\"CM\",\"CM\",\"PDI\",\"CM\",\"CM\",\"PDI\",\"CM\",\"PDI\",\"CM\",\"CM\",\"CM\",\"CM\",\"CM\",\"CM\",\"CM\",\"CM\",\"CM\",\"CM\",\"CM\",\"CM\",\"PDI\",\"CM\",\"CM\",\"CM\",\"PDI\",\"CM\",\"CM\",\"CM\",\"PDI\",\"CM\",\"PDI\",\"PDI\",\"CM\",\"PDI\",\"PDI\",\"CM\",\"CM\",\"CM\",\"CM\",\"CM\",\"PDI\",\"PDI\",\"CM\",\"PDI\",\"PDI\",\"CM\",\"CM\",\"CM\",\"CM\",\"CM\",\"CM\",\"CM\",\"CM\",\"CM\",\"PDI\",\"CM\",\"CM\",\"PDI\",\"CM\",\"CM\",\"CM\",\"CM\",\"EM\",\"CM\",\"CM\",\"CM\",\"CM\",\"CM\",\"CM\",\"CM\",\"PDI\",\"CM\",\"CM\",\"CM\",\"CM\",\"PDI\",\"CM\",\"PDI\",\"CM\",\"CM\",\"CM\",\"CM\",\"CM\",\"CM\",\"CM\",\"CM\",\"CM\",\"CM\",\"CM\",\"CM\",\"CM\",\"CM\",\"CM\",\"CM\",\"PDI\",\"CM\",\"CM\",\"CM\",\"CM\",\"PDI\",\"CM\",\"CM\",\"CM\",\"CM\",\"CM\",\"CM\",\"CM\",\"PDI\",\"CM\",\"CM\",\"CM\",\"EM\",\"CM\",\"CM\",\"CM\",\"PDI\",\"CM\",\"CM\",\"CM\",\"CM\",\"CM\",\"PDI\",\"CM\",\"CM\",\"CM\",\"PDI\",\"CM\",\"CM\",\"PDI\",\"CM\",\"CM\",\"PDI\",\"PDI\",\"CM\",\"CM\",\"PDI\",\"PDI\",\"CM\",\"CM\",\"CM\",\"CM\",\"PDI\",\"CM\",\"CM\",\"CM\",\"EM\",\"CM\",\"CM\",\"CM\",\"PDI\",\"CM\",\"CM\",\"PDI\",\"CM\",\"CM\",\"PDI\",\"CM\",\"CM\",\"PDI\",\"CM\",\"CM\",\"PDI\",\"CM\",\"PDI\",\"CM\",\"CM\",\"CM\",\"CM\",\"CM\",\"CM\",\"PDI\",\"CM\",\"CM\",\"CM\",\"PDI\",\"CM\",\"CM\",\"CM\",\"CM\",\"CM\",\"PDI\",\"CM\",\"PDI\",\"CM\",\"CM\",\"PDI\",\"PDI\",\"CM\",\"CM\",\"CM\",\"CM\",\"CM\",\"CM\",\"CM\",\"CM\",\"CM\",\"CM\",\"CM\",\"CM\",\"CM\",\"PDI\",\"PDI\",\"CM\",\"PDI\",\"CM\",\"CM\",\"CM\",\"PDI\",\"CM\",\"CM\",\"CM\",\"PDI\",\"CM\",\"CM\",\"CM\",\"PDI\",\"CM\",\"PDI\",\"CM\",\"PDI\",\"CM\",\"CM\",\"CM\",\"CM\",\"CM\",\"CM\",\"CM\",\"CM\",\"CM\",\"CM\",\"CM\",\"CM\",\"PDI\",\"CM\",\"CM\",\"CM\",\"CM\",\"PDI\",\"CM\",\"PDI\",\"PDI\",\"CM\",\"CM\",\"CM\",\"CM\",\"CM\",\"PDI\",\"CM\",\"PDI\",\"CM\",\"CM\",\"PDI\",\"CM\",\"PDI\",\"CM\",\"PDI\",\"CM\",\"CM\",\"CM\",\"PDI\",\"CM\",\"CM\",\"PDI\",\"CM\",\"CM\",\"CM\",\"PDI\",\"PDI\",\"CM\",\"PDI\",\"CM\",\"CM\",\"CM\",\"CM\",\"CM\",\"CM\",\"CM\",\"CM\",\"CM\",\"PDI\",\"CM\",\"CM\",\"CM\",\"CM\",\"PDI\",\"PDI\",\"CM\",\"CM\",\"PDI\",\"PDI\",\"CM\",\"PDI\",\"CM\",\"CM\",\"CM\",\"PDI\",\"PDI\",\"CM\",\"CM\",\"CM\",\"PDI\",\"CM\",\"PDI\",\"CM\",\"EM\",\"PDI\",\"CM\",\"PDI\",\"PDI\",\"CM\",\"CM\",\"CM\",\"CM\",\"CM\",\"CM\",\"CM\",\"PDI\",\"CM\",\"PDI\",\"CM\",\"CM\",\"CM\",\"CM\",\"CM\",\"CM\",\"PDI\",\"CM\",\"CM\",\"CM\",\"CM\",\"CM\",\"CM\",\"CM\",\"PDI\",\"CM\",\"CM\",\"PDI\",\"CM\",\"CM\",\"CM\",\"PDI\",\"PDI\",\"CM\",\"CM\",\"CM\",\"CM\",\"PDI\",\"CM\",\"CM\",\"CM\",\"CM\",\"PDI\",\"CM\",\"CM\",\"CM\",\"PDI\",\"CM\",\"CM\",\"CM\",\"CM\",\"PDI\",\"PDI\",\"PDI\",\"CM\",\"CM\",\"CM\",\"CM\",\"CM\",\"PDI\",\"CM\",\"CM\",\"CM\",\"CM\",\"PDI\",\"PDI\",\"CM\",\"CM\",\"CM\",\"CM\",\"CM\",\"PDI\",\"CM\",\"CM\",\"CM\",\"CM\",\"CM\",\"PDI\",\"CM\",\"CM\",\"CM\",\"PDI\",\"PDI\",\"CM\",\"CM\",\"PDI\",\"CM\",\"CM\",\"CM\",\"CM\",\"CM\",\"CM\",\"CM\",\"PDI\",\"PDI\",\"CM\",\"CM\",\"CM\",\"CM\",\"PDI\",\"CM\",\"CM\",\"CM\",\"CM\",\"CM\",\"CM\",\"CM\",\"CM\",\"PDI\",\"CM\",\"PDI\",\"PDI\",\"PDI\",\"CM\",\"CM\",\"PDI\",\"PDI\",\"CM\",\"CM\",\"CM\",\"PDI\",\"CM\",\"CM\",\"CM\",\"CM\",\"EM\",\"CM\",\"PDI\",\"CM\",\"CM\",\"PDI\",\"CM\",\"CM\",\"CM\",\"CM\",\"CM\",\"CM\",\"PDI\",\"PDI\",\"CM\",\"CM\",\"CM\",\"PDI\",\"CM\",\"CM\",\"CM\",\"CM\",\"CM\",\"CM\",\"CM\",\"CM\",\"CM\",\"CM\",\"CM\",\"CM\",\"PDI\",\"PDI\",\"PDI\",\"CM\",\"PDI\",\"CM\",\"PDI\",\"CM\",\"CM\",\"CM\",\"PDI\",\"CM\",\"PDI\",\"CM\",\"CM\",\"CM\",\"PDI\",\"CM\",\"PDI\",\"CM\",\"CM\",\"PDI\",\"CM\",\"PDI\",\"CM\",\"CM\",\"CM\",\"CM\",\"PDI\",\"PDI\",\"CM\",\"CM\",\"MOD\",\"CM\",\"PDI\",\"CM\",\"CM\",\"CM\",\"PDI\",\"CM\",\"CM\",\"CM\",\"CM\",\"PDI\",\"CM\",\"CM\",\"PDI\",\"CM\",\"CM\",\"PDI\",\"CM\",\"PDI\",\"CM\",\"PDI\",\"CM\",\"PDI\",\"CM\",\"CM\",\"CM\",\"CM\",\"CM\",\"CM\",\"CM\",\"CM\",\"PDI\",\"PDI\",\"CM\",\"CM\",\"CM\",\"CM\",\"CM\",\"CM\",\"CM\",\"CM\",\"PDI\",\"CM\",\"CM\",\"PDI\",\"CM\",\"CM\",\"PDI\",\"CM\",\"CM\",\"CM\",\"CM\",\"CM\",\"CM\",\"CM\",\"CM\",\"CM\",\"CM\",\"PDI\",\"CM\",\"PDI\",\"CM\",\"CM\",\"CM\",\"CM\",\"CM\",\"PDI\",\"CM\",\"CM\",\"CM\",\"CM\",\"PDI\",\"CM\",\"CM\",\"CM\",\"CM\",\"CM\",\"CM\",\"CM\",\"CM\",\"CM\",\"PDI\",\"CM\",\"CM\",\"CM\",\"CM\",\"CM\",\"CM\",\"PDI\",\"PDI\",\"PDI\",\"CM\",\"CM\",\"CM\",\"CM\",\"CM\",\"CM\",\"CM\",\"CM\",\"CM\",\"PDI\",\"PDI\",\"CM\",\"PDI\",\"PDI\",\"CM\",\"CM\",\"CM\",\"CM\",\"CM\",\"CM\",\"CM\",\"CM\",\"CM\",\"CM\",\"CM\",\"PDI\",\"CM\",\"CM\",\"PDI\",\"CM\",\"CM\",\"CM\",\"PDI\",\"CM\",\"PDI\",\"CM\",\"CM\",\"CM\",\"CM\",\"PDI\",\"CM\",\"PDI\",\"CM\",\"CM\",\"PDI\",\"CM\",\"CM\",\"CM\",\"CM\",\"PDI\",\"CM\",\"CM\",\"CM\",\"CM\",\"CM\",\"CM\",\"CM\",\"CM\",\"CM\",\"CM\",\"CM\",\"CM\",\"PDI\",\"CM\",\"CM\",\"PDI\",\"CM\",\"CM\",\"CM\",\"CM\",\"PDI\",\"PDI\",\"PDI\",\"CM\",\"CM\",\"PDI\",\"CM\",\"PDI\",\"PDI\",\"CM\",\"CM\",\"PDI\",\"CM\",\"CM\",\"CM\",\"CM\",\"CM\",\"CM\",\"PDI\",\"CM\",\"CM\",\"CM\",\"CM\",\"CM\",\"CM\",\"CM\",\"CM\",\"CM\",\"CM\",\"PDI\",\"CM\",\"PDI\",\"CM\"],\"xaxis\":\"x\",\"yaxis\":\"y\",\"type\":\"histogram\"}],                        {\"template\":{\"data\":{\"histogram2dcontour\":[{\"type\":\"histogram2dcontour\",\"colorbar\":{\"outlinewidth\":0,\"ticks\":\"\"},\"colorscale\":[[0.0,\"#0d0887\"],[0.1111111111111111,\"#46039f\"],[0.2222222222222222,\"#7201a8\"],[0.3333333333333333,\"#9c179e\"],[0.4444444444444444,\"#bd3786\"],[0.5555555555555556,\"#d8576b\"],[0.6666666666666666,\"#ed7953\"],[0.7777777777777778,\"#fb9f3a\"],[0.8888888888888888,\"#fdca26\"],[1.0,\"#f0f921\"]]}],\"choropleth\":[{\"type\":\"choropleth\",\"colorbar\":{\"outlinewidth\":0,\"ticks\":\"\"}}],\"histogram2d\":[{\"type\":\"histogram2d\",\"colorbar\":{\"outlinewidth\":0,\"ticks\":\"\"},\"colorscale\":[[0.0,\"#0d0887\"],[0.1111111111111111,\"#46039f\"],[0.2222222222222222,\"#7201a8\"],[0.3333333333333333,\"#9c179e\"],[0.4444444444444444,\"#bd3786\"],[0.5555555555555556,\"#d8576b\"],[0.6666666666666666,\"#ed7953\"],[0.7777777777777778,\"#fb9f3a\"],[0.8888888888888888,\"#fdca26\"],[1.0,\"#f0f921\"]]}],\"heatmap\":[{\"type\":\"heatmap\",\"colorbar\":{\"outlinewidth\":0,\"ticks\":\"\"},\"colorscale\":[[0.0,\"#0d0887\"],[0.1111111111111111,\"#46039f\"],[0.2222222222222222,\"#7201a8\"],[0.3333333333333333,\"#9c179e\"],[0.4444444444444444,\"#bd3786\"],[0.5555555555555556,\"#d8576b\"],[0.6666666666666666,\"#ed7953\"],[0.7777777777777778,\"#fb9f3a\"],[0.8888888888888888,\"#fdca26\"],[1.0,\"#f0f921\"]]}],\"heatmapgl\":[{\"type\":\"heatmapgl\",\"colorbar\":{\"outlinewidth\":0,\"ticks\":\"\"},\"colorscale\":[[0.0,\"#0d0887\"],[0.1111111111111111,\"#46039f\"],[0.2222222222222222,\"#7201a8\"],[0.3333333333333333,\"#9c179e\"],[0.4444444444444444,\"#bd3786\"],[0.5555555555555556,\"#d8576b\"],[0.6666666666666666,\"#ed7953\"],[0.7777777777777778,\"#fb9f3a\"],[0.8888888888888888,\"#fdca26\"],[1.0,\"#f0f921\"]]}],\"contourcarpet\":[{\"type\":\"contourcarpet\",\"colorbar\":{\"outlinewidth\":0,\"ticks\":\"\"}}],\"contour\":[{\"type\":\"contour\",\"colorbar\":{\"outlinewidth\":0,\"ticks\":\"\"},\"colorscale\":[[0.0,\"#0d0887\"],[0.1111111111111111,\"#46039f\"],[0.2222222222222222,\"#7201a8\"],[0.3333333333333333,\"#9c179e\"],[0.4444444444444444,\"#bd3786\"],[0.5555555555555556,\"#d8576b\"],[0.6666666666666666,\"#ed7953\"],[0.7777777777777778,\"#fb9f3a\"],[0.8888888888888888,\"#fdca26\"],[1.0,\"#f0f921\"]]}],\"surface\":[{\"type\":\"surface\",\"colorbar\":{\"outlinewidth\":0,\"ticks\":\"\"},\"colorscale\":[[0.0,\"#0d0887\"],[0.1111111111111111,\"#46039f\"],[0.2222222222222222,\"#7201a8\"],[0.3333333333333333,\"#9c179e\"],[0.4444444444444444,\"#bd3786\"],[0.5555555555555556,\"#d8576b\"],[0.6666666666666666,\"#ed7953\"],[0.7777777777777778,\"#fb9f3a\"],[0.8888888888888888,\"#fdca26\"],[1.0,\"#f0f921\"]]}],\"mesh3d\":[{\"type\":\"mesh3d\",\"colorbar\":{\"outlinewidth\":0,\"ticks\":\"\"}}],\"scatter\":[{\"fillpattern\":{\"fillmode\":\"overlay\",\"size\":10,\"solidity\":0.2},\"type\":\"scatter\"}],\"parcoords\":[{\"type\":\"parcoords\",\"line\":{\"colorbar\":{\"outlinewidth\":0,\"ticks\":\"\"}}}],\"scatterpolargl\":[{\"type\":\"scatterpolargl\",\"marker\":{\"colorbar\":{\"outlinewidth\":0,\"ticks\":\"\"}}}],\"bar\":[{\"error_x\":{\"color\":\"#2a3f5f\"},\"error_y\":{\"color\":\"#2a3f5f\"},\"marker\":{\"line\":{\"color\":\"#E5ECF6\",\"width\":0.5},\"pattern\":{\"fillmode\":\"overlay\",\"size\":10,\"solidity\":0.2}},\"type\":\"bar\"}],\"scattergeo\":[{\"type\":\"scattergeo\",\"marker\":{\"colorbar\":{\"outlinewidth\":0,\"ticks\":\"\"}}}],\"scatterpolar\":[{\"type\":\"scatterpolar\",\"marker\":{\"colorbar\":{\"outlinewidth\":0,\"ticks\":\"\"}}}],\"histogram\":[{\"marker\":{\"pattern\":{\"fillmode\":\"overlay\",\"size\":10,\"solidity\":0.2}},\"type\":\"histogram\"}],\"scattergl\":[{\"type\":\"scattergl\",\"marker\":{\"colorbar\":{\"outlinewidth\":0,\"ticks\":\"\"}}}],\"scatter3d\":[{\"type\":\"scatter3d\",\"line\":{\"colorbar\":{\"outlinewidth\":0,\"ticks\":\"\"}},\"marker\":{\"colorbar\":{\"outlinewidth\":0,\"ticks\":\"\"}}}],\"scattermapbox\":[{\"type\":\"scattermapbox\",\"marker\":{\"colorbar\":{\"outlinewidth\":0,\"ticks\":\"\"}}}],\"scatterternary\":[{\"type\":\"scatterternary\",\"marker\":{\"colorbar\":{\"outlinewidth\":0,\"ticks\":\"\"}}}],\"scattercarpet\":[{\"type\":\"scattercarpet\",\"marker\":{\"colorbar\":{\"outlinewidth\":0,\"ticks\":\"\"}}}],\"carpet\":[{\"aaxis\":{\"endlinecolor\":\"#2a3f5f\",\"gridcolor\":\"white\",\"linecolor\":\"white\",\"minorgridcolor\":\"white\",\"startlinecolor\":\"#2a3f5f\"},\"baxis\":{\"endlinecolor\":\"#2a3f5f\",\"gridcolor\":\"white\",\"linecolor\":\"white\",\"minorgridcolor\":\"white\",\"startlinecolor\":\"#2a3f5f\"},\"type\":\"carpet\"}],\"table\":[{\"cells\":{\"fill\":{\"color\":\"#EBF0F8\"},\"line\":{\"color\":\"white\"}},\"header\":{\"fill\":{\"color\":\"#C8D4E3\"},\"line\":{\"color\":\"white\"}},\"type\":\"table\"}],\"barpolar\":[{\"marker\":{\"line\":{\"color\":\"#E5ECF6\",\"width\":0.5},\"pattern\":{\"fillmode\":\"overlay\",\"size\":10,\"solidity\":0.2}},\"type\":\"barpolar\"}],\"pie\":[{\"automargin\":true,\"type\":\"pie\"}]},\"layout\":{\"autotypenumbers\":\"strict\",\"colorway\":[\"#636efa\",\"#EF553B\",\"#00cc96\",\"#ab63fa\",\"#FFA15A\",\"#19d3f3\",\"#FF6692\",\"#B6E880\",\"#FF97FF\",\"#FECB52\"],\"font\":{\"color\":\"#2a3f5f\"},\"hovermode\":\"closest\",\"hoverlabel\":{\"align\":\"left\"},\"paper_bgcolor\":\"white\",\"plot_bgcolor\":\"#E5ECF6\",\"polar\":{\"bgcolor\":\"#E5ECF6\",\"angularaxis\":{\"gridcolor\":\"white\",\"linecolor\":\"white\",\"ticks\":\"\"},\"radialaxis\":{\"gridcolor\":\"white\",\"linecolor\":\"white\",\"ticks\":\"\"}},\"ternary\":{\"bgcolor\":\"#E5ECF6\",\"aaxis\":{\"gridcolor\":\"white\",\"linecolor\":\"white\",\"ticks\":\"\"},\"baxis\":{\"gridcolor\":\"white\",\"linecolor\":\"white\",\"ticks\":\"\"},\"caxis\":{\"gridcolor\":\"white\",\"linecolor\":\"white\",\"ticks\":\"\"}},\"coloraxis\":{\"colorbar\":{\"outlinewidth\":0,\"ticks\":\"\"}},\"colorscale\":{\"sequential\":[[0.0,\"#0d0887\"],[0.1111111111111111,\"#46039f\"],[0.2222222222222222,\"#7201a8\"],[0.3333333333333333,\"#9c179e\"],[0.4444444444444444,\"#bd3786\"],[0.5555555555555556,\"#d8576b\"],[0.6666666666666666,\"#ed7953\"],[0.7777777777777778,\"#fb9f3a\"],[0.8888888888888888,\"#fdca26\"],[1.0,\"#f0f921\"]],\"sequentialminus\":[[0.0,\"#0d0887\"],[0.1111111111111111,\"#46039f\"],[0.2222222222222222,\"#7201a8\"],[0.3333333333333333,\"#9c179e\"],[0.4444444444444444,\"#bd3786\"],[0.5555555555555556,\"#d8576b\"],[0.6666666666666666,\"#ed7953\"],[0.7777777777777778,\"#fb9f3a\"],[0.8888888888888888,\"#fdca26\"],[1.0,\"#f0f921\"]],\"diverging\":[[0,\"#8e0152\"],[0.1,\"#c51b7d\"],[0.2,\"#de77ae\"],[0.3,\"#f1b6da\"],[0.4,\"#fde0ef\"],[0.5,\"#f7f7f7\"],[0.6,\"#e6f5d0\"],[0.7,\"#b8e186\"],[0.8,\"#7fbc41\"],[0.9,\"#4d9221\"],[1,\"#276419\"]]},\"xaxis\":{\"gridcolor\":\"white\",\"linecolor\":\"white\",\"ticks\":\"\",\"title\":{\"standoff\":15},\"zerolinecolor\":\"white\",\"automargin\":true,\"zerolinewidth\":2},\"yaxis\":{\"gridcolor\":\"white\",\"linecolor\":\"white\",\"ticks\":\"\",\"title\":{\"standoff\":15},\"zerolinecolor\":\"white\",\"automargin\":true,\"zerolinewidth\":2},\"scene\":{\"xaxis\":{\"backgroundcolor\":\"#E5ECF6\",\"gridcolor\":\"white\",\"linecolor\":\"white\",\"showbackground\":true,\"ticks\":\"\",\"zerolinecolor\":\"white\",\"gridwidth\":2},\"yaxis\":{\"backgroundcolor\":\"#E5ECF6\",\"gridcolor\":\"white\",\"linecolor\":\"white\",\"showbackground\":true,\"ticks\":\"\",\"zerolinecolor\":\"white\",\"gridwidth\":2},\"zaxis\":{\"backgroundcolor\":\"#E5ECF6\",\"gridcolor\":\"white\",\"linecolor\":\"white\",\"showbackground\":true,\"ticks\":\"\",\"zerolinecolor\":\"white\",\"gridwidth\":2}},\"shapedefaults\":{\"line\":{\"color\":\"#2a3f5f\"}},\"annotationdefaults\":{\"arrowcolor\":\"#2a3f5f\",\"arrowhead\":0,\"arrowwidth\":1},\"geo\":{\"bgcolor\":\"white\",\"landcolor\":\"#E5ECF6\",\"subunitcolor\":\"white\",\"showland\":true,\"showlakes\":true,\"lakecolor\":\"white\"},\"title\":{\"x\":0.05},\"mapbox\":{\"style\":\"light\"}}},\"xaxis\":{\"anchor\":\"y\",\"domain\":[0.0,1.0],\"title\":{\"text\":\"worktype\"}},\"yaxis\":{\"anchor\":\"x\",\"domain\":[0.0,1.0],\"title\":{\"text\":\"count\"}},\"legend\":{\"tracegroupgap\":0},\"title\":{\"text\":\"The number of closed maintenance orders in each work type\"},\"barmode\":\"relative\"},                        {\"responsive\": true}                    ).then(function(){\n",
       "                            \n",
       "var gd = document.getElementById('24bde3d9-997f-4b07-a811-c15386cae09e');\n",
       "var x = new MutationObserver(function (mutations, observer) {{\n",
       "        var display = window.getComputedStyle(gd).display;\n",
       "        if (!display || display === 'none') {{\n",
       "            console.log([gd, 'removed!']);\n",
       "            Plotly.purge(gd);\n",
       "            observer.disconnect();\n",
       "        }}\n",
       "}});\n",
       "\n",
       "// Listen for the removal of the full notebook cells\n",
       "var notebookContainer = gd.closest('#notebook-container');\n",
       "if (notebookContainer) {{\n",
       "    x.observe(notebookContainer, {childList: true});\n",
       "}}\n",
       "\n",
       "// Listen for the clearing of the current output cell\n",
       "var outputEl = gd.closest('.output');\n",
       "if (outputEl) {{\n",
       "    x.observe(outputEl, {childList: true});\n",
       "}}\n",
       "\n",
       "                        })                };                });            </script>        </div>"
      ]
     },
     "metadata": {},
     "output_type": "display_data"
    }
   ],
   "source": [
    "#This cart shows the number of each work type (CM, PDI, EM, MOD)\n",
    "fig = px.histogram(df, x=\"worktype\", title='The number of closed maintenance orders in each work type', \n",
    "                   color_discrete_sequence=px.colors.sequential.RdBu)\n",
    "fig.show()\n",
    "\n"
   ]
  },
  {
   "cell_type": "code",
   "execution_count": null,
   "id": "79ea4dc6",
   "metadata": {},
   "outputs": [],
   "source": []
  },
  {
   "cell_type": "code",
   "execution_count": 102,
   "id": "06ed2ca1",
   "metadata": {
    "scrolled": true
   },
   "outputs": [
    {
     "data": {
      "text/plain": [
       "KSAUHS-1-Z04A    227\n",
       "KSAUHS-1-Z02A    133\n",
       "KSAUHS-3-Z002     80\n",
       "KSAUHS-3-Z001     73\n",
       "KSAUHS-2-Z01A     67\n",
       "KSAUHS-1-Z01A     39\n",
       "KSAUHS-2-Z02C     38\n",
       "KSAUHS-2-Z03A     36\n",
       "KSAUHS-2-Z03C     33\n",
       "KSAUHS-2-Z03B     30\n",
       "KSAUHS-1-Z01B     29\n",
       "KSAUHS-2-Z03D     28\n",
       "KSAUHS-2-Z03F     26\n",
       "KSAUHS-3-Z004     21\n",
       "KSAUHS-2-Z04A     20\n",
       "KSAUHS-1-Z03A     19\n",
       "KSAUHS-2-Z03E     19\n",
       "KSAUHS-1-Z02B     19\n",
       "KSAUHS-3-Z003     16\n",
       "KSAUHS-2-Z03H     16\n",
       "KSAUHS-2-Z02A     11\n",
       "KSAUHS-1-Z03B      8\n",
       "KSAUHS-3-Z005      6\n",
       "KSAUHS-1-Z02C      3\n",
       "KSAUHS-3           1\n",
       "KSAUHS-2-Z03G      1\n",
       "KSAUHS-2           1\n",
       "Name: location, dtype: int64"
      ]
     },
     "execution_count": 102,
     "metadata": {},
     "output_type": "execute_result"
    }
   ],
   "source": [
    "df['location'].value_counts()"
   ]
  },
  {
   "cell_type": "code",
   "execution_count": 107,
   "id": "48c461ff",
   "metadata": {
    "scrolled": false
   },
   "outputs": [
    {
     "data": {
      "application/vnd.plotly.v1+json": {
       "config": {
        "plotlyServerURL": "https://plot.ly"
       },
       "data": [
        {
         "alignmentgroup": "True",
         "hovertemplate": "location=%{x}<br>count=%{y}<extra></extra>",
         "legendgroup": "",
         "marker": {
          "color": "rgb(103,0,31)",
          "pattern": {
           "shape": ""
          }
         },
         "name": "",
         "offsetgroup": "",
         "orientation": "v",
         "showlegend": false,
         "textposition": "auto",
         "type": "bar",
         "x": [
          "KSAUHS-3-Z004",
          "KSAUHS-2-Z03A",
          "KSAUHS-1-Z04A",
          "KSAUHS-1-Z03B",
          "KSAUHS-1-Z04A",
          "KSAUHS-1-Z04A",
          "KSAUHS-2-Z03B",
          "KSAUHS-1-Z04A",
          "KSAUHS-2-Z03C",
          "KSAUHS-3-Z003",
          "KSAUHS-3-Z002",
          "KSAUHS-3-Z002",
          "KSAUHS-1-Z04A",
          "KSAUHS-3-Z001",
          "KSAUHS-3-Z002",
          "KSAUHS-1-Z04A",
          "KSAUHS-1-Z04A",
          "KSAUHS-3-Z002",
          "KSAUHS-1-Z04A",
          "KSAUHS-3-Z002",
          "KSAUHS-1-Z01B",
          "KSAUHS-1-Z01B",
          "KSAUHS-1-Z02A",
          "KSAUHS-2-Z03B",
          "KSAUHS-2-Z02C",
          "KSAUHS-1-Z04A",
          "KSAUHS-1-Z03A",
          "KSAUHS-2-Z01A",
          "KSAUHS-1-Z04A",
          "KSAUHS-2-Z03F",
          "KSAUHS-2-Z03C",
          "KSAUHS-3-Z001",
          "KSAUHS-2-Z04A",
          "KSAUHS-2-Z03E",
          "KSAUHS-3-Z002",
          "KSAUHS-3-Z001",
          "KSAUHS-2-Z01A",
          "KSAUHS-1-Z04A",
          "KSAUHS-1-Z02A",
          "KSAUHS-1-Z02A",
          "KSAUHS-1-Z02A",
          "KSAUHS-2-Z03E",
          "KSAUHS-1-Z04A",
          "KSAUHS-2-Z02C",
          "KSAUHS-1-Z04A",
          "KSAUHS-2-Z02C",
          "KSAUHS-3-Z001",
          "KSAUHS-1-Z04A",
          "KSAUHS-1-Z04A",
          "KSAUHS-1-Z01A",
          "KSAUHS-1-Z02A",
          "KSAUHS-1-Z04A",
          "KSAUHS-3-Z001",
          "KSAUHS-1-Z04A",
          "KSAUHS-2-Z03E",
          "KSAUHS-2-Z03B",
          "KSAUHS-2-Z03D",
          "KSAUHS-3-Z002",
          "KSAUHS-2-Z03F",
          "KSAUHS-2-Z03D",
          "KSAUHS-1-Z04A",
          "KSAUHS-3-Z002",
          "KSAUHS-1-Z01A",
          "KSAUHS-2-Z01A",
          "KSAUHS-1-Z04A",
          "KSAUHS-2-Z01A",
          "KSAUHS-2-Z02A",
          "KSAUHS-1-Z04A",
          "KSAUHS-2-Z01A",
          "KSAUHS-2-Z03C",
          "KSAUHS-3-Z002",
          "KSAUHS-1-Z02A",
          "KSAUHS-2-Z01A",
          "KSAUHS-1-Z02A",
          "KSAUHS-2-Z03E",
          "KSAUHS-1-Z02A",
          "KSAUHS-1-Z04A",
          "KSAUHS-2-Z01A",
          "KSAUHS-1-Z02A",
          "KSAUHS-2-Z03D",
          "KSAUHS-3-Z002",
          "KSAUHS-2-Z03E",
          "KSAUHS-1-Z01A",
          "KSAUHS-2-Z03B",
          "KSAUHS-1-Z04A",
          "KSAUHS-1-Z04A",
          "KSAUHS-2-Z04A",
          "KSAUHS-3-Z001",
          "KSAUHS-1-Z02A",
          "KSAUHS-3-Z003",
          "KSAUHS-2-Z02C",
          "KSAUHS-1-Z02A",
          "KSAUHS-2-Z02C",
          "KSAUHS-1-Z02A",
          "KSAUHS-1-Z04A",
          "KSAUHS-2-Z03H",
          "KSAUHS-3-Z002",
          "KSAUHS-1-Z01B",
          "KSAUHS-3-Z003",
          "KSAUHS-1-Z02A",
          "KSAUHS-2-Z03E",
          "KSAUHS-1-Z04A",
          "KSAUHS-1-Z04A",
          "KSAUHS-1-Z04A",
          "KSAUHS-2-Z03B",
          "KSAUHS-3-Z004",
          "KSAUHS-3-Z003",
          "KSAUHS-2-Z02C",
          "KSAUHS-2-Z03D",
          "KSAUHS-1-Z02A",
          "KSAUHS-3-Z001",
          "KSAUHS-1-Z02B",
          "KSAUHS-1-Z01B",
          "KSAUHS-3-Z001",
          "KSAUHS-3-Z001",
          "KSAUHS-2-Z01A",
          "KSAUHS-1-Z04A",
          "KSAUHS-1-Z02A",
          "KSAUHS-2-Z01A",
          "KSAUHS-1-Z02B",
          "KSAUHS-1-Z04A",
          "KSAUHS-2-Z01A",
          "KSAUHS-1-Z04A",
          "KSAUHS-3-Z001",
          "KSAUHS-1-Z01B",
          "KSAUHS-1-Z04A",
          "KSAUHS-3-Z002",
          "KSAUHS-2-Z03A",
          "KSAUHS-3-Z003",
          "KSAUHS-3-Z004",
          "KSAUHS-2-Z03E",
          "KSAUHS-3-Z005",
          "KSAUHS-3-Z002",
          "KSAUHS-2-Z03F",
          "KSAUHS-1-Z03A",
          "KSAUHS-2-Z03C",
          "KSAUHS-1-Z01A",
          "KSAUHS-2-Z03F",
          "KSAUHS-1-Z04A",
          "KSAUHS-3-Z001",
          "KSAUHS-1-Z02A",
          "KSAUHS-2-Z01A",
          "KSAUHS-2-Z01A",
          "KSAUHS-1-Z02A",
          "KSAUHS-1-Z02A",
          "KSAUHS-2-Z03A",
          "KSAUHS-3-Z002",
          "KSAUHS-2-Z01A",
          "KSAUHS-2-Z03H",
          "KSAUHS-3-Z002",
          "KSAUHS-2-Z03B",
          "KSAUHS-2-Z01A",
          "KSAUHS-1-Z04A",
          "KSAUHS-2-Z03C",
          "KSAUHS-3-Z001",
          "KSAUHS-3-Z004",
          "KSAUHS-2-Z03H",
          "KSAUHS-3-Z001",
          "KSAUHS-1-Z02B",
          "KSAUHS-1-Z03B",
          "KSAUHS-2-Z01A",
          "KSAUHS-1-Z02A",
          "KSAUHS-2-Z01A",
          "KSAUHS-1-Z04A",
          "KSAUHS-1-Z01A",
          "KSAUHS-2-Z03F",
          "KSAUHS-2-Z03F",
          "KSAUHS-1-Z04A",
          "KSAUHS-1-Z02A",
          "KSAUHS-2-Z03D",
          "KSAUHS-3-Z003",
          "KSAUHS-1-Z04A",
          "KSAUHS-2-Z01A",
          "KSAUHS-1-Z03A",
          "KSAUHS-2-Z02C",
          "KSAUHS-1-Z04A",
          "KSAUHS-2-Z03D",
          "KSAUHS-1-Z02A",
          "KSAUHS-1-Z04A",
          "KSAUHS-2-Z02C",
          "KSAUHS-1-Z01A",
          "KSAUHS-3-Z002",
          "KSAUHS-1-Z04A",
          "KSAUHS-3-Z001",
          "KSAUHS-1-Z04A",
          "KSAUHS-3-Z004",
          "KSAUHS-1-Z02B",
          "KSAUHS-2-Z03B",
          "KSAUHS-1-Z04A",
          "KSAUHS-1-Z04A",
          "KSAUHS-1-Z02A",
          "KSAUHS-3-Z001",
          "KSAUHS-1-Z04A",
          "KSAUHS-1-Z02A",
          "KSAUHS-2-Z02C",
          "KSAUHS-2-Z03A",
          "KSAUHS-3-Z002",
          "KSAUHS-2-Z03A",
          "KSAUHS-3-Z004",
          "KSAUHS-2-Z03B",
          "KSAUHS-1-Z04A",
          "KSAUHS-2-Z02A",
          "KSAUHS-2-Z01A",
          "KSAUHS-2-Z02C",
          "KSAUHS-2-Z01A",
          "KSAUHS-2-Z03D",
          "KSAUHS-2-Z03C",
          "KSAUHS-2-Z01A",
          "KSAUHS-1-Z02A",
          "KSAUHS-1-Z04A",
          "KSAUHS-2-Z03A",
          "KSAUHS-2-Z02A",
          "KSAUHS-3-Z001",
          "KSAUHS-2-Z04A",
          "KSAUHS-1-Z04A",
          "KSAUHS-2-Z03F",
          "KSAUHS-1-Z04A",
          "KSAUHS-1-Z02A",
          "KSAUHS-1-Z04A",
          "KSAUHS-3-Z002",
          "KSAUHS-2-Z03C",
          "KSAUHS-2-Z03C",
          "KSAUHS-2-Z03D",
          "KSAUHS-1-Z04A",
          "KSAUHS-1-Z01B",
          "KSAUHS-3-Z003",
          "KSAUHS-1-Z02A",
          "KSAUHS-2-Z04A",
          "KSAUHS-3-Z001",
          "KSAUHS-2-Z03E",
          "KSAUHS-2-Z03A",
          "KSAUHS-1-Z01A",
          "KSAUHS-1-Z04A",
          "KSAUHS-2-Z03D",
          "KSAUHS-3-Z001",
          "KSAUHS-2-Z03H",
          "KSAUHS-3-Z002",
          "KSAUHS-2-Z01A",
          "KSAUHS-1-Z04A",
          "KSAUHS-1-Z04A",
          "KSAUHS-1-Z02A",
          "KSAUHS-1-Z02A",
          "KSAUHS-3-Z001",
          "KSAUHS-2-Z03D",
          "KSAUHS-2-Z03A",
          "KSAUHS-2-Z03H",
          "KSAUHS-3-Z001",
          "KSAUHS-2-Z02A",
          "KSAUHS-1-Z04A",
          "KSAUHS-1-Z04A",
          "KSAUHS-1-Z02A",
          "KSAUHS-1-Z02A",
          "KSAUHS-1-Z03B",
          "KSAUHS-2-Z04A",
          "KSAUHS-1-Z04A",
          "KSAUHS-3-Z001",
          "KSAUHS-2-Z03C",
          "KSAUHS-1-Z04A",
          "KSAUHS-1-Z04A",
          "KSAUHS-1-Z03A",
          "KSAUHS-1-Z01A",
          "KSAUHS-1-Z02A",
          "KSAUHS-1-Z04A",
          "KSAUHS-3-Z002",
          "KSAUHS-2-Z01A",
          "KSAUHS-2-Z02C",
          "KSAUHS-2-Z03F",
          "KSAUHS-2-Z01A",
          "KSAUHS-1-Z02A",
          "KSAUHS-3-Z001",
          "KSAUHS-2-Z03B",
          "KSAUHS-1-Z01B",
          "KSAUHS-3-Z002",
          "KSAUHS-1-Z02A",
          "KSAUHS-1-Z04A",
          "KSAUHS-1-Z04A",
          "KSAUHS-1-Z02A",
          "KSAUHS-3-Z002",
          "KSAUHS-1-Z04A",
          "KSAUHS-3-Z002",
          "KSAUHS-3-Z003",
          "KSAUHS-3-Z002",
          "KSAUHS-2-Z01A",
          "KSAUHS-3-Z002",
          "KSAUHS-2-Z03A",
          "KSAUHS-1-Z02A",
          "KSAUHS-1-Z01A",
          "KSAUHS-1-Z04A",
          "KSAUHS-1-Z02A",
          "KSAUHS-1-Z02A",
          "KSAUHS-2-Z03C",
          "KSAUHS-2-Z01A",
          "KSAUHS-2-Z03E",
          "KSAUHS-1-Z02A",
          "KSAUHS-1-Z02A",
          "KSAUHS-3-Z002",
          "KSAUHS-3-Z005",
          "KSAUHS-1-Z02A",
          "KSAUHS-1-Z02A",
          "KSAUHS-3-Z002",
          "KSAUHS-1-Z02B",
          "KSAUHS-1-Z02A",
          "KSAUHS-3-Z001",
          "KSAUHS-2-Z03B",
          "KSAUHS-3-Z002",
          "KSAUHS-1-Z01A",
          "KSAUHS-2-Z04A",
          "KSAUHS-2-Z03C",
          "KSAUHS-2-Z03D",
          "KSAUHS-3-Z002",
          "KSAUHS-1-Z01B",
          "KSAUHS-2-Z01A",
          "KSAUHS-3-Z002",
          "KSAUHS-2-Z03C",
          "KSAUHS-1-Z02A",
          "KSAUHS-1-Z04A",
          "KSAUHS-1-Z04A",
          "KSAUHS-1-Z04A",
          "KSAUHS-2-Z03B",
          "KSAUHS-1-Z02A",
          "KSAUHS-2-Z03F",
          "KSAUHS-2-Z02C",
          "KSAUHS-2-Z03F",
          "KSAUHS-1-Z04A",
          "KSAUHS-1-Z04A",
          "KSAUHS-2-Z03A",
          "KSAUHS-1-Z02B",
          "KSAUHS-3-Z001",
          "KSAUHS-1-Z04A",
          "KSAUHS-2-Z03A",
          "KSAUHS-3-Z002",
          "KSAUHS-3-Z001",
          "KSAUHS-1-Z01A",
          "KSAUHS-2-Z03B",
          "KSAUHS-3-Z002",
          "KSAUHS-1-Z01A",
          "KSAUHS-1-Z04A",
          "KSAUHS-2-Z03A",
          "KSAUHS-1-Z01A",
          "KSAUHS-1-Z01B",
          "KSAUHS-2-Z03E",
          "KSAUHS-1-Z04A",
          "KSAUHS-2-Z03E",
          "KSAUHS-3",
          "KSAUHS-3-Z002",
          "KSAUHS-2-Z04A",
          "KSAUHS-1-Z02A",
          "KSAUHS-2-Z02A",
          "KSAUHS-1-Z01A",
          "KSAUHS-1-Z02B",
          "KSAUHS-1-Z02C",
          "KSAUHS-2-Z01A",
          "KSAUHS-3-Z004",
          "KSAUHS-3-Z004",
          "KSAUHS-3-Z001",
          "KSAUHS-1-Z04A",
          "KSAUHS-1-Z02A",
          "KSAUHS-3-Z001",
          "KSAUHS-1-Z04A",
          "KSAUHS-2-Z02C",
          "KSAUHS-1-Z01A",
          "KSAUHS-3-Z002",
          "KSAUHS-3-Z001",
          "KSAUHS-2-Z03F",
          "KSAUHS-2-Z01A",
          "KSAUHS-1-Z02A",
          "KSAUHS-1-Z04A",
          "KSAUHS-1-Z04A",
          "KSAUHS-1-Z04A",
          "KSAUHS-2-Z02C",
          "KSAUHS-2-Z02C",
          "KSAUHS-1-Z04A",
          "KSAUHS-3-Z002",
          "KSAUHS-2-Z02C",
          "KSAUHS-1-Z04A",
          "KSAUHS-1-Z04A",
          "KSAUHS-3-Z002",
          "KSAUHS-1-Z02A",
          "KSAUHS-3-Z003",
          "KSAUHS-2-Z03A",
          "KSAUHS-1-Z04A",
          "KSAUHS-2-Z03B",
          "KSAUHS-1-Z02A",
          "KSAUHS-3-Z004",
          "KSAUHS-2-Z03A",
          "KSAUHS-2-Z03F",
          "KSAUHS-2-Z03B",
          "KSAUHS-1-Z04A",
          "KSAUHS-2-Z04A",
          "KSAUHS-2-Z01A",
          "KSAUHS-2-Z02C",
          "KSAUHS-1-Z02A",
          "KSAUHS-2-Z03F",
          "KSAUHS-3-Z001",
          "KSAUHS-1-Z02A",
          "KSAUHS-1-Z01B",
          "KSAUHS-1-Z04A",
          "KSAUHS-1-Z02B",
          "KSAUHS-2-Z03E",
          "KSAUHS-1-Z01B",
          "KSAUHS-3-Z001",
          "KSAUHS-1-Z01B",
          "KSAUHS-1-Z01A",
          "KSAUHS-2-Z03B",
          "KSAUHS-2-Z03A",
          "KSAUHS-3-Z001",
          "KSAUHS-1-Z04A",
          "KSAUHS-1-Z02B",
          "KSAUHS-2-Z03F",
          "KSAUHS-3-Z002",
          "KSAUHS-1-Z02A",
          "KSAUHS-1-Z02B",
          "KSAUHS-1-Z04A",
          "KSAUHS-1-Z02A",
          "KSAUHS-3-Z004",
          "KSAUHS-1-Z03B",
          "KSAUHS-1-Z04A",
          "KSAUHS-1-Z01B",
          "KSAUHS-2-Z03A",
          "KSAUHS-2-Z01A",
          "KSAUHS-1-Z02A",
          "KSAUHS-3-Z001",
          "KSAUHS-1-Z04A",
          "KSAUHS-1-Z04A",
          "KSAUHS-2-Z03C",
          "KSAUHS-3-Z004",
          "KSAUHS-3-Z001",
          "KSAUHS-1-Z04A",
          "KSAUHS-1-Z04A",
          "KSAUHS-1-Z02B",
          "KSAUHS-2-Z02C",
          "KSAUHS-3-Z002",
          "KSAUHS-2-Z01A",
          "KSAUHS-2-Z02C",
          "KSAUHS-1-Z02A",
          "KSAUHS-1-Z02A",
          "KSAUHS-1-Z04A",
          "KSAUHS-3-Z001",
          "KSAUHS-2-Z02C",
          "KSAUHS-2-Z01A",
          "KSAUHS-2-Z04A",
          "KSAUHS-1-Z03A",
          "KSAUHS-1-Z04A",
          "KSAUHS-1-Z04A",
          "KSAUHS-2-Z03C",
          "KSAUHS-2-Z03D",
          "KSAUHS-1-Z04A",
          "KSAUHS-2-Z03E",
          "KSAUHS-2-Z01A",
          "KSAUHS-2-Z03F",
          "KSAUHS-2-Z03B",
          "KSAUHS-1-Z01A",
          "KSAUHS-1-Z02A",
          "KSAUHS-3-Z001",
          "KSAUHS-2-Z03F",
          "KSAUHS-1-Z04A",
          "KSAUHS-1-Z04A",
          "KSAUHS-2-Z03A",
          "KSAUHS-2-Z03B",
          "KSAUHS-1-Z04A",
          "KSAUHS-1-Z04A",
          "KSAUHS-2-Z03C",
          "KSAUHS-1-Z01A",
          "KSAUHS-2-Z03F",
          "KSAUHS-2-Z03D",
          "KSAUHS-1-Z02A",
          "KSAUHS-3-Z002",
          "KSAUHS-2-Z04A",
          "KSAUHS-1-Z04A",
          "KSAUHS-1-Z02A",
          "KSAUHS-1-Z04A",
          "KSAUHS-3-Z001",
          "KSAUHS-2-Z02C",
          "KSAUHS-1-Z02A",
          "KSAUHS-1-Z04A",
          "KSAUHS-1-Z03A",
          "KSAUHS-1-Z01A",
          "KSAUHS-1-Z04A",
          "KSAUHS-1-Z04A",
          "KSAUHS-2-Z03B",
          "KSAUHS-1-Z02A",
          "KSAUHS-1-Z02A",
          "KSAUHS-2-Z01A",
          "KSAUHS-1-Z04A",
          "KSAUHS-1-Z01A",
          "KSAUHS-1-Z02A",
          "KSAUHS-1-Z02A",
          "KSAUHS-1-Z02A",
          "KSAUHS-2-Z01A",
          "KSAUHS-1-Z04A",
          "KSAUHS-2-Z01A",
          "KSAUHS-1-Z04A",
          "KSAUHS-2-Z03D",
          "KSAUHS-3-Z002",
          "KSAUHS-1-Z01B",
          "KSAUHS-2-Z03C",
          "KSAUHS-2-Z02C",
          "KSAUHS-1-Z01B",
          "KSAUHS-1-Z02A",
          "KSAUHS-2-Z02C",
          "KSAUHS-1-Z04A",
          "KSAUHS-2-Z03D",
          "KSAUHS-3-Z002",
          "KSAUHS-1-Z04A",
          "KSAUHS-1-Z02A",
          "KSAUHS-1-Z04A",
          "KSAUHS-3-Z002",
          "KSAUHS-3-Z001",
          "KSAUHS-2-Z03C",
          "KSAUHS-2-Z03F",
          "KSAUHS-2-Z03C",
          "KSAUHS-1-Z02A",
          "KSAUHS-2-Z01A",
          "KSAUHS-2-Z01A",
          "KSAUHS-1-Z02A",
          "KSAUHS-3-Z002",
          "KSAUHS-2-Z01A",
          "KSAUHS-1-Z04A",
          "KSAUHS-1-Z02A",
          "KSAUHS-1-Z04A",
          "KSAUHS-2-Z03C",
          "KSAUHS-1-Z03B",
          "KSAUHS-2-Z01A",
          "KSAUHS-2-Z03A",
          "KSAUHS-2-Z03H",
          "KSAUHS-1-Z01A",
          "KSAUHS-2-Z02A",
          "KSAUHS-1-Z02A",
          "KSAUHS-1-Z03A",
          "KSAUHS-2-Z01A",
          "KSAUHS-2-Z03A",
          "KSAUHS-1-Z04A",
          "KSAUHS-1-Z04A",
          "KSAUHS-1-Z04A",
          "KSAUHS-1-Z02A",
          "KSAUHS-1-Z02A",
          "KSAUHS-1-Z04A",
          "KSAUHS-1-Z01B",
          "KSAUHS-1-Z04A",
          "KSAUHS-3-Z004",
          "KSAUHS-1-Z04A",
          "KSAUHS-2-Z03H",
          "KSAUHS-2-Z03F",
          "KSAUHS-2-Z03H",
          "KSAUHS-3-Z002",
          "KSAUHS-1-Z04A",
          "KSAUHS-1-Z01B",
          "KSAUHS-1-Z01B",
          "KSAUHS-1-Z02B",
          "KSAUHS-3-Z005",
          "KSAUHS-3-Z005",
          "KSAUHS-3-Z001",
          "KSAUHS-1-Z04A",
          "KSAUHS-3-Z002",
          "KSAUHS-1-Z02A",
          "KSAUHS-1-Z02A",
          "KSAUHS-1-Z04A",
          "KSAUHS-2-Z03H",
          "KSAUHS-1-Z04A",
          "KSAUHS-1-Z04A",
          "KSAUHS-2-Z03A",
          "KSAUHS-3-Z001",
          "KSAUHS-1-Z04A",
          "KSAUHS-3-Z004",
          "KSAUHS-2-Z03B",
          "KSAUHS-2-Z03C",
          "KSAUHS-1-Z04A",
          "KSAUHS-3-Z001",
          "KSAUHS-2-Z01A",
          "KSAUHS-3-Z001",
          "KSAUHS-1-Z02A",
          "KSAUHS-2-Z04A",
          "KSAUHS-1-Z03A",
          "KSAUHS-1-Z04A",
          "KSAUHS-1-Z01B",
          "KSAUHS-2-Z01A",
          "KSAUHS-2-Z03F",
          "KSAUHS-2-Z04A",
          "KSAUHS-1-Z04A",
          "KSAUHS-1-Z04A",
          "KSAUHS-1-Z02A",
          "KSAUHS-3-Z002",
          "KSAUHS-1-Z02A",
          "KSAUHS-2-Z03G",
          "KSAUHS-1-Z01A",
          "KSAUHS-1-Z03B",
          "KSAUHS-1-Z02A",
          "KSAUHS-1-Z04A",
          "KSAUHS-1-Z02A",
          "KSAUHS-2-Z02C",
          "KSAUHS-1-Z04A",
          "KSAUHS-2-Z03C",
          "KSAUHS-3-Z003",
          "KSAUHS-2-Z03H",
          "KSAUHS-2-Z03H",
          "KSAUHS-1-Z01A",
          "KSAUHS-1-Z04A",
          "KSAUHS-1-Z04A",
          "KSAUHS-2-Z03D",
          "KSAUHS-3-Z002",
          "KSAUHS-2-Z03D",
          "KSAUHS-1-Z01A",
          "KSAUHS-1-Z04A",
          "KSAUHS-3-Z002",
          "KSAUHS-2-Z03A",
          "KSAUHS-2-Z03A",
          "KSAUHS-1-Z04A",
          "KSAUHS-1-Z04A",
          "KSAUHS-1-Z04A",
          "KSAUHS-2-Z03D",
          "KSAUHS-1-Z04A",
          "KSAUHS-1-Z04A",
          "KSAUHS-3-Z001",
          "KSAUHS-1-Z04A",
          "KSAUHS-2-Z03F",
          "KSAUHS-2-Z01A",
          "KSAUHS-2-Z03B",
          "KSAUHS-2-Z03C",
          "KSAUHS-1-Z04A",
          "KSAUHS-1-Z02A",
          "KSAUHS-1-Z02A",
          "KSAUHS-1-Z02A",
          "KSAUHS-1-Z02A",
          "KSAUHS-3-Z001",
          "KSAUHS-3-Z002",
          "KSAUHS-2-Z03A",
          "KSAUHS-1-Z04A",
          "KSAUHS-3-Z001",
          "KSAUHS-2-Z02C",
          "KSAUHS-3-Z002",
          "KSAUHS-3-Z002",
          "KSAUHS-1-Z02A",
          "KSAUHS-1-Z02A",
          "KSAUHS-3-Z004",
          "KSAUHS-1-Z03B",
          "KSAUHS-1-Z04A",
          "KSAUHS-1-Z02A",
          "KSAUHS-1-Z03A",
          "KSAUHS-1-Z04A",
          "KSAUHS-2-Z02C",
          "KSAUHS-1-Z04A",
          "KSAUHS-3-Z001",
          "KSAUHS-2-Z02A",
          "KSAUHS-1-Z03A",
          "KSAUHS-1-Z03A",
          "KSAUHS-2-Z04A",
          "KSAUHS-1-Z04A",
          "KSAUHS-1-Z04A",
          "KSAUHS-1-Z02B",
          "KSAUHS-2-Z01A",
          "KSAUHS-2-Z03F",
          "KSAUHS-1-Z04A",
          "KSAUHS-1-Z04A",
          "KSAUHS-1-Z02A",
          "KSAUHS-1-Z02A",
          "KSAUHS-3-Z001",
          "KSAUHS-2-Z03D",
          "KSAUHS-1-Z04A",
          "KSAUHS-1-Z04A",
          "KSAUHS-3-Z002",
          "KSAUHS-3-Z001",
          "KSAUHS-1-Z02A",
          "KSAUHS-2-Z04A",
          "KSAUHS-1-Z01B",
          "KSAUHS-3-Z001",
          "KSAUHS-2-Z03B",
          "KSAUHS-1-Z02A",
          "KSAUHS-1-Z02A",
          "KSAUHS-2-Z04A",
          "KSAUHS-3-Z001",
          "KSAUHS-3-Z001",
          "KSAUHS-2-Z03B",
          "KSAUHS-1-Z04A",
          "KSAUHS-3-Z002",
          "KSAUHS-1-Z04A",
          "KSAUHS-1-Z04A",
          "KSAUHS-1-Z01A",
          "KSAUHS-2-Z03E",
          "KSAUHS-3-Z002",
          "KSAUHS-1-Z02A",
          "KSAUHS-2-Z02A",
          "KSAUHS-1-Z01A",
          "KSAUHS-1-Z02B",
          "KSAUHS-2-Z03A",
          "KSAUHS-3-Z002",
          "KSAUHS-3-Z002",
          "KSAUHS-1-Z04A",
          "KSAUHS-1-Z04A",
          "KSAUHS-2-Z02C",
          "KSAUHS-2-Z03D",
          "KSAUHS-1-Z02A",
          "KSAUHS-2-Z02C",
          "KSAUHS-1-Z04A",
          "KSAUHS-1-Z04A",
          "KSAUHS-1-Z01A",
          "KSAUHS-2-Z02C",
          "KSAUHS-2-Z01A",
          "KSAUHS-1-Z04A",
          "KSAUHS-1-Z02A",
          "KSAUHS-2-Z03B",
          "KSAUHS-2-Z01A",
          "KSAUHS-1-Z04A",
          "KSAUHS-1-Z03A",
          "KSAUHS-2-Z03A",
          "KSAUHS-3-Z002",
          "KSAUHS-2-Z03A",
          "KSAUHS-1-Z04A",
          "KSAUHS-1-Z04A",
          "KSAUHS-1-Z04A",
          "KSAUHS-1-Z04A",
          "KSAUHS-1-Z02A",
          "KSAUHS-3-Z002",
          "KSAUHS-1-Z02C",
          "KSAUHS-1-Z04A",
          "KSAUHS-1-Z04A",
          "KSAUHS-1-Z01B",
          "KSAUHS-1-Z02C",
          "KSAUHS-1-Z01A",
          "KSAUHS-1-Z04A",
          "KSAUHS-1-Z02A",
          "KSAUHS-1-Z04A",
          "KSAUHS-1-Z04A",
          "KSAUHS-1-Z04A",
          "KSAUHS-3-Z002",
          "KSAUHS-1-Z03B",
          "KSAUHS-1-Z02A",
          "KSAUHS-2-Z03A",
          "KSAUHS-1-Z04A",
          "KSAUHS-2-Z01A",
          "KSAUHS-2-Z03H",
          "KSAUHS-2-Z01A",
          "KSAUHS-1-Z04A",
          "KSAUHS-2-Z01A",
          "KSAUHS-2-Z01A",
          "KSAUHS-2-Z03C",
          "KSAUHS-1-Z04A",
          "KSAUHS-1-Z04A",
          "KSAUHS-3-Z001",
          "KSAUHS-3-Z004",
          "KSAUHS-1-Z04A",
          "KSAUHS-2-Z02C",
          "KSAUHS-2-Z01A",
          "KSAUHS-1-Z02A",
          "KSAUHS-1-Z01A",
          "KSAUHS-1-Z02A",
          "KSAUHS-2-Z01A",
          "KSAUHS-1-Z02A",
          "KSAUHS-1-Z02A",
          "KSAUHS-1-Z02A",
          "KSAUHS-1-Z04A",
          "KSAUHS-2-Z03A",
          "KSAUHS-1-Z04A",
          "KSAUHS-1-Z02A",
          "KSAUHS-3-Z001",
          "KSAUHS-2-Z01A",
          "KSAUHS-1-Z01B",
          "KSAUHS-1-Z01B",
          "KSAUHS-1-Z04A",
          "KSAUHS-1-Z04A",
          "KSAUHS-3-Z002",
          "KSAUHS-2-Z03F",
          "KSAUHS-1-Z03A",
          "KSAUHS-1-Z02A",
          "KSAUHS-1-Z02A",
          "KSAUHS-3-Z002",
          "KSAUHS-1-Z04A",
          "KSAUHS-2-Z02A",
          "KSAUHS-2-Z03A",
          "KSAUHS-3-Z002",
          "KSAUHS-3-Z002",
          "KSAUHS-1-Z03A",
          "KSAUHS-1-Z04A",
          "KSAUHS-1-Z02A",
          "KSAUHS-1-Z03A",
          "KSAUHS-2-Z03C",
          "KSAUHS-3-Z002",
          "KSAUHS-3-Z003",
          "KSAUHS-3-Z001",
          "KSAUHS-3-Z001",
          "KSAUHS-2-Z03D",
          "KSAUHS-1-Z01A",
          "KSAUHS-1-Z04A",
          "KSAUHS-1-Z01A",
          "KSAUHS-3-Z001",
          "KSAUHS-2-Z03B",
          "KSAUHS-2",
          "KSAUHS-3-Z005",
          "KSAUHS-1-Z04A",
          "KSAUHS-1-Z02A",
          "KSAUHS-1-Z04A",
          "KSAUHS-2-Z01A",
          "KSAUHS-2-Z03E",
          "KSAUHS-3-Z001",
          "KSAUHS-1-Z04A",
          "KSAUHS-1-Z04A",
          "KSAUHS-1-Z02A",
          "KSAUHS-2-Z03A",
          "KSAUHS-2-Z02C",
          "KSAUHS-1-Z01B",
          "KSAUHS-1-Z04A",
          "KSAUHS-1-Z02A",
          "KSAUHS-2-Z03A",
          "KSAUHS-2-Z03C",
          "KSAUHS-3-Z002",
          "KSAUHS-1-Z04A",
          "KSAUHS-1-Z04A",
          "KSAUHS-3-Z002",
          "KSAUHS-2-Z03C",
          "KSAUHS-3-Z001",
          "KSAUHS-3-Z001",
          "KSAUHS-2-Z03F",
          "KSAUHS-2-Z01A",
          "KSAUHS-1-Z04A",
          "KSAUHS-1-Z04A",
          "KSAUHS-2-Z03A",
          "KSAUHS-1-Z04A",
          "KSAUHS-2-Z02C",
          "KSAUHS-2-Z04A",
          "KSAUHS-1-Z02A",
          "KSAUHS-2-Z03C",
          "KSAUHS-1-Z02B",
          "KSAUHS-3-Z001",
          "KSAUHS-3-Z004",
          "KSAUHS-1-Z01A",
          "KSAUHS-2-Z03C",
          "KSAUHS-3-Z002",
          "KSAUHS-2-Z03C",
          "KSAUHS-1-Z02A",
          "KSAUHS-2-Z03A",
          "KSAUHS-2-Z03H",
          "KSAUHS-1-Z02A",
          "KSAUHS-1-Z01B",
          "KSAUHS-3-Z002",
          "KSAUHS-1-Z04A",
          "KSAUHS-3-Z002",
          "KSAUHS-1-Z01A",
          "KSAUHS-1-Z02A",
          "KSAUHS-2-Z03F",
          "KSAUHS-2-Z04A",
          "KSAUHS-1-Z02A",
          "KSAUHS-1-Z02A",
          "KSAUHS-1-Z04A",
          "KSAUHS-1-Z02B",
          "KSAUHS-1-Z02A",
          "KSAUHS-3-Z004",
          "KSAUHS-3-Z003",
          "KSAUHS-3-Z001",
          "KSAUHS-3-Z001",
          "KSAUHS-1-Z02A",
          "KSAUHS-2-Z04A",
          "KSAUHS-1-Z01B",
          "KSAUHS-2-Z02C",
          "KSAUHS-3-Z003",
          "KSAUHS-3-Z001",
          "KSAUHS-1-Z04A",
          "KSAUHS-1-Z02B",
          "KSAUHS-2-Z02C",
          "KSAUHS-1-Z02A",
          "KSAUHS-1-Z04A",
          "KSAUHS-2-Z04A",
          "KSAUHS-1-Z02A",
          "KSAUHS-1-Z01B",
          "KSAUHS-1-Z01A",
          "KSAUHS-1-Z01A",
          "KSAUHS-2-Z03A",
          "KSAUHS-3-Z002",
          "KSAUHS-3-Z004",
          "KSAUHS-2-Z03B",
          "KSAUHS-2-Z03C",
          "KSAUHS-1-Z04A",
          "KSAUHS-1-Z04A",
          "KSAUHS-3-Z004",
          "KSAUHS-1-Z01A",
          "KSAUHS-1-Z04A",
          "KSAUHS-1-Z02A",
          "KSAUHS-3-Z001",
          "KSAUHS-1-Z04A",
          "KSAUHS-2-Z03F",
          "KSAUHS-1-Z04A",
          "KSAUHS-3-Z001",
          "KSAUHS-1-Z04A",
          "KSAUHS-1-Z01B",
          "KSAUHS-1-Z04A",
          "KSAUHS-1-Z04A",
          "KSAUHS-1-Z04A",
          "KSAUHS-1-Z02A",
          "KSAUHS-3-Z002",
          "KSAUHS-2-Z02A",
          "KSAUHS-2-Z03D",
          "KSAUHS-1-Z04A",
          "KSAUHS-1-Z04A",
          "KSAUHS-2-Z03E",
          "KSAUHS-1-Z02A",
          "KSAUHS-1-Z04A",
          "KSAUHS-2-Z03D",
          "KSAUHS-2-Z04A",
          "KSAUHS-2-Z03D",
          "KSAUHS-3-Z002",
          "KSAUHS-1-Z02A",
          "KSAUHS-1-Z04A",
          "KSAUHS-2-Z01A",
          "KSAUHS-1-Z04A",
          "KSAUHS-3-Z001",
          "KSAUHS-1-Z02B",
          "KSAUHS-1-Z04A",
          "KSAUHS-3-Z001",
          "KSAUHS-2-Z03H",
          "KSAUHS-2-Z03E",
          "KSAUHS-2-Z02C",
          "KSAUHS-1-Z01B",
          "KSAUHS-2-Z03E",
          "KSAUHS-1-Z04A",
          "KSAUHS-1-Z01A",
          "KSAUHS-1-Z04A",
          "KSAUHS-1-Z02A",
          "KSAUHS-2-Z03C",
          "KSAUHS-3-Z002",
          "KSAUHS-3-Z001",
          "KSAUHS-1-Z02A",
          "KSAUHS-2-Z01A",
          "KSAUHS-2-Z03D",
          "KSAUHS-1-Z04A",
          "KSAUHS-2-Z03B",
          "KSAUHS-1-Z02A",
          "KSAUHS-3-Z002",
          "KSAUHS-2-Z01A",
          "KSAUHS-1-Z02A",
          "KSAUHS-1-Z01A",
          "KSAUHS-2-Z03A",
          "KSAUHS-2-Z03D",
          "KSAUHS-1-Z02A",
          "KSAUHS-2-Z03B",
          "KSAUHS-3-Z001",
          "KSAUHS-1-Z04A",
          "KSAUHS-1-Z02A",
          "KSAUHS-1-Z04A",
          "KSAUHS-3-Z005",
          "KSAUHS-1-Z03A",
          "KSAUHS-2-Z03D",
          "KSAUHS-3-Z003",
          "KSAUHS-1-Z04A",
          "KSAUHS-2-Z03H",
          "KSAUHS-2-Z02C",
          "KSAUHS-3-Z002",
          "KSAUHS-1-Z04A",
          "KSAUHS-3-Z002",
          "KSAUHS-2-Z03B",
          "KSAUHS-1-Z04A",
          "KSAUHS-3-Z002",
          "KSAUHS-1-Z01A",
          "KSAUHS-1-Z04A",
          "KSAUHS-1-Z02A",
          "KSAUHS-3-Z003",
          "KSAUHS-1-Z04A",
          "KSAUHS-2-Z01A",
          "KSAUHS-2-Z01A",
          "KSAUHS-1-Z02B",
          "KSAUHS-2-Z02C",
          "KSAUHS-2-Z01A",
          "KSAUHS-2-Z03A",
          "KSAUHS-2-Z01A",
          "KSAUHS-1-Z04A",
          "KSAUHS-2-Z03B",
          "KSAUHS-3-Z004",
          "KSAUHS-1-Z04A",
          "KSAUHS-1-Z04A",
          "KSAUHS-1-Z02A",
          "KSAUHS-2-Z03H",
          "KSAUHS-1-Z02A",
          "KSAUHS-2-Z03C",
          "KSAUHS-3-Z001",
          "KSAUHS-3-Z001",
          "KSAUHS-2-Z03C",
          "KSAUHS-2-Z02C",
          "KSAUHS-3-Z002",
          "KSAUHS-1-Z03A",
          "KSAUHS-1-Z04A",
          "KSAUHS-2-Z01A",
          "KSAUHS-2-Z03E",
          "KSAUHS-1-Z04A",
          "KSAUHS-2-Z01A",
          "KSAUHS-3-Z001",
          "KSAUHS-3-Z001",
          "KSAUHS-1-Z04A",
          "KSAUHS-1-Z03A",
          "KSAUHS-2-Z02A",
          "KSAUHS-2-Z03B",
          "KSAUHS-1-Z04A",
          "KSAUHS-3-Z002",
          "KSAUHS-2-Z03D",
          "KSAUHS-1-Z04A",
          "KSAUHS-3-Z003",
          "KSAUHS-1-Z04A",
          "KSAUHS-1-Z04A",
          "KSAUHS-3-Z001",
          "KSAUHS-2-Z01A",
          "KSAUHS-3-Z004",
          "KSAUHS-2-Z01A",
          "KSAUHS-3-Z002",
          "KSAUHS-1-Z03A"
         ],
         "xaxis": "x",
         "y": [
          1,
          1,
          1,
          1,
          1,
          1,
          1,
          1,
          1,
          1,
          1,
          1,
          1,
          1,
          1,
          1,
          1,
          1,
          1,
          1,
          1,
          1,
          1,
          1,
          1,
          1,
          1,
          1,
          1,
          1,
          1,
          1,
          1,
          1,
          1,
          1,
          1,
          1,
          1,
          1,
          1,
          1,
          1,
          1,
          1,
          1,
          1,
          1,
          1,
          1,
          1,
          1,
          1,
          1,
          1,
          1,
          1,
          1,
          1,
          1,
          1,
          1,
          1,
          1,
          1,
          1,
          1,
          1,
          1,
          1,
          1,
          1,
          1,
          1,
          1,
          1,
          1,
          1,
          1,
          1,
          1,
          1,
          1,
          1,
          1,
          1,
          1,
          1,
          1,
          1,
          1,
          1,
          1,
          1,
          1,
          1,
          1,
          1,
          1,
          1,
          1,
          1,
          1,
          1,
          1,
          1,
          1,
          1,
          1,
          1,
          1,
          1,
          1,
          1,
          1,
          1,
          1,
          1,
          1,
          1,
          1,
          1,
          1,
          1,
          1,
          1,
          1,
          1,
          1,
          1,
          1,
          1,
          1,
          1,
          1,
          1,
          1,
          1,
          1,
          1,
          1,
          1,
          1,
          1,
          1,
          1,
          1,
          1,
          1,
          1,
          1,
          1,
          1,
          1,
          1,
          1,
          1,
          1,
          1,
          1,
          1,
          1,
          1,
          1,
          1,
          1,
          1,
          1,
          1,
          1,
          1,
          1,
          1,
          1,
          1,
          1,
          1,
          1,
          1,
          1,
          1,
          1,
          1,
          1,
          1,
          1,
          1,
          1,
          1,
          1,
          1,
          1,
          1,
          1,
          1,
          1,
          1,
          1,
          1,
          1,
          1,
          1,
          1,
          1,
          1,
          1,
          1,
          1,
          1,
          1,
          1,
          1,
          1,
          1,
          1,
          1,
          1,
          1,
          1,
          1,
          1,
          1,
          1,
          1,
          1,
          1,
          1,
          1,
          1,
          1,
          1,
          1,
          1,
          1,
          1,
          1,
          1,
          1,
          1,
          1,
          1,
          1,
          1,
          1,
          1,
          1,
          1,
          1,
          1,
          1,
          1,
          1,
          1,
          1,
          1,
          1,
          1,
          1,
          1,
          1,
          1,
          1,
          1,
          1,
          1,
          1,
          1,
          1,
          1,
          1,
          1,
          1,
          1,
          1,
          1,
          1,
          1,
          1,
          1,
          1,
          1,
          1,
          1,
          1,
          1,
          1,
          1,
          1,
          1,
          1,
          1,
          1,
          1,
          1,
          1,
          1,
          1,
          1,
          1,
          1,
          1,
          1,
          1,
          1,
          1,
          1,
          1,
          1,
          1,
          1,
          1,
          1,
          1,
          1,
          1,
          1,
          1,
          1,
          1,
          1,
          1,
          1,
          1,
          1,
          1,
          1,
          1,
          1,
          1,
          1,
          1,
          1,
          1,
          1,
          1,
          1,
          1,
          1,
          1,
          1,
          1,
          1,
          1,
          1,
          1,
          1,
          1,
          1,
          1,
          1,
          1,
          1,
          1,
          1,
          1,
          1,
          1,
          1,
          1,
          1,
          1,
          1,
          1,
          1,
          1,
          1,
          1,
          1,
          1,
          1,
          1,
          1,
          1,
          1,
          1,
          1,
          1,
          1,
          1,
          1,
          1,
          1,
          1,
          1,
          1,
          1,
          1,
          1,
          1,
          1,
          1,
          1,
          1,
          1,
          1,
          1,
          1,
          1,
          1,
          1,
          1,
          1,
          1,
          1,
          1,
          1,
          1,
          1,
          1,
          1,
          1,
          1,
          1,
          1,
          1,
          1,
          1,
          1,
          1,
          1,
          1,
          1,
          1,
          1,
          1,
          1,
          1,
          1,
          1,
          1,
          1,
          1,
          1,
          1,
          1,
          1,
          1,
          1,
          1,
          1,
          1,
          1,
          1,
          1,
          1,
          1,
          1,
          1,
          1,
          1,
          1,
          1,
          1,
          1,
          1,
          1,
          1,
          1,
          1,
          1,
          1,
          1,
          1,
          1,
          1,
          1,
          1,
          1,
          1,
          1,
          1,
          1,
          1,
          1,
          1,
          1,
          1,
          1,
          1,
          1,
          1,
          1,
          1,
          1,
          1,
          1,
          1,
          1,
          1,
          1,
          1,
          1,
          1,
          1,
          1,
          1,
          1,
          1,
          1,
          1,
          1,
          1,
          1,
          1,
          1,
          1,
          1,
          1,
          1,
          1,
          1,
          1,
          1,
          1,
          1,
          1,
          1,
          1,
          1,
          1,
          1,
          1,
          1,
          1,
          1,
          1,
          1,
          1,
          1,
          1,
          1,
          1,
          1,
          1,
          1,
          1,
          1,
          1,
          1,
          1,
          1,
          1,
          1,
          1,
          1,
          1,
          1,
          1,
          1,
          1,
          1,
          1,
          1,
          1,
          1,
          1,
          1,
          1,
          1,
          1,
          1,
          1,
          1,
          1,
          1,
          1,
          1,
          1,
          1,
          1,
          1,
          1,
          1,
          1,
          1,
          1,
          1,
          1,
          1,
          1,
          1,
          1,
          1,
          1,
          1,
          1,
          1,
          1,
          1,
          1,
          1,
          1,
          1,
          1,
          1,
          1,
          1,
          1,
          1,
          1,
          1,
          1,
          1,
          1,
          1,
          1,
          1,
          1,
          1,
          1,
          1,
          1,
          1,
          1,
          1,
          1,
          1,
          1,
          1,
          1,
          1,
          1,
          1,
          1,
          1,
          1,
          1,
          1,
          1,
          1,
          1,
          1,
          1,
          1,
          1,
          1,
          1,
          1,
          1,
          1,
          1,
          1,
          1,
          1,
          1,
          1,
          1,
          1,
          1,
          1,
          1,
          1,
          1,
          1,
          1,
          1,
          1,
          1,
          1,
          1,
          1,
          1,
          1,
          1,
          1,
          1,
          1,
          1,
          1,
          1,
          1,
          1,
          1,
          1,
          1,
          1,
          1,
          1,
          1,
          1,
          1,
          1,
          1,
          1,
          1,
          1,
          1,
          1,
          1,
          1,
          1,
          1,
          1,
          1,
          1,
          1,
          1,
          1,
          1,
          1,
          1,
          1,
          1,
          1,
          1,
          1,
          1,
          1,
          1,
          1,
          1,
          1,
          1,
          1,
          1,
          1,
          1,
          1,
          1,
          1,
          1,
          1,
          1,
          1,
          1,
          1,
          1,
          1,
          1,
          1,
          1,
          1,
          1,
          1,
          1,
          1,
          1,
          1,
          1,
          1,
          1,
          1,
          1,
          1,
          1,
          1,
          1,
          1,
          1,
          1,
          1,
          1,
          1,
          1,
          1,
          1,
          1,
          1,
          1,
          1,
          1,
          1,
          1,
          1,
          1,
          1,
          1,
          1,
          1,
          1,
          1,
          1,
          1,
          1,
          1,
          1,
          1,
          1,
          1,
          1,
          1,
          1,
          1,
          1,
          1,
          1,
          1,
          1,
          1,
          1,
          1,
          1,
          1,
          1,
          1,
          1,
          1,
          1,
          1,
          1,
          1,
          1,
          1,
          1,
          1,
          1,
          1,
          1,
          1,
          1,
          1,
          1,
          1,
          1,
          1,
          1,
          1,
          1,
          1,
          1,
          1,
          1,
          1,
          1,
          1,
          1,
          1,
          1,
          1,
          1,
          1,
          1,
          1,
          1,
          1,
          1,
          1,
          1,
          1,
          1,
          1,
          1,
          1,
          1,
          1,
          1,
          1,
          1,
          1,
          1,
          1,
          1,
          1,
          1,
          1,
          1,
          1,
          1,
          1,
          1,
          1,
          1,
          1,
          1,
          1,
          1,
          1,
          1,
          1,
          1,
          1,
          1,
          1,
          1,
          1,
          1,
          1,
          1,
          1,
          1,
          1,
          1,
          1,
          1,
          1,
          1,
          1,
          1,
          1,
          1,
          1,
          1,
          1,
          1,
          1,
          1,
          1,
          1,
          1,
          1,
          1,
          1,
          1,
          1,
          1,
          1,
          1,
          1,
          1,
          1,
          1,
          1,
          1,
          1,
          1,
          1,
          1,
          1,
          1,
          1,
          1,
          1,
          1,
          1,
          1,
          1,
          1,
          1,
          1,
          1,
          1,
          1,
          1,
          1,
          1,
          1,
          1,
          1,
          1,
          1,
          1,
          1,
          1,
          1,
          1,
          1,
          1,
          1,
          1,
          1,
          1,
          1,
          1,
          1,
          1,
          1,
          1,
          1,
          1,
          1,
          1,
          1,
          1,
          1,
          1,
          1,
          1,
          1,
          1,
          1,
          1,
          1,
          1,
          1,
          1,
          1,
          1,
          1,
          1,
          1,
          1,
          1,
          1,
          1,
          1,
          1,
          1,
          1,
          1,
          1,
          1,
          1,
          1,
          1,
          1,
          1,
          1,
          1,
          1,
          1
         ],
         "yaxis": "y"
        }
       ],
       "layout": {
        "barmode": "relative",
        "legend": {
         "tracegroupgap": 0
        },
        "template": {
         "data": {
          "bar": [
           {
            "error_x": {
             "color": "#2a3f5f"
            },
            "error_y": {
             "color": "#2a3f5f"
            },
            "marker": {
             "line": {
              "color": "#E5ECF6",
              "width": 0.5
             },
             "pattern": {
              "fillmode": "overlay",
              "size": 10,
              "solidity": 0.2
             }
            },
            "type": "bar"
           }
          ],
          "barpolar": [
           {
            "marker": {
             "line": {
              "color": "#E5ECF6",
              "width": 0.5
             },
             "pattern": {
              "fillmode": "overlay",
              "size": 10,
              "solidity": 0.2
             }
            },
            "type": "barpolar"
           }
          ],
          "carpet": [
           {
            "aaxis": {
             "endlinecolor": "#2a3f5f",
             "gridcolor": "white",
             "linecolor": "white",
             "minorgridcolor": "white",
             "startlinecolor": "#2a3f5f"
            },
            "baxis": {
             "endlinecolor": "#2a3f5f",
             "gridcolor": "white",
             "linecolor": "white",
             "minorgridcolor": "white",
             "startlinecolor": "#2a3f5f"
            },
            "type": "carpet"
           }
          ],
          "choropleth": [
           {
            "colorbar": {
             "outlinewidth": 0,
             "ticks": ""
            },
            "type": "choropleth"
           }
          ],
          "contour": [
           {
            "colorbar": {
             "outlinewidth": 0,
             "ticks": ""
            },
            "colorscale": [
             [
              0,
              "#0d0887"
             ],
             [
              0.1111111111111111,
              "#46039f"
             ],
             [
              0.2222222222222222,
              "#7201a8"
             ],
             [
              0.3333333333333333,
              "#9c179e"
             ],
             [
              0.4444444444444444,
              "#bd3786"
             ],
             [
              0.5555555555555556,
              "#d8576b"
             ],
             [
              0.6666666666666666,
              "#ed7953"
             ],
             [
              0.7777777777777778,
              "#fb9f3a"
             ],
             [
              0.8888888888888888,
              "#fdca26"
             ],
             [
              1,
              "#f0f921"
             ]
            ],
            "type": "contour"
           }
          ],
          "contourcarpet": [
           {
            "colorbar": {
             "outlinewidth": 0,
             "ticks": ""
            },
            "type": "contourcarpet"
           }
          ],
          "heatmap": [
           {
            "colorbar": {
             "outlinewidth": 0,
             "ticks": ""
            },
            "colorscale": [
             [
              0,
              "#0d0887"
             ],
             [
              0.1111111111111111,
              "#46039f"
             ],
             [
              0.2222222222222222,
              "#7201a8"
             ],
             [
              0.3333333333333333,
              "#9c179e"
             ],
             [
              0.4444444444444444,
              "#bd3786"
             ],
             [
              0.5555555555555556,
              "#d8576b"
             ],
             [
              0.6666666666666666,
              "#ed7953"
             ],
             [
              0.7777777777777778,
              "#fb9f3a"
             ],
             [
              0.8888888888888888,
              "#fdca26"
             ],
             [
              1,
              "#f0f921"
             ]
            ],
            "type": "heatmap"
           }
          ],
          "heatmapgl": [
           {
            "colorbar": {
             "outlinewidth": 0,
             "ticks": ""
            },
            "colorscale": [
             [
              0,
              "#0d0887"
             ],
             [
              0.1111111111111111,
              "#46039f"
             ],
             [
              0.2222222222222222,
              "#7201a8"
             ],
             [
              0.3333333333333333,
              "#9c179e"
             ],
             [
              0.4444444444444444,
              "#bd3786"
             ],
             [
              0.5555555555555556,
              "#d8576b"
             ],
             [
              0.6666666666666666,
              "#ed7953"
             ],
             [
              0.7777777777777778,
              "#fb9f3a"
             ],
             [
              0.8888888888888888,
              "#fdca26"
             ],
             [
              1,
              "#f0f921"
             ]
            ],
            "type": "heatmapgl"
           }
          ],
          "histogram": [
           {
            "marker": {
             "pattern": {
              "fillmode": "overlay",
              "size": 10,
              "solidity": 0.2
             }
            },
            "type": "histogram"
           }
          ],
          "histogram2d": [
           {
            "colorbar": {
             "outlinewidth": 0,
             "ticks": ""
            },
            "colorscale": [
             [
              0,
              "#0d0887"
             ],
             [
              0.1111111111111111,
              "#46039f"
             ],
             [
              0.2222222222222222,
              "#7201a8"
             ],
             [
              0.3333333333333333,
              "#9c179e"
             ],
             [
              0.4444444444444444,
              "#bd3786"
             ],
             [
              0.5555555555555556,
              "#d8576b"
             ],
             [
              0.6666666666666666,
              "#ed7953"
             ],
             [
              0.7777777777777778,
              "#fb9f3a"
             ],
             [
              0.8888888888888888,
              "#fdca26"
             ],
             [
              1,
              "#f0f921"
             ]
            ],
            "type": "histogram2d"
           }
          ],
          "histogram2dcontour": [
           {
            "colorbar": {
             "outlinewidth": 0,
             "ticks": ""
            },
            "colorscale": [
             [
              0,
              "#0d0887"
             ],
             [
              0.1111111111111111,
              "#46039f"
             ],
             [
              0.2222222222222222,
              "#7201a8"
             ],
             [
              0.3333333333333333,
              "#9c179e"
             ],
             [
              0.4444444444444444,
              "#bd3786"
             ],
             [
              0.5555555555555556,
              "#d8576b"
             ],
             [
              0.6666666666666666,
              "#ed7953"
             ],
             [
              0.7777777777777778,
              "#fb9f3a"
             ],
             [
              0.8888888888888888,
              "#fdca26"
             ],
             [
              1,
              "#f0f921"
             ]
            ],
            "type": "histogram2dcontour"
           }
          ],
          "mesh3d": [
           {
            "colorbar": {
             "outlinewidth": 0,
             "ticks": ""
            },
            "type": "mesh3d"
           }
          ],
          "parcoords": [
           {
            "line": {
             "colorbar": {
              "outlinewidth": 0,
              "ticks": ""
             }
            },
            "type": "parcoords"
           }
          ],
          "pie": [
           {
            "automargin": true,
            "type": "pie"
           }
          ],
          "scatter": [
           {
            "fillpattern": {
             "fillmode": "overlay",
             "size": 10,
             "solidity": 0.2
            },
            "type": "scatter"
           }
          ],
          "scatter3d": [
           {
            "line": {
             "colorbar": {
              "outlinewidth": 0,
              "ticks": ""
             }
            },
            "marker": {
             "colorbar": {
              "outlinewidth": 0,
              "ticks": ""
             }
            },
            "type": "scatter3d"
           }
          ],
          "scattercarpet": [
           {
            "marker": {
             "colorbar": {
              "outlinewidth": 0,
              "ticks": ""
             }
            },
            "type": "scattercarpet"
           }
          ],
          "scattergeo": [
           {
            "marker": {
             "colorbar": {
              "outlinewidth": 0,
              "ticks": ""
             }
            },
            "type": "scattergeo"
           }
          ],
          "scattergl": [
           {
            "marker": {
             "colorbar": {
              "outlinewidth": 0,
              "ticks": ""
             }
            },
            "type": "scattergl"
           }
          ],
          "scattermapbox": [
           {
            "marker": {
             "colorbar": {
              "outlinewidth": 0,
              "ticks": ""
             }
            },
            "type": "scattermapbox"
           }
          ],
          "scatterpolar": [
           {
            "marker": {
             "colorbar": {
              "outlinewidth": 0,
              "ticks": ""
             }
            },
            "type": "scatterpolar"
           }
          ],
          "scatterpolargl": [
           {
            "marker": {
             "colorbar": {
              "outlinewidth": 0,
              "ticks": ""
             }
            },
            "type": "scatterpolargl"
           }
          ],
          "scatterternary": [
           {
            "marker": {
             "colorbar": {
              "outlinewidth": 0,
              "ticks": ""
             }
            },
            "type": "scatterternary"
           }
          ],
          "surface": [
           {
            "colorbar": {
             "outlinewidth": 0,
             "ticks": ""
            },
            "colorscale": [
             [
              0,
              "#0d0887"
             ],
             [
              0.1111111111111111,
              "#46039f"
             ],
             [
              0.2222222222222222,
              "#7201a8"
             ],
             [
              0.3333333333333333,
              "#9c179e"
             ],
             [
              0.4444444444444444,
              "#bd3786"
             ],
             [
              0.5555555555555556,
              "#d8576b"
             ],
             [
              0.6666666666666666,
              "#ed7953"
             ],
             [
              0.7777777777777778,
              "#fb9f3a"
             ],
             [
              0.8888888888888888,
              "#fdca26"
             ],
             [
              1,
              "#f0f921"
             ]
            ],
            "type": "surface"
           }
          ],
          "table": [
           {
            "cells": {
             "fill": {
              "color": "#EBF0F8"
             },
             "line": {
              "color": "white"
             }
            },
            "header": {
             "fill": {
              "color": "#C8D4E3"
             },
             "line": {
              "color": "white"
             }
            },
            "type": "table"
           }
          ]
         },
         "layout": {
          "annotationdefaults": {
           "arrowcolor": "#2a3f5f",
           "arrowhead": 0,
           "arrowwidth": 1
          },
          "autotypenumbers": "strict",
          "coloraxis": {
           "colorbar": {
            "outlinewidth": 0,
            "ticks": ""
           }
          },
          "colorscale": {
           "diverging": [
            [
             0,
             "#8e0152"
            ],
            [
             0.1,
             "#c51b7d"
            ],
            [
             0.2,
             "#de77ae"
            ],
            [
             0.3,
             "#f1b6da"
            ],
            [
             0.4,
             "#fde0ef"
            ],
            [
             0.5,
             "#f7f7f7"
            ],
            [
             0.6,
             "#e6f5d0"
            ],
            [
             0.7,
             "#b8e186"
            ],
            [
             0.8,
             "#7fbc41"
            ],
            [
             0.9,
             "#4d9221"
            ],
            [
             1,
             "#276419"
            ]
           ],
           "sequential": [
            [
             0,
             "#0d0887"
            ],
            [
             0.1111111111111111,
             "#46039f"
            ],
            [
             0.2222222222222222,
             "#7201a8"
            ],
            [
             0.3333333333333333,
             "#9c179e"
            ],
            [
             0.4444444444444444,
             "#bd3786"
            ],
            [
             0.5555555555555556,
             "#d8576b"
            ],
            [
             0.6666666666666666,
             "#ed7953"
            ],
            [
             0.7777777777777778,
             "#fb9f3a"
            ],
            [
             0.8888888888888888,
             "#fdca26"
            ],
            [
             1,
             "#f0f921"
            ]
           ],
           "sequentialminus": [
            [
             0,
             "#0d0887"
            ],
            [
             0.1111111111111111,
             "#46039f"
            ],
            [
             0.2222222222222222,
             "#7201a8"
            ],
            [
             0.3333333333333333,
             "#9c179e"
            ],
            [
             0.4444444444444444,
             "#bd3786"
            ],
            [
             0.5555555555555556,
             "#d8576b"
            ],
            [
             0.6666666666666666,
             "#ed7953"
            ],
            [
             0.7777777777777778,
             "#fb9f3a"
            ],
            [
             0.8888888888888888,
             "#fdca26"
            ],
            [
             1,
             "#f0f921"
            ]
           ]
          },
          "colorway": [
           "#636efa",
           "#EF553B",
           "#00cc96",
           "#ab63fa",
           "#FFA15A",
           "#19d3f3",
           "#FF6692",
           "#B6E880",
           "#FF97FF",
           "#FECB52"
          ],
          "font": {
           "color": "#2a3f5f"
          },
          "geo": {
           "bgcolor": "white",
           "lakecolor": "white",
           "landcolor": "#E5ECF6",
           "showlakes": true,
           "showland": true,
           "subunitcolor": "white"
          },
          "hoverlabel": {
           "align": "left"
          },
          "hovermode": "closest",
          "mapbox": {
           "style": "light"
          },
          "paper_bgcolor": "white",
          "plot_bgcolor": "#E5ECF6",
          "polar": {
           "angularaxis": {
            "gridcolor": "white",
            "linecolor": "white",
            "ticks": ""
           },
           "bgcolor": "#E5ECF6",
           "radialaxis": {
            "gridcolor": "white",
            "linecolor": "white",
            "ticks": ""
           }
          },
          "scene": {
           "xaxis": {
            "backgroundcolor": "#E5ECF6",
            "gridcolor": "white",
            "gridwidth": 2,
            "linecolor": "white",
            "showbackground": true,
            "ticks": "",
            "zerolinecolor": "white"
           },
           "yaxis": {
            "backgroundcolor": "#E5ECF6",
            "gridcolor": "white",
            "gridwidth": 2,
            "linecolor": "white",
            "showbackground": true,
            "ticks": "",
            "zerolinecolor": "white"
           },
           "zaxis": {
            "backgroundcolor": "#E5ECF6",
            "gridcolor": "white",
            "gridwidth": 2,
            "linecolor": "white",
            "showbackground": true,
            "ticks": "",
            "zerolinecolor": "white"
           }
          },
          "shapedefaults": {
           "line": {
            "color": "#2a3f5f"
           }
          },
          "ternary": {
           "aaxis": {
            "gridcolor": "white",
            "linecolor": "white",
            "ticks": ""
           },
           "baxis": {
            "gridcolor": "white",
            "linecolor": "white",
            "ticks": ""
           },
           "bgcolor": "#E5ECF6",
           "caxis": {
            "gridcolor": "white",
            "linecolor": "white",
            "ticks": ""
           }
          },
          "title": {
           "x": 0.05
          },
          "xaxis": {
           "automargin": true,
           "gridcolor": "white",
           "linecolor": "white",
           "ticks": "",
           "title": {
            "standoff": 15
           },
           "zerolinecolor": "white",
           "zerolinewidth": 2
          },
          "yaxis": {
           "automargin": true,
           "gridcolor": "white",
           "linecolor": "white",
           "ticks": "",
           "title": {
            "standoff": 15
           },
           "zerolinecolor": "white",
           "zerolinewidth": 2
          }
         }
        },
        "title": {
         "text": "Number of maintenance orders per each city/zone"
        },
        "xaxis": {
         "anchor": "y",
         "domain": [
          0,
          1
         ],
         "title": {
          "text": "location"
         }
        },
        "yaxis": {
         "anchor": "x",
         "domain": [
          0,
          1
         ],
         "title": {
          "text": "count"
         }
        }
       }
      },
      "text/html": [
       "<div>                            <div id=\"a4c29c95-3314-44c3-a3ce-9e0e1ba6b466\" class=\"plotly-graph-div\" style=\"height:525px; width:100%;\"></div>            <script type=\"text/javascript\">                require([\"plotly\"], function(Plotly) {                    window.PLOTLYENV=window.PLOTLYENV || {};                                    if (document.getElementById(\"a4c29c95-3314-44c3-a3ce-9e0e1ba6b466\")) {                    Plotly.newPlot(                        \"a4c29c95-3314-44c3-a3ce-9e0e1ba6b466\",                        [{\"alignmentgroup\":\"True\",\"hovertemplate\":\"location=%{x}<br>count=%{y}<extra></extra>\",\"legendgroup\":\"\",\"marker\":{\"color\":\"rgb(103,0,31)\",\"pattern\":{\"shape\":\"\"}},\"name\":\"\",\"offsetgroup\":\"\",\"orientation\":\"v\",\"showlegend\":false,\"textposition\":\"auto\",\"x\":[\"KSAUHS-3-Z004\",\"KSAUHS-2-Z03A\",\"KSAUHS-1-Z04A\",\"KSAUHS-1-Z03B\",\"KSAUHS-1-Z04A\",\"KSAUHS-1-Z04A\",\"KSAUHS-2-Z03B\",\"KSAUHS-1-Z04A\",\"KSAUHS-2-Z03C\",\"KSAUHS-3-Z003\",\"KSAUHS-3-Z002\",\"KSAUHS-3-Z002\",\"KSAUHS-1-Z04A\",\"KSAUHS-3-Z001\",\"KSAUHS-3-Z002\",\"KSAUHS-1-Z04A\",\"KSAUHS-1-Z04A\",\"KSAUHS-3-Z002\",\"KSAUHS-1-Z04A\",\"KSAUHS-3-Z002\",\"KSAUHS-1-Z01B\",\"KSAUHS-1-Z01B\",\"KSAUHS-1-Z02A\",\"KSAUHS-2-Z03B\",\"KSAUHS-2-Z02C\",\"KSAUHS-1-Z04A\",\"KSAUHS-1-Z03A\",\"KSAUHS-2-Z01A\",\"KSAUHS-1-Z04A\",\"KSAUHS-2-Z03F\",\"KSAUHS-2-Z03C\",\"KSAUHS-3-Z001\",\"KSAUHS-2-Z04A\",\"KSAUHS-2-Z03E\",\"KSAUHS-3-Z002\",\"KSAUHS-3-Z001\",\"KSAUHS-2-Z01A\",\"KSAUHS-1-Z04A\",\"KSAUHS-1-Z02A\",\"KSAUHS-1-Z02A\",\"KSAUHS-1-Z02A\",\"KSAUHS-2-Z03E\",\"KSAUHS-1-Z04A\",\"KSAUHS-2-Z02C\",\"KSAUHS-1-Z04A\",\"KSAUHS-2-Z02C\",\"KSAUHS-3-Z001\",\"KSAUHS-1-Z04A\",\"KSAUHS-1-Z04A\",\"KSAUHS-1-Z01A\",\"KSAUHS-1-Z02A\",\"KSAUHS-1-Z04A\",\"KSAUHS-3-Z001\",\"KSAUHS-1-Z04A\",\"KSAUHS-2-Z03E\",\"KSAUHS-2-Z03B\",\"KSAUHS-2-Z03D\",\"KSAUHS-3-Z002\",\"KSAUHS-2-Z03F\",\"KSAUHS-2-Z03D\",\"KSAUHS-1-Z04A\",\"KSAUHS-3-Z002\",\"KSAUHS-1-Z01A\",\"KSAUHS-2-Z01A\",\"KSAUHS-1-Z04A\",\"KSAUHS-2-Z01A\",\"KSAUHS-2-Z02A\",\"KSAUHS-1-Z04A\",\"KSAUHS-2-Z01A\",\"KSAUHS-2-Z03C\",\"KSAUHS-3-Z002\",\"KSAUHS-1-Z02A\",\"KSAUHS-2-Z01A\",\"KSAUHS-1-Z02A\",\"KSAUHS-2-Z03E\",\"KSAUHS-1-Z02A\",\"KSAUHS-1-Z04A\",\"KSAUHS-2-Z01A\",\"KSAUHS-1-Z02A\",\"KSAUHS-2-Z03D\",\"KSAUHS-3-Z002\",\"KSAUHS-2-Z03E\",\"KSAUHS-1-Z01A\",\"KSAUHS-2-Z03B\",\"KSAUHS-1-Z04A\",\"KSAUHS-1-Z04A\",\"KSAUHS-2-Z04A\",\"KSAUHS-3-Z001\",\"KSAUHS-1-Z02A\",\"KSAUHS-3-Z003\",\"KSAUHS-2-Z02C\",\"KSAUHS-1-Z02A\",\"KSAUHS-2-Z02C\",\"KSAUHS-1-Z02A\",\"KSAUHS-1-Z04A\",\"KSAUHS-2-Z03H\",\"KSAUHS-3-Z002\",\"KSAUHS-1-Z01B\",\"KSAUHS-3-Z003\",\"KSAUHS-1-Z02A\",\"KSAUHS-2-Z03E\",\"KSAUHS-1-Z04A\",\"KSAUHS-1-Z04A\",\"KSAUHS-1-Z04A\",\"KSAUHS-2-Z03B\",\"KSAUHS-3-Z004\",\"KSAUHS-3-Z003\",\"KSAUHS-2-Z02C\",\"KSAUHS-2-Z03D\",\"KSAUHS-1-Z02A\",\"KSAUHS-3-Z001\",\"KSAUHS-1-Z02B\",\"KSAUHS-1-Z01B\",\"KSAUHS-3-Z001\",\"KSAUHS-3-Z001\",\"KSAUHS-2-Z01A\",\"KSAUHS-1-Z04A\",\"KSAUHS-1-Z02A\",\"KSAUHS-2-Z01A\",\"KSAUHS-1-Z02B\",\"KSAUHS-1-Z04A\",\"KSAUHS-2-Z01A\",\"KSAUHS-1-Z04A\",\"KSAUHS-3-Z001\",\"KSAUHS-1-Z01B\",\"KSAUHS-1-Z04A\",\"KSAUHS-3-Z002\",\"KSAUHS-2-Z03A\",\"KSAUHS-3-Z003\",\"KSAUHS-3-Z004\",\"KSAUHS-2-Z03E\",\"KSAUHS-3-Z005\",\"KSAUHS-3-Z002\",\"KSAUHS-2-Z03F\",\"KSAUHS-1-Z03A\",\"KSAUHS-2-Z03C\",\"KSAUHS-1-Z01A\",\"KSAUHS-2-Z03F\",\"KSAUHS-1-Z04A\",\"KSAUHS-3-Z001\",\"KSAUHS-1-Z02A\",\"KSAUHS-2-Z01A\",\"KSAUHS-2-Z01A\",\"KSAUHS-1-Z02A\",\"KSAUHS-1-Z02A\",\"KSAUHS-2-Z03A\",\"KSAUHS-3-Z002\",\"KSAUHS-2-Z01A\",\"KSAUHS-2-Z03H\",\"KSAUHS-3-Z002\",\"KSAUHS-2-Z03B\",\"KSAUHS-2-Z01A\",\"KSAUHS-1-Z04A\",\"KSAUHS-2-Z03C\",\"KSAUHS-3-Z001\",\"KSAUHS-3-Z004\",\"KSAUHS-2-Z03H\",\"KSAUHS-3-Z001\",\"KSAUHS-1-Z02B\",\"KSAUHS-1-Z03B\",\"KSAUHS-2-Z01A\",\"KSAUHS-1-Z02A\",\"KSAUHS-2-Z01A\",\"KSAUHS-1-Z04A\",\"KSAUHS-1-Z01A\",\"KSAUHS-2-Z03F\",\"KSAUHS-2-Z03F\",\"KSAUHS-1-Z04A\",\"KSAUHS-1-Z02A\",\"KSAUHS-2-Z03D\",\"KSAUHS-3-Z003\",\"KSAUHS-1-Z04A\",\"KSAUHS-2-Z01A\",\"KSAUHS-1-Z03A\",\"KSAUHS-2-Z02C\",\"KSAUHS-1-Z04A\",\"KSAUHS-2-Z03D\",\"KSAUHS-1-Z02A\",\"KSAUHS-1-Z04A\",\"KSAUHS-2-Z02C\",\"KSAUHS-1-Z01A\",\"KSAUHS-3-Z002\",\"KSAUHS-1-Z04A\",\"KSAUHS-3-Z001\",\"KSAUHS-1-Z04A\",\"KSAUHS-3-Z004\",\"KSAUHS-1-Z02B\",\"KSAUHS-2-Z03B\",\"KSAUHS-1-Z04A\",\"KSAUHS-1-Z04A\",\"KSAUHS-1-Z02A\",\"KSAUHS-3-Z001\",\"KSAUHS-1-Z04A\",\"KSAUHS-1-Z02A\",\"KSAUHS-2-Z02C\",\"KSAUHS-2-Z03A\",\"KSAUHS-3-Z002\",\"KSAUHS-2-Z03A\",\"KSAUHS-3-Z004\",\"KSAUHS-2-Z03B\",\"KSAUHS-1-Z04A\",\"KSAUHS-2-Z02A\",\"KSAUHS-2-Z01A\",\"KSAUHS-2-Z02C\",\"KSAUHS-2-Z01A\",\"KSAUHS-2-Z03D\",\"KSAUHS-2-Z03C\",\"KSAUHS-2-Z01A\",\"KSAUHS-1-Z02A\",\"KSAUHS-1-Z04A\",\"KSAUHS-2-Z03A\",\"KSAUHS-2-Z02A\",\"KSAUHS-3-Z001\",\"KSAUHS-2-Z04A\",\"KSAUHS-1-Z04A\",\"KSAUHS-2-Z03F\",\"KSAUHS-1-Z04A\",\"KSAUHS-1-Z02A\",\"KSAUHS-1-Z04A\",\"KSAUHS-3-Z002\",\"KSAUHS-2-Z03C\",\"KSAUHS-2-Z03C\",\"KSAUHS-2-Z03D\",\"KSAUHS-1-Z04A\",\"KSAUHS-1-Z01B\",\"KSAUHS-3-Z003\",\"KSAUHS-1-Z02A\",\"KSAUHS-2-Z04A\",\"KSAUHS-3-Z001\",\"KSAUHS-2-Z03E\",\"KSAUHS-2-Z03A\",\"KSAUHS-1-Z01A\",\"KSAUHS-1-Z04A\",\"KSAUHS-2-Z03D\",\"KSAUHS-3-Z001\",\"KSAUHS-2-Z03H\",\"KSAUHS-3-Z002\",\"KSAUHS-2-Z01A\",\"KSAUHS-1-Z04A\",\"KSAUHS-1-Z04A\",\"KSAUHS-1-Z02A\",\"KSAUHS-1-Z02A\",\"KSAUHS-3-Z001\",\"KSAUHS-2-Z03D\",\"KSAUHS-2-Z03A\",\"KSAUHS-2-Z03H\",\"KSAUHS-3-Z001\",\"KSAUHS-2-Z02A\",\"KSAUHS-1-Z04A\",\"KSAUHS-1-Z04A\",\"KSAUHS-1-Z02A\",\"KSAUHS-1-Z02A\",\"KSAUHS-1-Z03B\",\"KSAUHS-2-Z04A\",\"KSAUHS-1-Z04A\",\"KSAUHS-3-Z001\",\"KSAUHS-2-Z03C\",\"KSAUHS-1-Z04A\",\"KSAUHS-1-Z04A\",\"KSAUHS-1-Z03A\",\"KSAUHS-1-Z01A\",\"KSAUHS-1-Z02A\",\"KSAUHS-1-Z04A\",\"KSAUHS-3-Z002\",\"KSAUHS-2-Z01A\",\"KSAUHS-2-Z02C\",\"KSAUHS-2-Z03F\",\"KSAUHS-2-Z01A\",\"KSAUHS-1-Z02A\",\"KSAUHS-3-Z001\",\"KSAUHS-2-Z03B\",\"KSAUHS-1-Z01B\",\"KSAUHS-3-Z002\",\"KSAUHS-1-Z02A\",\"KSAUHS-1-Z04A\",\"KSAUHS-1-Z04A\",\"KSAUHS-1-Z02A\",\"KSAUHS-3-Z002\",\"KSAUHS-1-Z04A\",\"KSAUHS-3-Z002\",\"KSAUHS-3-Z003\",\"KSAUHS-3-Z002\",\"KSAUHS-2-Z01A\",\"KSAUHS-3-Z002\",\"KSAUHS-2-Z03A\",\"KSAUHS-1-Z02A\",\"KSAUHS-1-Z01A\",\"KSAUHS-1-Z04A\",\"KSAUHS-1-Z02A\",\"KSAUHS-1-Z02A\",\"KSAUHS-2-Z03C\",\"KSAUHS-2-Z01A\",\"KSAUHS-2-Z03E\",\"KSAUHS-1-Z02A\",\"KSAUHS-1-Z02A\",\"KSAUHS-3-Z002\",\"KSAUHS-3-Z005\",\"KSAUHS-1-Z02A\",\"KSAUHS-1-Z02A\",\"KSAUHS-3-Z002\",\"KSAUHS-1-Z02B\",\"KSAUHS-1-Z02A\",\"KSAUHS-3-Z001\",\"KSAUHS-2-Z03B\",\"KSAUHS-3-Z002\",\"KSAUHS-1-Z01A\",\"KSAUHS-2-Z04A\",\"KSAUHS-2-Z03C\",\"KSAUHS-2-Z03D\",\"KSAUHS-3-Z002\",\"KSAUHS-1-Z01B\",\"KSAUHS-2-Z01A\",\"KSAUHS-3-Z002\",\"KSAUHS-2-Z03C\",\"KSAUHS-1-Z02A\",\"KSAUHS-1-Z04A\",\"KSAUHS-1-Z04A\",\"KSAUHS-1-Z04A\",\"KSAUHS-2-Z03B\",\"KSAUHS-1-Z02A\",\"KSAUHS-2-Z03F\",\"KSAUHS-2-Z02C\",\"KSAUHS-2-Z03F\",\"KSAUHS-1-Z04A\",\"KSAUHS-1-Z04A\",\"KSAUHS-2-Z03A\",\"KSAUHS-1-Z02B\",\"KSAUHS-3-Z001\",\"KSAUHS-1-Z04A\",\"KSAUHS-2-Z03A\",\"KSAUHS-3-Z002\",\"KSAUHS-3-Z001\",\"KSAUHS-1-Z01A\",\"KSAUHS-2-Z03B\",\"KSAUHS-3-Z002\",\"KSAUHS-1-Z01A\",\"KSAUHS-1-Z04A\",\"KSAUHS-2-Z03A\",\"KSAUHS-1-Z01A\",\"KSAUHS-1-Z01B\",\"KSAUHS-2-Z03E\",\"KSAUHS-1-Z04A\",\"KSAUHS-2-Z03E\",\"KSAUHS-3\",\"KSAUHS-3-Z002\",\"KSAUHS-2-Z04A\",\"KSAUHS-1-Z02A\",\"KSAUHS-2-Z02A\",\"KSAUHS-1-Z01A\",\"KSAUHS-1-Z02B\",\"KSAUHS-1-Z02C\",\"KSAUHS-2-Z01A\",\"KSAUHS-3-Z004\",\"KSAUHS-3-Z004\",\"KSAUHS-3-Z001\",\"KSAUHS-1-Z04A\",\"KSAUHS-1-Z02A\",\"KSAUHS-3-Z001\",\"KSAUHS-1-Z04A\",\"KSAUHS-2-Z02C\",\"KSAUHS-1-Z01A\",\"KSAUHS-3-Z002\",\"KSAUHS-3-Z001\",\"KSAUHS-2-Z03F\",\"KSAUHS-2-Z01A\",\"KSAUHS-1-Z02A\",\"KSAUHS-1-Z04A\",\"KSAUHS-1-Z04A\",\"KSAUHS-1-Z04A\",\"KSAUHS-2-Z02C\",\"KSAUHS-2-Z02C\",\"KSAUHS-1-Z04A\",\"KSAUHS-3-Z002\",\"KSAUHS-2-Z02C\",\"KSAUHS-1-Z04A\",\"KSAUHS-1-Z04A\",\"KSAUHS-3-Z002\",\"KSAUHS-1-Z02A\",\"KSAUHS-3-Z003\",\"KSAUHS-2-Z03A\",\"KSAUHS-1-Z04A\",\"KSAUHS-2-Z03B\",\"KSAUHS-1-Z02A\",\"KSAUHS-3-Z004\",\"KSAUHS-2-Z03A\",\"KSAUHS-2-Z03F\",\"KSAUHS-2-Z03B\",\"KSAUHS-1-Z04A\",\"KSAUHS-2-Z04A\",\"KSAUHS-2-Z01A\",\"KSAUHS-2-Z02C\",\"KSAUHS-1-Z02A\",\"KSAUHS-2-Z03F\",\"KSAUHS-3-Z001\",\"KSAUHS-1-Z02A\",\"KSAUHS-1-Z01B\",\"KSAUHS-1-Z04A\",\"KSAUHS-1-Z02B\",\"KSAUHS-2-Z03E\",\"KSAUHS-1-Z01B\",\"KSAUHS-3-Z001\",\"KSAUHS-1-Z01B\",\"KSAUHS-1-Z01A\",\"KSAUHS-2-Z03B\",\"KSAUHS-2-Z03A\",\"KSAUHS-3-Z001\",\"KSAUHS-1-Z04A\",\"KSAUHS-1-Z02B\",\"KSAUHS-2-Z03F\",\"KSAUHS-3-Z002\",\"KSAUHS-1-Z02A\",\"KSAUHS-1-Z02B\",\"KSAUHS-1-Z04A\",\"KSAUHS-1-Z02A\",\"KSAUHS-3-Z004\",\"KSAUHS-1-Z03B\",\"KSAUHS-1-Z04A\",\"KSAUHS-1-Z01B\",\"KSAUHS-2-Z03A\",\"KSAUHS-2-Z01A\",\"KSAUHS-1-Z02A\",\"KSAUHS-3-Z001\",\"KSAUHS-1-Z04A\",\"KSAUHS-1-Z04A\",\"KSAUHS-2-Z03C\",\"KSAUHS-3-Z004\",\"KSAUHS-3-Z001\",\"KSAUHS-1-Z04A\",\"KSAUHS-1-Z04A\",\"KSAUHS-1-Z02B\",\"KSAUHS-2-Z02C\",\"KSAUHS-3-Z002\",\"KSAUHS-2-Z01A\",\"KSAUHS-2-Z02C\",\"KSAUHS-1-Z02A\",\"KSAUHS-1-Z02A\",\"KSAUHS-1-Z04A\",\"KSAUHS-3-Z001\",\"KSAUHS-2-Z02C\",\"KSAUHS-2-Z01A\",\"KSAUHS-2-Z04A\",\"KSAUHS-1-Z03A\",\"KSAUHS-1-Z04A\",\"KSAUHS-1-Z04A\",\"KSAUHS-2-Z03C\",\"KSAUHS-2-Z03D\",\"KSAUHS-1-Z04A\",\"KSAUHS-2-Z03E\",\"KSAUHS-2-Z01A\",\"KSAUHS-2-Z03F\",\"KSAUHS-2-Z03B\",\"KSAUHS-1-Z01A\",\"KSAUHS-1-Z02A\",\"KSAUHS-3-Z001\",\"KSAUHS-2-Z03F\",\"KSAUHS-1-Z04A\",\"KSAUHS-1-Z04A\",\"KSAUHS-2-Z03A\",\"KSAUHS-2-Z03B\",\"KSAUHS-1-Z04A\",\"KSAUHS-1-Z04A\",\"KSAUHS-2-Z03C\",\"KSAUHS-1-Z01A\",\"KSAUHS-2-Z03F\",\"KSAUHS-2-Z03D\",\"KSAUHS-1-Z02A\",\"KSAUHS-3-Z002\",\"KSAUHS-2-Z04A\",\"KSAUHS-1-Z04A\",\"KSAUHS-1-Z02A\",\"KSAUHS-1-Z04A\",\"KSAUHS-3-Z001\",\"KSAUHS-2-Z02C\",\"KSAUHS-1-Z02A\",\"KSAUHS-1-Z04A\",\"KSAUHS-1-Z03A\",\"KSAUHS-1-Z01A\",\"KSAUHS-1-Z04A\",\"KSAUHS-1-Z04A\",\"KSAUHS-2-Z03B\",\"KSAUHS-1-Z02A\",\"KSAUHS-1-Z02A\",\"KSAUHS-2-Z01A\",\"KSAUHS-1-Z04A\",\"KSAUHS-1-Z01A\",\"KSAUHS-1-Z02A\",\"KSAUHS-1-Z02A\",\"KSAUHS-1-Z02A\",\"KSAUHS-2-Z01A\",\"KSAUHS-1-Z04A\",\"KSAUHS-2-Z01A\",\"KSAUHS-1-Z04A\",\"KSAUHS-2-Z03D\",\"KSAUHS-3-Z002\",\"KSAUHS-1-Z01B\",\"KSAUHS-2-Z03C\",\"KSAUHS-2-Z02C\",\"KSAUHS-1-Z01B\",\"KSAUHS-1-Z02A\",\"KSAUHS-2-Z02C\",\"KSAUHS-1-Z04A\",\"KSAUHS-2-Z03D\",\"KSAUHS-3-Z002\",\"KSAUHS-1-Z04A\",\"KSAUHS-1-Z02A\",\"KSAUHS-1-Z04A\",\"KSAUHS-3-Z002\",\"KSAUHS-3-Z001\",\"KSAUHS-2-Z03C\",\"KSAUHS-2-Z03F\",\"KSAUHS-2-Z03C\",\"KSAUHS-1-Z02A\",\"KSAUHS-2-Z01A\",\"KSAUHS-2-Z01A\",\"KSAUHS-1-Z02A\",\"KSAUHS-3-Z002\",\"KSAUHS-2-Z01A\",\"KSAUHS-1-Z04A\",\"KSAUHS-1-Z02A\",\"KSAUHS-1-Z04A\",\"KSAUHS-2-Z03C\",\"KSAUHS-1-Z03B\",\"KSAUHS-2-Z01A\",\"KSAUHS-2-Z03A\",\"KSAUHS-2-Z03H\",\"KSAUHS-1-Z01A\",\"KSAUHS-2-Z02A\",\"KSAUHS-1-Z02A\",\"KSAUHS-1-Z03A\",\"KSAUHS-2-Z01A\",\"KSAUHS-2-Z03A\",\"KSAUHS-1-Z04A\",\"KSAUHS-1-Z04A\",\"KSAUHS-1-Z04A\",\"KSAUHS-1-Z02A\",\"KSAUHS-1-Z02A\",\"KSAUHS-1-Z04A\",\"KSAUHS-1-Z01B\",\"KSAUHS-1-Z04A\",\"KSAUHS-3-Z004\",\"KSAUHS-1-Z04A\",\"KSAUHS-2-Z03H\",\"KSAUHS-2-Z03F\",\"KSAUHS-2-Z03H\",\"KSAUHS-3-Z002\",\"KSAUHS-1-Z04A\",\"KSAUHS-1-Z01B\",\"KSAUHS-1-Z01B\",\"KSAUHS-1-Z02B\",\"KSAUHS-3-Z005\",\"KSAUHS-3-Z005\",\"KSAUHS-3-Z001\",\"KSAUHS-1-Z04A\",\"KSAUHS-3-Z002\",\"KSAUHS-1-Z02A\",\"KSAUHS-1-Z02A\",\"KSAUHS-1-Z04A\",\"KSAUHS-2-Z03H\",\"KSAUHS-1-Z04A\",\"KSAUHS-1-Z04A\",\"KSAUHS-2-Z03A\",\"KSAUHS-3-Z001\",\"KSAUHS-1-Z04A\",\"KSAUHS-3-Z004\",\"KSAUHS-2-Z03B\",\"KSAUHS-2-Z03C\",\"KSAUHS-1-Z04A\",\"KSAUHS-3-Z001\",\"KSAUHS-2-Z01A\",\"KSAUHS-3-Z001\",\"KSAUHS-1-Z02A\",\"KSAUHS-2-Z04A\",\"KSAUHS-1-Z03A\",\"KSAUHS-1-Z04A\",\"KSAUHS-1-Z01B\",\"KSAUHS-2-Z01A\",\"KSAUHS-2-Z03F\",\"KSAUHS-2-Z04A\",\"KSAUHS-1-Z04A\",\"KSAUHS-1-Z04A\",\"KSAUHS-1-Z02A\",\"KSAUHS-3-Z002\",\"KSAUHS-1-Z02A\",\"KSAUHS-2-Z03G\",\"KSAUHS-1-Z01A\",\"KSAUHS-1-Z03B\",\"KSAUHS-1-Z02A\",\"KSAUHS-1-Z04A\",\"KSAUHS-1-Z02A\",\"KSAUHS-2-Z02C\",\"KSAUHS-1-Z04A\",\"KSAUHS-2-Z03C\",\"KSAUHS-3-Z003\",\"KSAUHS-2-Z03H\",\"KSAUHS-2-Z03H\",\"KSAUHS-1-Z01A\",\"KSAUHS-1-Z04A\",\"KSAUHS-1-Z04A\",\"KSAUHS-2-Z03D\",\"KSAUHS-3-Z002\",\"KSAUHS-2-Z03D\",\"KSAUHS-1-Z01A\",\"KSAUHS-1-Z04A\",\"KSAUHS-3-Z002\",\"KSAUHS-2-Z03A\",\"KSAUHS-2-Z03A\",\"KSAUHS-1-Z04A\",\"KSAUHS-1-Z04A\",\"KSAUHS-1-Z04A\",\"KSAUHS-2-Z03D\",\"KSAUHS-1-Z04A\",\"KSAUHS-1-Z04A\",\"KSAUHS-3-Z001\",\"KSAUHS-1-Z04A\",\"KSAUHS-2-Z03F\",\"KSAUHS-2-Z01A\",\"KSAUHS-2-Z03B\",\"KSAUHS-2-Z03C\",\"KSAUHS-1-Z04A\",\"KSAUHS-1-Z02A\",\"KSAUHS-1-Z02A\",\"KSAUHS-1-Z02A\",\"KSAUHS-1-Z02A\",\"KSAUHS-3-Z001\",\"KSAUHS-3-Z002\",\"KSAUHS-2-Z03A\",\"KSAUHS-1-Z04A\",\"KSAUHS-3-Z001\",\"KSAUHS-2-Z02C\",\"KSAUHS-3-Z002\",\"KSAUHS-3-Z002\",\"KSAUHS-1-Z02A\",\"KSAUHS-1-Z02A\",\"KSAUHS-3-Z004\",\"KSAUHS-1-Z03B\",\"KSAUHS-1-Z04A\",\"KSAUHS-1-Z02A\",\"KSAUHS-1-Z03A\",\"KSAUHS-1-Z04A\",\"KSAUHS-2-Z02C\",\"KSAUHS-1-Z04A\",\"KSAUHS-3-Z001\",\"KSAUHS-2-Z02A\",\"KSAUHS-1-Z03A\",\"KSAUHS-1-Z03A\",\"KSAUHS-2-Z04A\",\"KSAUHS-1-Z04A\",\"KSAUHS-1-Z04A\",\"KSAUHS-1-Z02B\",\"KSAUHS-2-Z01A\",\"KSAUHS-2-Z03F\",\"KSAUHS-1-Z04A\",\"KSAUHS-1-Z04A\",\"KSAUHS-1-Z02A\",\"KSAUHS-1-Z02A\",\"KSAUHS-3-Z001\",\"KSAUHS-2-Z03D\",\"KSAUHS-1-Z04A\",\"KSAUHS-1-Z04A\",\"KSAUHS-3-Z002\",\"KSAUHS-3-Z001\",\"KSAUHS-1-Z02A\",\"KSAUHS-2-Z04A\",\"KSAUHS-1-Z01B\",\"KSAUHS-3-Z001\",\"KSAUHS-2-Z03B\",\"KSAUHS-1-Z02A\",\"KSAUHS-1-Z02A\",\"KSAUHS-2-Z04A\",\"KSAUHS-3-Z001\",\"KSAUHS-3-Z001\",\"KSAUHS-2-Z03B\",\"KSAUHS-1-Z04A\",\"KSAUHS-3-Z002\",\"KSAUHS-1-Z04A\",\"KSAUHS-1-Z04A\",\"KSAUHS-1-Z01A\",\"KSAUHS-2-Z03E\",\"KSAUHS-3-Z002\",\"KSAUHS-1-Z02A\",\"KSAUHS-2-Z02A\",\"KSAUHS-1-Z01A\",\"KSAUHS-1-Z02B\",\"KSAUHS-2-Z03A\",\"KSAUHS-3-Z002\",\"KSAUHS-3-Z002\",\"KSAUHS-1-Z04A\",\"KSAUHS-1-Z04A\",\"KSAUHS-2-Z02C\",\"KSAUHS-2-Z03D\",\"KSAUHS-1-Z02A\",\"KSAUHS-2-Z02C\",\"KSAUHS-1-Z04A\",\"KSAUHS-1-Z04A\",\"KSAUHS-1-Z01A\",\"KSAUHS-2-Z02C\",\"KSAUHS-2-Z01A\",\"KSAUHS-1-Z04A\",\"KSAUHS-1-Z02A\",\"KSAUHS-2-Z03B\",\"KSAUHS-2-Z01A\",\"KSAUHS-1-Z04A\",\"KSAUHS-1-Z03A\",\"KSAUHS-2-Z03A\",\"KSAUHS-3-Z002\",\"KSAUHS-2-Z03A\",\"KSAUHS-1-Z04A\",\"KSAUHS-1-Z04A\",\"KSAUHS-1-Z04A\",\"KSAUHS-1-Z04A\",\"KSAUHS-1-Z02A\",\"KSAUHS-3-Z002\",\"KSAUHS-1-Z02C\",\"KSAUHS-1-Z04A\",\"KSAUHS-1-Z04A\",\"KSAUHS-1-Z01B\",\"KSAUHS-1-Z02C\",\"KSAUHS-1-Z01A\",\"KSAUHS-1-Z04A\",\"KSAUHS-1-Z02A\",\"KSAUHS-1-Z04A\",\"KSAUHS-1-Z04A\",\"KSAUHS-1-Z04A\",\"KSAUHS-3-Z002\",\"KSAUHS-1-Z03B\",\"KSAUHS-1-Z02A\",\"KSAUHS-2-Z03A\",\"KSAUHS-1-Z04A\",\"KSAUHS-2-Z01A\",\"KSAUHS-2-Z03H\",\"KSAUHS-2-Z01A\",\"KSAUHS-1-Z04A\",\"KSAUHS-2-Z01A\",\"KSAUHS-2-Z01A\",\"KSAUHS-2-Z03C\",\"KSAUHS-1-Z04A\",\"KSAUHS-1-Z04A\",\"KSAUHS-3-Z001\",\"KSAUHS-3-Z004\",\"KSAUHS-1-Z04A\",\"KSAUHS-2-Z02C\",\"KSAUHS-2-Z01A\",\"KSAUHS-1-Z02A\",\"KSAUHS-1-Z01A\",\"KSAUHS-1-Z02A\",\"KSAUHS-2-Z01A\",\"KSAUHS-1-Z02A\",\"KSAUHS-1-Z02A\",\"KSAUHS-1-Z02A\",\"KSAUHS-1-Z04A\",\"KSAUHS-2-Z03A\",\"KSAUHS-1-Z04A\",\"KSAUHS-1-Z02A\",\"KSAUHS-3-Z001\",\"KSAUHS-2-Z01A\",\"KSAUHS-1-Z01B\",\"KSAUHS-1-Z01B\",\"KSAUHS-1-Z04A\",\"KSAUHS-1-Z04A\",\"KSAUHS-3-Z002\",\"KSAUHS-2-Z03F\",\"KSAUHS-1-Z03A\",\"KSAUHS-1-Z02A\",\"KSAUHS-1-Z02A\",\"KSAUHS-3-Z002\",\"KSAUHS-1-Z04A\",\"KSAUHS-2-Z02A\",\"KSAUHS-2-Z03A\",\"KSAUHS-3-Z002\",\"KSAUHS-3-Z002\",\"KSAUHS-1-Z03A\",\"KSAUHS-1-Z04A\",\"KSAUHS-1-Z02A\",\"KSAUHS-1-Z03A\",\"KSAUHS-2-Z03C\",\"KSAUHS-3-Z002\",\"KSAUHS-3-Z003\",\"KSAUHS-3-Z001\",\"KSAUHS-3-Z001\",\"KSAUHS-2-Z03D\",\"KSAUHS-1-Z01A\",\"KSAUHS-1-Z04A\",\"KSAUHS-1-Z01A\",\"KSAUHS-3-Z001\",\"KSAUHS-2-Z03B\",\"KSAUHS-2\",\"KSAUHS-3-Z005\",\"KSAUHS-1-Z04A\",\"KSAUHS-1-Z02A\",\"KSAUHS-1-Z04A\",\"KSAUHS-2-Z01A\",\"KSAUHS-2-Z03E\",\"KSAUHS-3-Z001\",\"KSAUHS-1-Z04A\",\"KSAUHS-1-Z04A\",\"KSAUHS-1-Z02A\",\"KSAUHS-2-Z03A\",\"KSAUHS-2-Z02C\",\"KSAUHS-1-Z01B\",\"KSAUHS-1-Z04A\",\"KSAUHS-1-Z02A\",\"KSAUHS-2-Z03A\",\"KSAUHS-2-Z03C\",\"KSAUHS-3-Z002\",\"KSAUHS-1-Z04A\",\"KSAUHS-1-Z04A\",\"KSAUHS-3-Z002\",\"KSAUHS-2-Z03C\",\"KSAUHS-3-Z001\",\"KSAUHS-3-Z001\",\"KSAUHS-2-Z03F\",\"KSAUHS-2-Z01A\",\"KSAUHS-1-Z04A\",\"KSAUHS-1-Z04A\",\"KSAUHS-2-Z03A\",\"KSAUHS-1-Z04A\",\"KSAUHS-2-Z02C\",\"KSAUHS-2-Z04A\",\"KSAUHS-1-Z02A\",\"KSAUHS-2-Z03C\",\"KSAUHS-1-Z02B\",\"KSAUHS-3-Z001\",\"KSAUHS-3-Z004\",\"KSAUHS-1-Z01A\",\"KSAUHS-2-Z03C\",\"KSAUHS-3-Z002\",\"KSAUHS-2-Z03C\",\"KSAUHS-1-Z02A\",\"KSAUHS-2-Z03A\",\"KSAUHS-2-Z03H\",\"KSAUHS-1-Z02A\",\"KSAUHS-1-Z01B\",\"KSAUHS-3-Z002\",\"KSAUHS-1-Z04A\",\"KSAUHS-3-Z002\",\"KSAUHS-1-Z01A\",\"KSAUHS-1-Z02A\",\"KSAUHS-2-Z03F\",\"KSAUHS-2-Z04A\",\"KSAUHS-1-Z02A\",\"KSAUHS-1-Z02A\",\"KSAUHS-1-Z04A\",\"KSAUHS-1-Z02B\",\"KSAUHS-1-Z02A\",\"KSAUHS-3-Z004\",\"KSAUHS-3-Z003\",\"KSAUHS-3-Z001\",\"KSAUHS-3-Z001\",\"KSAUHS-1-Z02A\",\"KSAUHS-2-Z04A\",\"KSAUHS-1-Z01B\",\"KSAUHS-2-Z02C\",\"KSAUHS-3-Z003\",\"KSAUHS-3-Z001\",\"KSAUHS-1-Z04A\",\"KSAUHS-1-Z02B\",\"KSAUHS-2-Z02C\",\"KSAUHS-1-Z02A\",\"KSAUHS-1-Z04A\",\"KSAUHS-2-Z04A\",\"KSAUHS-1-Z02A\",\"KSAUHS-1-Z01B\",\"KSAUHS-1-Z01A\",\"KSAUHS-1-Z01A\",\"KSAUHS-2-Z03A\",\"KSAUHS-3-Z002\",\"KSAUHS-3-Z004\",\"KSAUHS-2-Z03B\",\"KSAUHS-2-Z03C\",\"KSAUHS-1-Z04A\",\"KSAUHS-1-Z04A\",\"KSAUHS-3-Z004\",\"KSAUHS-1-Z01A\",\"KSAUHS-1-Z04A\",\"KSAUHS-1-Z02A\",\"KSAUHS-3-Z001\",\"KSAUHS-1-Z04A\",\"KSAUHS-2-Z03F\",\"KSAUHS-1-Z04A\",\"KSAUHS-3-Z001\",\"KSAUHS-1-Z04A\",\"KSAUHS-1-Z01B\",\"KSAUHS-1-Z04A\",\"KSAUHS-1-Z04A\",\"KSAUHS-1-Z04A\",\"KSAUHS-1-Z02A\",\"KSAUHS-3-Z002\",\"KSAUHS-2-Z02A\",\"KSAUHS-2-Z03D\",\"KSAUHS-1-Z04A\",\"KSAUHS-1-Z04A\",\"KSAUHS-2-Z03E\",\"KSAUHS-1-Z02A\",\"KSAUHS-1-Z04A\",\"KSAUHS-2-Z03D\",\"KSAUHS-2-Z04A\",\"KSAUHS-2-Z03D\",\"KSAUHS-3-Z002\",\"KSAUHS-1-Z02A\",\"KSAUHS-1-Z04A\",\"KSAUHS-2-Z01A\",\"KSAUHS-1-Z04A\",\"KSAUHS-3-Z001\",\"KSAUHS-1-Z02B\",\"KSAUHS-1-Z04A\",\"KSAUHS-3-Z001\",\"KSAUHS-2-Z03H\",\"KSAUHS-2-Z03E\",\"KSAUHS-2-Z02C\",\"KSAUHS-1-Z01B\",\"KSAUHS-2-Z03E\",\"KSAUHS-1-Z04A\",\"KSAUHS-1-Z01A\",\"KSAUHS-1-Z04A\",\"KSAUHS-1-Z02A\",\"KSAUHS-2-Z03C\",\"KSAUHS-3-Z002\",\"KSAUHS-3-Z001\",\"KSAUHS-1-Z02A\",\"KSAUHS-2-Z01A\",\"KSAUHS-2-Z03D\",\"KSAUHS-1-Z04A\",\"KSAUHS-2-Z03B\",\"KSAUHS-1-Z02A\",\"KSAUHS-3-Z002\",\"KSAUHS-2-Z01A\",\"KSAUHS-1-Z02A\",\"KSAUHS-1-Z01A\",\"KSAUHS-2-Z03A\",\"KSAUHS-2-Z03D\",\"KSAUHS-1-Z02A\",\"KSAUHS-2-Z03B\",\"KSAUHS-3-Z001\",\"KSAUHS-1-Z04A\",\"KSAUHS-1-Z02A\",\"KSAUHS-1-Z04A\",\"KSAUHS-3-Z005\",\"KSAUHS-1-Z03A\",\"KSAUHS-2-Z03D\",\"KSAUHS-3-Z003\",\"KSAUHS-1-Z04A\",\"KSAUHS-2-Z03H\",\"KSAUHS-2-Z02C\",\"KSAUHS-3-Z002\",\"KSAUHS-1-Z04A\",\"KSAUHS-3-Z002\",\"KSAUHS-2-Z03B\",\"KSAUHS-1-Z04A\",\"KSAUHS-3-Z002\",\"KSAUHS-1-Z01A\",\"KSAUHS-1-Z04A\",\"KSAUHS-1-Z02A\",\"KSAUHS-3-Z003\",\"KSAUHS-1-Z04A\",\"KSAUHS-2-Z01A\",\"KSAUHS-2-Z01A\",\"KSAUHS-1-Z02B\",\"KSAUHS-2-Z02C\",\"KSAUHS-2-Z01A\",\"KSAUHS-2-Z03A\",\"KSAUHS-2-Z01A\",\"KSAUHS-1-Z04A\",\"KSAUHS-2-Z03B\",\"KSAUHS-3-Z004\",\"KSAUHS-1-Z04A\",\"KSAUHS-1-Z04A\",\"KSAUHS-1-Z02A\",\"KSAUHS-2-Z03H\",\"KSAUHS-1-Z02A\",\"KSAUHS-2-Z03C\",\"KSAUHS-3-Z001\",\"KSAUHS-3-Z001\",\"KSAUHS-2-Z03C\",\"KSAUHS-2-Z02C\",\"KSAUHS-3-Z002\",\"KSAUHS-1-Z03A\",\"KSAUHS-1-Z04A\",\"KSAUHS-2-Z01A\",\"KSAUHS-2-Z03E\",\"KSAUHS-1-Z04A\",\"KSAUHS-2-Z01A\",\"KSAUHS-3-Z001\",\"KSAUHS-3-Z001\",\"KSAUHS-1-Z04A\",\"KSAUHS-1-Z03A\",\"KSAUHS-2-Z02A\",\"KSAUHS-2-Z03B\",\"KSAUHS-1-Z04A\",\"KSAUHS-3-Z002\",\"KSAUHS-2-Z03D\",\"KSAUHS-1-Z04A\",\"KSAUHS-3-Z003\",\"KSAUHS-1-Z04A\",\"KSAUHS-1-Z04A\",\"KSAUHS-3-Z001\",\"KSAUHS-2-Z01A\",\"KSAUHS-3-Z004\",\"KSAUHS-2-Z01A\",\"KSAUHS-3-Z002\",\"KSAUHS-1-Z03A\"],\"xaxis\":\"x\",\"y\":[1,1,1,1,1,1,1,1,1,1,1,1,1,1,1,1,1,1,1,1,1,1,1,1,1,1,1,1,1,1,1,1,1,1,1,1,1,1,1,1,1,1,1,1,1,1,1,1,1,1,1,1,1,1,1,1,1,1,1,1,1,1,1,1,1,1,1,1,1,1,1,1,1,1,1,1,1,1,1,1,1,1,1,1,1,1,1,1,1,1,1,1,1,1,1,1,1,1,1,1,1,1,1,1,1,1,1,1,1,1,1,1,1,1,1,1,1,1,1,1,1,1,1,1,1,1,1,1,1,1,1,1,1,1,1,1,1,1,1,1,1,1,1,1,1,1,1,1,1,1,1,1,1,1,1,1,1,1,1,1,1,1,1,1,1,1,1,1,1,1,1,1,1,1,1,1,1,1,1,1,1,1,1,1,1,1,1,1,1,1,1,1,1,1,1,1,1,1,1,1,1,1,1,1,1,1,1,1,1,1,1,1,1,1,1,1,1,1,1,1,1,1,1,1,1,1,1,1,1,1,1,1,1,1,1,1,1,1,1,1,1,1,1,1,1,1,1,1,1,1,1,1,1,1,1,1,1,1,1,1,1,1,1,1,1,1,1,1,1,1,1,1,1,1,1,1,1,1,1,1,1,1,1,1,1,1,1,1,1,1,1,1,1,1,1,1,1,1,1,1,1,1,1,1,1,1,1,1,1,1,1,1,1,1,1,1,1,1,1,1,1,1,1,1,1,1,1,1,1,1,1,1,1,1,1,1,1,1,1,1,1,1,1,1,1,1,1,1,1,1,1,1,1,1,1,1,1,1,1,1,1,1,1,1,1,1,1,1,1,1,1,1,1,1,1,1,1,1,1,1,1,1,1,1,1,1,1,1,1,1,1,1,1,1,1,1,1,1,1,1,1,1,1,1,1,1,1,1,1,1,1,1,1,1,1,1,1,1,1,1,1,1,1,1,1,1,1,1,1,1,1,1,1,1,1,1,1,1,1,1,1,1,1,1,1,1,1,1,1,1,1,1,1,1,1,1,1,1,1,1,1,1,1,1,1,1,1,1,1,1,1,1,1,1,1,1,1,1,1,1,1,1,1,1,1,1,1,1,1,1,1,1,1,1,1,1,1,1,1,1,1,1,1,1,1,1,1,1,1,1,1,1,1,1,1,1,1,1,1,1,1,1,1,1,1,1,1,1,1,1,1,1,1,1,1,1,1,1,1,1,1,1,1,1,1,1,1,1,1,1,1,1,1,1,1,1,1,1,1,1,1,1,1,1,1,1,1,1,1,1,1,1,1,1,1,1,1,1,1,1,1,1,1,1,1,1,1,1,1,1,1,1,1,1,1,1,1,1,1,1,1,1,1,1,1,1,1,1,1,1,1,1,1,1,1,1,1,1,1,1,1,1,1,1,1,1,1,1,1,1,1,1,1,1,1,1,1,1,1,1,1,1,1,1,1,1,1,1,1,1,1,1,1,1,1,1,1,1,1,1,1,1,1,1,1,1,1,1,1,1,1,1,1,1,1,1,1,1,1,1,1,1,1,1,1,1,1,1,1,1,1,1,1,1,1,1,1,1,1,1,1,1,1,1,1,1,1,1,1,1,1,1,1,1,1,1,1,1,1,1,1,1,1,1,1,1,1,1,1,1,1,1,1,1,1,1,1,1,1,1,1,1,1,1,1,1,1,1,1,1,1,1,1,1,1,1,1,1,1,1,1,1,1,1,1,1,1,1,1,1,1,1,1,1,1,1,1,1,1,1,1,1,1,1,1,1,1,1,1,1,1,1,1,1,1,1,1,1,1,1,1,1,1,1,1,1,1,1,1,1,1,1,1,1,1,1,1,1,1,1,1,1,1,1,1,1,1,1,1,1,1,1,1,1,1,1,1,1,1,1,1,1,1,1,1,1,1,1,1,1,1,1,1,1,1,1,1,1,1,1,1,1,1,1,1,1,1,1,1,1,1,1,1,1,1,1,1,1,1,1,1,1,1,1,1,1,1,1,1,1,1,1,1,1,1,1,1,1,1,1,1,1,1,1,1,1,1,1,1,1,1,1,1,1,1,1,1,1,1,1,1,1,1,1,1,1,1,1,1,1,1,1,1,1,1,1,1,1,1,1,1,1,1,1,1,1,1,1,1,1,1,1,1,1,1,1,1,1,1,1,1,1,1,1,1,1,1,1,1,1,1,1,1,1,1,1,1,1,1,1,1,1,1,1,1,1,1,1,1,1,1,1,1,1,1,1,1,1,1,1],\"yaxis\":\"y\",\"type\":\"bar\"}],                        {\"template\":{\"data\":{\"histogram2dcontour\":[{\"type\":\"histogram2dcontour\",\"colorbar\":{\"outlinewidth\":0,\"ticks\":\"\"},\"colorscale\":[[0.0,\"#0d0887\"],[0.1111111111111111,\"#46039f\"],[0.2222222222222222,\"#7201a8\"],[0.3333333333333333,\"#9c179e\"],[0.4444444444444444,\"#bd3786\"],[0.5555555555555556,\"#d8576b\"],[0.6666666666666666,\"#ed7953\"],[0.7777777777777778,\"#fb9f3a\"],[0.8888888888888888,\"#fdca26\"],[1.0,\"#f0f921\"]]}],\"choropleth\":[{\"type\":\"choropleth\",\"colorbar\":{\"outlinewidth\":0,\"ticks\":\"\"}}],\"histogram2d\":[{\"type\":\"histogram2d\",\"colorbar\":{\"outlinewidth\":0,\"ticks\":\"\"},\"colorscale\":[[0.0,\"#0d0887\"],[0.1111111111111111,\"#46039f\"],[0.2222222222222222,\"#7201a8\"],[0.3333333333333333,\"#9c179e\"],[0.4444444444444444,\"#bd3786\"],[0.5555555555555556,\"#d8576b\"],[0.6666666666666666,\"#ed7953\"],[0.7777777777777778,\"#fb9f3a\"],[0.8888888888888888,\"#fdca26\"],[1.0,\"#f0f921\"]]}],\"heatmap\":[{\"type\":\"heatmap\",\"colorbar\":{\"outlinewidth\":0,\"ticks\":\"\"},\"colorscale\":[[0.0,\"#0d0887\"],[0.1111111111111111,\"#46039f\"],[0.2222222222222222,\"#7201a8\"],[0.3333333333333333,\"#9c179e\"],[0.4444444444444444,\"#bd3786\"],[0.5555555555555556,\"#d8576b\"],[0.6666666666666666,\"#ed7953\"],[0.7777777777777778,\"#fb9f3a\"],[0.8888888888888888,\"#fdca26\"],[1.0,\"#f0f921\"]]}],\"heatmapgl\":[{\"type\":\"heatmapgl\",\"colorbar\":{\"outlinewidth\":0,\"ticks\":\"\"},\"colorscale\":[[0.0,\"#0d0887\"],[0.1111111111111111,\"#46039f\"],[0.2222222222222222,\"#7201a8\"],[0.3333333333333333,\"#9c179e\"],[0.4444444444444444,\"#bd3786\"],[0.5555555555555556,\"#d8576b\"],[0.6666666666666666,\"#ed7953\"],[0.7777777777777778,\"#fb9f3a\"],[0.8888888888888888,\"#fdca26\"],[1.0,\"#f0f921\"]]}],\"contourcarpet\":[{\"type\":\"contourcarpet\",\"colorbar\":{\"outlinewidth\":0,\"ticks\":\"\"}}],\"contour\":[{\"type\":\"contour\",\"colorbar\":{\"outlinewidth\":0,\"ticks\":\"\"},\"colorscale\":[[0.0,\"#0d0887\"],[0.1111111111111111,\"#46039f\"],[0.2222222222222222,\"#7201a8\"],[0.3333333333333333,\"#9c179e\"],[0.4444444444444444,\"#bd3786\"],[0.5555555555555556,\"#d8576b\"],[0.6666666666666666,\"#ed7953\"],[0.7777777777777778,\"#fb9f3a\"],[0.8888888888888888,\"#fdca26\"],[1.0,\"#f0f921\"]]}],\"surface\":[{\"type\":\"surface\",\"colorbar\":{\"outlinewidth\":0,\"ticks\":\"\"},\"colorscale\":[[0.0,\"#0d0887\"],[0.1111111111111111,\"#46039f\"],[0.2222222222222222,\"#7201a8\"],[0.3333333333333333,\"#9c179e\"],[0.4444444444444444,\"#bd3786\"],[0.5555555555555556,\"#d8576b\"],[0.6666666666666666,\"#ed7953\"],[0.7777777777777778,\"#fb9f3a\"],[0.8888888888888888,\"#fdca26\"],[1.0,\"#f0f921\"]]}],\"mesh3d\":[{\"type\":\"mesh3d\",\"colorbar\":{\"outlinewidth\":0,\"ticks\":\"\"}}],\"scatter\":[{\"fillpattern\":{\"fillmode\":\"overlay\",\"size\":10,\"solidity\":0.2},\"type\":\"scatter\"}],\"parcoords\":[{\"type\":\"parcoords\",\"line\":{\"colorbar\":{\"outlinewidth\":0,\"ticks\":\"\"}}}],\"scatterpolargl\":[{\"type\":\"scatterpolargl\",\"marker\":{\"colorbar\":{\"outlinewidth\":0,\"ticks\":\"\"}}}],\"bar\":[{\"error_x\":{\"color\":\"#2a3f5f\"},\"error_y\":{\"color\":\"#2a3f5f\"},\"marker\":{\"line\":{\"color\":\"#E5ECF6\",\"width\":0.5},\"pattern\":{\"fillmode\":\"overlay\",\"size\":10,\"solidity\":0.2}},\"type\":\"bar\"}],\"scattergeo\":[{\"type\":\"scattergeo\",\"marker\":{\"colorbar\":{\"outlinewidth\":0,\"ticks\":\"\"}}}],\"scatterpolar\":[{\"type\":\"scatterpolar\",\"marker\":{\"colorbar\":{\"outlinewidth\":0,\"ticks\":\"\"}}}],\"histogram\":[{\"marker\":{\"pattern\":{\"fillmode\":\"overlay\",\"size\":10,\"solidity\":0.2}},\"type\":\"histogram\"}],\"scattergl\":[{\"type\":\"scattergl\",\"marker\":{\"colorbar\":{\"outlinewidth\":0,\"ticks\":\"\"}}}],\"scatter3d\":[{\"type\":\"scatter3d\",\"line\":{\"colorbar\":{\"outlinewidth\":0,\"ticks\":\"\"}},\"marker\":{\"colorbar\":{\"outlinewidth\":0,\"ticks\":\"\"}}}],\"scattermapbox\":[{\"type\":\"scattermapbox\",\"marker\":{\"colorbar\":{\"outlinewidth\":0,\"ticks\":\"\"}}}],\"scatterternary\":[{\"type\":\"scatterternary\",\"marker\":{\"colorbar\":{\"outlinewidth\":0,\"ticks\":\"\"}}}],\"scattercarpet\":[{\"type\":\"scattercarpet\",\"marker\":{\"colorbar\":{\"outlinewidth\":0,\"ticks\":\"\"}}}],\"carpet\":[{\"aaxis\":{\"endlinecolor\":\"#2a3f5f\",\"gridcolor\":\"white\",\"linecolor\":\"white\",\"minorgridcolor\":\"white\",\"startlinecolor\":\"#2a3f5f\"},\"baxis\":{\"endlinecolor\":\"#2a3f5f\",\"gridcolor\":\"white\",\"linecolor\":\"white\",\"minorgridcolor\":\"white\",\"startlinecolor\":\"#2a3f5f\"},\"type\":\"carpet\"}],\"table\":[{\"cells\":{\"fill\":{\"color\":\"#EBF0F8\"},\"line\":{\"color\":\"white\"}},\"header\":{\"fill\":{\"color\":\"#C8D4E3\"},\"line\":{\"color\":\"white\"}},\"type\":\"table\"}],\"barpolar\":[{\"marker\":{\"line\":{\"color\":\"#E5ECF6\",\"width\":0.5},\"pattern\":{\"fillmode\":\"overlay\",\"size\":10,\"solidity\":0.2}},\"type\":\"barpolar\"}],\"pie\":[{\"automargin\":true,\"type\":\"pie\"}]},\"layout\":{\"autotypenumbers\":\"strict\",\"colorway\":[\"#636efa\",\"#EF553B\",\"#00cc96\",\"#ab63fa\",\"#FFA15A\",\"#19d3f3\",\"#FF6692\",\"#B6E880\",\"#FF97FF\",\"#FECB52\"],\"font\":{\"color\":\"#2a3f5f\"},\"hovermode\":\"closest\",\"hoverlabel\":{\"align\":\"left\"},\"paper_bgcolor\":\"white\",\"plot_bgcolor\":\"#E5ECF6\",\"polar\":{\"bgcolor\":\"#E5ECF6\",\"angularaxis\":{\"gridcolor\":\"white\",\"linecolor\":\"white\",\"ticks\":\"\"},\"radialaxis\":{\"gridcolor\":\"white\",\"linecolor\":\"white\",\"ticks\":\"\"}},\"ternary\":{\"bgcolor\":\"#E5ECF6\",\"aaxis\":{\"gridcolor\":\"white\",\"linecolor\":\"white\",\"ticks\":\"\"},\"baxis\":{\"gridcolor\":\"white\",\"linecolor\":\"white\",\"ticks\":\"\"},\"caxis\":{\"gridcolor\":\"white\",\"linecolor\":\"white\",\"ticks\":\"\"}},\"coloraxis\":{\"colorbar\":{\"outlinewidth\":0,\"ticks\":\"\"}},\"colorscale\":{\"sequential\":[[0.0,\"#0d0887\"],[0.1111111111111111,\"#46039f\"],[0.2222222222222222,\"#7201a8\"],[0.3333333333333333,\"#9c179e\"],[0.4444444444444444,\"#bd3786\"],[0.5555555555555556,\"#d8576b\"],[0.6666666666666666,\"#ed7953\"],[0.7777777777777778,\"#fb9f3a\"],[0.8888888888888888,\"#fdca26\"],[1.0,\"#f0f921\"]],\"sequentialminus\":[[0.0,\"#0d0887\"],[0.1111111111111111,\"#46039f\"],[0.2222222222222222,\"#7201a8\"],[0.3333333333333333,\"#9c179e\"],[0.4444444444444444,\"#bd3786\"],[0.5555555555555556,\"#d8576b\"],[0.6666666666666666,\"#ed7953\"],[0.7777777777777778,\"#fb9f3a\"],[0.8888888888888888,\"#fdca26\"],[1.0,\"#f0f921\"]],\"diverging\":[[0,\"#8e0152\"],[0.1,\"#c51b7d\"],[0.2,\"#de77ae\"],[0.3,\"#f1b6da\"],[0.4,\"#fde0ef\"],[0.5,\"#f7f7f7\"],[0.6,\"#e6f5d0\"],[0.7,\"#b8e186\"],[0.8,\"#7fbc41\"],[0.9,\"#4d9221\"],[1,\"#276419\"]]},\"xaxis\":{\"gridcolor\":\"white\",\"linecolor\":\"white\",\"ticks\":\"\",\"title\":{\"standoff\":15},\"zerolinecolor\":\"white\",\"automargin\":true,\"zerolinewidth\":2},\"yaxis\":{\"gridcolor\":\"white\",\"linecolor\":\"white\",\"ticks\":\"\",\"title\":{\"standoff\":15},\"zerolinecolor\":\"white\",\"automargin\":true,\"zerolinewidth\":2},\"scene\":{\"xaxis\":{\"backgroundcolor\":\"#E5ECF6\",\"gridcolor\":\"white\",\"linecolor\":\"white\",\"showbackground\":true,\"ticks\":\"\",\"zerolinecolor\":\"white\",\"gridwidth\":2},\"yaxis\":{\"backgroundcolor\":\"#E5ECF6\",\"gridcolor\":\"white\",\"linecolor\":\"white\",\"showbackground\":true,\"ticks\":\"\",\"zerolinecolor\":\"white\",\"gridwidth\":2},\"zaxis\":{\"backgroundcolor\":\"#E5ECF6\",\"gridcolor\":\"white\",\"linecolor\":\"white\",\"showbackground\":true,\"ticks\":\"\",\"zerolinecolor\":\"white\",\"gridwidth\":2}},\"shapedefaults\":{\"line\":{\"color\":\"#2a3f5f\"}},\"annotationdefaults\":{\"arrowcolor\":\"#2a3f5f\",\"arrowhead\":0,\"arrowwidth\":1},\"geo\":{\"bgcolor\":\"white\",\"landcolor\":\"#E5ECF6\",\"subunitcolor\":\"white\",\"showland\":true,\"showlakes\":true,\"lakecolor\":\"white\"},\"title\":{\"x\":0.05},\"mapbox\":{\"style\":\"light\"}}},\"xaxis\":{\"anchor\":\"y\",\"domain\":[0.0,1.0],\"title\":{\"text\":\"location\"}},\"yaxis\":{\"anchor\":\"x\",\"domain\":[0.0,1.0],\"title\":{\"text\":\"count\"}},\"legend\":{\"tracegroupgap\":0},\"title\":{\"text\":\"Number of maintenance orders per each city/zone\"},\"barmode\":\"relative\"},                        {\"responsive\": true}                    ).then(function(){\n",
       "                            \n",
       "var gd = document.getElementById('a4c29c95-3314-44c3-a3ce-9e0e1ba6b466');\n",
       "var x = new MutationObserver(function (mutations, observer) {{\n",
       "        var display = window.getComputedStyle(gd).display;\n",
       "        if (!display || display === 'none') {{\n",
       "            console.log([gd, 'removed!']);\n",
       "            Plotly.purge(gd);\n",
       "            observer.disconnect();\n",
       "        }}\n",
       "}});\n",
       "\n",
       "// Listen for the removal of the full notebook cells\n",
       "var notebookContainer = gd.closest('#notebook-container');\n",
       "if (notebookContainer) {{\n",
       "    x.observe(notebookContainer, {childList: true});\n",
       "}}\n",
       "\n",
       "// Listen for the clearing of the current output cell\n",
       "var outputEl = gd.closest('.output');\n",
       "if (outputEl) {{\n",
       "    x.observe(outputEl, {childList: true});\n",
       "}}\n",
       "\n",
       "                        })                };                });            </script>        </div>"
      ]
     },
     "metadata": {},
     "output_type": "display_data"
    }
   ],
   "source": [
    "#Number of orders per city/zone\n",
    "\n",
    "#KSAUHS-1=  RIYADH\n",
    "#KSAUHS-2= JEDDAH\n",
    "#KSAUHS-3= AL HASA\n",
    "\n",
    "fig = px.bar(df, x=\"location\", title='Number of maintenance orders per each city/zone', \n",
    "            color_discrete_sequence=px.colors.sequential.RdBu)\n",
    "fig.show()"
   ]
  },
  {
   "cell_type": "code",
   "execution_count": null,
   "id": "80c6ea3f",
   "metadata": {},
   "outputs": [],
   "source": []
  },
  {
   "cell_type": "code",
   "execution_count": 104,
   "id": "4b1ab456",
   "metadata": {},
   "outputs": [
    {
     "data": {
      "text/plain": [
       "RIYADH     477\n",
       "JEDDAH     326\n",
       "AL HASA    197\n",
       "Name: siteid, dtype: int64"
      ]
     },
     "execution_count": 104,
     "metadata": {},
     "output_type": "execute_result"
    }
   ],
   "source": [
    "df['siteid'].value_counts()"
   ]
  },
  {
   "cell_type": "code",
   "execution_count": 97,
   "id": "a665e523",
   "metadata": {},
   "outputs": [
    {
     "data": {
      "application/vnd.plotly.v1+json": {
       "config": {
        "plotlyServerURL": "https://plot.ly"
       },
       "data": [
        {
         "alignmentgroup": "True",
         "hovertemplate": "siteid=%{x}<br>count=%{y}<extra></extra>",
         "legendgroup": "",
         "marker": {
          "color": "rgb(103,0,31)",
          "pattern": {
           "shape": ""
          }
         },
         "name": "",
         "offsetgroup": "",
         "orientation": "v",
         "showlegend": false,
         "textposition": "auto",
         "type": "bar",
         "x": [
          "AL HASA",
          "JEDDAH",
          "RIYADH",
          "RIYADH",
          "RIYADH",
          "RIYADH",
          "JEDDAH",
          "RIYADH",
          "JEDDAH",
          "AL HASA",
          "AL HASA",
          "AL HASA",
          "RIYADH",
          "AL HASA",
          "AL HASA",
          "RIYADH",
          "RIYADH",
          "AL HASA",
          "RIYADH",
          "AL HASA",
          "RIYADH",
          "RIYADH",
          "RIYADH",
          "JEDDAH",
          "JEDDAH",
          "RIYADH",
          "RIYADH",
          "JEDDAH",
          "RIYADH",
          "JEDDAH",
          "JEDDAH",
          "AL HASA",
          "JEDDAH",
          "JEDDAH",
          "AL HASA",
          "AL HASA",
          "JEDDAH",
          "RIYADH",
          "RIYADH",
          "RIYADH",
          "RIYADH",
          "JEDDAH",
          "RIYADH",
          "JEDDAH",
          "RIYADH",
          "JEDDAH",
          "AL HASA",
          "RIYADH",
          "RIYADH",
          "RIYADH",
          "RIYADH",
          "RIYADH",
          "AL HASA",
          "RIYADH",
          "JEDDAH",
          "JEDDAH",
          "JEDDAH",
          "AL HASA",
          "JEDDAH",
          "JEDDAH",
          "RIYADH",
          "AL HASA",
          "RIYADH",
          "JEDDAH",
          "RIYADH",
          "JEDDAH",
          "JEDDAH",
          "RIYADH",
          "JEDDAH",
          "JEDDAH",
          "AL HASA",
          "RIYADH",
          "JEDDAH",
          "RIYADH",
          "JEDDAH",
          "RIYADH",
          "RIYADH",
          "JEDDAH",
          "RIYADH",
          "JEDDAH",
          "AL HASA",
          "JEDDAH",
          "RIYADH",
          "JEDDAH",
          "RIYADH",
          "RIYADH",
          "JEDDAH",
          "AL HASA",
          "RIYADH",
          "AL HASA",
          "JEDDAH",
          "RIYADH",
          "JEDDAH",
          "RIYADH",
          "RIYADH",
          "JEDDAH",
          "AL HASA",
          "RIYADH",
          "AL HASA",
          "RIYADH",
          "JEDDAH",
          "RIYADH",
          "RIYADH",
          "RIYADH",
          "JEDDAH",
          "AL HASA",
          "AL HASA",
          "JEDDAH",
          "JEDDAH",
          "RIYADH",
          "AL HASA",
          "RIYADH",
          "RIYADH",
          "AL HASA",
          "AL HASA",
          "JEDDAH",
          "RIYADH",
          "RIYADH",
          "JEDDAH",
          "RIYADH",
          "RIYADH",
          "JEDDAH",
          "RIYADH",
          "AL HASA",
          "RIYADH",
          "RIYADH",
          "AL HASA",
          "JEDDAH",
          "AL HASA",
          "AL HASA",
          "JEDDAH",
          "AL HASA",
          "AL HASA",
          "JEDDAH",
          "RIYADH",
          "JEDDAH",
          "RIYADH",
          "JEDDAH",
          "RIYADH",
          "AL HASA",
          "RIYADH",
          "JEDDAH",
          "JEDDAH",
          "RIYADH",
          "RIYADH",
          "JEDDAH",
          "AL HASA",
          "JEDDAH",
          "JEDDAH",
          "AL HASA",
          "JEDDAH",
          "JEDDAH",
          "RIYADH",
          "JEDDAH",
          "AL HASA",
          "AL HASA",
          "JEDDAH",
          "AL HASA",
          "RIYADH",
          "RIYADH",
          "JEDDAH",
          "RIYADH",
          "JEDDAH",
          "RIYADH",
          "RIYADH",
          "JEDDAH",
          "JEDDAH",
          "RIYADH",
          "RIYADH",
          "JEDDAH",
          "AL HASA",
          "RIYADH",
          "JEDDAH",
          "RIYADH",
          "JEDDAH",
          "RIYADH",
          "JEDDAH",
          "RIYADH",
          "RIYADH",
          "JEDDAH",
          "RIYADH",
          "AL HASA",
          "RIYADH",
          "AL HASA",
          "RIYADH",
          "AL HASA",
          "RIYADH",
          "JEDDAH",
          "RIYADH",
          "RIYADH",
          "RIYADH",
          "AL HASA",
          "RIYADH",
          "RIYADH",
          "JEDDAH",
          "JEDDAH",
          "AL HASA",
          "JEDDAH",
          "AL HASA",
          "JEDDAH",
          "RIYADH",
          "JEDDAH",
          "JEDDAH",
          "JEDDAH",
          "JEDDAH",
          "JEDDAH",
          "JEDDAH",
          "JEDDAH",
          "RIYADH",
          "RIYADH",
          "JEDDAH",
          "JEDDAH",
          "AL HASA",
          "JEDDAH",
          "RIYADH",
          "JEDDAH",
          "RIYADH",
          "RIYADH",
          "RIYADH",
          "AL HASA",
          "JEDDAH",
          "JEDDAH",
          "JEDDAH",
          "RIYADH",
          "RIYADH",
          "AL HASA",
          "RIYADH",
          "JEDDAH",
          "AL HASA",
          "JEDDAH",
          "JEDDAH",
          "RIYADH",
          "RIYADH",
          "JEDDAH",
          "AL HASA",
          "JEDDAH",
          "AL HASA",
          "JEDDAH",
          "RIYADH",
          "RIYADH",
          "RIYADH",
          "RIYADH",
          "AL HASA",
          "JEDDAH",
          "JEDDAH",
          "JEDDAH",
          "AL HASA",
          "JEDDAH",
          "RIYADH",
          "RIYADH",
          "RIYADH",
          "RIYADH",
          "RIYADH",
          "JEDDAH",
          "RIYADH",
          "AL HASA",
          "JEDDAH",
          "RIYADH",
          "RIYADH",
          "RIYADH",
          "RIYADH",
          "RIYADH",
          "RIYADH",
          "AL HASA",
          "JEDDAH",
          "JEDDAH",
          "JEDDAH",
          "JEDDAH",
          "RIYADH",
          "AL HASA",
          "JEDDAH",
          "RIYADH",
          "AL HASA",
          "RIYADH",
          "RIYADH",
          "RIYADH",
          "RIYADH",
          "AL HASA",
          "RIYADH",
          "AL HASA",
          "AL HASA",
          "AL HASA",
          "JEDDAH",
          "AL HASA",
          "JEDDAH",
          "RIYADH",
          "RIYADH",
          "RIYADH",
          "RIYADH",
          "RIYADH",
          "JEDDAH",
          "JEDDAH",
          "JEDDAH",
          "RIYADH",
          "RIYADH",
          "AL HASA",
          "AL HASA",
          "RIYADH",
          "RIYADH",
          "AL HASA",
          "RIYADH",
          "RIYADH",
          "AL HASA",
          "JEDDAH",
          "AL HASA",
          "RIYADH",
          "JEDDAH",
          "JEDDAH",
          "JEDDAH",
          "AL HASA",
          "RIYADH",
          "JEDDAH",
          "AL HASA",
          "JEDDAH",
          "RIYADH",
          "RIYADH",
          "RIYADH",
          "RIYADH",
          "JEDDAH",
          "RIYADH",
          "JEDDAH",
          "JEDDAH",
          "JEDDAH",
          "RIYADH",
          "RIYADH",
          "JEDDAH",
          "RIYADH",
          "AL HASA",
          "RIYADH",
          "JEDDAH",
          "AL HASA",
          "AL HASA",
          "RIYADH",
          "JEDDAH",
          "AL HASA",
          "RIYADH",
          "RIYADH",
          "JEDDAH",
          "RIYADH",
          "RIYADH",
          "JEDDAH",
          "RIYADH",
          "JEDDAH",
          "AL HASA",
          "AL HASA",
          "JEDDAH",
          "RIYADH",
          "JEDDAH",
          "RIYADH",
          "RIYADH",
          "RIYADH",
          "JEDDAH",
          "AL HASA",
          "AL HASA",
          "AL HASA",
          "RIYADH",
          "RIYADH",
          "AL HASA",
          "RIYADH",
          "JEDDAH",
          "RIYADH",
          "AL HASA",
          "AL HASA",
          "JEDDAH",
          "JEDDAH",
          "RIYADH",
          "RIYADH",
          "RIYADH",
          "RIYADH",
          "JEDDAH",
          "JEDDAH",
          "RIYADH",
          "AL HASA",
          "JEDDAH",
          "RIYADH",
          "RIYADH",
          "AL HASA",
          "RIYADH",
          "AL HASA",
          "JEDDAH",
          "RIYADH",
          "JEDDAH",
          "RIYADH",
          "AL HASA",
          "JEDDAH",
          "JEDDAH",
          "JEDDAH",
          "RIYADH",
          "JEDDAH",
          "JEDDAH",
          "JEDDAH",
          "RIYADH",
          "JEDDAH",
          "AL HASA",
          "RIYADH",
          "RIYADH",
          "RIYADH",
          "RIYADH",
          "JEDDAH",
          "RIYADH",
          "AL HASA",
          "RIYADH",
          "RIYADH",
          "JEDDAH",
          "JEDDAH",
          "AL HASA",
          "RIYADH",
          "RIYADH",
          "JEDDAH",
          "AL HASA",
          "RIYADH",
          "RIYADH",
          "RIYADH",
          "RIYADH",
          "AL HASA",
          "RIYADH",
          "RIYADH",
          "RIYADH",
          "JEDDAH",
          "JEDDAH",
          "RIYADH",
          "AL HASA",
          "RIYADH",
          "RIYADH",
          "JEDDAH",
          "AL HASA",
          "AL HASA",
          "RIYADH",
          "RIYADH",
          "RIYADH",
          "JEDDAH",
          "AL HASA",
          "JEDDAH",
          "JEDDAH",
          "RIYADH",
          "RIYADH",
          "RIYADH",
          "AL HASA",
          "JEDDAH",
          "JEDDAH",
          "JEDDAH",
          "RIYADH",
          "RIYADH",
          "RIYADH",
          "JEDDAH",
          "JEDDAH",
          "RIYADH",
          "JEDDAH",
          "JEDDAH",
          "JEDDAH",
          "JEDDAH",
          "RIYADH",
          "RIYADH",
          "AL HASA",
          "JEDDAH",
          "RIYADH",
          "RIYADH",
          "JEDDAH",
          "JEDDAH",
          "RIYADH",
          "RIYADH",
          "JEDDAH",
          "RIYADH",
          "JEDDAH",
          "JEDDAH",
          "RIYADH",
          "AL HASA",
          "JEDDAH",
          "RIYADH",
          "RIYADH",
          "RIYADH",
          "AL HASA",
          "JEDDAH",
          "RIYADH",
          "RIYADH",
          "RIYADH",
          "RIYADH",
          "RIYADH",
          "RIYADH",
          "JEDDAH",
          "RIYADH",
          "RIYADH",
          "JEDDAH",
          "RIYADH",
          "RIYADH",
          "RIYADH",
          "RIYADH",
          "RIYADH",
          "JEDDAH",
          "RIYADH",
          "JEDDAH",
          "RIYADH",
          "JEDDAH",
          "AL HASA",
          "RIYADH",
          "JEDDAH",
          "JEDDAH",
          "RIYADH",
          "RIYADH",
          "JEDDAH",
          "RIYADH",
          "JEDDAH",
          "AL HASA",
          "RIYADH",
          "RIYADH",
          "RIYADH",
          "AL HASA",
          "AL HASA",
          "JEDDAH",
          "JEDDAH",
          "JEDDAH",
          "RIYADH",
          "JEDDAH",
          "JEDDAH",
          "RIYADH",
          "AL HASA",
          "JEDDAH",
          "RIYADH",
          "RIYADH",
          "RIYADH",
          "JEDDAH",
          "RIYADH",
          "JEDDAH",
          "JEDDAH",
          "JEDDAH",
          "RIYADH",
          "JEDDAH",
          "RIYADH",
          "RIYADH",
          "JEDDAH",
          "JEDDAH",
          "RIYADH",
          "RIYADH",
          "RIYADH",
          "RIYADH",
          "RIYADH",
          "RIYADH",
          "RIYADH",
          "RIYADH",
          "AL HASA",
          "RIYADH",
          "JEDDAH",
          "JEDDAH",
          "JEDDAH",
          "AL HASA",
          "RIYADH",
          "RIYADH",
          "RIYADH",
          "RIYADH",
          "AL HASA",
          "AL HASA",
          "AL HASA",
          "RIYADH",
          "AL HASA",
          "RIYADH",
          "RIYADH",
          "RIYADH",
          "JEDDAH",
          "RIYADH",
          "RIYADH",
          "JEDDAH",
          "AL HASA",
          "RIYADH",
          "AL HASA",
          "JEDDAH",
          "JEDDAH",
          "RIYADH",
          "AL HASA",
          "JEDDAH",
          "AL HASA",
          "RIYADH",
          "JEDDAH",
          "RIYADH",
          "RIYADH",
          "RIYADH",
          "JEDDAH",
          "JEDDAH",
          "JEDDAH",
          "RIYADH",
          "RIYADH",
          "RIYADH",
          "AL HASA",
          "RIYADH",
          "JEDDAH",
          "RIYADH",
          "RIYADH",
          "RIYADH",
          "RIYADH",
          "RIYADH",
          "JEDDAH",
          "RIYADH",
          "JEDDAH",
          "AL HASA",
          "JEDDAH",
          "JEDDAH",
          "RIYADH",
          "RIYADH",
          "RIYADH",
          "JEDDAH",
          "AL HASA",
          "JEDDAH",
          "RIYADH",
          "RIYADH",
          "AL HASA",
          "JEDDAH",
          "JEDDAH",
          "RIYADH",
          "RIYADH",
          "RIYADH",
          "JEDDAH",
          "RIYADH",
          "RIYADH",
          "AL HASA",
          "RIYADH",
          "JEDDAH",
          "JEDDAH",
          "JEDDAH",
          "JEDDAH",
          "RIYADH",
          "RIYADH",
          "RIYADH",
          "RIYADH",
          "RIYADH",
          "AL HASA",
          "AL HASA",
          "JEDDAH",
          "RIYADH",
          "AL HASA",
          "JEDDAH",
          "AL HASA",
          "AL HASA",
          "RIYADH",
          "RIYADH",
          "AL HASA",
          "RIYADH",
          "RIYADH",
          "RIYADH",
          "RIYADH",
          "RIYADH",
          "JEDDAH",
          "RIYADH",
          "AL HASA",
          "JEDDAH",
          "RIYADH",
          "RIYADH",
          "JEDDAH",
          "RIYADH",
          "RIYADH",
          "RIYADH",
          "JEDDAH",
          "JEDDAH",
          "RIYADH",
          "RIYADH",
          "RIYADH",
          "RIYADH",
          "AL HASA",
          "JEDDAH",
          "RIYADH",
          "RIYADH",
          "AL HASA",
          "AL HASA",
          "RIYADH",
          "JEDDAH",
          "RIYADH",
          "AL HASA",
          "JEDDAH",
          "RIYADH",
          "RIYADH",
          "JEDDAH",
          "AL HASA",
          "AL HASA",
          "JEDDAH",
          "RIYADH",
          "AL HASA",
          "RIYADH",
          "RIYADH",
          "RIYADH",
          "JEDDAH",
          "AL HASA",
          "RIYADH",
          "JEDDAH",
          "RIYADH",
          "RIYADH",
          "JEDDAH",
          "AL HASA",
          "AL HASA",
          "RIYADH",
          "RIYADH",
          "JEDDAH",
          "JEDDAH",
          "RIYADH",
          "JEDDAH",
          "RIYADH",
          "RIYADH",
          "RIYADH",
          "JEDDAH",
          "JEDDAH",
          "RIYADH",
          "RIYADH",
          "JEDDAH",
          "JEDDAH",
          "RIYADH",
          "RIYADH",
          "JEDDAH",
          "AL HASA",
          "JEDDAH",
          "RIYADH",
          "RIYADH",
          "RIYADH",
          "RIYADH",
          "RIYADH",
          "AL HASA",
          "RIYADH",
          "RIYADH",
          "RIYADH",
          "RIYADH",
          "RIYADH",
          "RIYADH",
          "RIYADH",
          "RIYADH",
          "RIYADH",
          "RIYADH",
          "RIYADH",
          "AL HASA",
          "RIYADH",
          "RIYADH",
          "JEDDAH",
          "RIYADH",
          "JEDDAH",
          "JEDDAH",
          "JEDDAH",
          "RIYADH",
          "JEDDAH",
          "JEDDAH",
          "JEDDAH",
          "RIYADH",
          "RIYADH",
          "AL HASA",
          "AL HASA",
          "RIYADH",
          "JEDDAH",
          "JEDDAH",
          "RIYADH",
          "RIYADH",
          "RIYADH",
          "JEDDAH",
          "RIYADH",
          "RIYADH",
          "RIYADH",
          "RIYADH",
          "JEDDAH",
          "RIYADH",
          "RIYADH",
          "AL HASA",
          "JEDDAH",
          "RIYADH",
          "RIYADH",
          "RIYADH",
          "RIYADH",
          "AL HASA",
          "JEDDAH",
          "RIYADH",
          "RIYADH",
          "RIYADH",
          "AL HASA",
          "RIYADH",
          "JEDDAH",
          "JEDDAH",
          "AL HASA",
          "AL HASA",
          "RIYADH",
          "RIYADH",
          "RIYADH",
          "RIYADH",
          "JEDDAH",
          "AL HASA",
          "AL HASA",
          "AL HASA",
          "AL HASA",
          "JEDDAH",
          "RIYADH",
          "RIYADH",
          "RIYADH",
          "AL HASA",
          "JEDDAH",
          "JEDDAH",
          "AL HASA",
          "RIYADH",
          "RIYADH",
          "RIYADH",
          "JEDDAH",
          "JEDDAH",
          "AL HASA",
          "RIYADH",
          "RIYADH",
          "RIYADH",
          "JEDDAH",
          "JEDDAH",
          "RIYADH",
          "RIYADH",
          "RIYADH",
          "JEDDAH",
          "JEDDAH",
          "AL HASA",
          "RIYADH",
          "RIYADH",
          "AL HASA",
          "JEDDAH",
          "AL HASA",
          "AL HASA",
          "JEDDAH",
          "JEDDAH",
          "RIYADH",
          "RIYADH",
          "JEDDAH",
          "RIYADH",
          "JEDDAH",
          "JEDDAH",
          "RIYADH",
          "JEDDAH",
          "RIYADH",
          "AL HASA",
          "AL HASA",
          "RIYADH",
          "JEDDAH",
          "AL HASA",
          "JEDDAH",
          "RIYADH",
          "JEDDAH",
          "JEDDAH",
          "RIYADH",
          "RIYADH",
          "AL HASA",
          "RIYADH",
          "AL HASA",
          "RIYADH",
          "RIYADH",
          "JEDDAH",
          "JEDDAH",
          "RIYADH",
          "RIYADH",
          "RIYADH",
          "RIYADH",
          "RIYADH",
          "AL HASA",
          "AL HASA",
          "AL HASA",
          "AL HASA",
          "RIYADH",
          "JEDDAH",
          "RIYADH",
          "JEDDAH",
          "AL HASA",
          "AL HASA",
          "RIYADH",
          "RIYADH",
          "JEDDAH",
          "RIYADH",
          "RIYADH",
          "JEDDAH",
          "RIYADH",
          "RIYADH",
          "RIYADH",
          "RIYADH",
          "JEDDAH",
          "AL HASA",
          "AL HASA",
          "JEDDAH",
          "JEDDAH",
          "RIYADH",
          "RIYADH",
          "AL HASA",
          "RIYADH",
          "RIYADH",
          "RIYADH",
          "AL HASA",
          "RIYADH",
          "JEDDAH",
          "RIYADH",
          "AL HASA",
          "RIYADH",
          "RIYADH",
          "RIYADH",
          "RIYADH",
          "RIYADH",
          "RIYADH",
          "AL HASA",
          "JEDDAH",
          "JEDDAH",
          "RIYADH",
          "RIYADH",
          "JEDDAH",
          "RIYADH",
          "RIYADH",
          "JEDDAH",
          "JEDDAH",
          "JEDDAH",
          "AL HASA",
          "RIYADH",
          "RIYADH",
          "JEDDAH",
          "RIYADH",
          "AL HASA",
          "RIYADH",
          "RIYADH",
          "AL HASA",
          "JEDDAH",
          "JEDDAH",
          "JEDDAH",
          "RIYADH",
          "JEDDAH",
          "RIYADH",
          "RIYADH",
          "RIYADH",
          "RIYADH",
          "JEDDAH",
          "AL HASA",
          "AL HASA",
          "RIYADH",
          "JEDDAH",
          "JEDDAH",
          "RIYADH",
          "JEDDAH",
          "RIYADH",
          "AL HASA",
          "JEDDAH",
          "RIYADH",
          "RIYADH",
          "JEDDAH",
          "JEDDAH",
          "RIYADH",
          "JEDDAH",
          "AL HASA",
          "RIYADH",
          "RIYADH",
          "RIYADH",
          "AL HASA",
          "RIYADH",
          "JEDDAH",
          "AL HASA",
          "RIYADH",
          "JEDDAH",
          "JEDDAH",
          "AL HASA",
          "RIYADH",
          "AL HASA",
          "JEDDAH",
          "RIYADH",
          "AL HASA",
          "RIYADH",
          "RIYADH",
          "RIYADH",
          "AL HASA",
          "RIYADH",
          "JEDDAH",
          "JEDDAH",
          "RIYADH",
          "JEDDAH",
          "JEDDAH",
          "JEDDAH",
          "JEDDAH",
          "RIYADH",
          "JEDDAH",
          "AL HASA",
          "RIYADH",
          "RIYADH",
          "RIYADH",
          "JEDDAH",
          "RIYADH",
          "JEDDAH",
          "AL HASA",
          "AL HASA",
          "JEDDAH",
          "JEDDAH",
          "AL HASA",
          "RIYADH",
          "RIYADH",
          "JEDDAH",
          "JEDDAH",
          "RIYADH",
          "JEDDAH",
          "AL HASA",
          "AL HASA",
          "RIYADH",
          "RIYADH",
          "JEDDAH",
          "JEDDAH",
          "RIYADH",
          "AL HASA",
          "JEDDAH",
          "RIYADH",
          "AL HASA",
          "RIYADH",
          "RIYADH",
          "AL HASA",
          "JEDDAH",
          "AL HASA",
          "JEDDAH",
          "AL HASA",
          "RIYADH"
         ],
         "xaxis": "x",
         "y": [
          1,
          1,
          1,
          1,
          1,
          1,
          1,
          1,
          1,
          1,
          1,
          1,
          1,
          1,
          1,
          1,
          1,
          1,
          1,
          1,
          1,
          1,
          1,
          1,
          1,
          1,
          1,
          1,
          1,
          1,
          1,
          1,
          1,
          1,
          1,
          1,
          1,
          1,
          1,
          1,
          1,
          1,
          1,
          1,
          1,
          1,
          1,
          1,
          1,
          1,
          1,
          1,
          1,
          1,
          1,
          1,
          1,
          1,
          1,
          1,
          1,
          1,
          1,
          1,
          1,
          1,
          1,
          1,
          1,
          1,
          1,
          1,
          1,
          1,
          1,
          1,
          1,
          1,
          1,
          1,
          1,
          1,
          1,
          1,
          1,
          1,
          1,
          1,
          1,
          1,
          1,
          1,
          1,
          1,
          1,
          1,
          1,
          1,
          1,
          1,
          1,
          1,
          1,
          1,
          1,
          1,
          1,
          1,
          1,
          1,
          1,
          1,
          1,
          1,
          1,
          1,
          1,
          1,
          1,
          1,
          1,
          1,
          1,
          1,
          1,
          1,
          1,
          1,
          1,
          1,
          1,
          1,
          1,
          1,
          1,
          1,
          1,
          1,
          1,
          1,
          1,
          1,
          1,
          1,
          1,
          1,
          1,
          1,
          1,
          1,
          1,
          1,
          1,
          1,
          1,
          1,
          1,
          1,
          1,
          1,
          1,
          1,
          1,
          1,
          1,
          1,
          1,
          1,
          1,
          1,
          1,
          1,
          1,
          1,
          1,
          1,
          1,
          1,
          1,
          1,
          1,
          1,
          1,
          1,
          1,
          1,
          1,
          1,
          1,
          1,
          1,
          1,
          1,
          1,
          1,
          1,
          1,
          1,
          1,
          1,
          1,
          1,
          1,
          1,
          1,
          1,
          1,
          1,
          1,
          1,
          1,
          1,
          1,
          1,
          1,
          1,
          1,
          1,
          1,
          1,
          1,
          1,
          1,
          1,
          1,
          1,
          1,
          1,
          1,
          1,
          1,
          1,
          1,
          1,
          1,
          1,
          1,
          1,
          1,
          1,
          1,
          1,
          1,
          1,
          1,
          1,
          1,
          1,
          1,
          1,
          1,
          1,
          1,
          1,
          1,
          1,
          1,
          1,
          1,
          1,
          1,
          1,
          1,
          1,
          1,
          1,
          1,
          1,
          1,
          1,
          1,
          1,
          1,
          1,
          1,
          1,
          1,
          1,
          1,
          1,
          1,
          1,
          1,
          1,
          1,
          1,
          1,
          1,
          1,
          1,
          1,
          1,
          1,
          1,
          1,
          1,
          1,
          1,
          1,
          1,
          1,
          1,
          1,
          1,
          1,
          1,
          1,
          1,
          1,
          1,
          1,
          1,
          1,
          1,
          1,
          1,
          1,
          1,
          1,
          1,
          1,
          1,
          1,
          1,
          1,
          1,
          1,
          1,
          1,
          1,
          1,
          1,
          1,
          1,
          1,
          1,
          1,
          1,
          1,
          1,
          1,
          1,
          1,
          1,
          1,
          1,
          1,
          1,
          1,
          1,
          1,
          1,
          1,
          1,
          1,
          1,
          1,
          1,
          1,
          1,
          1,
          1,
          1,
          1,
          1,
          1,
          1,
          1,
          1,
          1,
          1,
          1,
          1,
          1,
          1,
          1,
          1,
          1,
          1,
          1,
          1,
          1,
          1,
          1,
          1,
          1,
          1,
          1,
          1,
          1,
          1,
          1,
          1,
          1,
          1,
          1,
          1,
          1,
          1,
          1,
          1,
          1,
          1,
          1,
          1,
          1,
          1,
          1,
          1,
          1,
          1,
          1,
          1,
          1,
          1,
          1,
          1,
          1,
          1,
          1,
          1,
          1,
          1,
          1,
          1,
          1,
          1,
          1,
          1,
          1,
          1,
          1,
          1,
          1,
          1,
          1,
          1,
          1,
          1,
          1,
          1,
          1,
          1,
          1,
          1,
          1,
          1,
          1,
          1,
          1,
          1,
          1,
          1,
          1,
          1,
          1,
          1,
          1,
          1,
          1,
          1,
          1,
          1,
          1,
          1,
          1,
          1,
          1,
          1,
          1,
          1,
          1,
          1,
          1,
          1,
          1,
          1,
          1,
          1,
          1,
          1,
          1,
          1,
          1,
          1,
          1,
          1,
          1,
          1,
          1,
          1,
          1,
          1,
          1,
          1,
          1,
          1,
          1,
          1,
          1,
          1,
          1,
          1,
          1,
          1,
          1,
          1,
          1,
          1,
          1,
          1,
          1,
          1,
          1,
          1,
          1,
          1,
          1,
          1,
          1,
          1,
          1,
          1,
          1,
          1,
          1,
          1,
          1,
          1,
          1,
          1,
          1,
          1,
          1,
          1,
          1,
          1,
          1,
          1,
          1,
          1,
          1,
          1,
          1,
          1,
          1,
          1,
          1,
          1,
          1,
          1,
          1,
          1,
          1,
          1,
          1,
          1,
          1,
          1,
          1,
          1,
          1,
          1,
          1,
          1,
          1,
          1,
          1,
          1,
          1,
          1,
          1,
          1,
          1,
          1,
          1,
          1,
          1,
          1,
          1,
          1,
          1,
          1,
          1,
          1,
          1,
          1,
          1,
          1,
          1,
          1,
          1,
          1,
          1,
          1,
          1,
          1,
          1,
          1,
          1,
          1,
          1,
          1,
          1,
          1,
          1,
          1,
          1,
          1,
          1,
          1,
          1,
          1,
          1,
          1,
          1,
          1,
          1,
          1,
          1,
          1,
          1,
          1,
          1,
          1,
          1,
          1,
          1,
          1,
          1,
          1,
          1,
          1,
          1,
          1,
          1,
          1,
          1,
          1,
          1,
          1,
          1,
          1,
          1,
          1,
          1,
          1,
          1,
          1,
          1,
          1,
          1,
          1,
          1,
          1,
          1,
          1,
          1,
          1,
          1,
          1,
          1,
          1,
          1,
          1,
          1,
          1,
          1,
          1,
          1,
          1,
          1,
          1,
          1,
          1,
          1,
          1,
          1,
          1,
          1,
          1,
          1,
          1,
          1,
          1,
          1,
          1,
          1,
          1,
          1,
          1,
          1,
          1,
          1,
          1,
          1,
          1,
          1,
          1,
          1,
          1,
          1,
          1,
          1,
          1,
          1,
          1,
          1,
          1,
          1,
          1,
          1,
          1,
          1,
          1,
          1,
          1,
          1,
          1,
          1,
          1,
          1,
          1,
          1,
          1,
          1,
          1,
          1,
          1,
          1,
          1,
          1,
          1,
          1,
          1,
          1,
          1,
          1,
          1,
          1,
          1,
          1,
          1,
          1,
          1,
          1,
          1,
          1,
          1,
          1,
          1,
          1,
          1,
          1,
          1,
          1,
          1,
          1,
          1,
          1,
          1,
          1,
          1,
          1,
          1,
          1,
          1,
          1,
          1,
          1,
          1,
          1,
          1,
          1,
          1,
          1,
          1,
          1,
          1,
          1,
          1,
          1,
          1,
          1,
          1,
          1,
          1,
          1,
          1,
          1,
          1,
          1,
          1,
          1,
          1,
          1,
          1,
          1,
          1,
          1,
          1,
          1,
          1,
          1,
          1,
          1,
          1,
          1,
          1,
          1,
          1,
          1,
          1,
          1,
          1,
          1,
          1,
          1,
          1,
          1,
          1,
          1,
          1,
          1,
          1,
          1,
          1,
          1,
          1,
          1,
          1,
          1,
          1,
          1,
          1,
          1,
          1,
          1,
          1,
          1,
          1,
          1,
          1,
          1,
          1,
          1,
          1,
          1,
          1,
          1,
          1,
          1,
          1,
          1,
          1,
          1,
          1,
          1,
          1,
          1,
          1,
          1,
          1,
          1,
          1,
          1,
          1,
          1,
          1,
          1,
          1,
          1,
          1,
          1,
          1,
          1,
          1,
          1,
          1,
          1,
          1,
          1,
          1,
          1,
          1,
          1,
          1,
          1,
          1,
          1,
          1,
          1,
          1,
          1,
          1,
          1,
          1,
          1,
          1,
          1,
          1,
          1,
          1,
          1,
          1,
          1,
          1,
          1,
          1,
          1,
          1,
          1,
          1,
          1,
          1,
          1,
          1,
          1,
          1,
          1,
          1,
          1,
          1,
          1,
          1,
          1,
          1,
          1,
          1,
          1,
          1,
          1,
          1,
          1,
          1,
          1,
          1,
          1,
          1,
          1,
          1,
          1,
          1,
          1,
          1,
          1,
          1,
          1,
          1,
          1,
          1,
          1,
          1,
          1,
          1,
          1,
          1,
          1,
          1,
          1,
          1,
          1,
          1,
          1,
          1,
          1,
          1,
          1,
          1,
          1,
          1,
          1,
          1,
          1,
          1,
          1,
          1,
          1,
          1,
          1,
          1,
          1,
          1,
          1,
          1,
          1,
          1,
          1,
          1,
          1,
          1,
          1,
          1,
          1,
          1,
          1,
          1,
          1,
          1,
          1
         ],
         "yaxis": "y"
        }
       ],
       "layout": {
        "barmode": "relative",
        "legend": {
         "tracegroupgap": 0
        },
        "template": {
         "data": {
          "bar": [
           {
            "error_x": {
             "color": "#2a3f5f"
            },
            "error_y": {
             "color": "#2a3f5f"
            },
            "marker": {
             "line": {
              "color": "#E5ECF6",
              "width": 0.5
             },
             "pattern": {
              "fillmode": "overlay",
              "size": 10,
              "solidity": 0.2
             }
            },
            "type": "bar"
           }
          ],
          "barpolar": [
           {
            "marker": {
             "line": {
              "color": "#E5ECF6",
              "width": 0.5
             },
             "pattern": {
              "fillmode": "overlay",
              "size": 10,
              "solidity": 0.2
             }
            },
            "type": "barpolar"
           }
          ],
          "carpet": [
           {
            "aaxis": {
             "endlinecolor": "#2a3f5f",
             "gridcolor": "white",
             "linecolor": "white",
             "minorgridcolor": "white",
             "startlinecolor": "#2a3f5f"
            },
            "baxis": {
             "endlinecolor": "#2a3f5f",
             "gridcolor": "white",
             "linecolor": "white",
             "minorgridcolor": "white",
             "startlinecolor": "#2a3f5f"
            },
            "type": "carpet"
           }
          ],
          "choropleth": [
           {
            "colorbar": {
             "outlinewidth": 0,
             "ticks": ""
            },
            "type": "choropleth"
           }
          ],
          "contour": [
           {
            "colorbar": {
             "outlinewidth": 0,
             "ticks": ""
            },
            "colorscale": [
             [
              0,
              "#0d0887"
             ],
             [
              0.1111111111111111,
              "#46039f"
             ],
             [
              0.2222222222222222,
              "#7201a8"
             ],
             [
              0.3333333333333333,
              "#9c179e"
             ],
             [
              0.4444444444444444,
              "#bd3786"
             ],
             [
              0.5555555555555556,
              "#d8576b"
             ],
             [
              0.6666666666666666,
              "#ed7953"
             ],
             [
              0.7777777777777778,
              "#fb9f3a"
             ],
             [
              0.8888888888888888,
              "#fdca26"
             ],
             [
              1,
              "#f0f921"
             ]
            ],
            "type": "contour"
           }
          ],
          "contourcarpet": [
           {
            "colorbar": {
             "outlinewidth": 0,
             "ticks": ""
            },
            "type": "contourcarpet"
           }
          ],
          "heatmap": [
           {
            "colorbar": {
             "outlinewidth": 0,
             "ticks": ""
            },
            "colorscale": [
             [
              0,
              "#0d0887"
             ],
             [
              0.1111111111111111,
              "#46039f"
             ],
             [
              0.2222222222222222,
              "#7201a8"
             ],
             [
              0.3333333333333333,
              "#9c179e"
             ],
             [
              0.4444444444444444,
              "#bd3786"
             ],
             [
              0.5555555555555556,
              "#d8576b"
             ],
             [
              0.6666666666666666,
              "#ed7953"
             ],
             [
              0.7777777777777778,
              "#fb9f3a"
             ],
             [
              0.8888888888888888,
              "#fdca26"
             ],
             [
              1,
              "#f0f921"
             ]
            ],
            "type": "heatmap"
           }
          ],
          "heatmapgl": [
           {
            "colorbar": {
             "outlinewidth": 0,
             "ticks": ""
            },
            "colorscale": [
             [
              0,
              "#0d0887"
             ],
             [
              0.1111111111111111,
              "#46039f"
             ],
             [
              0.2222222222222222,
              "#7201a8"
             ],
             [
              0.3333333333333333,
              "#9c179e"
             ],
             [
              0.4444444444444444,
              "#bd3786"
             ],
             [
              0.5555555555555556,
              "#d8576b"
             ],
             [
              0.6666666666666666,
              "#ed7953"
             ],
             [
              0.7777777777777778,
              "#fb9f3a"
             ],
             [
              0.8888888888888888,
              "#fdca26"
             ],
             [
              1,
              "#f0f921"
             ]
            ],
            "type": "heatmapgl"
           }
          ],
          "histogram": [
           {
            "marker": {
             "pattern": {
              "fillmode": "overlay",
              "size": 10,
              "solidity": 0.2
             }
            },
            "type": "histogram"
           }
          ],
          "histogram2d": [
           {
            "colorbar": {
             "outlinewidth": 0,
             "ticks": ""
            },
            "colorscale": [
             [
              0,
              "#0d0887"
             ],
             [
              0.1111111111111111,
              "#46039f"
             ],
             [
              0.2222222222222222,
              "#7201a8"
             ],
             [
              0.3333333333333333,
              "#9c179e"
             ],
             [
              0.4444444444444444,
              "#bd3786"
             ],
             [
              0.5555555555555556,
              "#d8576b"
             ],
             [
              0.6666666666666666,
              "#ed7953"
             ],
             [
              0.7777777777777778,
              "#fb9f3a"
             ],
             [
              0.8888888888888888,
              "#fdca26"
             ],
             [
              1,
              "#f0f921"
             ]
            ],
            "type": "histogram2d"
           }
          ],
          "histogram2dcontour": [
           {
            "colorbar": {
             "outlinewidth": 0,
             "ticks": ""
            },
            "colorscale": [
             [
              0,
              "#0d0887"
             ],
             [
              0.1111111111111111,
              "#46039f"
             ],
             [
              0.2222222222222222,
              "#7201a8"
             ],
             [
              0.3333333333333333,
              "#9c179e"
             ],
             [
              0.4444444444444444,
              "#bd3786"
             ],
             [
              0.5555555555555556,
              "#d8576b"
             ],
             [
              0.6666666666666666,
              "#ed7953"
             ],
             [
              0.7777777777777778,
              "#fb9f3a"
             ],
             [
              0.8888888888888888,
              "#fdca26"
             ],
             [
              1,
              "#f0f921"
             ]
            ],
            "type": "histogram2dcontour"
           }
          ],
          "mesh3d": [
           {
            "colorbar": {
             "outlinewidth": 0,
             "ticks": ""
            },
            "type": "mesh3d"
           }
          ],
          "parcoords": [
           {
            "line": {
             "colorbar": {
              "outlinewidth": 0,
              "ticks": ""
             }
            },
            "type": "parcoords"
           }
          ],
          "pie": [
           {
            "automargin": true,
            "type": "pie"
           }
          ],
          "scatter": [
           {
            "fillpattern": {
             "fillmode": "overlay",
             "size": 10,
             "solidity": 0.2
            },
            "type": "scatter"
           }
          ],
          "scatter3d": [
           {
            "line": {
             "colorbar": {
              "outlinewidth": 0,
              "ticks": ""
             }
            },
            "marker": {
             "colorbar": {
              "outlinewidth": 0,
              "ticks": ""
             }
            },
            "type": "scatter3d"
           }
          ],
          "scattercarpet": [
           {
            "marker": {
             "colorbar": {
              "outlinewidth": 0,
              "ticks": ""
             }
            },
            "type": "scattercarpet"
           }
          ],
          "scattergeo": [
           {
            "marker": {
             "colorbar": {
              "outlinewidth": 0,
              "ticks": ""
             }
            },
            "type": "scattergeo"
           }
          ],
          "scattergl": [
           {
            "marker": {
             "colorbar": {
              "outlinewidth": 0,
              "ticks": ""
             }
            },
            "type": "scattergl"
           }
          ],
          "scattermapbox": [
           {
            "marker": {
             "colorbar": {
              "outlinewidth": 0,
              "ticks": ""
             }
            },
            "type": "scattermapbox"
           }
          ],
          "scatterpolar": [
           {
            "marker": {
             "colorbar": {
              "outlinewidth": 0,
              "ticks": ""
             }
            },
            "type": "scatterpolar"
           }
          ],
          "scatterpolargl": [
           {
            "marker": {
             "colorbar": {
              "outlinewidth": 0,
              "ticks": ""
             }
            },
            "type": "scatterpolargl"
           }
          ],
          "scatterternary": [
           {
            "marker": {
             "colorbar": {
              "outlinewidth": 0,
              "ticks": ""
             }
            },
            "type": "scatterternary"
           }
          ],
          "surface": [
           {
            "colorbar": {
             "outlinewidth": 0,
             "ticks": ""
            },
            "colorscale": [
             [
              0,
              "#0d0887"
             ],
             [
              0.1111111111111111,
              "#46039f"
             ],
             [
              0.2222222222222222,
              "#7201a8"
             ],
             [
              0.3333333333333333,
              "#9c179e"
             ],
             [
              0.4444444444444444,
              "#bd3786"
             ],
             [
              0.5555555555555556,
              "#d8576b"
             ],
             [
              0.6666666666666666,
              "#ed7953"
             ],
             [
              0.7777777777777778,
              "#fb9f3a"
             ],
             [
              0.8888888888888888,
              "#fdca26"
             ],
             [
              1,
              "#f0f921"
             ]
            ],
            "type": "surface"
           }
          ],
          "table": [
           {
            "cells": {
             "fill": {
              "color": "#EBF0F8"
             },
             "line": {
              "color": "white"
             }
            },
            "header": {
             "fill": {
              "color": "#C8D4E3"
             },
             "line": {
              "color": "white"
             }
            },
            "type": "table"
           }
          ]
         },
         "layout": {
          "annotationdefaults": {
           "arrowcolor": "#2a3f5f",
           "arrowhead": 0,
           "arrowwidth": 1
          },
          "autotypenumbers": "strict",
          "coloraxis": {
           "colorbar": {
            "outlinewidth": 0,
            "ticks": ""
           }
          },
          "colorscale": {
           "diverging": [
            [
             0,
             "#8e0152"
            ],
            [
             0.1,
             "#c51b7d"
            ],
            [
             0.2,
             "#de77ae"
            ],
            [
             0.3,
             "#f1b6da"
            ],
            [
             0.4,
             "#fde0ef"
            ],
            [
             0.5,
             "#f7f7f7"
            ],
            [
             0.6,
             "#e6f5d0"
            ],
            [
             0.7,
             "#b8e186"
            ],
            [
             0.8,
             "#7fbc41"
            ],
            [
             0.9,
             "#4d9221"
            ],
            [
             1,
             "#276419"
            ]
           ],
           "sequential": [
            [
             0,
             "#0d0887"
            ],
            [
             0.1111111111111111,
             "#46039f"
            ],
            [
             0.2222222222222222,
             "#7201a8"
            ],
            [
             0.3333333333333333,
             "#9c179e"
            ],
            [
             0.4444444444444444,
             "#bd3786"
            ],
            [
             0.5555555555555556,
             "#d8576b"
            ],
            [
             0.6666666666666666,
             "#ed7953"
            ],
            [
             0.7777777777777778,
             "#fb9f3a"
            ],
            [
             0.8888888888888888,
             "#fdca26"
            ],
            [
             1,
             "#f0f921"
            ]
           ],
           "sequentialminus": [
            [
             0,
             "#0d0887"
            ],
            [
             0.1111111111111111,
             "#46039f"
            ],
            [
             0.2222222222222222,
             "#7201a8"
            ],
            [
             0.3333333333333333,
             "#9c179e"
            ],
            [
             0.4444444444444444,
             "#bd3786"
            ],
            [
             0.5555555555555556,
             "#d8576b"
            ],
            [
             0.6666666666666666,
             "#ed7953"
            ],
            [
             0.7777777777777778,
             "#fb9f3a"
            ],
            [
             0.8888888888888888,
             "#fdca26"
            ],
            [
             1,
             "#f0f921"
            ]
           ]
          },
          "colorway": [
           "#636efa",
           "#EF553B",
           "#00cc96",
           "#ab63fa",
           "#FFA15A",
           "#19d3f3",
           "#FF6692",
           "#B6E880",
           "#FF97FF",
           "#FECB52"
          ],
          "font": {
           "color": "#2a3f5f"
          },
          "geo": {
           "bgcolor": "white",
           "lakecolor": "white",
           "landcolor": "#E5ECF6",
           "showlakes": true,
           "showland": true,
           "subunitcolor": "white"
          },
          "hoverlabel": {
           "align": "left"
          },
          "hovermode": "closest",
          "mapbox": {
           "style": "light"
          },
          "paper_bgcolor": "white",
          "plot_bgcolor": "#E5ECF6",
          "polar": {
           "angularaxis": {
            "gridcolor": "white",
            "linecolor": "white",
            "ticks": ""
           },
           "bgcolor": "#E5ECF6",
           "radialaxis": {
            "gridcolor": "white",
            "linecolor": "white",
            "ticks": ""
           }
          },
          "scene": {
           "xaxis": {
            "backgroundcolor": "#E5ECF6",
            "gridcolor": "white",
            "gridwidth": 2,
            "linecolor": "white",
            "showbackground": true,
            "ticks": "",
            "zerolinecolor": "white"
           },
           "yaxis": {
            "backgroundcolor": "#E5ECF6",
            "gridcolor": "white",
            "gridwidth": 2,
            "linecolor": "white",
            "showbackground": true,
            "ticks": "",
            "zerolinecolor": "white"
           },
           "zaxis": {
            "backgroundcolor": "#E5ECF6",
            "gridcolor": "white",
            "gridwidth": 2,
            "linecolor": "white",
            "showbackground": true,
            "ticks": "",
            "zerolinecolor": "white"
           }
          },
          "shapedefaults": {
           "line": {
            "color": "#2a3f5f"
           }
          },
          "ternary": {
           "aaxis": {
            "gridcolor": "white",
            "linecolor": "white",
            "ticks": ""
           },
           "baxis": {
            "gridcolor": "white",
            "linecolor": "white",
            "ticks": ""
           },
           "bgcolor": "#E5ECF6",
           "caxis": {
            "gridcolor": "white",
            "linecolor": "white",
            "ticks": ""
           }
          },
          "title": {
           "x": 0.05
          },
          "xaxis": {
           "automargin": true,
           "gridcolor": "white",
           "linecolor": "white",
           "ticks": "",
           "title": {
            "standoff": 15
           },
           "zerolinecolor": "white",
           "zerolinewidth": 2
          },
          "yaxis": {
           "automargin": true,
           "gridcolor": "white",
           "linecolor": "white",
           "ticks": "",
           "title": {
            "standoff": 15
           },
           "zerolinecolor": "white",
           "zerolinewidth": 2
          }
         }
        },
        "title": {
         "text": "The number of maintenance orders in each city"
        },
        "xaxis": {
         "anchor": "y",
         "domain": [
          0,
          1
         ],
         "title": {
          "text": "siteid"
         }
        },
        "yaxis": {
         "anchor": "x",
         "domain": [
          0,
          1
         ],
         "title": {
          "text": "count"
         }
        }
       }
      },
      "text/html": [
       "<div>                            <div id=\"34ef7cc1-7d09-4464-9b7f-08aac5807d28\" class=\"plotly-graph-div\" style=\"height:525px; width:100%;\"></div>            <script type=\"text/javascript\">                require([\"plotly\"], function(Plotly) {                    window.PLOTLYENV=window.PLOTLYENV || {};                                    if (document.getElementById(\"34ef7cc1-7d09-4464-9b7f-08aac5807d28\")) {                    Plotly.newPlot(                        \"34ef7cc1-7d09-4464-9b7f-08aac5807d28\",                        [{\"alignmentgroup\":\"True\",\"hovertemplate\":\"siteid=%{x}<br>count=%{y}<extra></extra>\",\"legendgroup\":\"\",\"marker\":{\"color\":\"rgb(103,0,31)\",\"pattern\":{\"shape\":\"\"}},\"name\":\"\",\"offsetgroup\":\"\",\"orientation\":\"v\",\"showlegend\":false,\"textposition\":\"auto\",\"x\":[\"AL HASA\",\"JEDDAH\",\"RIYADH\",\"RIYADH\",\"RIYADH\",\"RIYADH\",\"JEDDAH\",\"RIYADH\",\"JEDDAH\",\"AL HASA\",\"AL HASA\",\"AL HASA\",\"RIYADH\",\"AL HASA\",\"AL HASA\",\"RIYADH\",\"RIYADH\",\"AL HASA\",\"RIYADH\",\"AL HASA\",\"RIYADH\",\"RIYADH\",\"RIYADH\",\"JEDDAH\",\"JEDDAH\",\"RIYADH\",\"RIYADH\",\"JEDDAH\",\"RIYADH\",\"JEDDAH\",\"JEDDAH\",\"AL HASA\",\"JEDDAH\",\"JEDDAH\",\"AL HASA\",\"AL HASA\",\"JEDDAH\",\"RIYADH\",\"RIYADH\",\"RIYADH\",\"RIYADH\",\"JEDDAH\",\"RIYADH\",\"JEDDAH\",\"RIYADH\",\"JEDDAH\",\"AL HASA\",\"RIYADH\",\"RIYADH\",\"RIYADH\",\"RIYADH\",\"RIYADH\",\"AL HASA\",\"RIYADH\",\"JEDDAH\",\"JEDDAH\",\"JEDDAH\",\"AL HASA\",\"JEDDAH\",\"JEDDAH\",\"RIYADH\",\"AL HASA\",\"RIYADH\",\"JEDDAH\",\"RIYADH\",\"JEDDAH\",\"JEDDAH\",\"RIYADH\",\"JEDDAH\",\"JEDDAH\",\"AL HASA\",\"RIYADH\",\"JEDDAH\",\"RIYADH\",\"JEDDAH\",\"RIYADH\",\"RIYADH\",\"JEDDAH\",\"RIYADH\",\"JEDDAH\",\"AL HASA\",\"JEDDAH\",\"RIYADH\",\"JEDDAH\",\"RIYADH\",\"RIYADH\",\"JEDDAH\",\"AL HASA\",\"RIYADH\",\"AL HASA\",\"JEDDAH\",\"RIYADH\",\"JEDDAH\",\"RIYADH\",\"RIYADH\",\"JEDDAH\",\"AL HASA\",\"RIYADH\",\"AL HASA\",\"RIYADH\",\"JEDDAH\",\"RIYADH\",\"RIYADH\",\"RIYADH\",\"JEDDAH\",\"AL HASA\",\"AL HASA\",\"JEDDAH\",\"JEDDAH\",\"RIYADH\",\"AL HASA\",\"RIYADH\",\"RIYADH\",\"AL HASA\",\"AL HASA\",\"JEDDAH\",\"RIYADH\",\"RIYADH\",\"JEDDAH\",\"RIYADH\",\"RIYADH\",\"JEDDAH\",\"RIYADH\",\"AL HASA\",\"RIYADH\",\"RIYADH\",\"AL HASA\",\"JEDDAH\",\"AL HASA\",\"AL HASA\",\"JEDDAH\",\"AL HASA\",\"AL HASA\",\"JEDDAH\",\"RIYADH\",\"JEDDAH\",\"RIYADH\",\"JEDDAH\",\"RIYADH\",\"AL HASA\",\"RIYADH\",\"JEDDAH\",\"JEDDAH\",\"RIYADH\",\"RIYADH\",\"JEDDAH\",\"AL HASA\",\"JEDDAH\",\"JEDDAH\",\"AL HASA\",\"JEDDAH\",\"JEDDAH\",\"RIYADH\",\"JEDDAH\",\"AL HASA\",\"AL HASA\",\"JEDDAH\",\"AL HASA\",\"RIYADH\",\"RIYADH\",\"JEDDAH\",\"RIYADH\",\"JEDDAH\",\"RIYADH\",\"RIYADH\",\"JEDDAH\",\"JEDDAH\",\"RIYADH\",\"RIYADH\",\"JEDDAH\",\"AL HASA\",\"RIYADH\",\"JEDDAH\",\"RIYADH\",\"JEDDAH\",\"RIYADH\",\"JEDDAH\",\"RIYADH\",\"RIYADH\",\"JEDDAH\",\"RIYADH\",\"AL HASA\",\"RIYADH\",\"AL HASA\",\"RIYADH\",\"AL HASA\",\"RIYADH\",\"JEDDAH\",\"RIYADH\",\"RIYADH\",\"RIYADH\",\"AL HASA\",\"RIYADH\",\"RIYADH\",\"JEDDAH\",\"JEDDAH\",\"AL HASA\",\"JEDDAH\",\"AL HASA\",\"JEDDAH\",\"RIYADH\",\"JEDDAH\",\"JEDDAH\",\"JEDDAH\",\"JEDDAH\",\"JEDDAH\",\"JEDDAH\",\"JEDDAH\",\"RIYADH\",\"RIYADH\",\"JEDDAH\",\"JEDDAH\",\"AL HASA\",\"JEDDAH\",\"RIYADH\",\"JEDDAH\",\"RIYADH\",\"RIYADH\",\"RIYADH\",\"AL HASA\",\"JEDDAH\",\"JEDDAH\",\"JEDDAH\",\"RIYADH\",\"RIYADH\",\"AL HASA\",\"RIYADH\",\"JEDDAH\",\"AL HASA\",\"JEDDAH\",\"JEDDAH\",\"RIYADH\",\"RIYADH\",\"JEDDAH\",\"AL HASA\",\"JEDDAH\",\"AL HASA\",\"JEDDAH\",\"RIYADH\",\"RIYADH\",\"RIYADH\",\"RIYADH\",\"AL HASA\",\"JEDDAH\",\"JEDDAH\",\"JEDDAH\",\"AL HASA\",\"JEDDAH\",\"RIYADH\",\"RIYADH\",\"RIYADH\",\"RIYADH\",\"RIYADH\",\"JEDDAH\",\"RIYADH\",\"AL HASA\",\"JEDDAH\",\"RIYADH\",\"RIYADH\",\"RIYADH\",\"RIYADH\",\"RIYADH\",\"RIYADH\",\"AL HASA\",\"JEDDAH\",\"JEDDAH\",\"JEDDAH\",\"JEDDAH\",\"RIYADH\",\"AL HASA\",\"JEDDAH\",\"RIYADH\",\"AL HASA\",\"RIYADH\",\"RIYADH\",\"RIYADH\",\"RIYADH\",\"AL HASA\",\"RIYADH\",\"AL HASA\",\"AL HASA\",\"AL HASA\",\"JEDDAH\",\"AL HASA\",\"JEDDAH\",\"RIYADH\",\"RIYADH\",\"RIYADH\",\"RIYADH\",\"RIYADH\",\"JEDDAH\",\"JEDDAH\",\"JEDDAH\",\"RIYADH\",\"RIYADH\",\"AL HASA\",\"AL HASA\",\"RIYADH\",\"RIYADH\",\"AL HASA\",\"RIYADH\",\"RIYADH\",\"AL HASA\",\"JEDDAH\",\"AL HASA\",\"RIYADH\",\"JEDDAH\",\"JEDDAH\",\"JEDDAH\",\"AL HASA\",\"RIYADH\",\"JEDDAH\",\"AL HASA\",\"JEDDAH\",\"RIYADH\",\"RIYADH\",\"RIYADH\",\"RIYADH\",\"JEDDAH\",\"RIYADH\",\"JEDDAH\",\"JEDDAH\",\"JEDDAH\",\"RIYADH\",\"RIYADH\",\"JEDDAH\",\"RIYADH\",\"AL HASA\",\"RIYADH\",\"JEDDAH\",\"AL HASA\",\"AL HASA\",\"RIYADH\",\"JEDDAH\",\"AL HASA\",\"RIYADH\",\"RIYADH\",\"JEDDAH\",\"RIYADH\",\"RIYADH\",\"JEDDAH\",\"RIYADH\",\"JEDDAH\",\"AL HASA\",\"AL HASA\",\"JEDDAH\",\"RIYADH\",\"JEDDAH\",\"RIYADH\",\"RIYADH\",\"RIYADH\",\"JEDDAH\",\"AL HASA\",\"AL HASA\",\"AL HASA\",\"RIYADH\",\"RIYADH\",\"AL HASA\",\"RIYADH\",\"JEDDAH\",\"RIYADH\",\"AL HASA\",\"AL HASA\",\"JEDDAH\",\"JEDDAH\",\"RIYADH\",\"RIYADH\",\"RIYADH\",\"RIYADH\",\"JEDDAH\",\"JEDDAH\",\"RIYADH\",\"AL HASA\",\"JEDDAH\",\"RIYADH\",\"RIYADH\",\"AL HASA\",\"RIYADH\",\"AL HASA\",\"JEDDAH\",\"RIYADH\",\"JEDDAH\",\"RIYADH\",\"AL HASA\",\"JEDDAH\",\"JEDDAH\",\"JEDDAH\",\"RIYADH\",\"JEDDAH\",\"JEDDAH\",\"JEDDAH\",\"RIYADH\",\"JEDDAH\",\"AL HASA\",\"RIYADH\",\"RIYADH\",\"RIYADH\",\"RIYADH\",\"JEDDAH\",\"RIYADH\",\"AL HASA\",\"RIYADH\",\"RIYADH\",\"JEDDAH\",\"JEDDAH\",\"AL HASA\",\"RIYADH\",\"RIYADH\",\"JEDDAH\",\"AL HASA\",\"RIYADH\",\"RIYADH\",\"RIYADH\",\"RIYADH\",\"AL HASA\",\"RIYADH\",\"RIYADH\",\"RIYADH\",\"JEDDAH\",\"JEDDAH\",\"RIYADH\",\"AL HASA\",\"RIYADH\",\"RIYADH\",\"JEDDAH\",\"AL HASA\",\"AL HASA\",\"RIYADH\",\"RIYADH\",\"RIYADH\",\"JEDDAH\",\"AL HASA\",\"JEDDAH\",\"JEDDAH\",\"RIYADH\",\"RIYADH\",\"RIYADH\",\"AL HASA\",\"JEDDAH\",\"JEDDAH\",\"JEDDAH\",\"RIYADH\",\"RIYADH\",\"RIYADH\",\"JEDDAH\",\"JEDDAH\",\"RIYADH\",\"JEDDAH\",\"JEDDAH\",\"JEDDAH\",\"JEDDAH\",\"RIYADH\",\"RIYADH\",\"AL HASA\",\"JEDDAH\",\"RIYADH\",\"RIYADH\",\"JEDDAH\",\"JEDDAH\",\"RIYADH\",\"RIYADH\",\"JEDDAH\",\"RIYADH\",\"JEDDAH\",\"JEDDAH\",\"RIYADH\",\"AL HASA\",\"JEDDAH\",\"RIYADH\",\"RIYADH\",\"RIYADH\",\"AL HASA\",\"JEDDAH\",\"RIYADH\",\"RIYADH\",\"RIYADH\",\"RIYADH\",\"RIYADH\",\"RIYADH\",\"JEDDAH\",\"RIYADH\",\"RIYADH\",\"JEDDAH\",\"RIYADH\",\"RIYADH\",\"RIYADH\",\"RIYADH\",\"RIYADH\",\"JEDDAH\",\"RIYADH\",\"JEDDAH\",\"RIYADH\",\"JEDDAH\",\"AL HASA\",\"RIYADH\",\"JEDDAH\",\"JEDDAH\",\"RIYADH\",\"RIYADH\",\"JEDDAH\",\"RIYADH\",\"JEDDAH\",\"AL HASA\",\"RIYADH\",\"RIYADH\",\"RIYADH\",\"AL HASA\",\"AL HASA\",\"JEDDAH\",\"JEDDAH\",\"JEDDAH\",\"RIYADH\",\"JEDDAH\",\"JEDDAH\",\"RIYADH\",\"AL HASA\",\"JEDDAH\",\"RIYADH\",\"RIYADH\",\"RIYADH\",\"JEDDAH\",\"RIYADH\",\"JEDDAH\",\"JEDDAH\",\"JEDDAH\",\"RIYADH\",\"JEDDAH\",\"RIYADH\",\"RIYADH\",\"JEDDAH\",\"JEDDAH\",\"RIYADH\",\"RIYADH\",\"RIYADH\",\"RIYADH\",\"RIYADH\",\"RIYADH\",\"RIYADH\",\"RIYADH\",\"AL HASA\",\"RIYADH\",\"JEDDAH\",\"JEDDAH\",\"JEDDAH\",\"AL HASA\",\"RIYADH\",\"RIYADH\",\"RIYADH\",\"RIYADH\",\"AL HASA\",\"AL HASA\",\"AL HASA\",\"RIYADH\",\"AL HASA\",\"RIYADH\",\"RIYADH\",\"RIYADH\",\"JEDDAH\",\"RIYADH\",\"RIYADH\",\"JEDDAH\",\"AL HASA\",\"RIYADH\",\"AL HASA\",\"JEDDAH\",\"JEDDAH\",\"RIYADH\",\"AL HASA\",\"JEDDAH\",\"AL HASA\",\"RIYADH\",\"JEDDAH\",\"RIYADH\",\"RIYADH\",\"RIYADH\",\"JEDDAH\",\"JEDDAH\",\"JEDDAH\",\"RIYADH\",\"RIYADH\",\"RIYADH\",\"AL HASA\",\"RIYADH\",\"JEDDAH\",\"RIYADH\",\"RIYADH\",\"RIYADH\",\"RIYADH\",\"RIYADH\",\"JEDDAH\",\"RIYADH\",\"JEDDAH\",\"AL HASA\",\"JEDDAH\",\"JEDDAH\",\"RIYADH\",\"RIYADH\",\"RIYADH\",\"JEDDAH\",\"AL HASA\",\"JEDDAH\",\"RIYADH\",\"RIYADH\",\"AL HASA\",\"JEDDAH\",\"JEDDAH\",\"RIYADH\",\"RIYADH\",\"RIYADH\",\"JEDDAH\",\"RIYADH\",\"RIYADH\",\"AL HASA\",\"RIYADH\",\"JEDDAH\",\"JEDDAH\",\"JEDDAH\",\"JEDDAH\",\"RIYADH\",\"RIYADH\",\"RIYADH\",\"RIYADH\",\"RIYADH\",\"AL HASA\",\"AL HASA\",\"JEDDAH\",\"RIYADH\",\"AL HASA\",\"JEDDAH\",\"AL HASA\",\"AL HASA\",\"RIYADH\",\"RIYADH\",\"AL HASA\",\"RIYADH\",\"RIYADH\",\"RIYADH\",\"RIYADH\",\"RIYADH\",\"JEDDAH\",\"RIYADH\",\"AL HASA\",\"JEDDAH\",\"RIYADH\",\"RIYADH\",\"JEDDAH\",\"RIYADH\",\"RIYADH\",\"RIYADH\",\"JEDDAH\",\"JEDDAH\",\"RIYADH\",\"RIYADH\",\"RIYADH\",\"RIYADH\",\"AL HASA\",\"JEDDAH\",\"RIYADH\",\"RIYADH\",\"AL HASA\",\"AL HASA\",\"RIYADH\",\"JEDDAH\",\"RIYADH\",\"AL HASA\",\"JEDDAH\",\"RIYADH\",\"RIYADH\",\"JEDDAH\",\"AL HASA\",\"AL HASA\",\"JEDDAH\",\"RIYADH\",\"AL HASA\",\"RIYADH\",\"RIYADH\",\"RIYADH\",\"JEDDAH\",\"AL HASA\",\"RIYADH\",\"JEDDAH\",\"RIYADH\",\"RIYADH\",\"JEDDAH\",\"AL HASA\",\"AL HASA\",\"RIYADH\",\"RIYADH\",\"JEDDAH\",\"JEDDAH\",\"RIYADH\",\"JEDDAH\",\"RIYADH\",\"RIYADH\",\"RIYADH\",\"JEDDAH\",\"JEDDAH\",\"RIYADH\",\"RIYADH\",\"JEDDAH\",\"JEDDAH\",\"RIYADH\",\"RIYADH\",\"JEDDAH\",\"AL HASA\",\"JEDDAH\",\"RIYADH\",\"RIYADH\",\"RIYADH\",\"RIYADH\",\"RIYADH\",\"AL HASA\",\"RIYADH\",\"RIYADH\",\"RIYADH\",\"RIYADH\",\"RIYADH\",\"RIYADH\",\"RIYADH\",\"RIYADH\",\"RIYADH\",\"RIYADH\",\"RIYADH\",\"AL HASA\",\"RIYADH\",\"RIYADH\",\"JEDDAH\",\"RIYADH\",\"JEDDAH\",\"JEDDAH\",\"JEDDAH\",\"RIYADH\",\"JEDDAH\",\"JEDDAH\",\"JEDDAH\",\"RIYADH\",\"RIYADH\",\"AL HASA\",\"AL HASA\",\"RIYADH\",\"JEDDAH\",\"JEDDAH\",\"RIYADH\",\"RIYADH\",\"RIYADH\",\"JEDDAH\",\"RIYADH\",\"RIYADH\",\"RIYADH\",\"RIYADH\",\"JEDDAH\",\"RIYADH\",\"RIYADH\",\"AL HASA\",\"JEDDAH\",\"RIYADH\",\"RIYADH\",\"RIYADH\",\"RIYADH\",\"AL HASA\",\"JEDDAH\",\"RIYADH\",\"RIYADH\",\"RIYADH\",\"AL HASA\",\"RIYADH\",\"JEDDAH\",\"JEDDAH\",\"AL HASA\",\"AL HASA\",\"RIYADH\",\"RIYADH\",\"RIYADH\",\"RIYADH\",\"JEDDAH\",\"AL HASA\",\"AL HASA\",\"AL HASA\",\"AL HASA\",\"JEDDAH\",\"RIYADH\",\"RIYADH\",\"RIYADH\",\"AL HASA\",\"JEDDAH\",\"JEDDAH\",\"AL HASA\",\"RIYADH\",\"RIYADH\",\"RIYADH\",\"JEDDAH\",\"JEDDAH\",\"AL HASA\",\"RIYADH\",\"RIYADH\",\"RIYADH\",\"JEDDAH\",\"JEDDAH\",\"RIYADH\",\"RIYADH\",\"RIYADH\",\"JEDDAH\",\"JEDDAH\",\"AL HASA\",\"RIYADH\",\"RIYADH\",\"AL HASA\",\"JEDDAH\",\"AL HASA\",\"AL HASA\",\"JEDDAH\",\"JEDDAH\",\"RIYADH\",\"RIYADH\",\"JEDDAH\",\"RIYADH\",\"JEDDAH\",\"JEDDAH\",\"RIYADH\",\"JEDDAH\",\"RIYADH\",\"AL HASA\",\"AL HASA\",\"RIYADH\",\"JEDDAH\",\"AL HASA\",\"JEDDAH\",\"RIYADH\",\"JEDDAH\",\"JEDDAH\",\"RIYADH\",\"RIYADH\",\"AL HASA\",\"RIYADH\",\"AL HASA\",\"RIYADH\",\"RIYADH\",\"JEDDAH\",\"JEDDAH\",\"RIYADH\",\"RIYADH\",\"RIYADH\",\"RIYADH\",\"RIYADH\",\"AL HASA\",\"AL HASA\",\"AL HASA\",\"AL HASA\",\"RIYADH\",\"JEDDAH\",\"RIYADH\",\"JEDDAH\",\"AL HASA\",\"AL HASA\",\"RIYADH\",\"RIYADH\",\"JEDDAH\",\"RIYADH\",\"RIYADH\",\"JEDDAH\",\"RIYADH\",\"RIYADH\",\"RIYADH\",\"RIYADH\",\"JEDDAH\",\"AL HASA\",\"AL HASA\",\"JEDDAH\",\"JEDDAH\",\"RIYADH\",\"RIYADH\",\"AL HASA\",\"RIYADH\",\"RIYADH\",\"RIYADH\",\"AL HASA\",\"RIYADH\",\"JEDDAH\",\"RIYADH\",\"AL HASA\",\"RIYADH\",\"RIYADH\",\"RIYADH\",\"RIYADH\",\"RIYADH\",\"RIYADH\",\"AL HASA\",\"JEDDAH\",\"JEDDAH\",\"RIYADH\",\"RIYADH\",\"JEDDAH\",\"RIYADH\",\"RIYADH\",\"JEDDAH\",\"JEDDAH\",\"JEDDAH\",\"AL HASA\",\"RIYADH\",\"RIYADH\",\"JEDDAH\",\"RIYADH\",\"AL HASA\",\"RIYADH\",\"RIYADH\",\"AL HASA\",\"JEDDAH\",\"JEDDAH\",\"JEDDAH\",\"RIYADH\",\"JEDDAH\",\"RIYADH\",\"RIYADH\",\"RIYADH\",\"RIYADH\",\"JEDDAH\",\"AL HASA\",\"AL HASA\",\"RIYADH\",\"JEDDAH\",\"JEDDAH\",\"RIYADH\",\"JEDDAH\",\"RIYADH\",\"AL HASA\",\"JEDDAH\",\"RIYADH\",\"RIYADH\",\"JEDDAH\",\"JEDDAH\",\"RIYADH\",\"JEDDAH\",\"AL HASA\",\"RIYADH\",\"RIYADH\",\"RIYADH\",\"AL HASA\",\"RIYADH\",\"JEDDAH\",\"AL HASA\",\"RIYADH\",\"JEDDAH\",\"JEDDAH\",\"AL HASA\",\"RIYADH\",\"AL HASA\",\"JEDDAH\",\"RIYADH\",\"AL HASA\",\"RIYADH\",\"RIYADH\",\"RIYADH\",\"AL HASA\",\"RIYADH\",\"JEDDAH\",\"JEDDAH\",\"RIYADH\",\"JEDDAH\",\"JEDDAH\",\"JEDDAH\",\"JEDDAH\",\"RIYADH\",\"JEDDAH\",\"AL HASA\",\"RIYADH\",\"RIYADH\",\"RIYADH\",\"JEDDAH\",\"RIYADH\",\"JEDDAH\",\"AL HASA\",\"AL HASA\",\"JEDDAH\",\"JEDDAH\",\"AL HASA\",\"RIYADH\",\"RIYADH\",\"JEDDAH\",\"JEDDAH\",\"RIYADH\",\"JEDDAH\",\"AL HASA\",\"AL HASA\",\"RIYADH\",\"RIYADH\",\"JEDDAH\",\"JEDDAH\",\"RIYADH\",\"AL HASA\",\"JEDDAH\",\"RIYADH\",\"AL HASA\",\"RIYADH\",\"RIYADH\",\"AL HASA\",\"JEDDAH\",\"AL HASA\",\"JEDDAH\",\"AL HASA\",\"RIYADH\"],\"xaxis\":\"x\",\"y\":[1,1,1,1,1,1,1,1,1,1,1,1,1,1,1,1,1,1,1,1,1,1,1,1,1,1,1,1,1,1,1,1,1,1,1,1,1,1,1,1,1,1,1,1,1,1,1,1,1,1,1,1,1,1,1,1,1,1,1,1,1,1,1,1,1,1,1,1,1,1,1,1,1,1,1,1,1,1,1,1,1,1,1,1,1,1,1,1,1,1,1,1,1,1,1,1,1,1,1,1,1,1,1,1,1,1,1,1,1,1,1,1,1,1,1,1,1,1,1,1,1,1,1,1,1,1,1,1,1,1,1,1,1,1,1,1,1,1,1,1,1,1,1,1,1,1,1,1,1,1,1,1,1,1,1,1,1,1,1,1,1,1,1,1,1,1,1,1,1,1,1,1,1,1,1,1,1,1,1,1,1,1,1,1,1,1,1,1,1,1,1,1,1,1,1,1,1,1,1,1,1,1,1,1,1,1,1,1,1,1,1,1,1,1,1,1,1,1,1,1,1,1,1,1,1,1,1,1,1,1,1,1,1,1,1,1,1,1,1,1,1,1,1,1,1,1,1,1,1,1,1,1,1,1,1,1,1,1,1,1,1,1,1,1,1,1,1,1,1,1,1,1,1,1,1,1,1,1,1,1,1,1,1,1,1,1,1,1,1,1,1,1,1,1,1,1,1,1,1,1,1,1,1,1,1,1,1,1,1,1,1,1,1,1,1,1,1,1,1,1,1,1,1,1,1,1,1,1,1,1,1,1,1,1,1,1,1,1,1,1,1,1,1,1,1,1,1,1,1,1,1,1,1,1,1,1,1,1,1,1,1,1,1,1,1,1,1,1,1,1,1,1,1,1,1,1,1,1,1,1,1,1,1,1,1,1,1,1,1,1,1,1,1,1,1,1,1,1,1,1,1,1,1,1,1,1,1,1,1,1,1,1,1,1,1,1,1,1,1,1,1,1,1,1,1,1,1,1,1,1,1,1,1,1,1,1,1,1,1,1,1,1,1,1,1,1,1,1,1,1,1,1,1,1,1,1,1,1,1,1,1,1,1,1,1,1,1,1,1,1,1,1,1,1,1,1,1,1,1,1,1,1,1,1,1,1,1,1,1,1,1,1,1,1,1,1,1,1,1,1,1,1,1,1,1,1,1,1,1,1,1,1,1,1,1,1,1,1,1,1,1,1,1,1,1,1,1,1,1,1,1,1,1,1,1,1,1,1,1,1,1,1,1,1,1,1,1,1,1,1,1,1,1,1,1,1,1,1,1,1,1,1,1,1,1,1,1,1,1,1,1,1,1,1,1,1,1,1,1,1,1,1,1,1,1,1,1,1,1,1,1,1,1,1,1,1,1,1,1,1,1,1,1,1,1,1,1,1,1,1,1,1,1,1,1,1,1,1,1,1,1,1,1,1,1,1,1,1,1,1,1,1,1,1,1,1,1,1,1,1,1,1,1,1,1,1,1,1,1,1,1,1,1,1,1,1,1,1,1,1,1,1,1,1,1,1,1,1,1,1,1,1,1,1,1,1,1,1,1,1,1,1,1,1,1,1,1,1,1,1,1,1,1,1,1,1,1,1,1,1,1,1,1,1,1,1,1,1,1,1,1,1,1,1,1,1,1,1,1,1,1,1,1,1,1,1,1,1,1,1,1,1,1,1,1,1,1,1,1,1,1,1,1,1,1,1,1,1,1,1,1,1,1,1,1,1,1,1,1,1,1,1,1,1,1,1,1,1,1,1,1,1,1,1,1,1,1,1,1,1,1,1,1,1,1,1,1,1,1,1,1,1,1,1,1,1,1,1,1,1,1,1,1,1,1,1,1,1,1,1,1,1,1,1,1,1,1,1,1,1,1,1,1,1,1,1,1,1,1,1,1,1,1,1,1,1,1,1,1,1,1,1,1,1,1,1,1,1,1,1,1,1,1,1,1,1,1,1,1,1,1,1,1,1,1,1,1,1,1,1,1,1,1,1,1,1,1,1,1,1,1,1,1,1,1,1,1,1,1,1,1,1,1,1,1,1,1,1,1,1,1,1,1,1,1,1,1,1,1,1,1,1,1,1,1,1,1,1,1,1,1,1,1,1,1,1,1,1,1,1,1,1,1,1,1,1,1,1,1,1,1,1,1,1,1,1,1,1,1,1,1,1,1,1,1,1,1,1,1,1,1,1,1,1,1,1,1,1,1,1,1,1,1,1,1,1,1,1,1,1,1,1,1,1,1,1,1,1,1,1,1,1,1,1,1,1,1,1,1,1],\"yaxis\":\"y\",\"type\":\"bar\"}],                        {\"template\":{\"data\":{\"histogram2dcontour\":[{\"type\":\"histogram2dcontour\",\"colorbar\":{\"outlinewidth\":0,\"ticks\":\"\"},\"colorscale\":[[0.0,\"#0d0887\"],[0.1111111111111111,\"#46039f\"],[0.2222222222222222,\"#7201a8\"],[0.3333333333333333,\"#9c179e\"],[0.4444444444444444,\"#bd3786\"],[0.5555555555555556,\"#d8576b\"],[0.6666666666666666,\"#ed7953\"],[0.7777777777777778,\"#fb9f3a\"],[0.8888888888888888,\"#fdca26\"],[1.0,\"#f0f921\"]]}],\"choropleth\":[{\"type\":\"choropleth\",\"colorbar\":{\"outlinewidth\":0,\"ticks\":\"\"}}],\"histogram2d\":[{\"type\":\"histogram2d\",\"colorbar\":{\"outlinewidth\":0,\"ticks\":\"\"},\"colorscale\":[[0.0,\"#0d0887\"],[0.1111111111111111,\"#46039f\"],[0.2222222222222222,\"#7201a8\"],[0.3333333333333333,\"#9c179e\"],[0.4444444444444444,\"#bd3786\"],[0.5555555555555556,\"#d8576b\"],[0.6666666666666666,\"#ed7953\"],[0.7777777777777778,\"#fb9f3a\"],[0.8888888888888888,\"#fdca26\"],[1.0,\"#f0f921\"]]}],\"heatmap\":[{\"type\":\"heatmap\",\"colorbar\":{\"outlinewidth\":0,\"ticks\":\"\"},\"colorscale\":[[0.0,\"#0d0887\"],[0.1111111111111111,\"#46039f\"],[0.2222222222222222,\"#7201a8\"],[0.3333333333333333,\"#9c179e\"],[0.4444444444444444,\"#bd3786\"],[0.5555555555555556,\"#d8576b\"],[0.6666666666666666,\"#ed7953\"],[0.7777777777777778,\"#fb9f3a\"],[0.8888888888888888,\"#fdca26\"],[1.0,\"#f0f921\"]]}],\"heatmapgl\":[{\"type\":\"heatmapgl\",\"colorbar\":{\"outlinewidth\":0,\"ticks\":\"\"},\"colorscale\":[[0.0,\"#0d0887\"],[0.1111111111111111,\"#46039f\"],[0.2222222222222222,\"#7201a8\"],[0.3333333333333333,\"#9c179e\"],[0.4444444444444444,\"#bd3786\"],[0.5555555555555556,\"#d8576b\"],[0.6666666666666666,\"#ed7953\"],[0.7777777777777778,\"#fb9f3a\"],[0.8888888888888888,\"#fdca26\"],[1.0,\"#f0f921\"]]}],\"contourcarpet\":[{\"type\":\"contourcarpet\",\"colorbar\":{\"outlinewidth\":0,\"ticks\":\"\"}}],\"contour\":[{\"type\":\"contour\",\"colorbar\":{\"outlinewidth\":0,\"ticks\":\"\"},\"colorscale\":[[0.0,\"#0d0887\"],[0.1111111111111111,\"#46039f\"],[0.2222222222222222,\"#7201a8\"],[0.3333333333333333,\"#9c179e\"],[0.4444444444444444,\"#bd3786\"],[0.5555555555555556,\"#d8576b\"],[0.6666666666666666,\"#ed7953\"],[0.7777777777777778,\"#fb9f3a\"],[0.8888888888888888,\"#fdca26\"],[1.0,\"#f0f921\"]]}],\"surface\":[{\"type\":\"surface\",\"colorbar\":{\"outlinewidth\":0,\"ticks\":\"\"},\"colorscale\":[[0.0,\"#0d0887\"],[0.1111111111111111,\"#46039f\"],[0.2222222222222222,\"#7201a8\"],[0.3333333333333333,\"#9c179e\"],[0.4444444444444444,\"#bd3786\"],[0.5555555555555556,\"#d8576b\"],[0.6666666666666666,\"#ed7953\"],[0.7777777777777778,\"#fb9f3a\"],[0.8888888888888888,\"#fdca26\"],[1.0,\"#f0f921\"]]}],\"mesh3d\":[{\"type\":\"mesh3d\",\"colorbar\":{\"outlinewidth\":0,\"ticks\":\"\"}}],\"scatter\":[{\"fillpattern\":{\"fillmode\":\"overlay\",\"size\":10,\"solidity\":0.2},\"type\":\"scatter\"}],\"parcoords\":[{\"type\":\"parcoords\",\"line\":{\"colorbar\":{\"outlinewidth\":0,\"ticks\":\"\"}}}],\"scatterpolargl\":[{\"type\":\"scatterpolargl\",\"marker\":{\"colorbar\":{\"outlinewidth\":0,\"ticks\":\"\"}}}],\"bar\":[{\"error_x\":{\"color\":\"#2a3f5f\"},\"error_y\":{\"color\":\"#2a3f5f\"},\"marker\":{\"line\":{\"color\":\"#E5ECF6\",\"width\":0.5},\"pattern\":{\"fillmode\":\"overlay\",\"size\":10,\"solidity\":0.2}},\"type\":\"bar\"}],\"scattergeo\":[{\"type\":\"scattergeo\",\"marker\":{\"colorbar\":{\"outlinewidth\":0,\"ticks\":\"\"}}}],\"scatterpolar\":[{\"type\":\"scatterpolar\",\"marker\":{\"colorbar\":{\"outlinewidth\":0,\"ticks\":\"\"}}}],\"histogram\":[{\"marker\":{\"pattern\":{\"fillmode\":\"overlay\",\"size\":10,\"solidity\":0.2}},\"type\":\"histogram\"}],\"scattergl\":[{\"type\":\"scattergl\",\"marker\":{\"colorbar\":{\"outlinewidth\":0,\"ticks\":\"\"}}}],\"scatter3d\":[{\"type\":\"scatter3d\",\"line\":{\"colorbar\":{\"outlinewidth\":0,\"ticks\":\"\"}},\"marker\":{\"colorbar\":{\"outlinewidth\":0,\"ticks\":\"\"}}}],\"scattermapbox\":[{\"type\":\"scattermapbox\",\"marker\":{\"colorbar\":{\"outlinewidth\":0,\"ticks\":\"\"}}}],\"scatterternary\":[{\"type\":\"scatterternary\",\"marker\":{\"colorbar\":{\"outlinewidth\":0,\"ticks\":\"\"}}}],\"scattercarpet\":[{\"type\":\"scattercarpet\",\"marker\":{\"colorbar\":{\"outlinewidth\":0,\"ticks\":\"\"}}}],\"carpet\":[{\"aaxis\":{\"endlinecolor\":\"#2a3f5f\",\"gridcolor\":\"white\",\"linecolor\":\"white\",\"minorgridcolor\":\"white\",\"startlinecolor\":\"#2a3f5f\"},\"baxis\":{\"endlinecolor\":\"#2a3f5f\",\"gridcolor\":\"white\",\"linecolor\":\"white\",\"minorgridcolor\":\"white\",\"startlinecolor\":\"#2a3f5f\"},\"type\":\"carpet\"}],\"table\":[{\"cells\":{\"fill\":{\"color\":\"#EBF0F8\"},\"line\":{\"color\":\"white\"}},\"header\":{\"fill\":{\"color\":\"#C8D4E3\"},\"line\":{\"color\":\"white\"}},\"type\":\"table\"}],\"barpolar\":[{\"marker\":{\"line\":{\"color\":\"#E5ECF6\",\"width\":0.5},\"pattern\":{\"fillmode\":\"overlay\",\"size\":10,\"solidity\":0.2}},\"type\":\"barpolar\"}],\"pie\":[{\"automargin\":true,\"type\":\"pie\"}]},\"layout\":{\"autotypenumbers\":\"strict\",\"colorway\":[\"#636efa\",\"#EF553B\",\"#00cc96\",\"#ab63fa\",\"#FFA15A\",\"#19d3f3\",\"#FF6692\",\"#B6E880\",\"#FF97FF\",\"#FECB52\"],\"font\":{\"color\":\"#2a3f5f\"},\"hovermode\":\"closest\",\"hoverlabel\":{\"align\":\"left\"},\"paper_bgcolor\":\"white\",\"plot_bgcolor\":\"#E5ECF6\",\"polar\":{\"bgcolor\":\"#E5ECF6\",\"angularaxis\":{\"gridcolor\":\"white\",\"linecolor\":\"white\",\"ticks\":\"\"},\"radialaxis\":{\"gridcolor\":\"white\",\"linecolor\":\"white\",\"ticks\":\"\"}},\"ternary\":{\"bgcolor\":\"#E5ECF6\",\"aaxis\":{\"gridcolor\":\"white\",\"linecolor\":\"white\",\"ticks\":\"\"},\"baxis\":{\"gridcolor\":\"white\",\"linecolor\":\"white\",\"ticks\":\"\"},\"caxis\":{\"gridcolor\":\"white\",\"linecolor\":\"white\",\"ticks\":\"\"}},\"coloraxis\":{\"colorbar\":{\"outlinewidth\":0,\"ticks\":\"\"}},\"colorscale\":{\"sequential\":[[0.0,\"#0d0887\"],[0.1111111111111111,\"#46039f\"],[0.2222222222222222,\"#7201a8\"],[0.3333333333333333,\"#9c179e\"],[0.4444444444444444,\"#bd3786\"],[0.5555555555555556,\"#d8576b\"],[0.6666666666666666,\"#ed7953\"],[0.7777777777777778,\"#fb9f3a\"],[0.8888888888888888,\"#fdca26\"],[1.0,\"#f0f921\"]],\"sequentialminus\":[[0.0,\"#0d0887\"],[0.1111111111111111,\"#46039f\"],[0.2222222222222222,\"#7201a8\"],[0.3333333333333333,\"#9c179e\"],[0.4444444444444444,\"#bd3786\"],[0.5555555555555556,\"#d8576b\"],[0.6666666666666666,\"#ed7953\"],[0.7777777777777778,\"#fb9f3a\"],[0.8888888888888888,\"#fdca26\"],[1.0,\"#f0f921\"]],\"diverging\":[[0,\"#8e0152\"],[0.1,\"#c51b7d\"],[0.2,\"#de77ae\"],[0.3,\"#f1b6da\"],[0.4,\"#fde0ef\"],[0.5,\"#f7f7f7\"],[0.6,\"#e6f5d0\"],[0.7,\"#b8e186\"],[0.8,\"#7fbc41\"],[0.9,\"#4d9221\"],[1,\"#276419\"]]},\"xaxis\":{\"gridcolor\":\"white\",\"linecolor\":\"white\",\"ticks\":\"\",\"title\":{\"standoff\":15},\"zerolinecolor\":\"white\",\"automargin\":true,\"zerolinewidth\":2},\"yaxis\":{\"gridcolor\":\"white\",\"linecolor\":\"white\",\"ticks\":\"\",\"title\":{\"standoff\":15},\"zerolinecolor\":\"white\",\"automargin\":true,\"zerolinewidth\":2},\"scene\":{\"xaxis\":{\"backgroundcolor\":\"#E5ECF6\",\"gridcolor\":\"white\",\"linecolor\":\"white\",\"showbackground\":true,\"ticks\":\"\",\"zerolinecolor\":\"white\",\"gridwidth\":2},\"yaxis\":{\"backgroundcolor\":\"#E5ECF6\",\"gridcolor\":\"white\",\"linecolor\":\"white\",\"showbackground\":true,\"ticks\":\"\",\"zerolinecolor\":\"white\",\"gridwidth\":2},\"zaxis\":{\"backgroundcolor\":\"#E5ECF6\",\"gridcolor\":\"white\",\"linecolor\":\"white\",\"showbackground\":true,\"ticks\":\"\",\"zerolinecolor\":\"white\",\"gridwidth\":2}},\"shapedefaults\":{\"line\":{\"color\":\"#2a3f5f\"}},\"annotationdefaults\":{\"arrowcolor\":\"#2a3f5f\",\"arrowhead\":0,\"arrowwidth\":1},\"geo\":{\"bgcolor\":\"white\",\"landcolor\":\"#E5ECF6\",\"subunitcolor\":\"white\",\"showland\":true,\"showlakes\":true,\"lakecolor\":\"white\"},\"title\":{\"x\":0.05},\"mapbox\":{\"style\":\"light\"}}},\"xaxis\":{\"anchor\":\"y\",\"domain\":[0.0,1.0],\"title\":{\"text\":\"siteid\"}},\"yaxis\":{\"anchor\":\"x\",\"domain\":[0.0,1.0],\"title\":{\"text\":\"count\"}},\"legend\":{\"tracegroupgap\":0},\"title\":{\"text\":\"The number of maintenance orders in each city\"},\"barmode\":\"relative\"},                        {\"responsive\": true}                    ).then(function(){\n",
       "                            \n",
       "var gd = document.getElementById('34ef7cc1-7d09-4464-9b7f-08aac5807d28');\n",
       "var x = new MutationObserver(function (mutations, observer) {{\n",
       "        var display = window.getComputedStyle(gd).display;\n",
       "        if (!display || display === 'none') {{\n",
       "            console.log([gd, 'removed!']);\n",
       "            Plotly.purge(gd);\n",
       "            observer.disconnect();\n",
       "        }}\n",
       "}});\n",
       "\n",
       "// Listen for the removal of the full notebook cells\n",
       "var notebookContainer = gd.closest('#notebook-container');\n",
       "if (notebookContainer) {{\n",
       "    x.observe(notebookContainer, {childList: true});\n",
       "}}\n",
       "\n",
       "// Listen for the clearing of the current output cell\n",
       "var outputEl = gd.closest('.output');\n",
       "if (outputEl) {{\n",
       "    x.observe(outputEl, {childList: true});\n",
       "}}\n",
       "\n",
       "                        })                };                });            </script>        </div>"
      ]
     },
     "metadata": {},
     "output_type": "display_data"
    }
   ],
   "source": [
    "#This chart shows the number of maintenance orders in each city \n",
    "fig = px.bar(df, x=\"siteid\", title='The number of maintenance orders in each city',\n",
    "             color_discrete_sequence=px.colors.sequential.RdBu)\n",
    "fig.show()"
   ]
  },
  {
   "cell_type": "code",
   "execution_count": null,
   "id": "28943637",
   "metadata": {},
   "outputs": [],
   "source": []
  }
 ],
 "metadata": {
  "kernelspec": {
   "display_name": "Python 3 (ipykernel)",
   "language": "python",
   "name": "python3"
  },
  "language_info": {
   "codemirror_mode": {
    "name": "ipython",
    "version": 3
   },
   "file_extension": ".py",
   "mimetype": "text/x-python",
   "name": "python",
   "nbconvert_exporter": "python",
   "pygments_lexer": "ipython3",
   "version": "3.9.13"
  }
 },
 "nbformat": 4,
 "nbformat_minor": 5
}
