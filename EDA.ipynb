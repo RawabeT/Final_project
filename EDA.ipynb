{
 "cells": [
  {
   "cell_type": "code",
   "execution_count": 1,
   "id": "e7943519",
   "metadata": {},
   "outputs": [],
   "source": [
    "import pandas as pd\n",
    "import numpy as np\n",
    "import warnings\n",
    "warnings.filterwarnings('ignore')\n",
    "import plotly.express as px"
   ]
  },
  {
   "cell_type": "code",
   "execution_count": 2,
   "id": "7efa9158",
   "metadata": {},
   "outputs": [],
   "source": [
    "df = pd.read_csv('12344.csv') "
   ]
  },
  {
   "cell_type": "code",
   "execution_count": 3,
   "id": "5ac83271",
   "metadata": {},
   "outputs": [
    {
     "data": {
      "text/html": [
       "<div>\n",
       "<style scoped>\n",
       "    .dataframe tbody tr th:only-of-type {\n",
       "        vertical-align: middle;\n",
       "    }\n",
       "\n",
       "    .dataframe tbody tr th {\n",
       "        vertical-align: top;\n",
       "    }\n",
       "\n",
       "    .dataframe thead th {\n",
       "        text-align: right;\n",
       "    }\n",
       "</style>\n",
       "<table border=\"1\" class=\"dataframe\">\n",
       "  <thead>\n",
       "    <tr style=\"text-align: right;\">\n",
       "      <th></th>\n",
       "      <th>wonum</th>\n",
       "      <th>status</th>\n",
       "      <th>statusdate</th>\n",
       "      <th>worktype</th>\n",
       "      <th>assetnum</th>\n",
       "      <th>location</th>\n",
       "      <th>historyflag</th>\n",
       "      <th>wopriority</th>\n",
       "      <th>targcompdate</th>\n",
       "      <th>targstartdate</th>\n",
       "      <th>...</th>\n",
       "      <th>lead</th>\n",
       "      <th>wogroup</th>\n",
       "      <th>scheduler</th>\n",
       "      <th>planner</th>\n",
       "      <th>projeng1</th>\n",
       "      <th>location2</th>\n",
       "      <th>createdby</th>\n",
       "      <th>zzcontractor</th>\n",
       "      <th>zzdepartment</th>\n",
       "      <th>passfailstatus</th>\n",
       "    </tr>\n",
       "  </thead>\n",
       "  <tbody>\n",
       "    <tr>\n",
       "      <th>0</th>\n",
       "      <td>2593743</td>\n",
       "      <td>CLOSE</td>\n",
       "      <td>3/6/2022</td>\n",
       "      <td>PM</td>\n",
       "      <td>A525-000670</td>\n",
       "      <td>KSAUHS-3-Z002</td>\n",
       "      <td>1.0</td>\n",
       "      <td>NaN</td>\n",
       "      <td>00:00.0</td>\n",
       "      <td>00:00.0</td>\n",
       "      <td>...</td>\n",
       "      <td>H-013</td>\n",
       "      <td>2593743</td>\n",
       "      <td>H-013</td>\n",
       "      <td>H-013</td>\n",
       "      <td>H-011</td>\n",
       "      <td>NaN</td>\n",
       "      <td>MAXADMIN</td>\n",
       "      <td>C1-ZAHRAN</td>\n",
       "      <td>Electrical</td>\n",
       "      <td>NaN</td>\n",
       "    </tr>\n",
       "    <tr>\n",
       "      <th>1</th>\n",
       "      <td>2593745</td>\n",
       "      <td>CLOSE</td>\n",
       "      <td>3/7/2022</td>\n",
       "      <td>PM</td>\n",
       "      <td>A525-000672</td>\n",
       "      <td>KSAUHS-3-Z002</td>\n",
       "      <td>1.0</td>\n",
       "      <td>NaN</td>\n",
       "      <td>00:00.0</td>\n",
       "      <td>00:00.0</td>\n",
       "      <td>...</td>\n",
       "      <td>H-013</td>\n",
       "      <td>2593745</td>\n",
       "      <td>H-013</td>\n",
       "      <td>H-013</td>\n",
       "      <td>H-011</td>\n",
       "      <td>NaN</td>\n",
       "      <td>MAXADMIN</td>\n",
       "      <td>C1-ZAHRAN</td>\n",
       "      <td>Electrical</td>\n",
       "      <td>NaN</td>\n",
       "    </tr>\n",
       "    <tr>\n",
       "      <th>2</th>\n",
       "      <td>2593748</td>\n",
       "      <td>CLOSE</td>\n",
       "      <td>3/8/2022</td>\n",
       "      <td>PM</td>\n",
       "      <td>A525-000675</td>\n",
       "      <td>KSAUHS-3-Z002</td>\n",
       "      <td>1.0</td>\n",
       "      <td>NaN</td>\n",
       "      <td>00:00.0</td>\n",
       "      <td>00:00.0</td>\n",
       "      <td>...</td>\n",
       "      <td>H-013</td>\n",
       "      <td>2593748</td>\n",
       "      <td>H-013</td>\n",
       "      <td>H-013</td>\n",
       "      <td>H-011</td>\n",
       "      <td>NaN</td>\n",
       "      <td>MAXADMIN</td>\n",
       "      <td>C1-ZAHRAN</td>\n",
       "      <td>Electrical</td>\n",
       "      <td>NaN</td>\n",
       "    </tr>\n",
       "    <tr>\n",
       "      <th>3</th>\n",
       "      <td>2593754</td>\n",
       "      <td>CLOSE</td>\n",
       "      <td>3/9/2022</td>\n",
       "      <td>PM</td>\n",
       "      <td>A525-000681</td>\n",
       "      <td>KSAUHS-3-Z002</td>\n",
       "      <td>1.0</td>\n",
       "      <td>NaN</td>\n",
       "      <td>00:00.0</td>\n",
       "      <td>00:00.0</td>\n",
       "      <td>...</td>\n",
       "      <td>H-013</td>\n",
       "      <td>2593754</td>\n",
       "      <td>H-013</td>\n",
       "      <td>H-013</td>\n",
       "      <td>H-011</td>\n",
       "      <td>NaN</td>\n",
       "      <td>MAXADMIN</td>\n",
       "      <td>C1-ZAHRAN</td>\n",
       "      <td>Electrical</td>\n",
       "      <td>NaN</td>\n",
       "    </tr>\n",
       "    <tr>\n",
       "      <th>4</th>\n",
       "      <td>2593755</td>\n",
       "      <td>CLOSE</td>\n",
       "      <td>3/10/2022</td>\n",
       "      <td>PM</td>\n",
       "      <td>A810-000633</td>\n",
       "      <td>KSAUHS-3-Z001</td>\n",
       "      <td>1.0</td>\n",
       "      <td>NaN</td>\n",
       "      <td>00:00.0</td>\n",
       "      <td>00:00.0</td>\n",
       "      <td>...</td>\n",
       "      <td>H-494</td>\n",
       "      <td>2593755</td>\n",
       "      <td>H-494</td>\n",
       "      <td>H-494</td>\n",
       "      <td>H-494</td>\n",
       "      <td>NaN</td>\n",
       "      <td>MAXADMIN</td>\n",
       "      <td>C1-ZAHRAN</td>\n",
       "      <td>Non-Medical</td>\n",
       "      <td>NaN</td>\n",
       "    </tr>\n",
       "  </tbody>\n",
       "</table>\n",
       "<p>5 rows × 31 columns</p>\n",
       "</div>"
      ],
      "text/plain": [
       "     wonum status statusdate worktype     assetnum       location  \\\n",
       "0  2593743  CLOSE   3/6/2022       PM  A525-000670  KSAUHS-3-Z002   \n",
       "1  2593745  CLOSE   3/7/2022       PM  A525-000672  KSAUHS-3-Z002   \n",
       "2  2593748  CLOSE   3/8/2022       PM  A525-000675  KSAUHS-3-Z002   \n",
       "3  2593754  CLOSE   3/9/2022       PM  A525-000681  KSAUHS-3-Z002   \n",
       "4  2593755  CLOSE  3/10/2022       PM  A810-000633  KSAUHS-3-Z001   \n",
       "\n",
       "    historyflag   wopriority  targcompdate targstartdate  ...   lead  wogroup  \\\n",
       "0           1.0          NaN       00:00.0       00:00.0  ...  H-013  2593743   \n",
       "1           1.0          NaN       00:00.0       00:00.0  ...  H-013  2593745   \n",
       "2           1.0          NaN       00:00.0       00:00.0  ...  H-013  2593748   \n",
       "3           1.0          NaN       00:00.0       00:00.0  ...  H-013  2593754   \n",
       "4           1.0          NaN       00:00.0       00:00.0  ...  H-494  2593755   \n",
       "\n",
       "   scheduler  planner projeng1  location2 createdby  zzcontractor  \\\n",
       "0      H-013    H-013    H-011        NaN  MAXADMIN     C1-ZAHRAN   \n",
       "1      H-013    H-013    H-011        NaN  MAXADMIN     C1-ZAHRAN   \n",
       "2      H-013    H-013    H-011        NaN  MAXADMIN     C1-ZAHRAN   \n",
       "3      H-013    H-013    H-011        NaN  MAXADMIN     C1-ZAHRAN   \n",
       "4      H-494    H-494    H-494        NaN  MAXADMIN     C1-ZAHRAN   \n",
       "\n",
       "   zzdepartment passfailstatus  \n",
       "0    Electrical            NaN  \n",
       "1    Electrical            NaN  \n",
       "2    Electrical            NaN  \n",
       "3    Electrical            NaN  \n",
       "4   Non-Medical            NaN  \n",
       "\n",
       "[5 rows x 31 columns]"
      ]
     },
     "execution_count": 3,
     "metadata": {},
     "output_type": "execute_result"
    }
   ],
   "source": [
    "df.head()"
   ]
  },
  {
   "cell_type": "code",
   "execution_count": 5,
   "id": "4448bba9",
   "metadata": {},
   "outputs": [
    {
     "data": {
      "text/plain": [
       "26070628"
      ]
     },
     "execution_count": 5,
     "metadata": {},
     "output_type": "execute_result"
    }
   ],
   "source": [
    "df.size"
   ]
  },
  {
   "cell_type": "code",
   "execution_count": 6,
   "id": "ebbb646d",
   "metadata": {},
   "outputs": [
    {
     "data": {
      "text/plain": [
       "(840988, 31)"
      ]
     },
     "execution_count": 6,
     "metadata": {},
     "output_type": "execute_result"
    }
   ],
   "source": [
    "df.shape"
   ]
  },
  {
   "cell_type": "code",
   "execution_count": 7,
   "id": "34f14ab1",
   "metadata": {},
   "outputs": [],
   "source": [
    "df.columns = df.columns.str.replace(' ', '')"
   ]
  },
  {
   "cell_type": "code",
   "execution_count": 8,
   "id": "8b2257c2",
   "metadata": {},
   "outputs": [
    {
     "data": {
      "text/plain": [
       "(840988, 31)"
      ]
     },
     "execution_count": 8,
     "metadata": {},
     "output_type": "execute_result"
    }
   ],
   "source": [
    "df.shape"
   ]
  },
  {
   "cell_type": "code",
   "execution_count": 9,
   "id": "958e5b41",
   "metadata": {},
   "outputs": [],
   "source": [
    "#delete column \n",
    "\n",
    "df = df.drop(['statusdate' ,'targcompdate', 'targstartdate', 'reportedby',\n",
    "       'reportdate', 'actstart', 'schedstart', 'schedfinish','supervisor', 'origrecordid',\n",
    "         'owner', 'lead', 'wogroup', 'scheduler', 'planner', 'projeng1', 'location2',\n",
    "       'createdby', 'passfailstatus', \"persongroup\" , \"ownergroup\"] , axis=1)"
   ]
  },
  {
   "cell_type": "code",
   "execution_count": 10,
   "id": "0c19dfc9",
   "metadata": {},
   "outputs": [
    {
     "data": {
      "text/plain": [
       "(840988, 10)"
      ]
     },
     "execution_count": 10,
     "metadata": {},
     "output_type": "execute_result"
    }
   ],
   "source": [
    "df.shape"
   ]
  },
  {
   "cell_type": "code",
   "execution_count": 11,
   "id": "fa10cdaa",
   "metadata": {},
   "outputs": [
    {
     "data": {
      "text/plain": [
       "Index(['wonum', 'status', 'worktype', 'assetnum', 'location', 'historyflag',\n",
       "       'wopriority', 'actfinish', 'zzcontractor', 'zzdepartment'],\n",
       "      dtype='object')"
      ]
     },
     "execution_count": 11,
     "metadata": {},
     "output_type": "execute_result"
    }
   ],
   "source": [
    "df.columns"
   ]
  },
  {
   "cell_type": "code",
   "execution_count": 12,
   "id": "4db33bc9",
   "metadata": {},
   "outputs": [],
   "source": [
    "df = df.rename(columns={\"wonum\": \"work_number\", \n",
    "                   \"assetnum\": \"asset_ID\",\n",
    "                   \"wopriority\": \"Priority\",\n",
    "                   \"actfinish\": \"Date\", \n",
    "                   \"historyflag\": \"modifications\",\n",
    "                   'zzdepartment': \"field_type\",\n",
    "                   \"zzcontractor\": \"contractor\"}) "
   ]
  },
  {
   "cell_type": "code",
   "execution_count": 13,
   "id": "c6fd939b",
   "metadata": {},
   "outputs": [
    {
     "data": {
      "text/plain": [
       "Index(['work_number', 'status', 'worktype', 'asset_ID', 'location',\n",
       "       'modifications', 'Priority', 'Date', 'contractor', 'field_type'],\n",
       "      dtype='object')"
      ]
     },
     "execution_count": 13,
     "metadata": {},
     "output_type": "execute_result"
    }
   ],
   "source": [
    "df.columns"
   ]
  },
  {
   "cell_type": "code",
   "execution_count": 14,
   "id": "c3a49525",
   "metadata": {},
   "outputs": [
    {
     "data": {
      "text/plain": [
       "(840988, 10)"
      ]
     },
     "execution_count": 14,
     "metadata": {},
     "output_type": "execute_result"
    }
   ],
   "source": [
    "df.shape"
   ]
  },
  {
   "cell_type": "code",
   "execution_count": 15,
   "id": "76e167b3",
   "metadata": {},
   "outputs": [
    {
     "data": {
      "text/plain": [
       "PM      708707\n",
       "CM       96270\n",
       "PDI      33819\n",
       "EM        1769\n",
       "MOD        166\n",
       "HSE          2\n",
       "2021         1\n",
       "CMP          1\n",
       "2020         1\n",
       "LOG          1\n",
       "Name: worktype, dtype: int64"
      ]
     },
     "execution_count": 15,
     "metadata": {},
     "output_type": "execute_result"
    }
   ],
   "source": [
    "df['worktype'].value_counts()"
   ]
  },
  {
   "cell_type": "code",
   "execution_count": 19,
   "id": "f59f5bc4",
   "metadata": {},
   "outputs": [],
   "source": [
    "df.drop(df[df['worktype'] == 'PM'].index, inplace = True)\n",
    "df.drop(df[df['worktype'] == 'LOG'].index, inplace = True)\n",
    "df.drop(df[df['worktype'] == '2020'].index, inplace = True)\n",
    "df.drop(df[df['worktype'] == 'CMP'].index, inplace = True)\n",
    "df.drop(df[df['worktype'] == '2021'].index, inplace = True)\n",
    "df.drop(df[df['worktype'] == 'HSE'].index, inplace = True)"
   ]
  },
  {
   "cell_type": "code",
   "execution_count": 20,
   "id": "6eb66b0f",
   "metadata": {},
   "outputs": [
    {
     "data": {
      "text/plain": [
       "(132275, 10)"
      ]
     },
     "execution_count": 20,
     "metadata": {},
     "output_type": "execute_result"
    }
   ],
   "source": [
    "df.shape"
   ]
  },
  {
   "cell_type": "code",
   "execution_count": 22,
   "id": "020aa812",
   "metadata": {},
   "outputs": [
    {
     "data": {
      "text/plain": [
       "CM     96270\n",
       "PDI    33819\n",
       "EM      1769\n",
       "MOD      166\n",
       "Name: worktype, dtype: int64"
      ]
     },
     "execution_count": 22,
     "metadata": {},
     "output_type": "execute_result"
    }
   ],
   "source": [
    "df['worktype'].value_counts()"
   ]
  },
  {
   "cell_type": "code",
   "execution_count": 23,
   "id": "d287a248",
   "metadata": {},
   "outputs": [
    {
     "data": {
      "text/plain": [
       "C1-ZAHRAN        112871\n",
       "C1-JASH           16283\n",
       "C2-NESMA           2042\n",
       "C4-ALKHORAYEF       413\n",
       "C3-SICE             188\n",
       "HTMS                 35\n",
       "Name: contractor, dtype: int64"
      ]
     },
     "execution_count": 23,
     "metadata": {},
     "output_type": "execute_result"
    }
   ],
   "source": [
    "df['contractor'].value_counts()"
   ]
  },
  {
   "cell_type": "code",
   "execution_count": 24,
   "id": "71bc060d",
   "metadata": {},
   "outputs": [],
   "source": [
    "df.drop(df[df['contractor'] == 'C3-SICE'].index, inplace = True)\n",
    "df.drop(df[df['contractor'] == 'C4-ALKHORAYEF'].index, inplace = True)\n",
    "df.drop(df[df['contractor'] == 'HTMS'].index, inplace = True)\n"
   ]
  },
  {
   "cell_type": "code",
   "execution_count": 25,
   "id": "cda37bf9",
   "metadata": {},
   "outputs": [
    {
     "data": {
      "text/plain": [
       "C1-ZAHRAN    112871\n",
       "C1-JASH       16283\n",
       "C2-NESMA       2042\n",
       "Name: contractor, dtype: int64"
      ]
     },
     "execution_count": 25,
     "metadata": {},
     "output_type": "execute_result"
    }
   ],
   "source": [
    "df['contractor'].value_counts()"
   ]
  },
  {
   "cell_type": "code",
   "execution_count": 26,
   "id": "34ce569c",
   "metadata": {},
   "outputs": [
    {
     "data": {
      "text/plain": [
       "CLOSE           125496\n",
       "CAN               2437\n",
       "ACCESSDENIED      1321\n",
       "COMP              1113\n",
       "WMATL              561\n",
       "WAPPR              153\n",
       "WPLAN              142\n",
       "SCHEDCOMP           99\n",
       "REQCAN              76\n",
       "WASSESS             61\n",
       "WSCH                54\n",
       "CANREJ              44\n",
       "INPRG               34\n",
       "PLANCOMPWMAT        13\n",
       "WSAFE               13\n",
       "DEFERRED             7\n",
       "READY                5\n",
       "PLANCOMP             5\n",
       "TAAPPR               2\n",
       "FAIL                 2\n",
       "PASS                 1\n",
       "Name: status, dtype: int64"
      ]
     },
     "execution_count": 26,
     "metadata": {},
     "output_type": "execute_result"
    }
   ],
   "source": [
    "df['status'].value_counts()"
   ]
  },
  {
   "cell_type": "code",
   "execution_count": 27,
   "id": "82fafa95",
   "metadata": {},
   "outputs": [],
   "source": [
    "df.drop(df[df['status'] == ('ACCESSDENIED')].index, inplace = True)\n",
    "df.drop(df[df['status'] == 'CAN'].index, inplace = True)\n",
    "df.drop(df[df['status'] == 'INPRG'].index, inplace = True)\n",
    "df.drop(df[df['status'] == 'FAIL'].index, inplace = True)\n",
    "df.drop(df[df['status'] == 'TAAPPR'].index, inplace = True)\n",
    "df.drop(df[df['status'] == 'PLANCOMP'].index, inplace = True)\n",
    "df.drop(df[df['status'] == 'PLANCOMPWMAT'].index, inplace = True)\n",
    "df.drop(df[df['status'] == 'WSAFE'].index, inplace = True)\n",
    "df.drop(df[df['status'] == 'DEFERRED'].index, inplace = True)\n",
    "\n",
    "df.drop(df[df['status'] == ('WMATL')].index, inplace = True)\n",
    "df.drop(df[df['status'] == 'WAPPR'].index, inplace = True)\n",
    "df.drop(df[df['status'] == 'WPLAN'].index, inplace = True)\n",
    "df.drop(df[df['status'] == 'REQCAN'].index, inplace = True)\n",
    "df.drop(df[df['status'] == 'WASSESS'].index, inplace = True)\n",
    "df.drop(df[df['status'] == 'INPRG'].index, inplace = True)\n",
    "\n",
    "df.drop(df[df['status'] == ('WSCH')].index, inplace = True)\n",
    "df.drop(df[df['status'] == 'CANREJ'].index, inplace = True)\n",
    "df.drop(df[df['status'] == 'READY'].index, inplace = True)\n",
    "df.drop(df[df['status'] == 'SCHEDCOMP'].index, inplace = True)\n",
    "\n"
   ]
  },
  {
   "cell_type": "code",
   "execution_count": 28,
   "id": "3f5e342a",
   "metadata": {},
   "outputs": [
    {
     "data": {
      "text/plain": [
       "CLOSE    125496\n",
       "COMP       1113\n",
       "PASS          1\n",
       "Name: status, dtype: int64"
      ]
     },
     "execution_count": 28,
     "metadata": {},
     "output_type": "execute_result"
    }
   ],
   "source": [
    "df['status'].value_counts()"
   ]
  },
  {
   "cell_type": "code",
   "execution_count": 29,
   "id": "7a5ef9c1",
   "metadata": {},
   "outputs": [
    {
     "data": {
      "text/plain": [
       "5         5/19/2020\n",
       "6          1/1/2020\n",
       "46         3/3/2020\n",
       "47        2/24/2020\n",
       "48        2/25/2020\n",
       "            ...    \n",
       "840718     5/3/2020\n",
       "840719     5/4/2020\n",
       "840720     5/4/2020\n",
       "840721     5/4/2020\n",
       "840722     5/4/2020\n",
       "Name: Date, Length: 126610, dtype: object"
      ]
     },
     "execution_count": 29,
     "metadata": {},
     "output_type": "execute_result"
    }
   ],
   "source": [
    "df['Date']"
   ]
  },
  {
   "cell_type": "code",
   "execution_count": 30,
   "id": "6ddc0671",
   "metadata": {},
   "outputs": [
    {
     "data": {
      "text/plain": [
       "(126610, 10)"
      ]
     },
     "execution_count": 30,
     "metadata": {},
     "output_type": "execute_result"
    }
   ],
   "source": [
    "df.shape"
   ]
  },
  {
   "cell_type": "code",
   "execution_count": 31,
   "id": "a3ca698f",
   "metadata": {},
   "outputs": [
    {
     "data": {
      "text/plain": [
       "1266100"
      ]
     },
     "execution_count": 31,
     "metadata": {},
     "output_type": "execute_result"
    }
   ],
   "source": [
    "df.size"
   ]
  },
  {
   "cell_type": "code",
   "execution_count": 38,
   "id": "01e11d2d",
   "metadata": {},
   "outputs": [
    {
     "data": {
      "text/plain": [
       "Electrical     53279\n",
       "Mechanical     28759\n",
       "Civil          21738\n",
       "Plumbing       19616\n",
       "Low Current     2147\n",
       "Non-Medical      641\n",
       "Name: field_type, dtype: int64"
      ]
     },
     "execution_count": 38,
     "metadata": {},
     "output_type": "execute_result"
    }
   ],
   "source": [
    "df['field_type'].value_counts()"
   ]
  },
  {
   "cell_type": "code",
   "execution_count": 39,
   "id": "75610e67",
   "metadata": {},
   "outputs": [
    {
     "data": {
      "text/plain": [
       "work_number          0\n",
       "status               0\n",
       "worktype            38\n",
       "asset_ID         83076\n",
       "location           236\n",
       "modifications        0\n",
       "Priority          2189\n",
       "Date              5217\n",
       "contractor         198\n",
       "field_type         430\n",
       "dtype: int64"
      ]
     },
     "execution_count": 39,
     "metadata": {},
     "output_type": "execute_result"
    }
   ],
   "source": [
    "df.isnull().sum()"
   ]
  },
  {
   "cell_type": "code",
   "execution_count": 34,
   "id": "59862b78",
   "metadata": {},
   "outputs": [
    {
     "data": {
      "text/html": [
       "<div>\n",
       "<style scoped>\n",
       "    .dataframe tbody tr th:only-of-type {\n",
       "        vertical-align: middle;\n",
       "    }\n",
       "\n",
       "    .dataframe tbody tr th {\n",
       "        vertical-align: top;\n",
       "    }\n",
       "\n",
       "    .dataframe thead th {\n",
       "        text-align: right;\n",
       "    }\n",
       "</style>\n",
       "<table border=\"1\" class=\"dataframe\">\n",
       "  <thead>\n",
       "    <tr style=\"text-align: right;\">\n",
       "      <th></th>\n",
       "      <th>modifications</th>\n",
       "      <th>Priority</th>\n",
       "    </tr>\n",
       "  </thead>\n",
       "  <tbody>\n",
       "    <tr>\n",
       "      <th>count</th>\n",
       "      <td>126610.000000</td>\n",
       "      <td>124421.000000</td>\n",
       "    </tr>\n",
       "    <tr>\n",
       "      <th>mean</th>\n",
       "      <td>0.991209</td>\n",
       "      <td>2.946906</td>\n",
       "    </tr>\n",
       "    <tr>\n",
       "      <th>std</th>\n",
       "      <td>0.093346</td>\n",
       "      <td>0.282895</td>\n",
       "    </tr>\n",
       "    <tr>\n",
       "      <th>min</th>\n",
       "      <td>0.000000</td>\n",
       "      <td>1.000000</td>\n",
       "    </tr>\n",
       "    <tr>\n",
       "      <th>25%</th>\n",
       "      <td>1.000000</td>\n",
       "      <td>3.000000</td>\n",
       "    </tr>\n",
       "    <tr>\n",
       "      <th>50%</th>\n",
       "      <td>1.000000</td>\n",
       "      <td>3.000000</td>\n",
       "    </tr>\n",
       "    <tr>\n",
       "      <th>75%</th>\n",
       "      <td>1.000000</td>\n",
       "      <td>3.000000</td>\n",
       "    </tr>\n",
       "    <tr>\n",
       "      <th>max</th>\n",
       "      <td>1.000000</td>\n",
       "      <td>3.000000</td>\n",
       "    </tr>\n",
       "  </tbody>\n",
       "</table>\n",
       "</div>"
      ],
      "text/plain": [
       "       modifications       Priority\n",
       "count  126610.000000  124421.000000\n",
       "mean        0.991209       2.946906\n",
       "std         0.093346       0.282895\n",
       "min         0.000000       1.000000\n",
       "25%         1.000000       3.000000\n",
       "50%         1.000000       3.000000\n",
       "75%         1.000000       3.000000\n",
       "max         1.000000       3.000000"
      ]
     },
     "execution_count": 34,
     "metadata": {},
     "output_type": "execute_result"
    }
   ],
   "source": [
    "df.describe()"
   ]
  },
  {
   "cell_type": "code",
   "execution_count": 35,
   "id": "6753eac6",
   "metadata": {},
   "outputs": [
    {
     "data": {
      "text/html": [
       "<div>\n",
       "<style scoped>\n",
       "    .dataframe tbody tr th:only-of-type {\n",
       "        vertical-align: middle;\n",
       "    }\n",
       "\n",
       "    .dataframe tbody tr th {\n",
       "        vertical-align: top;\n",
       "    }\n",
       "\n",
       "    .dataframe thead th {\n",
       "        text-align: right;\n",
       "    }\n",
       "</style>\n",
       "<table border=\"1\" class=\"dataframe\">\n",
       "  <thead>\n",
       "    <tr style=\"text-align: right;\">\n",
       "      <th></th>\n",
       "      <th>work_number</th>\n",
       "      <th>status</th>\n",
       "      <th>worktype</th>\n",
       "      <th>asset_ID</th>\n",
       "      <th>location</th>\n",
       "      <th>modifications</th>\n",
       "      <th>Priority</th>\n",
       "      <th>Date</th>\n",
       "      <th>contractor</th>\n",
       "      <th>field_type</th>\n",
       "    </tr>\n",
       "  </thead>\n",
       "  <tbody>\n",
       "    <tr>\n",
       "      <th>5</th>\n",
       "      <td>NaN</td>\n",
       "      <td>NaN</td>\n",
       "      <td>NaN</td>\n",
       "      <td>NaN</td>\n",
       "      <td>NaN</td>\n",
       "      <td>NaN</td>\n",
       "      <td>NaN</td>\n",
       "      <td>NaN</td>\n",
       "      <td>NaN</td>\n",
       "      <td>NaN</td>\n",
       "    </tr>\n",
       "    <tr>\n",
       "      <th>6</th>\n",
       "      <td>2593783</td>\n",
       "      <td>CLOSE</td>\n",
       "      <td>CM</td>\n",
       "      <td>A530-001751</td>\n",
       "      <td>KSAUHS-3-Z002</td>\n",
       "      <td>1.0</td>\n",
       "      <td>3.0</td>\n",
       "      <td>5/19/2020</td>\n",
       "      <td>C1-ZAHRAN</td>\n",
       "      <td>Electrical</td>\n",
       "    </tr>\n",
       "    <tr>\n",
       "      <th>46</th>\n",
       "      <td>2593787</td>\n",
       "      <td>CLOSE</td>\n",
       "      <td>PDI</td>\n",
       "      <td>NaN</td>\n",
       "      <td>KSAUHS-3-Z002</td>\n",
       "      <td>1.0</td>\n",
       "      <td>3.0</td>\n",
       "      <td>1/1/2020</td>\n",
       "      <td>C1-ZAHRAN</td>\n",
       "      <td>Plumbing</td>\n",
       "    </tr>\n",
       "    <tr>\n",
       "      <th>47</th>\n",
       "      <td>2594111</td>\n",
       "      <td>CLOSE</td>\n",
       "      <td>CM</td>\n",
       "      <td>A530-005523</td>\n",
       "      <td>KSAUHS-3-Z002</td>\n",
       "      <td>1.0</td>\n",
       "      <td>3.0</td>\n",
       "      <td>3/3/2020</td>\n",
       "      <td>C1-ZAHRAN</td>\n",
       "      <td>Low Current</td>\n",
       "    </tr>\n",
       "    <tr>\n",
       "      <th>48</th>\n",
       "      <td>2594121</td>\n",
       "      <td>CLOSE</td>\n",
       "      <td>PDI</td>\n",
       "      <td>A415-000584</td>\n",
       "      <td>KSAUHS-3-Z005</td>\n",
       "      <td>1.0</td>\n",
       "      <td>3.0</td>\n",
       "      <td>2/24/2020</td>\n",
       "      <td>C1-ZAHRAN</td>\n",
       "      <td>Mechanical</td>\n",
       "    </tr>\n",
       "    <tr>\n",
       "      <th>...</th>\n",
       "      <td>...</td>\n",
       "      <td>...</td>\n",
       "      <td>...</td>\n",
       "      <td>...</td>\n",
       "      <td>...</td>\n",
       "      <td>...</td>\n",
       "      <td>...</td>\n",
       "      <td>...</td>\n",
       "      <td>...</td>\n",
       "      <td>...</td>\n",
       "    </tr>\n",
       "    <tr>\n",
       "      <th>840718</th>\n",
       "      <td>WO-998058</td>\n",
       "      <td>CLOSE</td>\n",
       "      <td>CM</td>\n",
       "      <td>NaN</td>\n",
       "      <td>KSAUHS-1-Z04A</td>\n",
       "      <td>1.0</td>\n",
       "      <td>3.0</td>\n",
       "      <td>5/3/2020</td>\n",
       "      <td>C1-JASH</td>\n",
       "      <td>Electrical</td>\n",
       "    </tr>\n",
       "    <tr>\n",
       "      <th>840719</th>\n",
       "      <td>WO-998063</td>\n",
       "      <td>CLOSE</td>\n",
       "      <td>CM</td>\n",
       "      <td>NaN</td>\n",
       "      <td>KSAUHS-1-Z04A</td>\n",
       "      <td>1.0</td>\n",
       "      <td>3.0</td>\n",
       "      <td>5/3/2020</td>\n",
       "      <td>C1-JASH</td>\n",
       "      <td>Electrical</td>\n",
       "    </tr>\n",
       "    <tr>\n",
       "      <th>840720</th>\n",
       "      <td>WO-998065</td>\n",
       "      <td>CLOSE</td>\n",
       "      <td>CM</td>\n",
       "      <td>NaN</td>\n",
       "      <td>KSAUHS-1-Z04A</td>\n",
       "      <td>1.0</td>\n",
       "      <td>3.0</td>\n",
       "      <td>5/4/2020</td>\n",
       "      <td>C1-JASH</td>\n",
       "      <td>Electrical</td>\n",
       "    </tr>\n",
       "    <tr>\n",
       "      <th>840721</th>\n",
       "      <td>WO-998068</td>\n",
       "      <td>CLOSE</td>\n",
       "      <td>CM</td>\n",
       "      <td>NaN</td>\n",
       "      <td>KSAUHS-1-Z02A</td>\n",
       "      <td>1.0</td>\n",
       "      <td>2.0</td>\n",
       "      <td>5/4/2020</td>\n",
       "      <td>C1-JASH</td>\n",
       "      <td>Plumbing</td>\n",
       "    </tr>\n",
       "    <tr>\n",
       "      <th>840722</th>\n",
       "      <td>WO-998076</td>\n",
       "      <td>CLOSE</td>\n",
       "      <td>CM</td>\n",
       "      <td>NaN</td>\n",
       "      <td>KSAUHS-1-Z04A</td>\n",
       "      <td>1.0</td>\n",
       "      <td>3.0</td>\n",
       "      <td>5/4/2020</td>\n",
       "      <td>C1-JASH</td>\n",
       "      <td>Civil</td>\n",
       "    </tr>\n",
       "  </tbody>\n",
       "</table>\n",
       "<p>126610 rows × 10 columns</p>\n",
       "</div>"
      ],
      "text/plain": [
       "       work_number status worktype     asset_ID       location  modifications  \\\n",
       "5              NaN    NaN      NaN          NaN            NaN            NaN   \n",
       "6          2593783  CLOSE       CM  A530-001751  KSAUHS-3-Z002            1.0   \n",
       "46         2593787  CLOSE      PDI          NaN  KSAUHS-3-Z002            1.0   \n",
       "47         2594111  CLOSE       CM  A530-005523  KSAUHS-3-Z002            1.0   \n",
       "48         2594121  CLOSE      PDI  A415-000584  KSAUHS-3-Z005            1.0   \n",
       "...            ...    ...      ...          ...            ...            ...   \n",
       "840718   WO-998058  CLOSE       CM          NaN  KSAUHS-1-Z04A            1.0   \n",
       "840719   WO-998063  CLOSE       CM          NaN  KSAUHS-1-Z04A            1.0   \n",
       "840720   WO-998065  CLOSE       CM          NaN  KSAUHS-1-Z04A            1.0   \n",
       "840721   WO-998068  CLOSE       CM          NaN  KSAUHS-1-Z02A            1.0   \n",
       "840722   WO-998076  CLOSE       CM          NaN  KSAUHS-1-Z04A            1.0   \n",
       "\n",
       "        Priority       Date contractor   field_type  \n",
       "5            NaN        NaN        NaN          NaN  \n",
       "6            3.0  5/19/2020  C1-ZAHRAN   Electrical  \n",
       "46           3.0   1/1/2020  C1-ZAHRAN     Plumbing  \n",
       "47           3.0   3/3/2020  C1-ZAHRAN  Low Current  \n",
       "48           3.0  2/24/2020  C1-ZAHRAN   Mechanical  \n",
       "...          ...        ...        ...          ...  \n",
       "840718       3.0   5/3/2020    C1-JASH   Electrical  \n",
       "840719       3.0   5/3/2020    C1-JASH   Electrical  \n",
       "840720       3.0   5/4/2020    C1-JASH   Electrical  \n",
       "840721       2.0   5/4/2020    C1-JASH     Plumbing  \n",
       "840722       3.0   5/4/2020    C1-JASH        Civil  \n",
       "\n",
       "[126610 rows x 10 columns]"
      ]
     },
     "execution_count": 35,
     "metadata": {},
     "output_type": "execute_result"
    }
   ],
   "source": [
    "df.shift()"
   ]
  },
  {
   "cell_type": "code",
   "execution_count": null,
   "id": "a757f3be",
   "metadata": {},
   "outputs": [],
   "source": []
  },
  {
   "cell_type": "code",
   "execution_count": 36,
   "id": "adf5f29f",
   "metadata": {
    "scrolled": true
   },
   "outputs": [
    {
     "data": {
      "text/plain": [
       "work_number          0\n",
       "status               0\n",
       "worktype            38\n",
       "asset_ID         83076\n",
       "location           236\n",
       "modifications        0\n",
       "Priority          2189\n",
       "Date              5217\n",
       "contractor         198\n",
       "field_type         430\n",
       "dtype: int64"
      ]
     },
     "execution_count": 36,
     "metadata": {},
     "output_type": "execute_result"
    }
   ],
   "source": [
    "df.isnull().sum()"
   ]
  },
  {
   "cell_type": "code",
   "execution_count": 40,
   "id": "01e63151",
   "metadata": {},
   "outputs": [
    {
     "data": {
      "text/html": [
       "<div>\n",
       "<style scoped>\n",
       "    .dataframe tbody tr th:only-of-type {\n",
       "        vertical-align: middle;\n",
       "    }\n",
       "\n",
       "    .dataframe tbody tr th {\n",
       "        vertical-align: top;\n",
       "    }\n",
       "\n",
       "    .dataframe thead th {\n",
       "        text-align: right;\n",
       "    }\n",
       "</style>\n",
       "<table border=\"1\" class=\"dataframe\">\n",
       "  <thead>\n",
       "    <tr style=\"text-align: right;\">\n",
       "      <th></th>\n",
       "      <th>work_number</th>\n",
       "      <th>status</th>\n",
       "      <th>worktype</th>\n",
       "      <th>asset_ID</th>\n",
       "      <th>location</th>\n",
       "      <th>modifications</th>\n",
       "      <th>Priority</th>\n",
       "      <th>Date</th>\n",
       "      <th>contractor</th>\n",
       "      <th>field_type</th>\n",
       "    </tr>\n",
       "  </thead>\n",
       "  <tbody>\n",
       "    <tr>\n",
       "      <th>count</th>\n",
       "      <td>126610</td>\n",
       "      <td>126610</td>\n",
       "      <td>126572</td>\n",
       "      <td>43534</td>\n",
       "      <td>126374</td>\n",
       "      <td>126610.000000</td>\n",
       "      <td>124421.000000</td>\n",
       "      <td>121393</td>\n",
       "      <td>126412</td>\n",
       "      <td>126180</td>\n",
       "    </tr>\n",
       "    <tr>\n",
       "      <th>unique</th>\n",
       "      <td>125993</td>\n",
       "      <td>3</td>\n",
       "      <td>4</td>\n",
       "      <td>11463</td>\n",
       "      <td>31</td>\n",
       "      <td>NaN</td>\n",
       "      <td>NaN</td>\n",
       "      <td>1057</td>\n",
       "      <td>3</td>\n",
       "      <td>6</td>\n",
       "    </tr>\n",
       "    <tr>\n",
       "      <th>top</th>\n",
       "      <td>DWO-10050</td>\n",
       "      <td>CLOSE</td>\n",
       "      <td>CM</td>\n",
       "      <td>A510-000001</td>\n",
       "      <td>KSAUHS-1-Z04A</td>\n",
       "      <td>NaN</td>\n",
       "      <td>NaN</td>\n",
       "      <td>10/1/2022</td>\n",
       "      <td>C1-ZAHRAN</td>\n",
       "      <td>Electrical</td>\n",
       "    </tr>\n",
       "    <tr>\n",
       "      <th>freq</th>\n",
       "      <td>2</td>\n",
       "      <td>125496</td>\n",
       "      <td>91979</td>\n",
       "      <td>1315</td>\n",
       "      <td>27659</td>\n",
       "      <td>NaN</td>\n",
       "      <td>NaN</td>\n",
       "      <td>1108</td>\n",
       "      <td>108522</td>\n",
       "      <td>53279</td>\n",
       "    </tr>\n",
       "    <tr>\n",
       "      <th>mean</th>\n",
       "      <td>NaN</td>\n",
       "      <td>NaN</td>\n",
       "      <td>NaN</td>\n",
       "      <td>NaN</td>\n",
       "      <td>NaN</td>\n",
       "      <td>0.991209</td>\n",
       "      <td>2.946906</td>\n",
       "      <td>NaN</td>\n",
       "      <td>NaN</td>\n",
       "      <td>NaN</td>\n",
       "    </tr>\n",
       "    <tr>\n",
       "      <th>std</th>\n",
       "      <td>NaN</td>\n",
       "      <td>NaN</td>\n",
       "      <td>NaN</td>\n",
       "      <td>NaN</td>\n",
       "      <td>NaN</td>\n",
       "      <td>0.093346</td>\n",
       "      <td>0.282895</td>\n",
       "      <td>NaN</td>\n",
       "      <td>NaN</td>\n",
       "      <td>NaN</td>\n",
       "    </tr>\n",
       "    <tr>\n",
       "      <th>min</th>\n",
       "      <td>NaN</td>\n",
       "      <td>NaN</td>\n",
       "      <td>NaN</td>\n",
       "      <td>NaN</td>\n",
       "      <td>NaN</td>\n",
       "      <td>0.000000</td>\n",
       "      <td>1.000000</td>\n",
       "      <td>NaN</td>\n",
       "      <td>NaN</td>\n",
       "      <td>NaN</td>\n",
       "    </tr>\n",
       "    <tr>\n",
       "      <th>25%</th>\n",
       "      <td>NaN</td>\n",
       "      <td>NaN</td>\n",
       "      <td>NaN</td>\n",
       "      <td>NaN</td>\n",
       "      <td>NaN</td>\n",
       "      <td>1.000000</td>\n",
       "      <td>3.000000</td>\n",
       "      <td>NaN</td>\n",
       "      <td>NaN</td>\n",
       "      <td>NaN</td>\n",
       "    </tr>\n",
       "    <tr>\n",
       "      <th>50%</th>\n",
       "      <td>NaN</td>\n",
       "      <td>NaN</td>\n",
       "      <td>NaN</td>\n",
       "      <td>NaN</td>\n",
       "      <td>NaN</td>\n",
       "      <td>1.000000</td>\n",
       "      <td>3.000000</td>\n",
       "      <td>NaN</td>\n",
       "      <td>NaN</td>\n",
       "      <td>NaN</td>\n",
       "    </tr>\n",
       "    <tr>\n",
       "      <th>75%</th>\n",
       "      <td>NaN</td>\n",
       "      <td>NaN</td>\n",
       "      <td>NaN</td>\n",
       "      <td>NaN</td>\n",
       "      <td>NaN</td>\n",
       "      <td>1.000000</td>\n",
       "      <td>3.000000</td>\n",
       "      <td>NaN</td>\n",
       "      <td>NaN</td>\n",
       "      <td>NaN</td>\n",
       "    </tr>\n",
       "    <tr>\n",
       "      <th>max</th>\n",
       "      <td>NaN</td>\n",
       "      <td>NaN</td>\n",
       "      <td>NaN</td>\n",
       "      <td>NaN</td>\n",
       "      <td>NaN</td>\n",
       "      <td>1.000000</td>\n",
       "      <td>3.000000</td>\n",
       "      <td>NaN</td>\n",
       "      <td>NaN</td>\n",
       "      <td>NaN</td>\n",
       "    </tr>\n",
       "  </tbody>\n",
       "</table>\n",
       "</div>"
      ],
      "text/plain": [
       "       work_number  status worktype     asset_ID       location  \\\n",
       "count       126610  126610   126572        43534         126374   \n",
       "unique      125993       3        4        11463             31   \n",
       "top      DWO-10050   CLOSE       CM  A510-000001  KSAUHS-1-Z04A   \n",
       "freq             2  125496    91979         1315          27659   \n",
       "mean           NaN     NaN      NaN          NaN            NaN   \n",
       "std            NaN     NaN      NaN          NaN            NaN   \n",
       "min            NaN     NaN      NaN          NaN            NaN   \n",
       "25%            NaN     NaN      NaN          NaN            NaN   \n",
       "50%            NaN     NaN      NaN          NaN            NaN   \n",
       "75%            NaN     NaN      NaN          NaN            NaN   \n",
       "max            NaN     NaN      NaN          NaN            NaN   \n",
       "\n",
       "        modifications       Priority       Date contractor  field_type  \n",
       "count   126610.000000  124421.000000     121393     126412      126180  \n",
       "unique            NaN            NaN       1057          3           6  \n",
       "top               NaN            NaN  10/1/2022  C1-ZAHRAN  Electrical  \n",
       "freq              NaN            NaN       1108     108522       53279  \n",
       "mean         0.991209       2.946906        NaN        NaN         NaN  \n",
       "std          0.093346       0.282895        NaN        NaN         NaN  \n",
       "min          0.000000       1.000000        NaN        NaN         NaN  \n",
       "25%          1.000000       3.000000        NaN        NaN         NaN  \n",
       "50%          1.000000       3.000000        NaN        NaN         NaN  \n",
       "75%          1.000000       3.000000        NaN        NaN         NaN  \n",
       "max          1.000000       3.000000        NaN        NaN         NaN  "
      ]
     },
     "execution_count": 40,
     "metadata": {},
     "output_type": "execute_result"
    }
   ],
   "source": [
    "df.describe(include='all')"
   ]
  },
  {
   "cell_type": "code",
   "execution_count": 41,
   "id": "36211c63",
   "metadata": {},
   "outputs": [],
   "source": [
    "df = df.dropna()"
   ]
  },
  {
   "cell_type": "code",
   "execution_count": 42,
   "id": "48c784bc",
   "metadata": {},
   "outputs": [
    {
     "data": {
      "text/plain": [
       "work_number      0\n",
       "status           0\n",
       "worktype         0\n",
       "asset_ID         0\n",
       "location         0\n",
       "modifications    0\n",
       "Priority         0\n",
       "Date             0\n",
       "contractor       0\n",
       "field_type       0\n",
       "dtype: int64"
      ]
     },
     "execution_count": 42,
     "metadata": {},
     "output_type": "execute_result"
    }
   ],
   "source": [
    "df.isnull().sum()"
   ]
  },
  {
   "cell_type": "code",
   "execution_count": 43,
   "id": "21a9899c",
   "metadata": {},
   "outputs": [
    {
     "data": {
      "text/plain": [
       "(40966, 10)"
      ]
     },
     "execution_count": 43,
     "metadata": {},
     "output_type": "execute_result"
    }
   ],
   "source": [
    "df.shape"
   ]
  },
  {
   "cell_type": "code",
   "execution_count": null,
   "id": "0ab177e2",
   "metadata": {},
   "outputs": [],
   "source": [
    "df['field_type'].unique()"
   ]
  },
  {
   "cell_type": "code",
   "execution_count": 44,
   "id": "be2767c5",
   "metadata": {},
   "outputs": [],
   "source": [
    " df.to_csv('final.csv', index=False)"
   ]
  }
 ],
 "metadata": {
  "kernelspec": {
   "display_name": "Python 3 (ipykernel)",
   "language": "python",
   "name": "python3"
  },
  "language_info": {
   "codemirror_mode": {
    "name": "ipython",
    "version": 3
   },
   "file_extension": ".py",
   "mimetype": "text/x-python",
   "name": "python",
   "nbconvert_exporter": "python",
   "pygments_lexer": "ipython3",
   "version": "3.9.13"
  }
 },
 "nbformat": 4,
 "nbformat_minor": 5
}
