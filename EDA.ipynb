{
 "cells": [
  {
   "cell_type": "code",
   "execution_count": 1,
   "id": "e7943519",
   "metadata": {},
   "outputs": [],
   "source": [
    "import pandas as pd\n",
    "import numpy as np\n",
    "import warnings\n",
    "warnings.filterwarnings('ignore')\n",
    "import plotly.express as px"
   ]
  },
  {
   "cell_type": "code",
   "execution_count": 2,
   "id": "7efa9158",
   "metadata": {},
   "outputs": [],
   "source": [
    "df = pd.read_csv('WO2020-2022OCT.csv') "
   ]
  },
  {
   "cell_type": "code",
   "execution_count": 3,
   "id": "5ac83271",
   "metadata": {},
   "outputs": [
    {
     "data": {
      "text/html": [
       "<div>\n",
       "<style scoped>\n",
       "    .dataframe tbody tr th:only-of-type {\n",
       "        vertical-align: middle;\n",
       "    }\n",
       "\n",
       "    .dataframe tbody tr th {\n",
       "        vertical-align: top;\n",
       "    }\n",
       "\n",
       "    .dataframe thead th {\n",
       "        text-align: right;\n",
       "    }\n",
       "</style>\n",
       "<table border=\"1\" class=\"dataframe\">\n",
       "  <thead>\n",
       "    <tr style=\"text-align: right;\">\n",
       "      <th></th>\n",
       "      <th>wonum</th>\n",
       "      <th>siteid</th>\n",
       "      <th>status</th>\n",
       "      <th>statusdate</th>\n",
       "      <th>worktype</th>\n",
       "      <th>description</th>\n",
       "      <th>assetnum</th>\n",
       "      <th>location</th>\n",
       "      <th>changeby</th>\n",
       "      <th>changedate</th>\n",
       "      <th>...</th>\n",
       "      <th>lead</th>\n",
       "      <th>wogroup</th>\n",
       "      <th>scheduler</th>\n",
       "      <th>planner</th>\n",
       "      <th>projeng1</th>\n",
       "      <th>location2</th>\n",
       "      <th>createdby</th>\n",
       "      <th>zzcontractor</th>\n",
       "      <th>zzdepartment</th>\n",
       "      <th>passfailstatus</th>\n",
       "    </tr>\n",
       "  </thead>\n",
       "  <tbody>\n",
       "    <tr>\n",
       "      <th>0</th>\n",
       "      <td>2056672</td>\n",
       "      <td>AL HASA</td>\n",
       "      <td>CLOSE</td>\n",
       "      <td>2/1/20 9:00</td>\n",
       "      <td>PM</td>\n",
       "      <td>Submersible Pump Lifting Pump -</td>\n",
       "      <td>A475-000004</td>\n",
       "      <td>KSAUHS-3-Z005-STPLA7-GFL-OSAR-EAST</td>\n",
       "      <td>SINGH</td>\n",
       "      <td>2/1/20 9:01 AM</td>\n",
       "      <td>...</td>\n",
       "      <td>H-150</td>\n",
       "      <td>2056672</td>\n",
       "      <td>H-150</td>\n",
       "      <td>H-150</td>\n",
       "      <td>H-150</td>\n",
       "      <td>NaN</td>\n",
       "      <td>MAXADMIN</td>\n",
       "      <td>C2-NESMA</td>\n",
       "      <td>WTP</td>\n",
       "      <td>NaN</td>\n",
       "    </tr>\n",
       "    <tr>\n",
       "      <th>1</th>\n",
       "      <td>2056954</td>\n",
       "      <td>AL HASA</td>\n",
       "      <td>CLOSE</td>\n",
       "      <td>4/27/20 12:20</td>\n",
       "      <td>PM</td>\n",
       "      <td>Uninterruptable Power Panel -</td>\n",
       "      <td>A525-001499</td>\n",
       "      <td>KSAUHS-3-Z001-COAMS-02F-ELRM-0003</td>\n",
       "      <td>NOORM</td>\n",
       "      <td>4/27/20 12:20 PM</td>\n",
       "      <td>...</td>\n",
       "      <td>H-101</td>\n",
       "      <td>2056954</td>\n",
       "      <td>H-101</td>\n",
       "      <td>H-101</td>\n",
       "      <td>H-186</td>\n",
       "      <td>NaN</td>\n",
       "      <td>MAXADMIN</td>\n",
       "      <td>C1-JASH</td>\n",
       "      <td>Electrical</td>\n",
       "      <td>NaN</td>\n",
       "    </tr>\n",
       "    <tr>\n",
       "      <th>2</th>\n",
       "      <td>2056955</td>\n",
       "      <td>AL HASA</td>\n",
       "      <td>CLOSE</td>\n",
       "      <td>4/27/20 12:22</td>\n",
       "      <td>PM</td>\n",
       "      <td>Power panel -</td>\n",
       "      <td>A525-001500</td>\n",
       "      <td>KSAUHS-3-Z001-COAMS-02F-ELRM-0003</td>\n",
       "      <td>NOORM</td>\n",
       "      <td>4/27/20 12:22 PM</td>\n",
       "      <td>...</td>\n",
       "      <td>H-101</td>\n",
       "      <td>2056955</td>\n",
       "      <td>H-101</td>\n",
       "      <td>H-101</td>\n",
       "      <td>H-186</td>\n",
       "      <td>NaN</td>\n",
       "      <td>MAXADMIN</td>\n",
       "      <td>C1-JASH</td>\n",
       "      <td>Electrical</td>\n",
       "      <td>NaN</td>\n",
       "    </tr>\n",
       "    <tr>\n",
       "      <th>3</th>\n",
       "      <td>2056961</td>\n",
       "      <td>AL HASA</td>\n",
       "      <td>CLOSE</td>\n",
       "      <td>3/30/20 15:42</td>\n",
       "      <td>PM</td>\n",
       "      <td>Television -</td>\n",
       "      <td>A530-000369</td>\n",
       "      <td>KSAUHS-3-Z002-HSBU1-01F-F117-RECP</td>\n",
       "      <td>HAFEEZS</td>\n",
       "      <td>3/30/20 3:42 PM</td>\n",
       "      <td>...</td>\n",
       "      <td>H-398</td>\n",
       "      <td>2056961</td>\n",
       "      <td>H-398</td>\n",
       "      <td>H-398</td>\n",
       "      <td>H-021</td>\n",
       "      <td>NaN</td>\n",
       "      <td>MAXADMIN</td>\n",
       "      <td>C1-JASH</td>\n",
       "      <td>Low Current</td>\n",
       "      <td>NaN</td>\n",
       "    </tr>\n",
       "    <tr>\n",
       "      <th>4</th>\n",
       "      <td>2057329</td>\n",
       "      <td>AL HASA</td>\n",
       "      <td>CLOSE</td>\n",
       "      <td>1/31/20 15:30</td>\n",
       "      <td>PM</td>\n",
       "      <td>Primary Pump #1 -</td>\n",
       "      <td>A435-000009</td>\n",
       "      <td>KSAUHS-3-Z004-CHPLA-GFL</td>\n",
       "      <td>ABDULRAHIM</td>\n",
       "      <td>2/1/20 10:22 AM</td>\n",
       "      <td>...</td>\n",
       "      <td>H-427</td>\n",
       "      <td>2057329</td>\n",
       "      <td>H-427</td>\n",
       "      <td>H-427</td>\n",
       "      <td>H-427</td>\n",
       "      <td>NaN</td>\n",
       "      <td>MAXADMIN</td>\n",
       "      <td>C2-NESMA</td>\n",
       "      <td>Chiller</td>\n",
       "      <td>NaN</td>\n",
       "    </tr>\n",
       "  </tbody>\n",
       "</table>\n",
       "<p>5 rows × 35 columns</p>\n",
       "</div>"
      ],
      "text/plain": [
       "     wonum   siteid status     statusdate worktype  \\\n",
       "0  2056672  AL HASA  CLOSE    2/1/20 9:00       PM   \n",
       "1  2056954  AL HASA  CLOSE  4/27/20 12:20       PM   \n",
       "2  2056955  AL HASA  CLOSE  4/27/20 12:22       PM   \n",
       "3  2056961  AL HASA  CLOSE  3/30/20 15:42       PM   \n",
       "4  2057329  AL HASA  CLOSE  1/31/20 15:30       PM   \n",
       "\n",
       "                       description     assetnum  \\\n",
       "0  Submersible Pump Lifting Pump -  A475-000004   \n",
       "1    Uninterruptable Power Panel -  A525-001499   \n",
       "2                    Power panel -  A525-001500   \n",
       "3                     Television -  A530-000369   \n",
       "4                Primary Pump #1 -  A435-000009   \n",
       "\n",
       "                             location    changeby        changedate  ...  \\\n",
       "0  KSAUHS-3-Z005-STPLA7-GFL-OSAR-EAST       SINGH    2/1/20 9:01 AM  ...   \n",
       "1   KSAUHS-3-Z001-COAMS-02F-ELRM-0003       NOORM  4/27/20 12:20 PM  ...   \n",
       "2   KSAUHS-3-Z001-COAMS-02F-ELRM-0003       NOORM  4/27/20 12:22 PM  ...   \n",
       "3   KSAUHS-3-Z002-HSBU1-01F-F117-RECP     HAFEEZS   3/30/20 3:42 PM  ...   \n",
       "4             KSAUHS-3-Z004-CHPLA-GFL  ABDULRAHIM   2/1/20 10:22 AM  ...   \n",
       "\n",
       "    lead  wogroup  scheduler  planner projeng1  location2 createdby  \\\n",
       "0  H-150  2056672      H-150    H-150    H-150        NaN  MAXADMIN   \n",
       "1  H-101  2056954      H-101    H-101    H-186        NaN  MAXADMIN   \n",
       "2  H-101  2056955      H-101    H-101    H-186        NaN  MAXADMIN   \n",
       "3  H-398  2056961      H-398    H-398    H-021        NaN  MAXADMIN   \n",
       "4  H-427  2057329      H-427    H-427    H-427        NaN  MAXADMIN   \n",
       "\n",
       "   zzcontractor  zzdepartment passfailstatus  \n",
       "0      C2-NESMA           WTP            NaN  \n",
       "1       C1-JASH    Electrical            NaN  \n",
       "2       C1-JASH    Electrical            NaN  \n",
       "3       C1-JASH   Low Current            NaN  \n",
       "4      C2-NESMA       Chiller            NaN  \n",
       "\n",
       "[5 rows x 35 columns]"
      ]
     },
     "execution_count": 3,
     "metadata": {},
     "output_type": "execute_result"
    }
   ],
   "source": [
    "df.head()"
   ]
  },
  {
   "cell_type": "code",
   "execution_count": 4,
   "id": "4448bba9",
   "metadata": {},
   "outputs": [
    {
     "data": {
      "text/plain": [
       "29530830"
      ]
     },
     "execution_count": 4,
     "metadata": {},
     "output_type": "execute_result"
    }
   ],
   "source": [
    "df.size"
   ]
  },
  {
   "cell_type": "code",
   "execution_count": 5,
   "id": "ebbb646d",
   "metadata": {},
   "outputs": [
    {
     "data": {
      "text/plain": [
       "(843738, 35)"
      ]
     },
     "execution_count": 5,
     "metadata": {},
     "output_type": "execute_result"
    }
   ],
   "source": [
    "df.shape"
   ]
  },
  {
   "cell_type": "code",
   "execution_count": 6,
   "id": "34f14ab1",
   "metadata": {},
   "outputs": [],
   "source": [
    "df.columns = df.columns.str.replace(' ', '')"
   ]
  },
  {
   "cell_type": "code",
   "execution_count": 7,
   "id": "3c8040a9",
   "metadata": {},
   "outputs": [
    {
     "name": "stdout",
     "output_type": "stream",
     "text": [
      "<class 'pandas.core.frame.DataFrame'>\n",
      "RangeIndex: 843738 entries, 0 to 843737\n",
      "Data columns (total 35 columns):\n",
      " #   Column          Non-Null Count   Dtype  \n",
      "---  ------          --------------   -----  \n",
      " 0   wonum           843738 non-null  object \n",
      " 1   siteid          843738 non-null  object \n",
      " 2   status          843738 non-null  object \n",
      " 3   statusdate      843738 non-null  object \n",
      " 4   worktype        843486 non-null  object \n",
      " 5   description     843386 non-null  object \n",
      " 6   assetnum        753917 non-null  object \n",
      " 7   location        843596 non-null  object \n",
      " 8   changeby        843738 non-null  object \n",
      " 9   changedate      843738 non-null  object \n",
      " 10  historyflag     843738 non-null  int64  \n",
      " 11  wopriority      132954 non-null  float64\n",
      " 12  targcompdate    832652 non-null  object \n",
      " 13  targstartdate   832830 non-null  object \n",
      " 14  reportedby      843723 non-null  object \n",
      " 15  reportdate      843738 non-null  object \n",
      " 16  actstart        811573 non-null  object \n",
      " 17  actfinish       810019 non-null  object \n",
      " 18  schedstart      837947 non-null  object \n",
      " 19  schedfinish     836766 non-null  object \n",
      " 20  supervisor      843402 non-null  object \n",
      " 21  origrecordid    85011 non-null   object \n",
      " 22  owner           117386 non-null  object \n",
      " 23  ownergroup      730818 non-null  object \n",
      " 24  persongroup     831552 non-null  object \n",
      " 25  lead            843401 non-null  object \n",
      " 26  wogroup         843738 non-null  object \n",
      " 27  scheduler       843396 non-null  object \n",
      " 28  planner         843220 non-null  object \n",
      " 29  projeng1        843222 non-null  object \n",
      " 30  location2       82249 non-null   object \n",
      " 31  createdby       843717 non-null  object \n",
      " 32  zzcontractor    843186 non-null  object \n",
      " 33  zzdepartment    828447 non-null  object \n",
      " 34  passfailstatus  123272 non-null  object \n",
      "dtypes: float64(1), int64(1), object(33)\n",
      "memory usage: 225.3+ MB\n"
     ]
    }
   ],
   "source": [
    "df.info()"
   ]
  },
  {
   "cell_type": "code",
   "execution_count": 8,
   "id": "1087b069",
   "metadata": {},
   "outputs": [],
   "source": [
    "to_remove = ['C3-SICE','LOG', 'C4-ALKHORAYEF', 'HTMS']\n",
    "df = df[~(df['zzcontractor'].isin(to_remove))]"
   ]
  },
  {
   "cell_type": "code",
   "execution_count": 9,
   "id": "958e5b41",
   "metadata": {},
   "outputs": [],
   "source": [
    "#delete column \n",
    "\n",
    "df = df.drop(['statusdate' ,'targcompdate', 'targstartdate', 'reportedby',\n",
    "       'reportdate', 'actstart', 'schedstart', 'schedfinish','supervisor', 'origrecordid',\n",
    "         'owner', 'lead', 'wogroup', 'scheduler', 'planner', 'projeng1', 'location2',\n",
    "       'createdby', 'passfailstatus', \"persongroup\" , \"ownergroup\", 'changeby', 'changedate', 'description','zzcontractor'] , axis=1)"
   ]
  },
  {
   "cell_type": "code",
   "execution_count": 10,
   "id": "0c19dfc9",
   "metadata": {},
   "outputs": [
    {
     "data": {
      "text/plain": [
       "(820109, 10)"
      ]
     },
     "execution_count": 10,
     "metadata": {},
     "output_type": "execute_result"
    }
   ],
   "source": [
    "df.shape"
   ]
  },
  {
   "cell_type": "code",
   "execution_count": 11,
   "id": "fa10cdaa",
   "metadata": {},
   "outputs": [
    {
     "data": {
      "text/plain": [
       "Index(['wonum', 'siteid', 'status', 'worktype', 'assetnum', 'location',\n",
       "       'historyflag', 'wopriority', 'actfinish', 'zzdepartment'],\n",
       "      dtype='object')"
      ]
     },
     "execution_count": 11,
     "metadata": {},
     "output_type": "execute_result"
    }
   ],
   "source": [
    "df.columns"
   ]
  },
  {
   "cell_type": "code",
   "execution_count": 12,
   "id": "4db33bc9",
   "metadata": {},
   "outputs": [],
   "source": [
    "df = df.rename(columns={\"wonum\": \"work_number\", \n",
    "                   \"assetnum\": \"asset_ID\",\n",
    "                   \"wopriority\": \"priority\",\n",
    "                   \"actfinish\": \"date\", \n",
    "                   \"historyflag\": \"modifications\",\n",
    "                   'zzdepartment': \"field_type\",\n",
    "                   \"zzcontractor\": \"contractor\"}) "
   ]
  },
  {
   "cell_type": "code",
   "execution_count": 13,
   "id": "c6fd939b",
   "metadata": {},
   "outputs": [
    {
     "data": {
      "text/plain": [
       "Index(['work_number', 'siteid', 'status', 'worktype', 'asset_ID', 'location',\n",
       "       'modifications', 'priority', 'date', 'field_type'],\n",
       "      dtype='object')"
      ]
     },
     "execution_count": 13,
     "metadata": {},
     "output_type": "execute_result"
    }
   ],
   "source": [
    "df.columns"
   ]
  },
  {
   "cell_type": "code",
   "execution_count": 14,
   "id": "76e167b3",
   "metadata": {},
   "outputs": [
    {
     "data": {
      "text/plain": [
       "PM     688294\n",
       "CM      95936\n",
       "PDI     33685\n",
       "EM       1773\n",
       "MOD       166\n",
       "LOG         1\n",
       "HSE         1\n",
       "CMP         1\n",
       "Name: worktype, dtype: int64"
      ]
     },
     "execution_count": 14,
     "metadata": {},
     "output_type": "execute_result"
    }
   ],
   "source": [
    "df['worktype'].value_counts()"
   ]
  },
  {
   "cell_type": "code",
   "execution_count": 15,
   "id": "f59f5bc4",
   "metadata": {},
   "outputs": [],
   "source": [
    "to_remove = ['PM','LOG', '2020', 'CMP', '2021', 'HSE']\n",
    "df = df[~(df['worktype'].isin(to_remove))]"
   ]
  },
  {
   "cell_type": "code",
   "execution_count": 16,
   "id": "6eb66b0f",
   "metadata": {},
   "outputs": [
    {
     "data": {
      "text/plain": [
       "(131812, 10)"
      ]
     },
     "execution_count": 16,
     "metadata": {},
     "output_type": "execute_result"
    }
   ],
   "source": [
    "df.shape"
   ]
  },
  {
   "cell_type": "code",
   "execution_count": 17,
   "id": "020aa812",
   "metadata": {},
   "outputs": [
    {
     "data": {
      "text/plain": [
       "CM     95936\n",
       "PDI    33685\n",
       "EM      1773\n",
       "MOD      166\n",
       "Name: worktype, dtype: int64"
      ]
     },
     "execution_count": 17,
     "metadata": {},
     "output_type": "execute_result"
    }
   ],
   "source": [
    "df['worktype'].value_counts()"
   ]
  },
  {
   "cell_type": "code",
   "execution_count": 18,
   "id": "34ce569c",
   "metadata": {},
   "outputs": [
    {
     "data": {
      "text/plain": [
       "CLOSE           125665\n",
       "CAN               2439\n",
       "ACCESSDENIED      1323\n",
       "COMP              1113\n",
       "WMATL              559\n",
       "WAPPR              153\n",
       "WPLAN              143\n",
       "SCHEDCOMP           95\n",
       "REQCAN              76\n",
       "WASSESS             61\n",
       "WSCH                53\n",
       "CANREJ              44\n",
       "INPRG               40\n",
       "PLANCOMPWMAT        13\n",
       "WSAFE               13\n",
       "DEFERRED             7\n",
       "READY                5\n",
       "PLANCOMP             5\n",
       "TAAPPR               2\n",
       "FAIL                 2\n",
       "PASS                 1\n",
       "Name: status, dtype: int64"
      ]
     },
     "execution_count": 18,
     "metadata": {},
     "output_type": "execute_result"
    }
   ],
   "source": [
    "df['status'].value_counts()"
   ]
  },
  {
   "cell_type": "code",
   "execution_count": 19,
   "id": "82fafa95",
   "metadata": {},
   "outputs": [],
   "source": [
    "df.drop(df[ (df['status'] != 'CLOSE') & (df['status'] != 'COMP') ].index , inplace=True)"
   ]
  },
  {
   "cell_type": "code",
   "execution_count": 20,
   "id": "3f5e342a",
   "metadata": {},
   "outputs": [
    {
     "data": {
      "text/plain": [
       "CLOSE    125665\n",
       "COMP       1113\n",
       "Name: status, dtype: int64"
      ]
     },
     "execution_count": 20,
     "metadata": {},
     "output_type": "execute_result"
    }
   ],
   "source": [
    "df['status'].value_counts()"
   ]
  },
  {
   "cell_type": "code",
   "execution_count": 21,
   "id": "7a5ef9c1",
   "metadata": {},
   "outputs": [
    {
     "data": {
      "text/plain": [
       "5         5/19/20 8:08 PM\n",
       "6          1/1/20 3:52 PM\n",
       "68        1/12/20 1:28 PM\n",
       "69         1/8/20 2:46 PM\n",
       "70         1/9/20 7:21 AM\n",
       "               ...       \n",
       "843499     3/3/20 1:57 PM\n",
       "843504    2/27/20 1:24 PM\n",
       "843508    2/25/20 7:09 PM\n",
       "843514    3/3/20 11:06 PM\n",
       "843524     3/3/20 9:51 PM\n",
       "Name: date, Length: 126778, dtype: object"
      ]
     },
     "execution_count": 21,
     "metadata": {},
     "output_type": "execute_result"
    }
   ],
   "source": [
    "df['date']"
   ]
  },
  {
   "cell_type": "code",
   "execution_count": 22,
   "id": "6ddc0671",
   "metadata": {},
   "outputs": [
    {
     "data": {
      "text/plain": [
       "(126778, 10)"
      ]
     },
     "execution_count": 22,
     "metadata": {},
     "output_type": "execute_result"
    }
   ],
   "source": [
    "df.shape"
   ]
  },
  {
   "cell_type": "code",
   "execution_count": 23,
   "id": "a3ca698f",
   "metadata": {},
   "outputs": [
    {
     "data": {
      "text/plain": [
       "1267780"
      ]
     },
     "execution_count": 23,
     "metadata": {},
     "output_type": "execute_result"
    }
   ],
   "source": [
    "df.size"
   ]
  },
  {
   "cell_type": "code",
   "execution_count": 25,
   "id": "75610e67",
   "metadata": {},
   "outputs": [
    {
     "data": {
      "text/plain": [
       "83193"
      ]
     },
     "execution_count": 25,
     "metadata": {},
     "output_type": "execute_result"
    }
   ],
   "source": [
    "df['asset_ID'].isnull().sum()"
   ]
  },
  {
   "cell_type": "code",
   "execution_count": 26,
   "id": "94008efa",
   "metadata": {},
   "outputs": [
    {
     "data": {
      "text/plain": [
       "5         A530-003865\n",
       "6         A530-007949\n",
       "68        A530-006123\n",
       "69                NaN\n",
       "70                NaN\n",
       "             ...     \n",
       "843499            NaN\n",
       "843504            NaN\n",
       "843508            NaN\n",
       "843514            NaN\n",
       "843524            NaN\n",
       "Name: asset_ID, Length: 126778, dtype: object"
      ]
     },
     "execution_count": 26,
     "metadata": {},
     "output_type": "execute_result"
    }
   ],
   "source": [
    "df['asset_ID']"
   ]
  },
  {
   "cell_type": "code",
   "execution_count": 27,
   "id": "481d5a19",
   "metadata": {},
   "outputs": [],
   "source": [
    "df['asset_ID'] = df.asset_ID.interpolate(method='pad')"
   ]
  },
  {
   "cell_type": "code",
   "execution_count": 28,
   "id": "c55151f2",
   "metadata": {},
   "outputs": [
    {
     "data": {
      "text/plain": [
       "0"
      ]
     },
     "execution_count": 28,
     "metadata": {},
     "output_type": "execute_result"
    }
   ],
   "source": [
    "df['asset_ID'].isnull().sum()"
   ]
  },
  {
   "cell_type": "code",
   "execution_count": 29,
   "id": "eb84f967",
   "metadata": {},
   "outputs": [
    {
     "data": {
      "text/html": [
       "<div>\n",
       "<style scoped>\n",
       "    .dataframe tbody tr th:only-of-type {\n",
       "        vertical-align: middle;\n",
       "    }\n",
       "\n",
       "    .dataframe tbody tr th {\n",
       "        vertical-align: top;\n",
       "    }\n",
       "\n",
       "    .dataframe thead th {\n",
       "        text-align: right;\n",
       "    }\n",
       "</style>\n",
       "<table border=\"1\" class=\"dataframe\">\n",
       "  <thead>\n",
       "    <tr style=\"text-align: right;\">\n",
       "      <th></th>\n",
       "      <th>work_number</th>\n",
       "      <th>siteid</th>\n",
       "      <th>status</th>\n",
       "      <th>worktype</th>\n",
       "      <th>asset_ID</th>\n",
       "      <th>location</th>\n",
       "      <th>modifications</th>\n",
       "      <th>priority</th>\n",
       "      <th>date</th>\n",
       "      <th>field_type</th>\n",
       "    </tr>\n",
       "  </thead>\n",
       "  <tbody>\n",
       "    <tr>\n",
       "      <th>5</th>\n",
       "      <td>2057394</td>\n",
       "      <td>AL HASA</td>\n",
       "      <td>CLOSE</td>\n",
       "      <td>CM</td>\n",
       "      <td>A530-003865</td>\n",
       "      <td>KSAUHS-3-Z004-STD-GFL-IDFR-0001</td>\n",
       "      <td>1</td>\n",
       "      <td>3.0</td>\n",
       "      <td>5/19/20 8:08 PM</td>\n",
       "      <td>Low Current</td>\n",
       "    </tr>\n",
       "    <tr>\n",
       "      <th>6</th>\n",
       "      <td>2057395</td>\n",
       "      <td>AL HASA</td>\n",
       "      <td>CLOSE</td>\n",
       "      <td>CM</td>\n",
       "      <td>A530-007949</td>\n",
       "      <td>KSAUHS-3-Z001-COAMS-02F</td>\n",
       "      <td>1</td>\n",
       "      <td>3.0</td>\n",
       "      <td>1/1/20 3:52 PM</td>\n",
       "      <td>Low Current</td>\n",
       "    </tr>\n",
       "    <tr>\n",
       "      <th>68</th>\n",
       "      <td>2076165</td>\n",
       "      <td>AL HASA</td>\n",
       "      <td>CLOSE</td>\n",
       "      <td>CM</td>\n",
       "      <td>A530-006123</td>\n",
       "      <td>KSAUHS-3-Z002-HSBU2-GFL-F114-RECP</td>\n",
       "      <td>1</td>\n",
       "      <td>3.0</td>\n",
       "      <td>1/12/20 1:28 PM</td>\n",
       "      <td>Low Current</td>\n",
       "    </tr>\n",
       "    <tr>\n",
       "      <th>69</th>\n",
       "      <td>2076166</td>\n",
       "      <td>AL HASA</td>\n",
       "      <td>CLOSE</td>\n",
       "      <td>CM</td>\n",
       "      <td>A530-006123</td>\n",
       "      <td>KSAUHS-3-Z001-ADMIN-GFL</td>\n",
       "      <td>1</td>\n",
       "      <td>3.0</td>\n",
       "      <td>1/8/20 2:46 PM</td>\n",
       "      <td>HVAC</td>\n",
       "    </tr>\n",
       "    <tr>\n",
       "      <th>70</th>\n",
       "      <td>2076203</td>\n",
       "      <td>AL HASA</td>\n",
       "      <td>CLOSE</td>\n",
       "      <td>CM</td>\n",
       "      <td>A530-006123</td>\n",
       "      <td>KSAUHS-3-Z003-V5/13A-GFL-KTCN-0001</td>\n",
       "      <td>1</td>\n",
       "      <td>2.0</td>\n",
       "      <td>1/9/20 7:21 AM</td>\n",
       "      <td>LPG</td>\n",
       "    </tr>\n",
       "  </tbody>\n",
       "</table>\n",
       "</div>"
      ],
      "text/plain": [
       "   work_number   siteid status worktype     asset_ID  \\\n",
       "5      2057394  AL HASA  CLOSE       CM  A530-003865   \n",
       "6      2057395  AL HASA  CLOSE       CM  A530-007949   \n",
       "68     2076165  AL HASA  CLOSE       CM  A530-006123   \n",
       "69     2076166  AL HASA  CLOSE       CM  A530-006123   \n",
       "70     2076203  AL HASA  CLOSE       CM  A530-006123   \n",
       "\n",
       "                              location  modifications  priority  \\\n",
       "5      KSAUHS-3-Z004-STD-GFL-IDFR-0001              1       3.0   \n",
       "6              KSAUHS-3-Z001-COAMS-02F              1       3.0   \n",
       "68   KSAUHS-3-Z002-HSBU2-GFL-F114-RECP              1       3.0   \n",
       "69             KSAUHS-3-Z001-ADMIN-GFL              1       3.0   \n",
       "70  KSAUHS-3-Z003-V5/13A-GFL-KTCN-0001              1       2.0   \n",
       "\n",
       "               date   field_type  \n",
       "5   5/19/20 8:08 PM  Low Current  \n",
       "6    1/1/20 3:52 PM  Low Current  \n",
       "68  1/12/20 1:28 PM  Low Current  \n",
       "69   1/8/20 2:46 PM         HVAC  \n",
       "70   1/9/20 7:21 AM          LPG  "
      ]
     },
     "execution_count": 29,
     "metadata": {},
     "output_type": "execute_result"
    }
   ],
   "source": [
    "df.head()"
   ]
  },
  {
   "cell_type": "code",
   "execution_count": 30,
   "id": "c60b16b2",
   "metadata": {},
   "outputs": [
    {
     "data": {
      "text/plain": [
       "work_number         0\n",
       "siteid              0\n",
       "status              0\n",
       "worktype           39\n",
       "asset_ID            0\n",
       "location           27\n",
       "modifications       0\n",
       "priority         2190\n",
       "date                0\n",
       "field_type         91\n",
       "dtype: int64"
      ]
     },
     "execution_count": 30,
     "metadata": {},
     "output_type": "execute_result"
    }
   ],
   "source": [
    "df.isnull().sum()"
   ]
  },
  {
   "cell_type": "code",
   "execution_count": 31,
   "id": "59862b78",
   "metadata": {},
   "outputs": [
    {
     "data": {
      "text/html": [
       "<div>\n",
       "<style scoped>\n",
       "    .dataframe tbody tr th:only-of-type {\n",
       "        vertical-align: middle;\n",
       "    }\n",
       "\n",
       "    .dataframe tbody tr th {\n",
       "        vertical-align: top;\n",
       "    }\n",
       "\n",
       "    .dataframe thead th {\n",
       "        text-align: right;\n",
       "    }\n",
       "</style>\n",
       "<table border=\"1\" class=\"dataframe\">\n",
       "  <thead>\n",
       "    <tr style=\"text-align: right;\">\n",
       "      <th></th>\n",
       "      <th>modifications</th>\n",
       "      <th>priority</th>\n",
       "    </tr>\n",
       "  </thead>\n",
       "  <tbody>\n",
       "    <tr>\n",
       "      <th>count</th>\n",
       "      <td>126778.000000</td>\n",
       "      <td>124588.000000</td>\n",
       "    </tr>\n",
       "    <tr>\n",
       "      <th>mean</th>\n",
       "      <td>0.991221</td>\n",
       "      <td>2.946873</td>\n",
       "    </tr>\n",
       "    <tr>\n",
       "      <th>std</th>\n",
       "      <td>0.093285</td>\n",
       "      <td>0.283018</td>\n",
       "    </tr>\n",
       "    <tr>\n",
       "      <th>min</th>\n",
       "      <td>0.000000</td>\n",
       "      <td>1.000000</td>\n",
       "    </tr>\n",
       "    <tr>\n",
       "      <th>25%</th>\n",
       "      <td>1.000000</td>\n",
       "      <td>3.000000</td>\n",
       "    </tr>\n",
       "    <tr>\n",
       "      <th>50%</th>\n",
       "      <td>1.000000</td>\n",
       "      <td>3.000000</td>\n",
       "    </tr>\n",
       "    <tr>\n",
       "      <th>75%</th>\n",
       "      <td>1.000000</td>\n",
       "      <td>3.000000</td>\n",
       "    </tr>\n",
       "    <tr>\n",
       "      <th>max</th>\n",
       "      <td>1.000000</td>\n",
       "      <td>3.000000</td>\n",
       "    </tr>\n",
       "  </tbody>\n",
       "</table>\n",
       "</div>"
      ],
      "text/plain": [
       "       modifications       priority\n",
       "count  126778.000000  124588.000000\n",
       "mean        0.991221       2.946873\n",
       "std         0.093285       0.283018\n",
       "min         0.000000       1.000000\n",
       "25%         1.000000       3.000000\n",
       "50%         1.000000       3.000000\n",
       "75%         1.000000       3.000000\n",
       "max         1.000000       3.000000"
      ]
     },
     "execution_count": 31,
     "metadata": {},
     "output_type": "execute_result"
    }
   ],
   "source": [
    "df.describe()"
   ]
  },
  {
   "cell_type": "code",
   "execution_count": 32,
   "id": "36211c63",
   "metadata": {},
   "outputs": [],
   "source": [
    "df = df.dropna()"
   ]
  },
  {
   "cell_type": "code",
   "execution_count": 33,
   "id": "48c784bc",
   "metadata": {},
   "outputs": [
    {
     "data": {
      "text/plain": [
       "work_number      0\n",
       "siteid           0\n",
       "status           0\n",
       "worktype         0\n",
       "asset_ID         0\n",
       "location         0\n",
       "modifications    0\n",
       "priority         0\n",
       "date             0\n",
       "field_type       0\n",
       "dtype: int64"
      ]
     },
     "execution_count": 33,
     "metadata": {},
     "output_type": "execute_result"
    }
   ],
   "source": [
    "df.isnull().sum()"
   ]
  },
  {
   "cell_type": "code",
   "execution_count": 34,
   "id": "21a9899c",
   "metadata": {},
   "outputs": [
    {
     "data": {
      "text/plain": [
       "(124563, 10)"
      ]
     },
     "execution_count": 34,
     "metadata": {},
     "output_type": "execute_result"
    }
   ],
   "source": [
    "df.shape"
   ]
  },
  {
   "cell_type": "code",
   "execution_count": 35,
   "id": "afbe538c",
   "metadata": {},
   "outputs": [],
   "source": [
    "#Deletes the time and keeps only the date\n",
    "df['date'] = pd.to_datetime(df['date']).dt.date"
   ]
  },
  {
   "cell_type": "code",
   "execution_count": 36,
   "id": "e1747db6",
   "metadata": {},
   "outputs": [],
   "source": [
    "#adding year and month columns\n",
    "df['year'] = pd.DatetimeIndex(df['date']).year\n",
    "df['month'] = pd.DatetimeIndex(df['date']).month"
   ]
  },
  {
   "cell_type": "code",
   "execution_count": 37,
   "id": "898a80fb",
   "metadata": {
    "scrolled": true
   },
   "outputs": [
    {
     "data": {
      "text/html": [
       "<div>\n",
       "<style scoped>\n",
       "    .dataframe tbody tr th:only-of-type {\n",
       "        vertical-align: middle;\n",
       "    }\n",
       "\n",
       "    .dataframe tbody tr th {\n",
       "        vertical-align: top;\n",
       "    }\n",
       "\n",
       "    .dataframe thead th {\n",
       "        text-align: right;\n",
       "    }\n",
       "</style>\n",
       "<table border=\"1\" class=\"dataframe\">\n",
       "  <thead>\n",
       "    <tr style=\"text-align: right;\">\n",
       "      <th></th>\n",
       "      <th>work_number</th>\n",
       "      <th>siteid</th>\n",
       "      <th>status</th>\n",
       "      <th>worktype</th>\n",
       "      <th>asset_ID</th>\n",
       "      <th>location</th>\n",
       "      <th>modifications</th>\n",
       "      <th>priority</th>\n",
       "      <th>date</th>\n",
       "      <th>field_type</th>\n",
       "      <th>year</th>\n",
       "      <th>month</th>\n",
       "    </tr>\n",
       "  </thead>\n",
       "  <tbody>\n",
       "    <tr>\n",
       "      <th>5</th>\n",
       "      <td>2057394</td>\n",
       "      <td>AL HASA</td>\n",
       "      <td>CLOSE</td>\n",
       "      <td>CM</td>\n",
       "      <td>A530-003865</td>\n",
       "      <td>KSAUHS-3-Z004-STD-GFL-IDFR-0001</td>\n",
       "      <td>1</td>\n",
       "      <td>3.0</td>\n",
       "      <td>2020-05-19</td>\n",
       "      <td>Low Current</td>\n",
       "      <td>2020</td>\n",
       "      <td>5</td>\n",
       "    </tr>\n",
       "    <tr>\n",
       "      <th>6</th>\n",
       "      <td>2057395</td>\n",
       "      <td>AL HASA</td>\n",
       "      <td>CLOSE</td>\n",
       "      <td>CM</td>\n",
       "      <td>A530-007949</td>\n",
       "      <td>KSAUHS-3-Z001-COAMS-02F</td>\n",
       "      <td>1</td>\n",
       "      <td>3.0</td>\n",
       "      <td>2020-01-01</td>\n",
       "      <td>Low Current</td>\n",
       "      <td>2020</td>\n",
       "      <td>1</td>\n",
       "    </tr>\n",
       "    <tr>\n",
       "      <th>68</th>\n",
       "      <td>2076165</td>\n",
       "      <td>AL HASA</td>\n",
       "      <td>CLOSE</td>\n",
       "      <td>CM</td>\n",
       "      <td>A530-006123</td>\n",
       "      <td>KSAUHS-3-Z002-HSBU2-GFL-F114-RECP</td>\n",
       "      <td>1</td>\n",
       "      <td>3.0</td>\n",
       "      <td>2020-01-12</td>\n",
       "      <td>Low Current</td>\n",
       "      <td>2020</td>\n",
       "      <td>1</td>\n",
       "    </tr>\n",
       "    <tr>\n",
       "      <th>69</th>\n",
       "      <td>2076166</td>\n",
       "      <td>AL HASA</td>\n",
       "      <td>CLOSE</td>\n",
       "      <td>CM</td>\n",
       "      <td>A530-006123</td>\n",
       "      <td>KSAUHS-3-Z001-ADMIN-GFL</td>\n",
       "      <td>1</td>\n",
       "      <td>3.0</td>\n",
       "      <td>2020-01-08</td>\n",
       "      <td>HVAC</td>\n",
       "      <td>2020</td>\n",
       "      <td>1</td>\n",
       "    </tr>\n",
       "    <tr>\n",
       "      <th>70</th>\n",
       "      <td>2076203</td>\n",
       "      <td>AL HASA</td>\n",
       "      <td>CLOSE</td>\n",
       "      <td>CM</td>\n",
       "      <td>A530-006123</td>\n",
       "      <td>KSAUHS-3-Z003-V5/13A-GFL-KTCN-0001</td>\n",
       "      <td>1</td>\n",
       "      <td>2.0</td>\n",
       "      <td>2020-01-09</td>\n",
       "      <td>LPG</td>\n",
       "      <td>2020</td>\n",
       "      <td>1</td>\n",
       "    </tr>\n",
       "  </tbody>\n",
       "</table>\n",
       "</div>"
      ],
      "text/plain": [
       "   work_number   siteid status worktype     asset_ID  \\\n",
       "5      2057394  AL HASA  CLOSE       CM  A530-003865   \n",
       "6      2057395  AL HASA  CLOSE       CM  A530-007949   \n",
       "68     2076165  AL HASA  CLOSE       CM  A530-006123   \n",
       "69     2076166  AL HASA  CLOSE       CM  A530-006123   \n",
       "70     2076203  AL HASA  CLOSE       CM  A530-006123   \n",
       "\n",
       "                              location  modifications  priority        date  \\\n",
       "5      KSAUHS-3-Z004-STD-GFL-IDFR-0001              1       3.0  2020-05-19   \n",
       "6              KSAUHS-3-Z001-COAMS-02F              1       3.0  2020-01-01   \n",
       "68   KSAUHS-3-Z002-HSBU2-GFL-F114-RECP              1       3.0  2020-01-12   \n",
       "69             KSAUHS-3-Z001-ADMIN-GFL              1       3.0  2020-01-08   \n",
       "70  KSAUHS-3-Z003-V5/13A-GFL-KTCN-0001              1       2.0  2020-01-09   \n",
       "\n",
       "     field_type  year  month  \n",
       "5   Low Current  2020      5  \n",
       "6   Low Current  2020      1  \n",
       "68  Low Current  2020      1  \n",
       "69         HVAC  2020      1  \n",
       "70          LPG  2020      1  "
      ]
     },
     "execution_count": 37,
     "metadata": {},
     "output_type": "execute_result"
    }
   ],
   "source": [
    "df.head()"
   ]
  },
  {
   "cell_type": "code",
   "execution_count": 38,
   "id": "0ab177e2",
   "metadata": {},
   "outputs": [
    {
     "data": {
      "text/plain": [
       "array(['Low Current', 'HVAC', 'LPG', 'Electrical', 'Civil', 'Plumbing',\n",
       "       'BMS', 'STP', 'Elevator', 'WTP', 'PMG', 'Fire Alarm', 'Chiller',\n",
       "       'Non-Medical', 'Generator', 'Safety', 'Appliance', 'Electronic',\n",
       "       'STP Operations', 'Mitsubishi', 'OCL & Depot', 'CSSD Non-Medical',\n",
       "       'Mechanical'], dtype=object)"
      ]
     },
     "execution_count": 38,
     "metadata": {},
     "output_type": "execute_result"
    }
   ],
   "source": [
    "df['field_type'].unique()"
   ]
  },
  {
   "cell_type": "code",
   "execution_count": 39,
   "id": "7afd443e",
   "metadata": {},
   "outputs": [
    {
     "data": {
      "text/plain": [
       "Electrical          41564\n",
       "Civil               21556\n",
       "HVAC                21145\n",
       "Plumbing            19308\n",
       "BMS                  5778\n",
       "LPG                  4009\n",
       "Electronic           3111\n",
       "Low Current          2117\n",
       "Appliance            1278\n",
       "Fire Alarm           1095\n",
       "PMG                   797\n",
       "WTP                   740\n",
       "Non-Medical           580\n",
       "Elevator              551\n",
       "Safety                253\n",
       "Mitsubishi            238\n",
       "Chiller               220\n",
       "STP Operations         85\n",
       "CSSD Non-Medical       58\n",
       "Generator              50\n",
       "STP                    27\n",
       "Mechanical              2\n",
       "OCL & Depot             1\n",
       "Name: field_type, dtype: int64"
      ]
     },
     "execution_count": 39,
     "metadata": {},
     "output_type": "execute_result"
    }
   ],
   "source": [
    "df['field_type'].value_counts()"
   ]
  },
  {
   "cell_type": "code",
   "execution_count": 40,
   "id": "32fb0c22",
   "metadata": {},
   "outputs": [
    {
     "data": {
      "text/plain": [
       "Electrical     53898\n",
       "Mechanical     29163\n",
       "Civil          21556\n",
       "Plumbing       19308\n",
       "Non-Medical      638\n",
       "Name: field_type, dtype: int64"
      ]
     },
     "execution_count": 40,
     "metadata": {},
     "output_type": "execute_result"
    }
   ],
   "source": [
    "#Replacing\n",
    "\n",
    "ELECTRICAL = ['Low Current','Generator','Appliance', 'BMS', 'Electronic'] #Electrical\n",
    "MECHANICAL = ['HVAC', 'LPG', 'STP', 'Elevator', 'WTP', 'PMG', 'Fire Alarm', 'Chiller',\n",
    "              'STP Operations', 'Mitsubishi', 'OCL & Depot', 'Safety'] #Mechanical\n",
    "\n",
    "df['field_type'].replace(\n",
    "    to_replace=ELECTRICAL,\n",
    "    value='Electrical',\n",
    "    inplace=True\n",
    ")\n",
    "\n",
    "df['field_type'].replace(\n",
    "    to_replace=MECHANICAL,\n",
    "    value='Mechanical',\n",
    "    inplace=True\n",
    ")\n",
    "\n",
    "df['field_type'] = df.field_type.str.replace('CSSD ', '')\n",
    "\n",
    "df['field_type'].value_counts()"
   ]
  },
  {
   "cell_type": "code",
   "execution_count": 41,
   "id": "eda1277c",
   "metadata": {},
   "outputs": [],
   "source": [
    "df['location' ] = df['location' ].str[:13]"
   ]
  },
  {
   "cell_type": "code",
   "execution_count": 42,
   "id": "185123ac",
   "metadata": {},
   "outputs": [
    {
     "data": {
      "text/plain": [
       "5         KSAUHS-3-Z004\n",
       "6         KSAUHS-3-Z001\n",
       "68        KSAUHS-3-Z002\n",
       "69        KSAUHS-3-Z001\n",
       "70        KSAUHS-3-Z003\n",
       "              ...      \n",
       "843499    KSAUHS-1-Z01A\n",
       "843504    KSAUHS-1-Z02A\n",
       "843508    KSAUHS-1-Z04A\n",
       "843514    KSAUHS-1-Z01B\n",
       "843524    KSAUHS-1-Z04A\n",
       "Name: location, Length: 124563, dtype: object"
      ]
     },
     "execution_count": 42,
     "metadata": {},
     "output_type": "execute_result"
    }
   ],
   "source": [
    "df['location' ]"
   ]
  }
 ],
 "metadata": {
  "kernelspec": {
   "display_name": "Python 3 (ipykernel)",
   "language": "python",
   "name": "python3"
  },
  "language_info": {
   "codemirror_mode": {
    "name": "ipython",
    "version": 3
   },
   "file_extension": ".py",
   "mimetype": "text/x-python",
   "name": "python",
   "nbconvert_exporter": "python",
   "pygments_lexer": "ipython3",
   "version": "3.9.12"
  }
 },
 "nbformat": 4,
 "nbformat_minor": 5
}
