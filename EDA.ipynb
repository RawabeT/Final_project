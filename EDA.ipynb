{
 "cells": [
  {
   "cell_type": "code",
   "execution_count": null,
   "id": "e7943519",
   "metadata": {},
   "outputs": [],
   "source": [
    "import pandas as pd\n",
    "import numpy as np\n",
    "import warnings\n",
    "warnings.filterwarnings('ignore')\n",
    "import plotly.express as px"
   ]
  },
  {
   "cell_type": "code",
   "execution_count": null,
   "id": "7efa9158",
   "metadata": {},
   "outputs": [],
   "source": [
    "df = pd.read_csv('WO2020-2022OCT.csv') "
   ]
  },
  {
   "cell_type": "code",
   "execution_count": null,
   "id": "5ac83271",
   "metadata": {},
   "outputs": [],
   "source": [
    "df.head()"
   ]
  },
  {
   "cell_type": "code",
   "execution_count": null,
   "id": "4448bba9",
   "metadata": {},
   "outputs": [],
   "source": [
    "df.size"
   ]
  },
  {
   "cell_type": "code",
   "execution_count": null,
   "id": "ebbb646d",
   "metadata": {},
   "outputs": [],
   "source": [
    "df.shape"
   ]
  },
  {
   "cell_type": "code",
   "execution_count": null,
   "id": "34f14ab1",
   "metadata": {},
   "outputs": [],
   "source": [
    "df.columns = df.columns.str.replace(' ', '')"
   ]
  },
  {
   "cell_type": "code",
   "execution_count": null,
   "id": "3c8040a9",
   "metadata": {},
   "outputs": [],
   "source": [
    "df.info()"
   ]
  },
  {
   "cell_type": "code",
   "execution_count": null,
   "id": "1087b069",
   "metadata": {},
   "outputs": [],
   "source": [
    "to_remove = ['C3-SICE','LOG', 'C4-ALKHORAYEF', 'HTMS']\n",
    "df = df[~(df['zzcontractor'].isin(to_remove))]"
   ]
  },
  {
   "cell_type": "code",
   "execution_count": null,
   "id": "958e5b41",
   "metadata": {},
   "outputs": [],
   "source": [
    "#delete column \n",
    "\n",
    "df = df.drop(['statusdate' ,'targcompdate', 'targstartdate', 'reportedby',\n",
    "       'reportdate', 'actstart', 'schedstart', 'schedfinish','supervisor', 'origrecordid',\n",
    "         'owner', 'lead', 'wogroup', 'scheduler', 'planner', 'projeng1', 'location2',\n",
    "       'createdby', 'passfailstatus', \"persongroup\" , \"ownergroup\", 'changeby', 'changedate', 'description','zzcontractor'] , axis=1)"
   ]
  },
  {
   "cell_type": "code",
   "execution_count": null,
   "id": "0c19dfc9",
   "metadata": {},
   "outputs": [],
   "source": [
    "df.shape"
   ]
  },
  {
   "cell_type": "code",
   "execution_count": null,
   "id": "fa10cdaa",
   "metadata": {},
   "outputs": [],
   "source": [
    "df.columns"
   ]
  },
  {
   "cell_type": "code",
   "execution_count": null,
   "id": "4db33bc9",
   "metadata": {},
   "outputs": [],
   "source": [
    "df = df.rename(columns={\"wonum\": \"work_number\", \n",
    "                   \"assetnum\": \"asset_ID\",\n",
    "                   \"wopriority\": \"priority\",\n",
    "                   \"actfinish\": \"date\", \n",
    "                   \"historyflag\": \"modifications\",\n",
    "                   'zzdepartment': \"field_type\",\n",
    "                   \"zzcontractor\": \"contractor\"}) "
   ]
  },
  {
   "cell_type": "code",
   "execution_count": null,
   "id": "c6fd939b",
   "metadata": {},
   "outputs": [],
   "source": [
    "df.columns"
   ]
  },
  {
   "cell_type": "code",
   "execution_count": null,
   "id": "76e167b3",
   "metadata": {},
   "outputs": [],
   "source": [
    "df['worktype'].value_counts()"
   ]
  },
  {
   "cell_type": "code",
   "execution_count": null,
   "id": "f59f5bc4",
   "metadata": {},
   "outputs": [],
   "source": [
    "to_remove = ['PM','LOG', '2020', 'CMP', '2021', 'HSE']\n",
    "df = df[~(df['worktype'].isin(to_remove))]"
   ]
  },
  {
   "cell_type": "code",
   "execution_count": null,
   "id": "6eb66b0f",
   "metadata": {},
   "outputs": [],
   "source": [
    "df.shape"
   ]
  },
  {
   "cell_type": "code",
   "execution_count": null,
   "id": "020aa812",
   "metadata": {},
   "outputs": [],
   "source": [
    "df['worktype'].value_counts()"
   ]
  },
  {
   "cell_type": "code",
   "execution_count": null,
   "id": "34ce569c",
   "metadata": {},
   "outputs": [],
   "source": [
    "df['status'].value_counts()"
   ]
  },
  {
   "cell_type": "code",
   "execution_count": null,
   "id": "82fafa95",
   "metadata": {},
   "outputs": [],
   "source": [
    "df.drop(df[ (df['status'] != 'CLOSE') & (df['status'] != 'COMP') ].index , inplace=True)"
   ]
  },
  {
   "cell_type": "code",
   "execution_count": null,
   "id": "3f5e342a",
   "metadata": {},
   "outputs": [],
   "source": [
    "df['status'].value_counts()"
   ]
  },
  {
   "cell_type": "code",
   "execution_count": null,
   "id": "7a5ef9c1",
   "metadata": {},
   "outputs": [],
   "source": [
    "df['date']"
   ]
  },
  {
   "cell_type": "code",
   "execution_count": null,
   "id": "6ddc0671",
   "metadata": {},
   "outputs": [],
   "source": [
    "df.shape"
   ]
  },
  {
   "cell_type": "code",
   "execution_count": null,
   "id": "a3ca698f",
   "metadata": {},
   "outputs": [],
   "source": [
    "df.size"
   ]
  },
  {
   "cell_type": "code",
   "execution_count": null,
   "id": "75610e67",
   "metadata": {},
   "outputs": [],
   "source": [
    "df['asset_ID'].isnull().sum()"
   ]
  },
  {
   "cell_type": "code",
   "execution_count": null,
   "id": "94008efa",
   "metadata": {},
   "outputs": [],
   "source": [
    "df['asset_ID']"
   ]
  },
  {
   "cell_type": "code",
   "execution_count": null,
   "id": "481d5a19",
   "metadata": {},
   "outputs": [],
   "source": [
    "df['asset_ID'] = df.asset_ID.interpolate(method='pad')"
   ]
  },
  {
   "cell_type": "code",
   "execution_count": null,
   "id": "c55151f2",
   "metadata": {},
   "outputs": [],
   "source": [
    "df['asset_ID'].isnull().sum()"
   ]
  },
  {
   "cell_type": "code",
   "execution_count": null,
   "id": "eb84f967",
   "metadata": {},
   "outputs": [],
   "source": [
    "df.head()"
   ]
  },
  {
   "cell_type": "code",
   "execution_count": null,
   "id": "c60b16b2",
   "metadata": {},
   "outputs": [],
   "source": [
    "df.isnull().sum()"
   ]
  },
  {
   "cell_type": "code",
   "execution_count": null,
   "id": "59862b78",
   "metadata": {},
   "outputs": [],
   "source": [
    "df.describe()"
   ]
  },
  {
   "cell_type": "code",
   "execution_count": null,
   "id": "36211c63",
   "metadata": {},
   "outputs": [],
   "source": [
    "df = df.dropna()"
   ]
  },
  {
   "cell_type": "code",
   "execution_count": null,
   "id": "48c784bc",
   "metadata": {},
   "outputs": [],
   "source": [
    "df.isnull().sum()"
   ]
  },
  {
   "cell_type": "code",
   "execution_count": null,
   "id": "21a9899c",
   "metadata": {},
   "outputs": [],
   "source": [
    "df.shape"
   ]
  },
  {
   "cell_type": "code",
   "execution_count": null,
   "id": "afbe538c",
   "metadata": {},
   "outputs": [],
   "source": [
    "#Deletes the time and keeps only the date\n",
    "df['date'] = pd.to_datetime(df['date']).dt.date"
   ]
  },
  {
   "cell_type": "code",
   "execution_count": null,
   "id": "e1747db6",
   "metadata": {},
   "outputs": [],
   "source": [
    "#adding year and month columns\n",
    "df['year'] = pd.DatetimeIndex(df['date']).year\n",
    "df['month'] = pd.DatetimeIndex(df['date']).month"
   ]
  },
  {
   "cell_type": "code",
   "execution_count": null,
   "id": "0ab177e2",
   "metadata": {},
   "outputs": [],
   "source": [
    "df['field_type'].unique()"
   ]
  },
  {
   "cell_type": "code",
   "execution_count": null,
   "id": "7afd443e",
   "metadata": {},
   "outputs": [],
   "source": [
    "df['field_type'].value_counts()"
   ]
  },
  {
   "cell_type": "code",
   "execution_count": null,
   "id": "32fb0c22",
   "metadata": {},
   "outputs": [],
   "source": [
    "#Replacing\n",
    "\n",
    "ELECTRICAL = ['Low Current','Generator','Appliance', 'BMS', 'Electronic'] #Electrical\n",
    "MECHANICAL = ['HVAC', 'LPG', 'STP', 'Elevator', 'WTP', 'PMG', 'Fire Alarm', 'Chiller',\n",
    "              'STP Operations', 'Mitsubishi', 'OCL & Depot', 'Safety'] #Mechanical\n",
    "\n",
    "df['field_type'].replace(\n",
    "    to_replace=ELECTRICAL,\n",
    "    value='Electrical',\n",
    "    inplace=True\n",
    ")\n",
    "\n",
    "df['field_type'].replace(\n",
    "    to_replace=MECHANICAL,\n",
    "    value='Mechanical',\n",
    "    inplace=True\n",
    ")\n",
    "\n",
    "df['field_type'] = df.field_type.str.replace('CSSD ', '')\n",
    "\n",
    "df['field_type'].value_counts()"
   ]
  },
  {
   "cell_type": "code",
   "execution_count": null,
   "id": "eda1277c",
   "metadata": {},
   "outputs": [],
   "source": [
    "df['location' ] = df['location' ].str[:13]"
   ]
  },
  {
   "cell_type": "code",
   "execution_count": null,
   "id": "185123ac",
   "metadata": {},
   "outputs": [],
   "source": [
    "df['location' ]"
   ]
  },
  {
   "cell_type": "code",
   "execution_count": null,
   "id": "8fde73c4",
   "metadata": {},
   "outputs": [],
   "source": [
    "sample = pd.read_csv('ML_sample.csv') "
   ]
  },
  {
   "cell_type": "code",
   "execution_count": null,
   "id": "40bfa6d1",
   "metadata": {},
   "outputs": [],
   "source": [
    "sample['worktype' ].value_counts()"
   ]
  },
  {
   "cell_type": "code",
   "execution_count": null,
   "id": "b8ce5d46",
   "metadata": {},
   "outputs": [],
   "source": [
    "X = sample[['siteid','year', 'month', 'worktype','location', 'field_type']]\n",
    "y = sample[['work_number']]"
   ]
  },
  {
   "cell_type": "code",
   "execution_count": null,
   "id": "2d6ded0b",
   "metadata": {},
   "outputs": [],
   "source": [
    "from sklearn.preprocessing import LabelEncoder\n",
    "le = LabelEncoder()\n",
    "y['work_number'] = le.fit_transform(y['work_number'])\n",
    "le.classes_\n",
    "X['location'] = le.fit_transform(X['location'])\n",
    "X['field_type'] = le.fit_transform(X['field_type'])\n",
    "\n",
    "X['siteid'] = le.fit_transform(X['siteid'])\n",
    "X['worktype'] = le.fit_transform(X['worktype'])"
   ]
  },
  {
   "cell_type": "code",
   "execution_count": null,
   "id": "fef9b361",
   "metadata": {},
   "outputs": [],
   "source": [
    "from sklearn.model_selection import train_test_split\n",
    "\n",
    "X_train, X_test, y_train, y_test = train_test_split(X, y, test_size = 0.25, random_state=42)"
   ]
  },
  {
   "cell_type": "code",
   "execution_count": null,
   "id": "92d4b8ac",
   "metadata": {},
   "outputs": [],
   "source": [
    "#Feature Scaling\n",
    "from sklearn.preprocessing import StandardScaler\n",
    "\n",
    "sc = StandardScaler()\n",
    "X_train = sc.fit_transform(X_train)\n",
    "X_test = sc.fit_transform(X_test)"
   ]
  },
  {
   "cell_type": "code",
   "execution_count": null,
   "id": "be6947bc",
   "metadata": {},
   "outputs": [],
   "source": [
    "from sklearn.linear_model import LogisticRegression\n",
    "\n",
    "lr = LogisticRegression()\n",
    "lr.fit(X_train, y_train)"
   ]
  },
  {
   "cell_type": "code",
   "execution_count": null,
   "id": "fe0f835d",
   "metadata": {},
   "outputs": [],
   "source": [
    "Y_pred = lr.predict(X_test)"
   ]
  },
  {
   "cell_type": "code",
   "execution_count": null,
   "id": "daee2de3",
   "metadata": {},
   "outputs": [],
   "source": [
    "lr.score(X_test, y_test)"
   ]
  },
  {
   "cell_type": "code",
   "execution_count": null,
   "id": "6a892d94",
   "metadata": {},
   "outputs": [],
   "source": [
    "from sklearn.ensemble import RandomForestClassifier\n",
    "\n",
    "regr = RandomForestClassifier(max_depth=2, random_state=0)\n",
    "regr.fit(X_train, y_train)"
   ]
  },
  {
   "cell_type": "code",
   "execution_count": null,
   "id": "2ee6dbcd",
   "metadata": {},
   "outputs": [],
   "source": [
    "Y_predtion = regr.predict(X_test)"
   ]
  },
  {
   "cell_type": "code",
   "execution_count": null,
   "id": "82678b0d",
   "metadata": {},
   "outputs": [],
   "source": [
    "lr.score(X_test, y_test)"
   ]
  },
  {
   "cell_type": "code",
   "execution_count": null,
   "id": "683059bf",
   "metadata": {},
   "outputs": [],
   "source": [
    "from sklearn.neighbors import KNeighborsClassifier\n",
    "\n",
    "knn = KNeighborsClassifier()\n",
    "knn.fit(X_train, y_train)"
   ]
  },
  {
   "cell_type": "code",
   "execution_count": null,
   "id": "60be8470",
   "metadata": {},
   "outputs": [],
   "source": [
    "knn.score(X_test, y_test)"
   ]
  },
  {
   "cell_type": "code",
   "execution_count": null,
   "id": "fc7f636f",
   "metadata": {},
   "outputs": [],
   "source": []
  }
 ],
 "metadata": {
  "kernelspec": {
   "display_name": "Python 3 (ipykernel)",
   "language": "python",
   "name": "python3"
  },
  "language_info": {
   "codemirror_mode": {
    "name": "ipython",
    "version": 3
   },
   "file_extension": ".py",
   "mimetype": "text/x-python",
   "name": "python",
   "nbconvert_exporter": "python",
   "pygments_lexer": "ipython3",
   "version": "3.9.12"
  }
 },
 "nbformat": 4,
 "nbformat_minor": 5
}
